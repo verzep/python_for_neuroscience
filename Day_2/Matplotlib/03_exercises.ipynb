{
 "cells": [
  {
   "cell_type": "markdown",
   "metadata": {},
   "source": [
    "# Exercises\n",
    "\n",
    "These exercises are a bit more complex and will require you to figure things out on your own.\n",
    "One thing to keep in mind: With plotting, it is good practice to always label as much as needed for anyone to understand that plot. Therefore, it is important that you do not forget to add titles, legends, axis descriptions etc to every plot you create!\n",
    "\n",
    "In case you do not understand the exercise or need a reference on what we want you to plot, you can check out the Example_Plots_Exercises Folder. It contains examples for all of the plots you will be asked to code here."
   ]
  },
  {
   "cell_type": "markdown",
   "metadata": {},
   "source": [
    "Import numpy and matplotlib.pyplot"
   ]
  },
  {
   "cell_type": "code",
   "execution_count": null,
   "metadata": {},
   "outputs": [],
   "source": []
  },
  {
   "cell_type": "markdown",
   "metadata": {},
   "source": [
    "Create a dataset of three dimensional points (i.e. points that possess x,y and z coordinates) using numpy and plot these points in a three dimensional space using matplotlib.\n",
    "\n",
    "Refer to https://numpy.org/doc/stable/reference/random/generated/numpy.random.rand.html and https://matplotlib.org/stable/gallery/mplot3d/index.html for help."
   ]
  },
  {
   "cell_type": "code",
   "execution_count": null,
   "metadata": {},
   "outputs": [],
   "source": []
  },
  {
   "cell_type": "markdown",
   "metadata": {},
   "source": [
    "Create normally distributed values in a 50x50 grid. Display that grid as a heatmap (with a colorbar and a colormap you like).\n",
    "\n",
    "-> https://matplotlib.org/stable/api/_as_gen/matplotlib.pyplot.imshow.html\n",
    "\n",
    "-> https://matplotlib.org/stable/users/explain/colors/colormaps.html\n",
    "\n",
    "Reshape the grid to a 1d array and plot the histogram. Draw a black vertical line at the mean and two orange vertical lines one standard deviation from the mean of the 1d array in the same plot as the histogram. Add a legend to the histogram plot to mark the vertical lines as the mean/standard deviations.\n",
    "\n",
    "Combine all plots in one figure."
   ]
  },
  {
   "cell_type": "code",
   "execution_count": null,
   "metadata": {},
   "outputs": [],
   "source": []
  },
  {
   "cell_type": "markdown",
   "metadata": {},
   "source": [
    "Bonus exercise:\n",
    "\n",
    "Run the following code to create some artificial sample data of neuronal spiking activity"
   ]
  },
  {
   "cell_type": "code",
   "execution_count": 46,
   "metadata": {},
   "outputs": [],
   "source": [
    "ten_spike_trains = [[0, 0, 0, 0, 0, 0, 0, 0, 0, 1, 0, 1, 0, 1, 0, 0, 0, 1, 0, 0, 0], \n",
    "                    [0, 0, 0, 0, 0, 0, 0, 0, 1, 1, 0, 0, 0, 1, 0, 0, 0, 1, 0, 0, 0], \n",
    "                    [0, 1, 0, 0, 0, 0, 0, 0, 0, 0, 1, 0, 0, 1, 0, 0, 0, 0, 0, 1, 0], \n",
    "                    [0, 0, 0, 0, 0, 0, 0, 0, 1, 1, 0, 1, 0, 0, 0, 0, 0, 0, 1, 0, 0], \n",
    "                    [0, 0, 0, 0, 0, 0, 0, 0, 0, 1, 0, 0, 1, 0, 0, 0, 0, 0, 0, 0, 0], \n",
    "                    [0, 0, 0, 0, 0, 0, 0, 0, 0, 0, 1, 1, 0, 0, 0, 1, 0, 0, 0, 1, 0], \n",
    "                    [0, 0, 0, 0, 0, 0, 0, 0, 1, 1, 1, 0, 0, 1, 1, 0, 0, 1, 1, 0, 0], \n",
    "                    [1, 0, 0, 0, 0, 0, 0, 0, 0, 0, 1, 1, 0, 0, 0, 0, 1, 0, 0, 0, 0], \n",
    "                    [0, 0, 0, 0, 0, 0, 0, 0, 1, 1, 0, 0, 1, 1, 0, 0, 1, 1, 0, 0, 0], \n",
    "                    [0, 0, 0, 0, 0, 0, 1, 0, 0, 1, 0, 1, 0, 0, 0, 0, 0, 1, 1, 0, 0]\n",
    "                   ]"
   ]
  },
  {
   "cell_type": "markdown",
   "metadata": {},
   "source": [
    "With these data, there are multiple things you can do:\n",
    "1) Create a raster plot of the spike trains. \n",
    "For that you can assume the \"sampling rate\" of the artificial data to be 1kHz -> you have data from a 20ms recording and each datapoint encompasses 1ms\n",
    "Each of the rows represents one neuron.\n",
    "2) Let us assume that at 4ms, the neurons were stimulated in some way for 10ms. Mark the time they were stimulated in your plot (https://matplotlib.org/stable/api/_as_gen/matplotlib.pyplot.axvspan.html might be useful here).\n",
    "3) Create a histogram to indicate at what times the neurons were firing the most and plot it under the raster plot.\n"
   ]
  },
  {
   "cell_type": "code",
   "execution_count": null,
   "metadata": {},
   "outputs": [],
   "source": []
  },
  {
   "cell_type": "markdown",
   "metadata": {},
   "source": [
    "When you are done:\n",
    "\n",
    "The last exercise was modified after: https://neuraldatascience.io/6-single_unit/intro_spike_trains.html. If you want, you can continue working on some of the exercises described there."
   ]
  }
 ],
 "metadata": {
  "kernelspec": {
   "display_name": "base",
   "language": "python",
   "name": "python3"
  },
  "language_info": {
   "codemirror_mode": {
    "name": "ipython",
    "version": 3
   },
   "file_extension": ".py",
   "mimetype": "text/x-python",
   "name": "python",
   "nbconvert_exporter": "python",
   "pygments_lexer": "ipython3",
   "version": "3.11.5"
  }
 },
 "nbformat": 4,
 "nbformat_minor": 2
}
