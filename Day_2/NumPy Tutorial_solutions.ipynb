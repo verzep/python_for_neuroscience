{
 "cells": [
  {
   "cell_type": "markdown",
   "metadata": {},
   "source": [
    "This numpy tutorial is based on a freely available version from freeCodeCamp."
   ]
  },
  {
   "cell_type": "markdown",
   "metadata": {},
   "source": [
    "### Load in NumPy (remember to pip install numpy first)"
   ]
  },
  {
   "cell_type": "code",
   "execution_count": 2,
   "metadata": {},
   "outputs": [],
   "source": [
    "import numpy as np"
   ]
  },
  {
   "cell_type": "markdown",
   "metadata": {},
   "source": [
    "### Some Basics"
   ]
  },
  {
   "cell_type": "code",
   "execution_count": null,
   "metadata": {},
   "outputs": [],
   "source": [
    "# np.array(.) creates a numpy array\n",
    "a = np.array([1,2,3], dtype='int32')\n",
    "print(a)"
   ]
  },
  {
   "cell_type": "code",
   "execution_count": null,
   "metadata": {},
   "outputs": [],
   "source": [
    "# a 2D array\n",
    "b = np.array([[9.0,8.0,7.0],[6.0,5.0,4.0]])\n",
    "print(b)"
   ]
  },
  {
   "cell_type": "code",
   "execution_count": null,
   "metadata": {},
   "outputs": [],
   "source": [
    "# a 3D array\n",
    "c = np.array([[[9,8],[6,5]],\n",
    "              [[1,2],[4,5]]])\n",
    "print(b)"
   ]
  },
  {
   "cell_type": "code",
   "execution_count": null,
   "metadata": {},
   "outputs": [],
   "source": [
    "# Get Dimension\n",
    "a.ndim"
   ]
  },
  {
   "cell_type": "code",
   "execution_count": null,
   "metadata": {},
   "outputs": [],
   "source": [
    "# Get Shape\n",
    "b.shape"
   ]
  },
  {
   "cell_type": "code",
   "execution_count": null,
   "metadata": {},
   "outputs": [],
   "source": [
    "# Get datatype of array\n",
    "a.dtype"
   ]
  },
  {
   "cell_type": "code",
   "execution_count": null,
   "metadata": {},
   "outputs": [],
   "source": [
    "# Get array size on disk\n",
    "a.nbytes"
   ]
  },
  {
   "cell_type": "code",
   "execution_count": null,
   "metadata": {},
   "outputs": [],
   "source": [
    "# Get number of elements\n",
    "a.size"
   ]
  },
  {
   "cell_type": "code",
   "execution_count": null,
   "metadata": {},
   "outputs": [],
   "source": [
    " # create a range with a (start, stop, stepsize)\n",
    "d = np.arange(0,10,2)\n",
    "print(d)"
   ]
  },
  {
   "cell_type": "code",
   "execution_count": null,
   "metadata": {},
   "outputs": [],
   "source": [
    " # create a range with a (start, stop, number_of_steps)\n",
    "d = np.linspace(0,10,2)\n",
    "print(d)"
   ]
  },
  {
   "cell_type": "markdown",
   "metadata": {},
   "source": [
    "### Tasks"
   ]
  },
  {
   "cell_type": "markdown",
   "metadata": {},
   "source": [
    "1. Create a 2D np.array with shape 2x3 (2 elements in one dimension and 3 in the other) \n",
    "\n",
    "1.1 Print your array\n",
    "\n",
    "1.2 Print the np.shape of your array"
   ]
  },
  {
   "cell_type": "code",
   "execution_count": null,
   "metadata": {},
   "outputs": [],
   "source": [
    "a = np.array([[2,3],[4,5]])\n",
    "print(a)\n",
    "print(a.shape)"
   ]
  },
  {
   "cell_type": "markdown",
   "metadata": {},
   "source": [
    "2. Suppose you want to create the x-axis values for a dataset in order to plot them. Your data were collected on every second day (starting with day 1 and ending with day 11). Create an array containing the x-axis values."
   ]
  },
  {
   "cell_type": "code",
   "execution_count": null,
   "metadata": {},
   "outputs": [],
   "source": [
    "x = np.arange(1,12,2)"
   ]
  },
  {
   "cell_type": "markdown",
   "metadata": {},
   "source": [
    "### Accessing/Changing specific elements, rows, columns, etc\n",
    "remember: indexing starts at 0 !"
   ]
  },
  {
   "cell_type": "code",
   "execution_count": 6,
   "metadata": {},
   "outputs": [
    {
     "name": "stdout",
     "output_type": "stream",
     "text": [
      "[[ 1  2  3  4  5  6  7]\n",
      " [ 8  9 10 11 12 13 14]]\n"
     ]
    }
   ],
   "source": [
    "a = np.array([[1,2,3,4,5,6,7],[8,9,10,11,12,13,14]])\n",
    "print(a)"
   ]
  },
  {
   "cell_type": "code",
   "execution_count": 7,
   "metadata": {},
   "outputs": [
    {
     "data": {
      "text/plain": [
       "13"
      ]
     },
     "execution_count": 7,
     "metadata": {},
     "output_type": "execute_result"
    }
   ],
   "source": [
    "# Get a specific element [row, column]\n",
    "a[1, 5]"
   ]
  },
  {
   "cell_type": "code",
   "execution_count": 8,
   "metadata": {},
   "outputs": [
    {
     "data": {
      "text/plain": [
       "array([1, 2, 3, 4, 5, 6, 7])"
      ]
     },
     "execution_count": 8,
     "metadata": {},
     "output_type": "execute_result"
    }
   ],
   "source": [
    "# Get a specific row (the colon (:) indicates \"all elements in the dimension\")\n",
    "a[0, :]"
   ]
  },
  {
   "cell_type": "code",
   "execution_count": 9,
   "metadata": {},
   "outputs": [
    {
     "data": {
      "text/plain": [
       "array([4, 5, 6, 7])"
      ]
     },
     "execution_count": 9,
     "metadata": {},
     "output_type": "execute_result"
    }
   ],
   "source": [
    "# Get a part of a specific row\n",
    "a[0, 3:]"
   ]
  },
  {
   "cell_type": "code",
   "execution_count": null,
   "metadata": {},
   "outputs": [],
   "source": [
    "# Get a specific column\n",
    "a[:, 2]"
   ]
  },
  {
   "cell_type": "code",
   "execution_count": null,
   "metadata": {},
   "outputs": [],
   "source": [
    "# Get part of a row defined by [startindex : endindex : stepsize]\n",
    "a[0, 1:-1:2]"
   ]
  },
  {
   "cell_type": "code",
   "execution_count": 10,
   "metadata": {},
   "outputs": [
    {
     "name": "stdout",
     "output_type": "stream",
     "text": [
      "[[ 1  2  1  4  5  6  7]\n",
      " [ 8  9  2 11 12 20 14]]\n"
     ]
    }
   ],
   "source": [
    "a[1,5] = 20\n",
    "\n",
    "a[:,2] = [1,2]\n",
    "print(a)"
   ]
  },
  {
   "cell_type": "markdown",
   "metadata": {},
   "source": [
    "*3-d example"
   ]
  },
  {
   "cell_type": "code",
   "execution_count": 15,
   "metadata": {},
   "outputs": [
    {
     "name": "stdout",
     "output_type": "stream",
     "text": [
      "[[[1 2]\n",
      "  [3 4]]\n",
      "\n",
      " [[5 6]\n",
      "  [7 8]]]\n"
     ]
    }
   ],
   "source": [
    "b = np.array([[[1,2],[3,4]],[[5,6],[7,8]]])\n",
    "print(b)"
   ]
  },
  {
   "cell_type": "code",
   "execution_count": null,
   "metadata": {},
   "outputs": [],
   "source": [
    "# Get specific element (work outside in)\n",
    "b[0,1,1]"
   ]
  },
  {
   "cell_type": "code",
   "execution_count": 16,
   "metadata": {},
   "outputs": [
    {
     "name": "stdout",
     "output_type": "stream",
     "text": [
      "[[[1 2]\n",
      "  [9 9]]\n",
      "\n",
      " [[5 6]\n",
      "  [8 8]]]\n"
     ]
    }
   ],
   "source": [
    "# replace \n",
    "b[:,1,:] = [[9,9],[8,8]]\n",
    "print(b)"
   ]
  },
  {
   "cell_type": "markdown",
   "metadata": {},
   "source": [
    "some advanced functions"
   ]
  },
  {
   "cell_type": "code",
   "execution_count": 19,
   "metadata": {},
   "outputs": [
    {
     "name": "stdout",
     "output_type": "stream",
     "text": [
      "(array([3, 5], dtype=int64),)\n",
      "(array([0, 3, 5], dtype=int64),)\n"
     ]
    }
   ],
   "source": [
    "# np.nonzero(): returns an array containing the indices of non-zero elements\n",
    "c = np.array([[0,0,0,1,0,1],\n",
    "              [0,1,0,0,0,1],\n",
    "              [1,0,0,1,0,1]])\n",
    "d = np.nonzero(c[0])\n",
    "print(d)\n",
    "e = np.nonzero(c[2])\n",
    "print(e)"
   ]
  },
  {
   "cell_type": "code",
   "execution_count": 4,
   "metadata": {},
   "outputs": [
    {
     "data": {
      "text/plain": [
       "array([[3, 2]], dtype=int64)"
      ]
     },
     "execution_count": 4,
     "metadata": {},
     "output_type": "execute_result"
    }
   ],
   "source": [
    "# np.diff():  get the differences between array elements\n",
    "np.diff(e)"
   ]
  },
  {
   "cell_type": "markdown",
   "metadata": {},
   "source": [
    "combining numpy with python lists to write results"
   ]
  },
  {
   "cell_type": "code",
   "execution_count": null,
   "metadata": {},
   "outputs": [],
   "source": [
    "# use a loop to go through the rows of array c and make a computation for each row, which you append to a python list\n",
    "list = []     #initialize an empty python list\n",
    "for i in range(len(c)):\n",
    "    print(i)    # just to make sure the index is going through the rows\n",
    "    list.extend(np.nonzero(c[i]))\n",
    "print(list)\n"
   ]
  },
  {
   "cell_type": "markdown",
   "metadata": {},
   "source": [
    "### Tasks"
   ]
  },
  {
   "cell_type": "markdown",
   "metadata": {},
   "source": [
    "1. Print array a, then use indexing to print the 3rd element of the second row (should be a 2). "
   ]
  },
  {
   "cell_type": "code",
   "execution_count": 12,
   "metadata": {},
   "outputs": [
    {
     "name": "stdout",
     "output_type": "stream",
     "text": [
      "[[ 1  2  1  4  5  6  7]\n",
      " [ 8  9  2 11 12 20 14]]\n"
     ]
    },
    {
     "data": {
      "text/plain": [
       "2"
      ]
     },
     "execution_count": 12,
     "metadata": {},
     "output_type": "execute_result"
    }
   ],
   "source": [
    "print(a)\n",
    "a[1,2]"
   ]
  },
  {
   "cell_type": "markdown",
   "metadata": {},
   "source": [
    "2. Print the first column of a"
   ]
  },
  {
   "cell_type": "code",
   "execution_count": 13,
   "metadata": {},
   "outputs": [
    {
     "data": {
      "text/plain": [
       "array([1, 8])"
      ]
     },
     "execution_count": 13,
     "metadata": {},
     "output_type": "execute_result"
    }
   ],
   "source": [
    "a[:,0]"
   ]
  },
  {
   "cell_type": "markdown",
   "metadata": {},
   "source": [
    "3. Print array b. Determine the indexes of the \"6\" and print it."
   ]
  },
  {
   "cell_type": "code",
   "execution_count": 18,
   "metadata": {},
   "outputs": [
    {
     "data": {
      "text/plain": [
       "6"
      ]
     },
     "execution_count": 18,
     "metadata": {},
     "output_type": "execute_result"
    }
   ],
   "source": [
    "b\n",
    "b[1,0,1]"
   ]
  },
  {
   "cell_type": "markdown",
   "metadata": {},
   "source": [
    "4. Write a for-loop to go through the rows of array c, then use np.nonzero and np.diff to get the intervals between ones. Use a list to record your results."
   ]
  },
  {
   "cell_type": "code",
   "execution_count": 24,
   "metadata": {},
   "outputs": [
    {
     "name": "stdout",
     "output_type": "stream",
     "text": [
      "[[2]]\n"
     ]
    }
   ],
   "source": [
    "intervals = []\n",
    "for i in c:\n",
    "    intervals.append(np.diff(np.nonzero(i)))\n"
   ]
  },
  {
   "cell_type": "markdown",
   "metadata": {},
   "source": [
    "### Initializing Different Types of Arrays\n",
    "\n",
    "\"empty\" arrays:\n",
    "This is something you may need when e.g. later filling an array in a for-loop.\n",
    "An 'empty' arry needs to be 'initialized', i.e. you need to predetermine the size of the array and create it in memory.\n",
    "\n",
    "random number arrays:\n",
    "np.random.. provides an easy way to create arrays of random numbers following various distributions e.g. normal, uniform, ....\n"
   ]
  },
  {
   "cell_type": "code",
   "execution_count": 25,
   "metadata": {},
   "outputs": [],
   "source": [
    "# All 0s matrix\n",
    "a = np.zeros((2,3))"
   ]
  },
  {
   "cell_type": "code",
   "execution_count": 26,
   "metadata": {},
   "outputs": [
    {
     "data": {
      "text/plain": [
       "array([[[1, 1],\n",
       "        [1, 1]],\n",
       "\n",
       "       [[1, 1],\n",
       "        [1, 1]],\n",
       "\n",
       "       [[1, 1],\n",
       "        [1, 1]],\n",
       "\n",
       "       [[1, 1],\n",
       "        [1, 1]]])"
      ]
     },
     "execution_count": 26,
     "metadata": {},
     "output_type": "execute_result"
    }
   ],
   "source": [
    "# All 1s matrix\n",
    "np.ones((4,2,2), dtype='int32')"
   ]
  },
  {
   "cell_type": "code",
   "execution_count": 27,
   "metadata": {},
   "outputs": [
    {
     "data": {
      "text/plain": [
       "array([[99, 99],\n",
       "       [99, 99]])"
      ]
     },
     "execution_count": 27,
     "metadata": {},
     "output_type": "execute_result"
    }
   ],
   "source": [
    "# Any other number\n",
    "np.full((2,2), 99)"
   ]
  },
  {
   "cell_type": "code",
   "execution_count": 28,
   "metadata": {},
   "outputs": [
    {
     "data": {
      "text/plain": [
       "array([[4., 4., 4.],\n",
       "       [4., 4., 4.]])"
      ]
     },
     "execution_count": 28,
     "metadata": {},
     "output_type": "execute_result"
    }
   ],
   "source": [
    "# Any other number with shape like a (full_like)\n",
    "np.full_like(a, 4)"
   ]
  },
  {
   "cell_type": "markdown",
   "metadata": {},
   "source": [
    "Pseudo-random numbers: Pseudo means that they are not really random, but can e.g. be reproduced by setting np.random.seed(seed=1)"
   ]
  },
  {
   "cell_type": "code",
   "execution_count": 29,
   "metadata": {},
   "outputs": [
    {
     "name": "stdout",
     "output_type": "stream",
     "text": [
      "[[0.82168219 0.53428451]\n",
      " [0.26349947 0.5550383 ]\n",
      " [0.35960065 0.10734795]\n",
      " [0.46845408 0.72073121]]\n"
     ]
    }
   ],
   "source": [
    "# pseudo-random numbers between 0 and 1 (uniform probability)\n",
    "c = np.random.rand(4,2)\n",
    "print(c)"
   ]
  },
  {
   "cell_type": "code",
   "execution_count": 30,
   "metadata": {},
   "outputs": [
    {
     "data": {
      "text/plain": [
       "array([[ 3, -4,  1],\n",
       "       [-1, -1,  3],\n",
       "       [ 3,  3,  3]])"
      ]
     },
     "execution_count": 30,
     "metadata": {},
     "output_type": "execute_result"
    }
   ],
   "source": [
    "# Random Integer values\n",
    "np.random.randint(-4,8, size=(3,3))"
   ]
  },
  {
   "cell_type": "code",
   "execution_count": 31,
   "metadata": {},
   "outputs": [
    {
     "name": "stdout",
     "output_type": "stream",
     "text": [
      "[1.52251934 0.99261446 2.04402405 1.34998055 4.24099776 2.57849941\n",
      " 0.33584055 1.22248767 2.06948166 2.72807455 2.62406559 1.427819\n",
      " 1.39361659 1.5257364  0.37949441 1.02466979 0.1254741  3.32478248\n",
      " 1.47574715 1.47686434 2.43557409 2.53167151 1.11740861 1.21173751\n",
      " 1.16664485 2.94882185 2.67362377 2.590009   1.90378287 2.4431925\n",
      " 2.73170267 2.33976077 1.98897225 0.75640216 3.16747824 3.35798543\n",
      " 2.54645816 1.8851147  2.38466287 1.08552531 1.89704128 0.72634011\n",
      " 2.97954632 2.03776917 3.21666747 1.36453607 1.93598309 2.50099309\n",
      " 2.25052463 2.93620175]\n"
     ]
    }
   ],
   "source": [
    "# pseudo-random numbers from normal distribution (mean, standard dev, array_size)\n",
    "d = np.random.normal(2,1,50)\n",
    "print(d)"
   ]
  },
  {
   "cell_type": "code",
   "execution_count": 32,
   "metadata": {},
   "outputs": [
    {
     "name": "stdout",
     "output_type": "stream",
     "text": [
      "[1.427819   1.89704128 1.22248767 2.73170267 0.75640216 1.89704128\n",
      " 2.62406559 1.08552531 2.97954632 2.03776917]\n"
     ]
    }
   ],
   "source": [
    "# Choose 10 random entries from array a(e.g. for shuffling analyses)\n",
    "e = np.random.choice(d,10)\n",
    "print(e)"
   ]
  },
  {
   "cell_type": "code",
   "execution_count": 34,
   "metadata": {},
   "outputs": [
    {
     "name": "stdout",
     "output_type": "stream",
     "text": [
      "[[1 2 3]\n",
      " [1 2 3]\n",
      " [1 2 3]]\n"
     ]
    }
   ],
   "source": [
    "# Repeat an array\n",
    "arr = np.array([[1,2,3]])\n",
    "r1 = np.repeat(arr,3, axis=0)\n",
    "print(r1)"
   ]
  },
  {
   "cell_type": "markdown",
   "metadata": {},
   "source": [
    "##### Be careful when copying arrays!!!\n",
    "a simple equation (e.g. b=a) acts as a pointer, meaning changing b will also change a"
   ]
  },
  {
   "cell_type": "code",
   "execution_count": 35,
   "metadata": {},
   "outputs": [
    {
     "name": "stdout",
     "output_type": "stream",
     "text": [
      "[1 2 3]\n",
      "[100   2   3]\n"
     ]
    }
   ],
   "source": [
    "a = np.array([1,2,3])\n",
    "b = a\n",
    "print(a)\n",
    "\n",
    "b[0] = 100\n",
    "print(a)"
   ]
  },
  {
   "cell_type": "code",
   "execution_count": 36,
   "metadata": {},
   "outputs": [
    {
     "name": "stdout",
     "output_type": "stream",
     "text": [
      "[1 2 3]\n",
      "[1 2 3]\n"
     ]
    }
   ],
   "source": [
    "\n",
    "a = np.array([1,2,3])\n",
    "b = a.copy()\n",
    "print(a)\n",
    "\n",
    "b[0] = 100\n",
    "print(a)\n"
   ]
  },
  {
   "cell_type": "markdown",
   "metadata": {},
   "source": [
    "### Tasks"
   ]
  },
  {
   "cell_type": "markdown",
   "metadata": {},
   "source": [
    "1. Create an array of length 50 filled with random numbers from a normal distribution with mean=2 and standard deviation=1"
   ]
  },
  {
   "cell_type": "code",
   "execution_count": 40,
   "metadata": {},
   "outputs": [
    {
     "data": {
      "text/plain": [
       "array([0.7702314 , 2.69879055, 2.00078273, 2.04971133, 2.86597662,\n",
       "       1.0122366 , 2.56220986, 2.58200494, 1.79188619, 2.1210321 ,\n",
       "       1.26411857, 1.8773244 , 0.57608585, 2.17333298, 2.40132679,\n",
       "       1.12251013, 1.25223052, 0.40094504, 2.98044771, 1.00350566,\n",
       "       1.25250341, 1.27692919, 2.27112455, 1.78159883, 1.69288281,\n",
       "       2.94137585, 2.0965407 , 1.99449826, 0.92009299, 1.62587348,\n",
       "       1.7656709 , 3.22449195, 3.490684  , 3.26878908, 0.29825883,\n",
       "       1.45552126, 1.53696281, 1.84866592, 2.37455815, 1.42968876,\n",
       "       2.64854423, 0.0082529 , 2.26347507, 3.15414263, 0.80145293,\n",
       "       1.01153527, 1.73967253, 0.95517949, 3.18667131, 1.97344174])"
      ]
     },
     "execution_count": 40,
     "metadata": {},
     "output_type": "execute_result"
    }
   ],
   "source": [
    "a = np.random.normal(2,1,50)\n",
    "a"
   ]
  },
  {
   "cell_type": "markdown",
   "metadata": {},
   "source": [
    "2. Create 5 arrays of length 10 containing random integers between 0 and 100"
   ]
  },
  {
   "cell_type": "code",
   "execution_count": null,
   "metadata": {},
   "outputs": [],
   "source": [
    "a = np.random.rand()*100\n",
    "b = np.random.rand()*100\n",
    "c = np.random.rand()*100\n",
    "d = np.random.rand()*100\n",
    "e = np.random.rand()*100"
   ]
  },
  {
   "cell_type": "markdown",
   "metadata": {},
   "source": [
    "3. Find the online documentation for np.random.choice (simply google it). Create an integer array from 0 to 10, draw random samples from it, and determine what the \"replace\" argument does."
   ]
  },
  {
   "cell_type": "code",
   "execution_count": 44,
   "metadata": {},
   "outputs": [
    {
     "name": "stdout",
     "output_type": "stream",
     "text": [
      "[0 9]\n"
     ]
    }
   ],
   "source": [
    "a = np.arange(11)\n",
    "sample = np.random.choice(a,5, replace=True)\n",
    "# replace=True means that elements can be chosen again, even after they have been chosen once\n",
    "print(sample)"
   ]
  },
  {
   "cell_type": "markdown",
   "metadata": {},
   "source": [
    "### Mathematics"
   ]
  },
  {
   "cell_type": "code",
   "execution_count": null,
   "metadata": {},
   "outputs": [],
   "source": [
    "a = np.array([1,2,3,4])\n",
    "print(a)"
   ]
  },
  {
   "cell_type": "code",
   "execution_count": null,
   "metadata": {},
   "outputs": [],
   "source": [
    "a + 2"
   ]
  },
  {
   "cell_type": "code",
   "execution_count": null,
   "metadata": {},
   "outputs": [],
   "source": [
    "a - 2"
   ]
  },
  {
   "cell_type": "code",
   "execution_count": null,
   "metadata": {},
   "outputs": [],
   "source": [
    "a * 2"
   ]
  },
  {
   "cell_type": "code",
   "execution_count": null,
   "metadata": {},
   "outputs": [],
   "source": [
    "a / 2"
   ]
  },
  {
   "cell_type": "code",
   "execution_count": null,
   "metadata": {},
   "outputs": [],
   "source": [
    "b = np.array([1,0,1,0])\n",
    "a + b"
   ]
  },
  {
   "cell_type": "code",
   "execution_count": null,
   "metadata": {},
   "outputs": [],
   "source": [
    "a ** 2"
   ]
  },
  {
   "cell_type": "code",
   "execution_count": null,
   "metadata": {},
   "outputs": [],
   "source": [
    "# Take the cosinus\n",
    "np.cos(a)\n",
    "\n"
   ]
  },
  {
   "cell_type": "code",
   "execution_count": null,
   "metadata": {},
   "outputs": [],
   "source": [
    "# For a lot more (https://docs.scipy.org/doc/numpy/reference/routines.math.html)"
   ]
  },
  {
   "cell_type": "markdown",
   "metadata": {},
   "source": [
    "##### Linear Algebra\n",
    "We're assuming you're not that interested in linear algebra. However, just so you've seen numpy can do this kind of stuff..."
   ]
  },
  {
   "cell_type": "code",
   "execution_count": null,
   "metadata": {},
   "outputs": [],
   "source": [
    "# matrix multiplication\n",
    "a = np.ones((2,3))\n",
    "print(a)\n",
    "\n",
    "b = np.full((3,2), 2)\n",
    "print(b)\n",
    "\n",
    "np.matmul(a,b)"
   ]
  },
  {
   "cell_type": "code",
   "execution_count": null,
   "metadata": {},
   "outputs": [],
   "source": [
    "# Find the determinant of a matrix\n",
    "c = np.identity(3)\n",
    "np.linalg.det(c)"
   ]
  },
  {
   "cell_type": "code",
   "execution_count": null,
   "metadata": {},
   "outputs": [],
   "source": [
    "## Reference docs (https://docs.scipy.org/doc/numpy/reference/routines.linalg.html)\n",
    "\n",
    "# Determinant\n",
    "# Trace\n",
    "# Singular Vector Decomposition\n",
    "# Eigenvalues\n",
    "# Matrix Norm\n",
    "# Inverse\n",
    "# Etc..."
   ]
  },
  {
   "cell_type": "markdown",
   "metadata": {},
   "source": [
    "##### Statistics"
   ]
  },
  {
   "cell_type": "code",
   "execution_count": 45,
   "metadata": {},
   "outputs": [
    {
     "data": {
      "text/plain": [
       "array([[1, 2, 3],\n",
       "       [4, 5, 6]])"
      ]
     },
     "execution_count": 45,
     "metadata": {},
     "output_type": "execute_result"
    }
   ],
   "source": [
    "a = np.array([[1,2,3],[4,5,6]])\n",
    "a"
   ]
  },
  {
   "cell_type": "code",
   "execution_count": 46,
   "metadata": {},
   "outputs": [
    {
     "data": {
      "text/plain": [
       "1"
      ]
     },
     "execution_count": 46,
     "metadata": {},
     "output_type": "execute_result"
    }
   ],
   "source": [
    "np.min(a)"
   ]
  },
  {
   "cell_type": "code",
   "execution_count": 47,
   "metadata": {},
   "outputs": [
    {
     "data": {
      "text/plain": [
       "array([3, 6])"
      ]
     },
     "execution_count": 47,
     "metadata": {},
     "output_type": "execute_result"
    }
   ],
   "source": [
    "np.max(a, axis=1)"
   ]
  },
  {
   "cell_type": "code",
   "execution_count": 48,
   "metadata": {},
   "outputs": [
    {
     "data": {
      "text/plain": [
       "array([5, 7, 9])"
      ]
     },
     "execution_count": 48,
     "metadata": {},
     "output_type": "execute_result"
    }
   ],
   "source": [
    "np.sum(a, axis=0)"
   ]
  },
  {
   "cell_type": "code",
   "execution_count": 49,
   "metadata": {},
   "outputs": [
    {
     "data": {
      "text/plain": [
       "3.5"
      ]
     },
     "execution_count": 49,
     "metadata": {},
     "output_type": "execute_result"
    }
   ],
   "source": [
    "# mean of entire array\n",
    "np.mean(a)"
   ]
  },
  {
   "cell_type": "code",
   "execution_count": 50,
   "metadata": {},
   "outputs": [
    {
     "data": {
      "text/plain": [
       "array([2., 5.])"
      ]
     },
     "execution_count": 50,
     "metadata": {},
     "output_type": "execute_result"
    }
   ],
   "source": [
    "#row means\n",
    "np.mean(a, axis=1)"
   ]
  },
  {
   "cell_type": "code",
   "execution_count": 51,
   "metadata": {},
   "outputs": [
    {
     "data": {
      "text/plain": [
       "array([0.81649658, 0.81649658])"
      ]
     },
     "execution_count": 51,
     "metadata": {},
     "output_type": "execute_result"
    }
   ],
   "source": [
    "# standard deviation within rows\n",
    "np.std(a,axis=1)"
   ]
  },
  {
   "cell_type": "code",
   "execution_count": 52,
   "metadata": {},
   "outputs": [
    {
     "data": {
      "text/plain": [
       "array([[1.        , 0.79772056],\n",
       "       [0.79772056, 1.        ]])"
      ]
     },
     "execution_count": 52,
     "metadata": {},
     "output_type": "execute_result"
    }
   ],
   "source": [
    "# generate noisy data and compute pearson correlation coefficient using np.corrcoef()\n",
    "# note that corrcoef returns the whole matrix of correllations, where the entries in the main diagonal represent data correlated with itself (correlation =1)\n",
    "\n",
    "x_data = np.linspace(0,10,20)\n",
    "slope = 0.5\n",
    "y_data = x_data * slope + np.random.normal(0,1,20)\n",
    "\n",
    "np.corrcoef(x_data,y_data)\n"
   ]
  },
  {
   "cell_type": "markdown",
   "metadata": {},
   "source": [
    "### Tasks"
   ]
  },
  {
   "cell_type": "markdown",
   "metadata": {},
   "source": [
    "1. Get the column means of a."
   ]
  },
  {
   "cell_type": "code",
   "execution_count": 56,
   "metadata": {},
   "outputs": [
    {
     "data": {
      "text/plain": [
       "array([2.5, 3.5, 4.5])"
      ]
     },
     "execution_count": 56,
     "metadata": {},
     "output_type": "execute_result"
    }
   ],
   "source": [
    "a.mean(axis=0)\n"
   ]
  },
  {
   "cell_type": "markdown",
   "metadata": {},
   "source": [
    "2. For the correlation analysis, vary the the degree of noise (i.e. the standard deviation of normally distributed noise, say 2).\n",
    "Try to do this in a for-loop, where you first create an array with 5 values (say 0.5 to 2.5). You then loop through these values print out the correlation resulting from each value using indexing within the array given back by np.corrcoef."
   ]
  },
  {
   "cell_type": "code",
   "execution_count": 58,
   "metadata": {},
   "outputs": [
    {
     "name": "stdout",
     "output_type": "stream",
     "text": [
      "0.9503552413814107\n",
      "0.820141281086161\n",
      "0.7504694103025611\n",
      "0.7672018051364452\n",
      "0.5089730585441093\n"
     ]
    }
   ],
   "source": [
    "noise = np.linspace(0.5,2.5,5)\n",
    "x_data = np.linspace(0,10,20)\n",
    "slope = 0.5\n",
    "\n",
    "for n in noise:\n",
    "    y_data = x_data * slope + np.random.normal(0,n,20)\n",
    "    result = np.corrcoef(x_data,y_data)\n",
    "    print(result[1,0])\n",
    "    "
   ]
  },
  {
   "cell_type": "markdown",
   "metadata": {},
   "source": [
    "### Reorganizing Arrays"
   ]
  },
  {
   "cell_type": "code",
   "execution_count": 59,
   "metadata": {},
   "outputs": [
    {
     "name": "stdout",
     "output_type": "stream",
     "text": [
      "[[1 2 3 4]\n",
      " [5 6 7 8]]\n",
      "[[1 2]\n",
      " [3 4]\n",
      " [5 6]\n",
      " [7 8]]\n"
     ]
    }
   ],
   "source": [
    "before = np.array([[1,2,3,4],[5,6,7,8]])\n",
    "print(before)\n",
    "\n",
    "after = before.reshape((4,2))\n",
    "print(after)"
   ]
  },
  {
   "cell_type": "code",
   "execution_count": 60,
   "metadata": {},
   "outputs": [
    {
     "data": {
      "text/plain": [
       "array([[1, 2, 3, 4],\n",
       "       [5, 6, 7, 8],\n",
       "       [1, 2, 3, 4],\n",
       "       [5, 6, 7, 8]])"
      ]
     },
     "execution_count": 60,
     "metadata": {},
     "output_type": "execute_result"
    }
   ],
   "source": [
    "# Vertically stacking vectors\n",
    "v1 = np.array([1,2,3,4])\n",
    "v2 = np.array([5,6,7,8])\n",
    "\n",
    "np.vstack([v1,v2,v1,v2])"
   ]
  },
  {
   "cell_type": "code",
   "execution_count": 61,
   "metadata": {},
   "outputs": [
    {
     "data": {
      "text/plain": [
       "array([[1., 1., 1., 1., 0., 0.],\n",
       "       [1., 1., 1., 1., 0., 0.]])"
      ]
     },
     "execution_count": 61,
     "metadata": {},
     "output_type": "execute_result"
    }
   ],
   "source": [
    "# Horizontal  stack\n",
    "h1 = np.ones((2,4))\n",
    "h2 = np.zeros((2,2))\n",
    "\n",
    "h = np.hstack((h1,h2))\n",
    "h"
   ]
  },
  {
   "cell_type": "code",
   "execution_count": 62,
   "metadata": {},
   "outputs": [
    {
     "data": {
      "text/plain": [
       "array([[ 1.,  1.,  1.,  1.,  0.,  0.],\n",
       "       [ 1., nan,  1.,  1.,  0.,  0.]])"
      ]
     },
     "execution_count": 62,
     "metadata": {},
     "output_type": "execute_result"
    }
   ],
   "source": [
    "# dealing with missing data (NaNs)\n",
    "h[1,1]= np.NaN\n",
    "h"
   ]
  },
  {
   "cell_type": "code",
   "execution_count": 63,
   "metadata": {},
   "outputs": [
    {
     "name": "stdout",
     "output_type": "stream",
     "text": [
      "[0.66666667        nan]\n",
      "[0.66666667 0.6       ]\n"
     ]
    }
   ],
   "source": [
    "# standard statistics like mean are not defined for NaNs, but you can use np.nanmean() to simply ignore nans\n",
    "means = np.mean(h,axis=1)\n",
    "print(means)\n",
    "\n",
    "nan_means = np.nanmean(h,axis=1)\n",
    "print(nan_means)"
   ]
  },
  {
   "cell_type": "markdown",
   "metadata": {},
   "source": [
    "Now we loop through different combinations of slopes and noise values (say 10 values each), in a nested for-loop to see how their combination affects the correlation coefficient."
   ]
  },
  {
   "cell_type": "code",
   "execution_count": 64,
   "metadata": {},
   "outputs": [
    {
     "name": "stderr",
     "output_type": "stream",
     "text": [
      "c:\\Python39\\lib\\site-packages\\numpy\\lib\\function_base.py:2853: RuntimeWarning: invalid value encountered in divide\n",
      "  c /= stddev[:, None]\n",
      "c:\\Python39\\lib\\site-packages\\numpy\\lib\\function_base.py:2854: RuntimeWarning: invalid value encountered in divide\n",
      "  c /= stddev[None, :]\n"
     ]
    },
    {
     "data": {
      "text/plain": [
       "array([[        nan, -0.06949493, -0.34300908,  0.59446194, -0.12462711,\n",
       "        -0.22563949, -0.07089255, -0.05423858, -0.19879673, -0.03615629],\n",
       "       [ 1.        ,  0.96522079,  0.85104613,  0.75374575,  0.61810279,\n",
       "         0.41004857,  0.46742942,  0.46332524,  0.2686808 ,  0.69991763],\n",
       "       [ 1.        ,  0.98476596,  0.96572282,  0.90904165,  0.78513486,\n",
       "         0.65229185,  0.51267103,  0.6706932 ,  0.72207124,  0.57613876],\n",
       "       [ 1.        ,  0.99590382,  0.97848811,  0.9333918 ,  0.9263547 ,\n",
       "         0.91603942,  0.86160833,  0.75233224,  0.72967994,  0.62799845],\n",
       "       [ 1.        ,  0.99692366,  0.99008686,  0.98388879,  0.93617856,\n",
       "         0.9068069 ,  0.92966864,  0.92273088,  0.86591973,  0.84214494],\n",
       "       [ 1.        ,  0.99884802,  0.99348194,  0.98500269,  0.9657021 ,\n",
       "         0.94555631,  0.94898495,  0.94473735,  0.87444819,  0.93029982],\n",
       "       [ 1.        ,  0.99821188,  0.99434337,  0.98514227,  0.97443654,\n",
       "         0.98109328,  0.94990387,  0.94910012,  0.95139306,  0.9029615 ],\n",
       "       [ 1.        ,  0.99900005,  0.99710671,  0.99439589,  0.98817042,\n",
       "         0.98169609,  0.96248824,  0.94450544,  0.929593  ,  0.89571261],\n",
       "       [ 1.        ,  0.99897521,  0.9966834 ,  0.99031024,  0.98512458,\n",
       "         0.97090419,  0.98412063,  0.96097189,  0.93598393,  0.96170283],\n",
       "       [ 1.        ,  0.99946071,  0.99547051,  0.99093167,  0.99218723,\n",
       "         0.98348271,  0.97500828,  0.98262552,  0.95730203,  0.92403932]])"
      ]
     },
     "execution_count": 64,
     "metadata": {},
     "output_type": "execute_result"
    }
   ],
   "source": [
    "# example of a nested for loop\n",
    "# the enumerate function returns the elements of an array (say s) preceded by indexes (say i_s)\n",
    "\n",
    "slopes = np.linspace(0,5,10)\n",
    "noises = np.linspace(0,5,10)\n",
    "x_data = np.linspace(0,10,20)\n",
    "results = np.zeros([10,10])\n",
    "\n",
    "for i_s,s in enumerate(slopes):\n",
    "    for i_n, n in enumerate(noises):\n",
    "        y_data = x_data * s + np.random.normal(0,n,20)\n",
    "        results[i_s,i_n] = np.corrcoef(x_data,y_data)[1,0]\n",
    "\n",
    "results"
   ]
  },
  {
   "cell_type": "markdown",
   "metadata": {},
   "source": [
    "Go through the code carefully until you understand it. Then write some code where you vary slopes also into the negative, keeping noise constant at 1, but changing the bias (i.e. the mean of the gaussian noise function)."
   ]
  },
  {
   "cell_type": "code",
   "execution_count": 67,
   "metadata": {},
   "outputs": [
    {
     "data": {
      "text/plain": [
       "array([[-0.99597467, -0.99755373, -0.9980175 , -0.99763142, -0.99775432,\n",
       "        -0.99825163, -0.99905632, -0.99809058, -0.99800186, -0.99766249],\n",
       "       [-0.99782942, -0.99669729, -0.99757186, -0.99654637, -0.99824866,\n",
       "        -0.99667795, -0.99711654, -0.99834251, -0.99645168, -0.99691368],\n",
       "       [-0.99655899, -0.99720085, -0.99484745, -0.99613046, -0.99641018,\n",
       "        -0.99608282, -0.99623407, -0.99761978, -0.99767204, -0.99761775],\n",
       "       [-0.99406501, -0.99405693, -0.99549266, -0.9962968 , -0.99463536,\n",
       "        -0.99774623, -0.99503432, -0.99476925, -0.99451281, -0.99561599],\n",
       "       [-0.99008741, -0.99329425, -0.99506292, -0.99564115, -0.99651939,\n",
       "        -0.98910594, -0.99589257, -0.99514582, -0.99322737, -0.9917785 ],\n",
       "       [-0.98976235, -0.99191623, -0.98965435, -0.99283007, -0.98978363,\n",
       "        -0.9880502 , -0.99127249, -0.987559  , -0.99079845, -0.99018904],\n",
       "       [-0.9726467 , -0.97972909, -0.9821516 , -0.97242379, -0.9886432 ,\n",
       "        -0.99183134, -0.98645063, -0.97908932, -0.99036353, -0.98867498],\n",
       "       [-0.96967906, -0.96429362, -0.95869779, -0.93259414, -0.95053544,\n",
       "        -0.96851257, -0.94995945, -0.94413261, -0.95535526, -0.94683212],\n",
       "       [-0.90572607, -0.78938035, -0.90512608, -0.92417213, -0.85120309,\n",
       "        -0.82489377, -0.84415744, -0.90430226, -0.90038153, -0.83143907],\n",
       "       [ 0.29515778, -0.08797215,  0.12996361,  0.087158  ,  0.19180058,\n",
       "         0.05734223,  0.08292473,  0.04732169,  0.1245895 ,  0.3649625 ]])"
      ]
     },
     "execution_count": 67,
     "metadata": {},
     "output_type": "execute_result"
    }
   ],
   "source": [
    "slopes = np.linspace(-5,0,10)\n",
    "bias = np.linspace(0,5,10)\n",
    "x_data = np.linspace(0,10,20)\n",
    "results = np.zeros([10,10])\n",
    "n = 1\n",
    "\n",
    "for i_s,s in enumerate(slopes):\n",
    "    for i_n, b in enumerate(bias):\n",
    "        y_data = x_data * s + np.random.normal(b,n,20)\n",
    "        results[i_s,i_n] = np.corrcoef(x_data,y_data)[1,0]\n",
    "\n",
    "results\n",
    "\n",
    "''' Carefully inspecting the values, we see that changing the bias doesn't really do anything. \n",
    "The values within the 2nd dimension (the rows) are all about the same.\n",
    "Meanwhile, the slopes seem to not much affect the correlation coefficient until they get close to zero. \n",
    "But when the slope is close to zero, then the corr_coeficient also drops to zero.\n",
    "\n",
    "This all makes perfect sense, as the corr_coefficient should normalize away the slope in general. \n",
    "However, if the slope gets close to zero, then the noise will overshadow it, and the corrcoefficent can't really detect anything sensible.\n",
    "The bias, i.e. the y-axis shift, should also be normalized away.\n",
    "To see why, check the definition of pearsons correlation coefficient: It normalizes the mean by subtraction\n",
    " and the data range (slope) by division throught the variance."
   ]
  },
  {
   "cell_type": "code",
   "execution_count": null,
   "metadata": {},
   "outputs": [],
   "source": []
  }
 ],
 "metadata": {
  "kernelspec": {
   "display_name": "Python 3",
   "language": "python",
   "name": "python3"
  },
  "language_info": {
   "codemirror_mode": {
    "name": "ipython",
    "version": 3
   },
   "file_extension": ".py",
   "mimetype": "text/x-python",
   "name": "python",
   "nbconvert_exporter": "python",
   "pygments_lexer": "ipython3",
   "version": "3.9.0"
  }
 },
 "nbformat": 4,
 "nbformat_minor": 2
}
