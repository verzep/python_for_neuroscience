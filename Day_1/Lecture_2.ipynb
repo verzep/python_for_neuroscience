{
 "cells": [
  {
   "cell_type": "markdown",
   "metadata": {
    "collapsed": false,
    "pycharm": {
     "name": "#%% md\n"
    }
   },
   "source": [
    "# 6. Dictionaries\n",
    "----------------------------------"
   ]
  },
  {
   "cell_type": "markdown",
   "metadata": {},
   "source": [
    "## Definition\n",
    "\n",
    "So far you should have seen the following built-in types (classes which comes with the python interpreter):\n",
    "- **Numeric types**: `int`, `float`\n",
    "- **Boolean type** `bool`\n",
    "- **Sequence types**: `list`, `tuple`, `str`\n",
    "\n",
    "Now we will introduce another frequently used built-in type, classified as a **Mapping type**: the `dict`.\n",
    "\n",
    "A dictionary is a data type similar to lists, but works with keys and values instead of indexes. This means that each value stored in a dictionary can be accessed using a key (for example, a string) instead of using its index to address it."
   ]
  },
  {
   "cell_type": "code",
   "execution_count": 31,
   "metadata": {
    "collapsed": false,
    "pycharm": {
     "name": "#%%\n"
    }
   },
   "outputs": [
    {
     "name": "stdout",
     "output_type": "stream",
     "text": [
      "{'John': 938477566, 'Jack': 938377264, 'Jill': 947662781}\n",
      "938477566\n"
     ]
    }
   ],
   "source": [
    "# Example 1. A database of phone numbers could be stored using a dictionary like this:\n",
    "\n",
    "# create a dictionary using the {} syntax\n",
    "phonebook = {\n",
    "    \"John\" : 938477566, # \"John\" is a key, 938477566 is a value\n",
    "    \"Jack\" : 938377264,\n",
    "    \"Jill\" : 947662781\n",
    "}\n",
    "\n",
    "# print a dictionary\n",
    "print(phonebook)\n",
    "\n",
    "# print only the number of John\n",
    "print(phonebook[\"John\"])"
   ]
  },
  {
   "cell_type": "markdown",
   "metadata": {},
   "source": [
    "## Useful Properties\n",
    "\n",
    "Dictionaries have the following important properties:\n",
    "- **Mutable**: you can add and remove key-value pairs from a dictionary, and you can change the value associated with a key\n",
    "- **Iterable**: you can loop over a dictionary\n",
    "- **Multi-Type**: the keys and values in a dictionary can be of any type"
   ]
  },
  {
   "cell_type": "code",
   "execution_count": 32,
   "metadata": {},
   "outputs": [
    {
     "name": "stdout",
     "output_type": "stream",
     "text": [
      "{'John': 938477566, 'Jack': 938377264, 'Jill': 947662781}\n",
      "Deleted the 'John' key\n",
      " {'Jack': 938377264, 'Jill': 947662781}\n",
      "Added the 'John' key back\n",
      " {'Jack': 938377264, 'Jill': 947662781, 'John': 938477566}\n",
      "John changed his number\n",
      " {'Jack': 938377264, 'Jill': 947662781, 'John': 100000001}\n"
     ]
    }
   ],
   "source": [
    "# Example 3. Delete and add a key-value pair from the dictionary like this:\n",
    "\n",
    "# check the dictionary we created in the last cell\n",
    "print(phonebook)\n",
    "\n",
    "# delete a key-value pair\n",
    "del phonebook[\"John\"]\n",
    "\n",
    "print(\"Deleted the 'John' key\\n\", phonebook)\n",
    "\n",
    "# add the key-value pair back\n",
    "phonebook[\"John\"] = 938477566\n",
    "\n",
    "# Notice that now 'John' is a the end! Do not rely on the order of the keys in a dictionary.\n",
    "print(\"Added the 'John' key back\\n\", phonebook)\n",
    "\n",
    "# John changed his number because he noticed that we were using it as an example, let's update it\n",
    "phonebook[\"John\"] = 100000000 + 1\n",
    "\n",
    "print(\"John changed his number\\n\", phonebook)"
   ]
  },
  {
   "cell_type": "code",
   "execution_count": 26,
   "metadata": {},
   "outputs": [
    {
     "name": "stdout",
     "output_type": "stream",
     "text": [
      "The key John has the value 938477566\n",
      "The key Jack has the value 938377264\n",
      "The key Jill has the value 947662781\n"
     ]
    }
   ],
   "source": [
    "# Example 4. Iterate over the dictionary like this:\n",
    "phonebook = {\"John\" : 938477566, \"Jack\" : 938377264, \"Jill\" : 947662781}\n",
    "\n",
    "for key in phonebook:\n",
    "\n",
    "    print(\"The key\", key, \"has the value\", phonebook[key])"
   ]
  },
  {
   "cell_type": "code",
   "execution_count": 27,
   "metadata": {},
   "outputs": [
    {
     "name": "stdout",
     "output_type": "stream",
     "text": [
      "The key John has the value 938477566\n",
      "The key Jack has the value 938377264\n",
      "The key Jill has the value 947662781\n",
      "The key 72 has the value 1.1\n",
      "The key (1, 2) has the value [3, 4, 5]\n"
     ]
    }
   ],
   "source": [
    "# Example 5. Add a key-value pair with totally different types\n",
    "\n",
    "phonebook[72] = 1.1 # key is an integer, value is a float\n",
    "phonebook[(1, 2)] = [3,4,5] # key is a tuple, value is a list\n",
    "\n",
    "for key in phonebook:\n",
    "\n",
    "    print(\"The key\", key, \"has the value\", phonebook[key])"
   ]
  },
  {
   "cell_type": "markdown",
   "metadata": {},
   "source": [
    "## Useful Methods\n",
    "As any type (also called class) in Python, dictionaries have some methods that can be used to manipulate them in more advance ways.\n",
    "I warmly suggest that you start exploring the [official documentation](https://docs.python.org/3/library/stdtypes.html#mapping-types-dict), where you can find all of them.\n",
    "\n",
    "Here are the most useful ones:\n",
    "- `dict.keys()`: returns a new view of the dictionary's keys\n",
    "- `dict.values()`: returns a new view of the dictionary's values\n",
    "- `dict.items()`: returns a new view of the dictionary's items (key-value pairs)"
   ]
  },
  {
   "cell_type": "code",
   "execution_count": 35,
   "metadata": {},
   "outputs": [
    {
     "name": "stdout",
     "output_type": "stream",
     "text": [
      "dict_values([938377264, 947662781, 100000001])\n",
      "dict_keys(['Jack', 'Jill', 'John'])\n",
      "dict_items([('Jack', 938377264), ('Jill', 947662781), ('John', 100000001)])\n"
     ]
    }
   ],
   "source": [
    "print(phonebook.values())\n",
    "print(phonebook.keys())\n",
    "print(phonebook.items())"
   ]
  },
  {
   "cell_type": "markdown",
   "metadata": {
    "collapsed": false,
    "pycharm": {
     "name": "#%% md\n"
    }
   },
   "source": [
    "# 7. Functions\n",
    "----------------------\n",
    "\n",
    "A function is a block of organized, reusable code that is used to perform a single action. Functions provide better modularity for your application and a high degree of code reusing.\n",
    "\n",
    "As you already know, Python gives you many built-in functions like print(), etc. but you can also create your own functions. These functions are called _user-defined functions_."
   ]
  },
  {
   "cell_type": "markdown",
   "metadata": {},
   "source": [
    "\n",
    "## How do you write functions in Python?\n",
    "\n",
    "As we have seen on previous tutorials, Python makes use of blocks.\n",
    "\n",
    "A block is a area of code of written in the format of:\n",
    "```\n",
    "block_head:\n",
    "    1st block line\n",
    "    2nd block line\n",
    "    ...\n",
    "```\n",
    "\n",
    "Where a block line is more Python code (even another block), and the block head is of the following format: block_keyword block_name(argument1,argument2, ...) Block keywords you already know are \"if\", \"for\", and \"while\".\n",
    "\n",
    "Functions in python are defined using the block keyword \"def\", followed with the function's name as the block's name. For example:"
   ]
  },
  {
   "cell_type": "code",
   "execution_count": 7,
   "metadata": {
    "collapsed": false,
    "pycharm": {
     "name": "#%%\n"
    }
   },
   "outputs": [],
   "source": [
    "def my_function():\n",
    "    print(\"Hello From My Function!\")"
   ]
  },
  {
   "cell_type": "markdown",
   "metadata": {
    "collapsed": false,
    "pycharm": {
     "name": "#%% md\n"
    }
   },
   "source": [
    "Functions may also receive arguments (variables passed from the caller to the function). For example:"
   ]
  },
  {
   "cell_type": "code",
   "execution_count": 8,
   "metadata": {
    "collapsed": false,
    "pycharm": {
     "name": "#%%\n"
    }
   },
   "outputs": [],
   "source": [
    "def my_function_with_args(username, greeting):\n",
    "    print(\"Hello, %s , From My Function!, I wish you %s\"%(username, greeting))"
   ]
  },
  {
   "cell_type": "markdown",
   "metadata": {
    "collapsed": false,
    "pycharm": {
     "name": "#%% md\n"
    }
   },
   "source": [
    "Functions may return a value to the caller, using the keyword- 'return' . For example:"
   ]
  },
  {
   "cell_type": "code",
   "execution_count": 10,
   "metadata": {
    "collapsed": false,
    "pycharm": {
     "name": "#%%\n"
    }
   },
   "outputs": [],
   "source": [
    "def sum_two_numbers(a, b):\n",
    "    return a + b"
   ]
  },
  {
   "cell_type": "markdown",
   "metadata": {
    "collapsed": false,
    "pycharm": {
     "name": "#%% md\n"
    }
   },
   "source": [
    "## How do you call functions in Python?\n",
    "\n",
    "Simply write the function's name followed by `()`, placing any required arguments within the brackets. For example, lets call the functions written above (in the previous example):"
   ]
  },
  {
   "cell_type": "code",
   "execution_count": 11,
   "metadata": {
    "collapsed": false,
    "pycharm": {
     "name": "#%%\n"
    }
   },
   "outputs": [
    {
     "name": "stdout",
     "output_type": "stream",
     "text": [
      "Hello From My Function!\n",
      "Hello, John Doe, From My Function!, I wish you a great year!\n"
     ]
    }
   ],
   "source": [
    "# Define our 3 functions\n",
    "def my_function():\n",
    "    print(\"Hello From My Function!\")\n",
    "\n",
    "def my_function_with_args(username, greeting):\n",
    "    print(\"Hello, %s, From My Function!, I wish you %s\"%(username, greeting))\n",
    "\n",
    "def sum_two_numbers(a, b):\n",
    "    return a + b\n",
    "\n",
    "# print(a simple greeting)\n",
    "my_function()\n",
    "\n",
    "#prints - \"Hello, John Doe, From My Function!, I wish you a great year!\"\n",
    "my_function_with_args(\"John Doe\", \"Merry Christmas!\")\n",
    "\n",
    "# after this line x will hold the value 3!\n",
    "x = sum_two_numbers(1,2)"
   ]
  },
  {
   "cell_type": "markdown",
   "metadata": {
    "collapsed": false,
    "pycharm": {
     "name": "#%% md\n"
    }
   },
   "source": [
    "## Number of Arguments\n",
    "\n",
    "By default, a function must be called with the correct number of arguments. Meaning that if your function expects 2 arguments, you have to call the function with 2 arguments, not more, and not less."
   ]
  },
  {
   "cell_type": "code",
   "execution_count": 16,
   "metadata": {
    "collapsed": false,
    "pycharm": {
     "name": "#%%\n"
    }
   },
   "outputs": [
    {
     "ename": "TypeError",
     "evalue": "my_function() missing 1 required positional argument: 'greeting'",
     "output_type": "error",
     "traceback": [
      "\u001b[0;31m---------------------------------------------------------------------------\u001b[0m",
      "\u001b[0;31mTypeError\u001b[0m                                 Traceback (most recent call last)",
      "\u001b[0;32m/tmp/ipykernel_25054/1360302584.py\u001b[0m in \u001b[0;36m<cell line: 5>\u001b[0;34m()\u001b[0m\n\u001b[1;32m      3\u001b[0m \u001b[0;34m\u001b[0m\u001b[0m\n\u001b[1;32m      4\u001b[0m \u001b[0;31m# call the function with only 1 argument\u001b[0m\u001b[0;34m\u001b[0m\u001b[0;34m\u001b[0m\u001b[0;34m\u001b[0m\u001b[0m\n\u001b[0;32m----> 5\u001b[0;31m \u001b[0mmy_function\u001b[0m\u001b[0;34m(\u001b[0m\u001b[0;34m\"John Doe\"\u001b[0m\u001b[0;34m)\u001b[0m\u001b[0;34m\u001b[0m\u001b[0;34m\u001b[0m\u001b[0m\n\u001b[0m\u001b[1;32m      6\u001b[0m \u001b[0;34m\u001b[0m\u001b[0m\n",
      "\u001b[0;31mTypeError\u001b[0m: my_function() missing 1 required positional argument: 'greeting'"
     ]
    }
   ],
   "source": [
    "def my_function(username, greeting):\n",
    "    print(\"Hello, %s, From My Function!, I wish you %s\"%(username, greeting))\n",
    "\n",
    "# call the function with only 1 argument\n",
    "my_function(\"John Doe\")"
   ]
  },
  {
   "cell_type": "markdown",
   "metadata": {
    "collapsed": false,
    "pycharm": {
     "name": "#%% md\n"
    }
   },
   "source": [
    "This code will return a TypeError:\n",
    "\n",
    "```\n",
    "TypeError: my_function() missing 1 required positional argument: 'greeting'\n",
    "```\n"
   ]
  },
  {
   "cell_type": "markdown",
   "metadata": {
    "collapsed": false,
    "pycharm": {
     "name": "#%% md\n"
    }
   },
   "source": [
    "## Keyword Arguments\n",
    "\n",
    "If you want to make sure that you call all the parameters in the function in the right order, you can use the keyword arguments in the function call.\n",
    "\n",
    "The keyword arguments are entered as a key-value pair, with the key being the parameter name, and the value being the argument to be passed.\n",
    "\n"
   ]
  },
  {
   "cell_type": "code",
   "execution_count": 17,
   "metadata": {
    "collapsed": false,
    "pycharm": {
     "name": "#%%\n"
    }
   },
   "outputs": [
    {
     "name": "stdout",
     "output_type": "stream",
     "text": [
      "Hello, John Doe, From My Function!, I wish you a great year!\n"
     ]
    }
   ],
   "source": [
    "my_function(greeting=\"a great year!\", username=\"John Doe\")"
   ]
  },
  {
   "cell_type": "markdown",
   "metadata": {
    "collapsed": false,
    "pycharm": {
     "name": "#%% md\n"
    }
   },
   "source": [
    "## Default Arguments\n",
    "\n",
    "If you don't know how many arguments you will be passing to your function, or if you want to make some parameters optional, you can use default arguments.\n",
    "\n"
   ]
  },
  {
   "cell_type": "code",
   "execution_count": 18,
   "metadata": {
    "collapsed": false,
    "pycharm": {
     "name": "#%%\n"
    }
   },
   "outputs": [
    {
     "name": "stdout",
     "output_type": "stream",
     "text": [
      "Hello, John Doe, From My Function!, I wish you a great year!\n"
     ]
    }
   ],
   "source": [
    "def my_function(username, greeting=\"a great year!\"):\n",
    "    print(\"Hello, %s, From My Function!, I wish you %s\"%(username, greeting))\n",
    "\n",
    "my_function(\"John Doe\")"
   ]
  },
  {
   "cell_type": "markdown",
   "metadata": {
    "collapsed": false,
    "pycharm": {
     "name": "#%% md\n"
    }
   },
   "source": [
    "But we can also specify the value of the optional parameter:\n"
   ]
  },
  {
   "cell_type": "code",
   "execution_count": 19,
   "metadata": {
    "collapsed": false,
    "pycharm": {
     "name": "#%%\n"
    }
   },
   "outputs": [
    {
     "name": "stdout",
     "output_type": "stream",
     "text": [
      "Hello, John Doe, From My Function!, I wish you an awesome day!\n"
     ]
    }
   ],
   "source": [
    "my_function(\"John Doe\", \"an awesome day!\")"
   ]
  },
  {
   "cell_type": "markdown",
   "metadata": {
    "collapsed": false,
    "pycharm": {
     "name": "#%% md\n"
    }
   },
   "source": [
    "## Passing a List as an Argument\n",
    "\n",
    "You can send any data types of argument to a function (string, number, list, dictionary etc.), and it will be treated as the same data type inside the function.\n",
    "\n",
    "E.g. if you send a List as an argument, it will still be a List when it reaches the function:"
   ]
  },
  {
   "cell_type": "code",
   "execution_count": 42,
   "metadata": {
    "collapsed": false,
    "pycharm": {
     "name": "#%%\n"
    }
   },
   "outputs": [
    {
     "name": "stdout",
     "output_type": "stream",
     "text": [
      "apple\n",
      "banana\n",
      "cherry\n"
     ]
    }
   ],
   "source": [
    "def print_food(food_list):\n",
    "    for food in food_list:\n",
    "        print(food)\n",
    "\n",
    "fruits = [\"apple\", \"banana\", \"cherry\"]\n",
    "\n",
    "print_food(fruits)"
   ]
  },
  {
   "cell_type": "markdown",
   "metadata": {},
   "source": [
    "## Useful Built-in Functions\n",
    "The Python interpreter comes with many built-in functions that you can use in your code. Here are some of the most used ones (as usual, I suggest you to explore the [official documentation](https://docs.python.org/3/library/functions.html) to get a complete list of them):\n",
    "\n",
    "- `len()`: returns the length of an object (only certain types have a defined length)\n",
    "- `type()`: returns the type of an object\n",
    "- `print()`: prints the object to the console\n",
    "- `input()`: reads a line from the console\n",
    "- `range()`: generates a sequence of numbers\n",
    "- `enumerate()`: returns an enumerate object\n",
    "- `zip()`: returns an iterator of tuples\n",
    "- `sorted()`: returns a new sorted list from the elements of any iterable\n",
    "- `reversed()`: returns a reverse iterator\n",
    "- `sum()`: returns the sum of a sequence of numbers\n",
    "- `min()`: returns the minimum value in a sequence\n",
    "- `max()`: returns the maximum value in a sequence\n",
    "- `abs()`: returns the absolute value of a number\n",
    "- `round()`: rounds a number to a given precision\n",
    "- `all()`: returns True if all elements of an iterable are true\n",
    "- `any()`: returns True if any element of an iterable is true\n"
   ]
  },
  {
   "cell_type": "markdown",
   "metadata": {},
   "source": [
    "# Classes\n",
    "\n",
    "Python is an object oriented programming language. Almost everything in Python is an object, with its properties and methods.\n",
    "An object is an instance of a class. When you type `x = 1`, `x` is an object of the `int` class, or when you type `x = [1, 2, 3]`, `x` is an object of the `list` class."
   ]
  },
  {
   "cell_type": "code",
   "execution_count": 66,
   "metadata": {},
   "outputs": [
    {
     "name": "stdout",
     "output_type": "stream",
     "text": [
      "<class 'list'> <class 'float'> <class 'int'> <class 'dict'>\n",
      "[1, 2] <class 'list'>\n"
     ]
    }
   ],
   "source": [
    "# Example - See that list, int, float are built-in functions\n",
    "print(list, float, int, dict)\n",
    "\n",
    "x = [1, 2]\n",
    "print(x, type(x))"
   ]
  },
  {
   "cell_type": "markdown",
   "metadata": {},
   "source": [
    "## Creating a class"
   ]
  },
  {
   "cell_type": "markdown",
   "metadata": {},
   "source": [
    "In other words, a class is like a blueprint for creating objects. You can create a custom class in Python using the appropriate syntax.\n",
    "To create a custom class, you have to use the keyword `class` followed by the class name and a colon. \n",
    "\n",
    "Inside the class block, you can define attributes (variables) and methods (functions) of the class.\n",
    "\n",
    "Some **rules** to keep in mind when defining a class:\n",
    "- Every class should have a method with the name `__init__` (this is the constructor method), which is always executed when an object of the class is created\n",
    "- All methods should have `self` as their first parameter\n",
    "\n",
    "NOTE: the rules are not true :) You can create classes without the `__init__` method, and you can create methods without the `self` parameter. But this is for advanced users (and most of the time useless), so I suggest you to stick to the rules."
   ]
  },
  {
   "cell_type": "code",
   "execution_count": 85,
   "metadata": {},
   "outputs": [],
   "source": [
    "class Chicken:\n",
    "\n",
    "    name = \"Rosita\"\n",
    "    weight, age = 15, 2 # Kg, years\n",
    "\n",
    "    def __init__(self,):\n",
    "\n",
    "        pass\n",
    "\n",
    "    def print_attributes(self):\n",
    "\n",
    "        print(self.name, self.weight, self.age)\n",
    "\n",
    "    def set_attributes(self, name, weight, age):\n",
    "\n",
    "        self.name = name\n",
    "        self.weight = weight\n",
    "        self.age = age"
   ]
  },
  {
   "cell_type": "markdown",
   "metadata": {},
   "source": [
    "## Creating an object"
   ]
  },
  {
   "cell_type": "markdown",
   "metadata": {},
   "source": [
    "When you use a class to create an object, you are creating an instance of that class. You can create many instances of a class, and each instance is independent of the others.\n",
    "\n",
    "You can create an instance like this:"
   ]
  },
  {
   "cell_type": "code",
   "execution_count": 88,
   "metadata": {},
   "outputs": [
    {
     "name": "stdout",
     "output_type": "stream",
     "text": [
      "<class '__main__.MyClass'>\n"
     ]
    }
   ],
   "source": [
    "one_chicken = Chicken()\n",
    "\n",
    "print(type(one_chicken))"
   ]
  },
  {
   "cell_type": "markdown",
   "metadata": {},
   "source": [
    "An instance of class possesses a copy of the class's attributes and methods. You can access the attributes and methods of an instance using the dot notation. Like this:"
   ]
  },
  {
   "cell_type": "code",
   "execution_count": 89,
   "metadata": {},
   "outputs": [
    {
     "name": "stdout",
     "output_type": "stream",
     "text": [
      "1 2 ketchup\n",
      "1 2 ketchup\n",
      "3 4 mustard\n"
     ]
    }
   ],
   "source": [
    "print(one_chicken.name, one_chicken.weight, one_chicken.age)\n",
    "\n",
    "one_chicken.print_attributes()\n",
    "one_chicken.set_attributes(\"Pepita\", 20, 3)\n",
    "one_chicken.print_attributes()"
   ]
  },
  {
   "cell_type": "markdown",
   "metadata": {},
   "source": [
    "## Using the `__init__` method"
   ]
  },
  {
   "cell_type": "markdown",
   "metadata": {},
   "source": [
    "As we said, classes are used as blueprints for creating objects.\n",
    "For example, if a farmer ask to me to create program for handling his chickens, I would create a class called `Chicken`, and then I would instantiate as many chickens as he has.\n",
    "\n",
    "But the class that we defined before is not very useful, because all the chickens have the same attributes (name, weight, age).\n",
    "We would like to create a class that allows us to create chickens with different attributes.\n",
    "\n",
    "To do this, we can use the `__init__` method. This method is called when the class is instantiated, and it allows us to set the initial state of the object."
   ]
  },
  {
   "cell_type": "code",
   "execution_count": 94,
   "metadata": {},
   "outputs": [],
   "source": [
    "class Chicken:\n",
    "\n",
    "    def __init__(self, name, weight, age):\n",
    "\n",
    "        self.name = name\n",
    "        self.weight = weight\n",
    "        self.age = age\n",
    "\n",
    "    def introduce_yourself(self):\n",
    "\n",
    "        print(\"Hello, my name is\", self.name, \"I am\", self.age, \"years old and I weight\", self.weight, \"Kg\")"
   ]
  },
  {
   "cell_type": "code",
   "execution_count": 96,
   "metadata": {},
   "outputs": [
    {
     "name": "stdout",
     "output_type": "stream",
     "text": [
      "Hello, my name is Rosita I am 2 years old and I weight 15 Kg\n",
      "Hello, my name is Pepita I am 3 years old and I weight 20 Kg\n"
     ]
    }
   ],
   "source": [
    "rosita = Chicken(\"Rosita\", 15, 2)\n",
    "pepita = Chicken(\"Pepita\", 20, 3)\n",
    "\n",
    "rosita.introduce_yourself()\n",
    "pepita.introduce_yourself()"
   ]
  },
  {
   "cell_type": "markdown",
   "metadata": {},
   "source": [
    "**Small Bonus**\n",
    "The `__init__` method is a special method in Python classes. There are many other special methods in Python classes, and you can find them in the [official documentation](https://docs.python.org/3/reference/datamodel.html#special-method-names).\n",
    "\n",
    "For example, the `__str__` method is called whenever we do `print(obj)`. Look at this magic:"
   ]
  },
  {
   "cell_type": "code",
   "execution_count": 100,
   "metadata": {},
   "outputs": [
    {
     "name": "stdout",
     "output_type": "stream",
     "text": [
      "{'a': 1, 'b': 2, 'c': 3}\n"
     ]
    },
    {
     "data": {
      "text/plain": [
       "\"{'a': 1, 'b': 2, 'c': 3}\""
      ]
     },
     "execution_count": 100,
     "metadata": {},
     "output_type": "execute_result"
    }
   ],
   "source": [
    "sample_dict = {\"a\": 1, \"b\": 2, \"c\": 3}\n",
    "\n",
    "print(sample_dict)\n",
    "\n",
    "sample_dict.__str__()"
   ]
  },
  {
   "cell_type": "markdown",
   "metadata": {},
   "source": [
    "# Exercises"
   ]
  },
  {
   "cell_type": "code",
   "execution_count": null,
   "metadata": {},
   "outputs": [],
   "source": [
    "# Esercise 1\n",
    "# Create a function that takes a dictionary and return the sum of all the values in the dictionary."
   ]
  },
  {
   "cell_type": "code",
   "execution_count": null,
   "metadata": {},
   "outputs": [],
   "source": [
    "# Exercise 2\n",
    "# Create a function that count the number of times each letter appears in a string.\n",
    "\n",
    "# Tips: use a dictionary to store the letters and their counts. Remember strings are iterable objects (loopable)."
   ]
  },
  {
   "cell_type": "code",
   "execution_count": null,
   "metadata": {},
   "outputs": [],
   "source": [
    "# Exercise 3\n",
    "# Create a function that takes a list of numbers and returns the largest number in the list, using a for loop to find it."
   ]
  },
  {
   "cell_type": "code",
   "execution_count": null,
   "metadata": {},
   "outputs": [],
   "source": [
    "# Exercise 4\n",
    "# Create a function that takes a list of numbers and returns the largest number in the list, \n",
    "# using the built-in function max (https://docs.python.org/3/library/functions.html)."
   ]
  },
  {
   "cell_type": "code",
   "execution_count": null,
   "metadata": {},
   "outputs": [],
   "source": [
    "# Exercise 5\n",
    "# Compare the performance of the two functions using the timeit module (https://docs.python.org/3/library/timeit.html).\n",
    "import timeit"
   ]
  },
  {
   "cell_type": "code",
   "execution_count": null,
   "metadata": {},
   "outputs": [],
   "source": [
    "# Exercise 6\n",
    "# Create a function that takes a dictionary as argument, and returns a dictionary with only the keys which are strings starting with \"takeme\""
   ]
  },
  {
   "cell_type": "code",
   "execution_count": null,
   "metadata": {},
   "outputs": [],
   "source": [
    "# Esercise 7\n",
    "# Create a function that asks the user to input a number and then print the number multiplied by 2.\n",
    "\n",
    "# Tips: use the built-in function `input()`"
   ]
  },
  {
   "cell_type": "code",
   "execution_count": null,
   "metadata": {},
   "outputs": [],
   "source": [
    "# Esercise 8\n",
    "\n",
    "# Here is a dictionary with some food and the respective kcal:\n",
    "food = {\"apple\": 52, \"banana\": 89, \"milk\": 42, \"bread\": 265, \"butter\": 102, \"cheese\": 402}\n",
    "# Here is a dictionary with some activities and the burned kcal:\n",
    "activities = {\"running\": 100, \"swimming\": 200, \"cycling\": 300, \"walking\": 400, \"dancing\": 500}\n",
    "\n",
    "# Create a class called `Person` with the following attributes: food, activities, weight, eaten_calories, burned_calories\n",
    "# eaten_calories and burned_calories should be initialized with 0, the other attributes with arguments passed to __init__\n",
    "# The class should have the following methods: eat, live, update_weight\n",
    "# eat should take a string as argument and add the respective kcal to eaten_calories\n",
    "# live should take a string as argument and add the respective kcal to burned_calories\n",
    "# update_weight should update the weight of the person based on the formula: weight = weight + (eaten_calories - burned_calories) / 2\n",
    "\n",
    "# Uncomment the following line to create Bob:\n",
    "# bob = Person(food, activities, weight=80)\n",
    "\n",
    "# Bob eats two apples, a banana and drinks a glass of milk; then he goes running; then he eats a slice of bread with butter and cheese;\n",
    "# Print the final weight of Bob."
   ]
  },
  {
   "cell_type": "code",
   "execution_count": null,
   "metadata": {},
   "outputs": [],
   "source": [
    "# Exercise 9\n",
    "# Create a class called 'Student'.\n",
    "# Each object of the type 'Student' should have the following attributes: name, age, sex, favorite_color;\n",
    "# Each object of the type 'Student' should have the following methods: change_name, grow_up, change_sex, change_favorite_color;\n",
    "# The method change_name should take a string as argument and change the name of the student; the same for the other methods.\n",
    "\n",
    "# Create a class called 'Apartment'.\n",
    "# Each object of the type 'Apartment' should have the following attributes: max_name_len, minimum_age, required_sex, forbidden_colors;\n",
    "# All the attributes should be initialized with arguments passed to __init__;\n",
    "# Each object of the type 'Apartment' should have the following methods: add_student\n",
    "# The method add_student should take a student object as argument and add it to the apartment only if the student satisfies the following conditions:\n",
    "# the name of the student is shorter than max_name_len\n",
    "# the age of the student is greater than minimum_age\n",
    "# the sex of the student is equal to the required_sex\n",
    "# the favorite_color of the student is not in forbidden_colors\n",
    "# In the case in which the student satisfies all the conditions, the method should print \"STUDENT_NAME was accepted!\", \n",
    "# otherwise it should print \"STUDENT_NAME was rejected because of its UNMET_CONDITION\".\n",
    "\n",
    "# Uncomment and run the following code to test your classes\n",
    "# students = [Student(\"John\", 19, \"M\", \"blue\"), Student(\"Jane\", 22, \"F\", \"red\"), Student(\"Jack\", 21, \"M\", \"green\"), Student(\"Jill\", 23, \"F\", \"yellow\")]\n",
    "# apartment = Apartment(max_name_len=5, minimum_age=20, sex = 'F', forbidden_colors = ['red', 'green'])\n",
    "# apartment.add_student(students[0])\n",
    "# apartment.add_student(students[1])\n",
    "# apartment.add_student(students[2])\n",
    "# apartment.add_student(students[3])\n",
    "\n",
    "# Using the methods of the Student class, to make all the students accepted by the apartment."
   ]
  },
  {
   "cell_type": "code",
   "execution_count": 67,
   "metadata": {
    "collapsed": false,
    "pycharm": {
     "name": "#%%\n"
    }
   },
   "outputs": [],
   "source": [
    "# Exercise 10\n",
    "# Create a program to play the \"Not Too Clever Game\".\n",
    "# The program should do the following:\n",
    "# 1. ask for the number of players, accepting a maximum of 5\n",
    "# 2. ask for the names of the players, accepting only strings\n",
    "# 3. ask each player to insert a number\n",
    "# 4. print the winner (the player who inserted the highest number)\n",
    "\n",
    "# Tips: Use the built-in function `input` to ask for user input. \n",
    "#       For point 2, use while loop, the keywords `continue`, `break`, and the built-in function `type` or `isistance`.\n",
    "\n",
    "# Challenge: make the program UNBREAKABLE"
   ]
  }
 ],
 "metadata": {
  "kernelspec": {
   "display_name": "Python 3",
   "language": "python",
   "name": "python3"
  },
  "language_info": {
   "codemirror_mode": {
    "name": "ipython",
    "version": 3
   },
   "file_extension": ".py",
   "mimetype": "text/x-python",
   "name": "python",
   "nbconvert_exporter": "python",
   "pygments_lexer": "ipython3",
   "version": "3.10.13"
  }
 },
 "nbformat": 4,
 "nbformat_minor": 0
}
