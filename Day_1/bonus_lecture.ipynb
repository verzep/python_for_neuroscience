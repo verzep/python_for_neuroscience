{
 "cells": [
  {
   "metadata": {},
   "cell_type": "markdown",
   "source": [
    "## FUNCTIONS (ADVANCED)\n",
    "------------------------------"
   ]
  },
  {
   "cell_type": "markdown",
   "metadata": {
    "collapsed": false,
    "pycharm": {
     "name": "#%% md\n"
    }
   },
   "source": [
    "## Passing a List as an Argument\n",
    "\n",
    "You can send any data types of argument to a function (string, number, list, dictionary etc.), and it will be treated as the same data type inside the function.\n",
    "\n",
    "E.g. if you send a List as an argument, it will still be a List when it reaches the function:"
   ]
  },
  {
   "cell_type": "code",
   "execution_count": 42,
   "metadata": {
    "collapsed": false,
    "pycharm": {
     "name": "#%%\n"
    }
   },
   "outputs": [
    {
     "name": "stdout",
     "output_type": "stream",
     "text": [
      "apple\n",
      "banana\n",
      "cherry\n"
     ]
    }
   ],
   "source": [
    "def print_food(food_list):\n",
    "    for food in food_list:\n",
    "        print(food)\n",
    "\n",
    "fruits = [\"apple\", \"banana\", \"cherry\"]\n",
    "\n",
    "print_food(fruits)"
   ]
  },
  {
   "cell_type": "markdown",
   "metadata": {},
   "source": [
    "## Useful Built-in Functions\n",
    "The Python interpreter comes with many built-in functions that you can use in your code. Here are some of the most used ones (as usual, I suggest you to explore the [official documentation](https://docs.python.org/3/library/functions.html) to get a complete list of them):\n",
    "\n",
    "- `len()`: returns the length of an object (only certain types have a defined length)\n",
    "- `type()`: returns the type of an object\n",
    "- `print()`: prints the object to the console\n",
    "- `input()`: reads a line from the console\n",
    "- `range()`: generates a sequence of numbers\n",
    "- `enumerate()`: returns an enumerate object\n",
    "- `zip()`: returns an iterator of tuples\n",
    "- `sorted()`: returns a new sorted list from the elements of any iterable\n",
    "- `reversed()`: returns a reverse iterator\n",
    "- `sum()`: returns the sum of a sequence of numbers\n",
    "- `min()`: returns the minimum value in a sequence\n",
    "- `max()`: returns the maximum value in a sequence\n",
    "- `abs()`: returns the absolute value of a number\n",
    "- `round()`: rounds a number to a given precision\n",
    "- `all()`: returns True if all elements of an iterable are true\n",
    "- `any()`: returns True if any element of an iterable is true\n"
   ]
  },
  {
   "cell_type": "code",
   "execution_count": 66,
   "metadata": {},
   "outputs": [
    {
     "name": "stdout",
     "output_type": "stream",
     "text": [
      "<class 'list'> <class 'float'> <class 'int'> <class 'dict'>\n",
      "[1, 2] <class 'list'>\n"
     ]
    }
   ],
   "source": [
    "# Example - See that list, int, float are built-in functions\n",
    "print(list, float, int, dict)\n",
    "\n",
    "x = [1, 2]\n",
    "print(x, type(x))"
   ]
  },
  {
   "metadata": {},
   "cell_type": "markdown",
   "source": [
    "CLASSES\n",
    "-----------------\n",
    "\n",
    "Python is an object oriented programming language. Almost everything in Python is an object, with its properties and methods.\n",
    "An object is an instance of a class. When you type `x = 1`, `x` is an object of the `int` class, or when you type `x = [1, 2, 3]`, `x` is an object of the `list` class."
   ]
  },
  {
   "cell_type": "markdown",
   "metadata": {},
   "source": [
    "## Creating a class"
   ]
  },
  {
   "cell_type": "markdown",
   "metadata": {},
   "source": [
    "In other words, a class is like a blueprint for creating objects. You can create a custom class in Python using the appropriate syntax.\n",
    "To create a custom class, you have to use the keyword `class` followed by the class name and a colon. \n",
    "\n",
    "Inside the class block, you can define attributes (variables) and methods (functions) of the class.\n",
    "\n",
    "Some **rules** to keep in mind when defining a class:\n",
    "- Every class should have a method with the name `__init__` (this is the constructor method), which is always executed when an object of the class is created\n",
    "- All methods should have `self` as their first parameter\n",
    "\n",
    "NOTE: the rules are not true :) You can create classes without the `__init__` method, and you can create methods without the `self` parameter. But this is for advanced users (and most of the time useless), so I suggest you to stick to the rules."
   ]
  },
  {
   "cell_type": "code",
   "execution_count": 85,
   "metadata": {},
   "outputs": [],
   "source": [
    "class Chicken:\n",
    "\n",
    "    name = \"Rosita\"\n",
    "    weight, age = 15, 2 # Kg, years\n",
    "\n",
    "    def __init__(self,):\n",
    "\n",
    "        pass\n",
    "\n",
    "    def print_attributes(self):\n",
    "\n",
    "        print(self.name, self.weight, self.age)\n",
    "\n",
    "    def set_attributes(self, name, weight, age):\n",
    "\n",
    "        self.name = name\n",
    "        self.weight = weight\n",
    "        self.age = age"
   ]
  },
  {
   "cell_type": "markdown",
   "metadata": {},
   "source": [
    "## Creating an object"
   ]
  },
  {
   "cell_type": "markdown",
   "metadata": {},
   "source": [
    "When you use a class to create an object, you are creating an instance of that class. You can create many instances of a class, and each instance is independent of the others.\n",
    "\n",
    "You can create an instance like this:"
   ]
  },
  {
   "cell_type": "code",
   "execution_count": 88,
   "metadata": {},
   "outputs": [
    {
     "name": "stdout",
     "output_type": "stream",
     "text": [
      "<class '__main__.MyClass'>\n"
     ]
    }
   ],
   "source": [
    "one_chicken = Chicken()\n",
    "\n",
    "print(type(one_chicken))"
   ]
  },
  {
   "cell_type": "markdown",
   "metadata": {},
   "source": [
    "An instance of class possesses a copy of the class's attributes and methods. You can access the attributes and methods of an instance using the dot notation. Like this:"
   ]
  },
  {
   "cell_type": "code",
   "execution_count": 89,
   "metadata": {},
   "outputs": [
    {
     "name": "stdout",
     "output_type": "stream",
     "text": [
      "1 2 ketchup\n",
      "1 2 ketchup\n",
      "3 4 mustard\n"
     ]
    }
   ],
   "source": [
    "print(one_chicken.name, one_chicken.weight, one_chicken.age)\n",
    "\n",
    "one_chicken.print_attributes()\n",
    "one_chicken.set_attributes(\"Pepita\", 20, 3)\n",
    "one_chicken.print_attributes()"
   ]
  },
  {
   "cell_type": "markdown",
   "metadata": {},
   "source": [
    "## Using the `__init__` method"
   ]
  },
  {
   "cell_type": "markdown",
   "metadata": {},
   "source": [
    "As we said, classes are used as blueprints for creating objects.\n",
    "For example, if a farmer ask to me to create program for handling his chickens, I would create a class called `Chicken`, and then I would instantiate as many chickens as he has.\n",
    "\n",
    "But the class that we defined before is not very useful, because all the chickens have the same attributes (name, weight, age).\n",
    "We would like to create a class that allows us to create chickens with different attributes.\n",
    "\n",
    "To do this, we can use the `__init__` method. This method is called when the class is instantiated, and it allows us to set the initial state of the object."
   ]
  },
  {
   "cell_type": "code",
   "execution_count": 94,
   "metadata": {},
   "outputs": [],
   "source": [
    "class Chicken:\n",
    "\n",
    "    def __init__(self, name, weight, age):\n",
    "\n",
    "        self.name = name\n",
    "        self.weight = weight\n",
    "        self.age = age\n",
    "\n",
    "    def introduce_yourself(self):\n",
    "\n",
    "        print(\"Hello, my name is\", self.name, \"I am\", self.age, \"years old and I weight\", self.weight, \"Kg\")"
   ]
  },
  {
   "cell_type": "code",
   "execution_count": 96,
   "metadata": {},
   "outputs": [
    {
     "name": "stdout",
     "output_type": "stream",
     "text": [
      "Hello, my name is Rosita I am 2 years old and I weight 15 Kg\n",
      "Hello, my name is Pepita I am 3 years old and I weight 20 Kg\n"
     ]
    }
   ],
   "source": [
    "rosita = Chicken(\"Rosita\", 15, 2)\n",
    "pepita = Chicken(\"Pepita\", 20, 3)\n",
    "\n",
    "rosita.introduce_yourself()\n",
    "pepita.introduce_yourself()"
   ]
  },
  {
   "cell_type": "markdown",
   "metadata": {},
   "source": [
    "**Small Bonus**\n",
    "The `__init__` method is a special method in Python classes. There are many other special methods in Python classes, and you can find them in the [official documentation](https://docs.python.org/3/reference/datamodel.html#special-method-names).\n",
    "\n",
    "For example, the `__str__` method is called whenever we do `print(obj)`. Look at this magic:"
   ]
  },
  {
   "cell_type": "code",
   "execution_count": 100,
   "metadata": {},
   "outputs": [
    {
     "name": "stdout",
     "output_type": "stream",
     "text": [
      "{'a': 1, 'b': 2, 'c': 3}\n"
     ]
    },
    {
     "data": {
      "text/plain": [
       "\"{'a': 1, 'b': 2, 'c': 3}\""
      ]
     },
     "execution_count": 100,
     "metadata": {},
     "output_type": "execute_result"
    }
   ],
   "source": [
    "sample_dict = {\"a\": 1, \"b\": 2, \"c\": 3}\n",
    "\n",
    "print(sample_dict)\n",
    "\n",
    "sample_dict.__str__()"
   ]
  },
  {
   "cell_type": "markdown",
   "metadata": {},
   "source": [
    "# Exercises"
   ]
  },
  {
   "cell_type": "code",
   "execution_count": null,
   "metadata": {},
   "outputs": [],
   "source": [
    "# Esercise 1\n",
    "# Create a function that takes a dictionary and return the sum of all the values in the dictionary."
   ]
  },
  {
   "cell_type": "code",
   "execution_count": null,
   "metadata": {},
   "outputs": [],
   "source": [
    "# Exercise 2\n",
    "# Create a function that count the number of times each letter appears in a string.\n",
    "\n",
    "# Tips: use a dictionary to store the letters and their counts. Remember strings are iterable objects (loopable)."
   ]
  },
  {
   "cell_type": "code",
   "execution_count": null,
   "metadata": {},
   "outputs": [],
   "source": [
    "# Exercise 3\n",
    "# Create a function that takes a list of numbers and returns the largest number in the list, using a for loop to find it."
   ]
  },
  {
   "cell_type": "code",
   "execution_count": null,
   "metadata": {},
   "outputs": [],
   "source": [
    "# Exercise 4\n",
    "# Create a function that takes a list of numbers and returns the largest number in the list, \n",
    "# using the built-in function max (https://docs.python.org/3/library/functions.html)."
   ]
  },
  {
   "cell_type": "code",
   "execution_count": null,
   "metadata": {},
   "outputs": [],
   "source": [
    "# Exercise 5\n",
    "# Compare the performance of the two functions using the timeit module (https://docs.python.org/3/library/timeit.html).\n",
    "import timeit"
   ]
  },
  {
   "cell_type": "code",
   "execution_count": null,
   "metadata": {},
   "outputs": [],
   "source": [
    "# Exercise 6\n",
    "# Create a function that takes a dictionary as argument, and returns a dictionary with only the keys which are strings starting with \"takeme\""
   ]
  },
  {
   "cell_type": "code",
   "execution_count": null,
   "metadata": {},
   "outputs": [],
   "source": [
    "# Esercise 7\n",
    "# Create a function that asks the user to input a number and then print the number multiplied by 2.\n",
    "\n",
    "# Tips: use the built-in function `input()`"
   ]
  },
  {
   "cell_type": "code",
   "execution_count": null,
   "metadata": {},
   "outputs": [],
   "source": [
    "# Esercise 8\n",
    "\n",
    "# Here is a dictionary with some food and the respective kcal:\n",
    "food = {\"apple\": 52, \"banana\": 89, \"milk\": 42, \"bread\": 265, \"butter\": 102, \"cheese\": 402}\n",
    "# Here is a dictionary with some activities and the burned kcal:\n",
    "activities = {\"running\": 100, \"swimming\": 200, \"cycling\": 300, \"walking\": 400, \"dancing\": 500}\n",
    "\n",
    "# Create a class called `Person` with the following attributes: food, activities, weight, eaten_calories, burned_calories\n",
    "# eaten_calories and burned_calories should be initialized with 0, the other attributes with arguments passed to __init__\n",
    "# The class should have the following methods: eat, live, update_weight\n",
    "# eat should take a string as argument and add the respective kcal to eaten_calories\n",
    "# live should take a string as argument and add the respective kcal to burned_calories\n",
    "# update_weight should update the weight of the person based on the formula: weight = weight + (eaten_calories - burned_calories) / 2\n",
    "\n",
    "# Uncomment the following line to create Bob:\n",
    "# bob = Person(food, activities, weight=80)\n",
    "\n",
    "# Bob eats two apples, a banana and drinks a glass of milk; then he goes running; then he eats a slice of bread with butter and cheese;\n",
    "# Print the final weight of Bob."
   ]
  },
  {
   "cell_type": "code",
   "execution_count": null,
   "metadata": {},
   "outputs": [],
   "source": [
    "# Exercise 9\n",
    "# Create a class called 'Student'.\n",
    "# Each object of the type 'Student' should have the following attributes: name, age, sex, favorite_color;\n",
    "# All the attributes should be initialized with arguments passed to __init__;\n",
    "# Each object of the type 'Student' should have the following methods: change_name, grow_up, change_sex, change_favorite_color;\n",
    "# The method change_name should take a string as argument and change the name of the student; the same for the other methods.\n",
    "\n",
    "# Create a class called 'Apartment'.\n",
    "# Each object of the type 'Apartment' should have the following attributes: max_name_len, minimum_age, required_sex, forbidden_colors;\n",
    "# All the attributes should be initialized with arguments passed to __init__;\n",
    "# Each object of the type 'Apartment' should have the following methods: add_student\n",
    "# The method add_student should take a student object as argument and add it to the apartment only if the student satisfies the following conditions:\n",
    "# the name of the student is shorter than max_name_len\n",
    "# the age of the student is greater than minimum_age\n",
    "# the sex of the student is equal to the required_sex\n",
    "# the favorite_color of the student is not in forbidden_colors\n",
    "# In the case in which the student satisfies all the conditions, the method should print \"STUDENT_NAME was accepted!\", \n",
    "# otherwise it should print \"STUDENT_NAME was rejected because of its UNMET_CONDITION\".\n",
    "\n",
    "# Uncomment and run the following code to test your classes\n",
    "# students = [Student(\"John\", 19, \"M\", \"blue\"), Student(\"Jane\", 22, \"F\", \"red\"), Student(\"Jack\", 21, \"M\", \"green\"), Student(\"Jill\", 23, \"F\", \"yellow\")]\n",
    "# apartment = Apartment(max_name_len=5, minimum_age=20, sex = 'F', forbidden_colors = ['red', 'green'])\n",
    "# apartment.add_student(students[0])\n",
    "# apartment.add_student(students[1])\n",
    "# apartment.add_student(students[2])\n",
    "# apartment.add_student(students[3])\n",
    "\n",
    "# Using the methods of the Student class, make all the students accepted by the apartment."
   ]
  },
  {
   "cell_type": "code",
   "execution_count": 67,
   "metadata": {
    "collapsed": false,
    "pycharm": {
     "name": "#%%\n"
    }
   },
   "outputs": [],
   "source": [
    "# Exercise 10\n",
    "# Create a program to play the \"Not Too Clever Game\".\n",
    "# The program should do the following:\n",
    "# 1. ask for the number of players, accepting a maximum of 5\n",
    "# 2. ask for the names of the players, accepting only strings\n",
    "# 3. ask each player to insert a number\n",
    "# 4. print the winner (the player who inserted the highest number)\n",
    "\n",
    "# Tips: Use the built-in function `input` to ask for user input. \n",
    "#       For point 2, use while loop, the keywords `continue`, `break`, and the built-in function `type` or `isistance`.\n",
    "\n",
    "# Challenge: make the program UNBREAKABLE"
   ]
  }
 ],
 "metadata": {
  "kernelspec": {
   "display_name": "Python 3",
   "language": "python",
   "name": "python3"
  },
  "language_info": {
   "codemirror_mode": {
    "name": "ipython",
    "version": 3
   },
   "file_extension": ".py",
   "mimetype": "text/x-python",
   "name": "python",
   "nbconvert_exporter": "python",
   "pygments_lexer": "ipython3",
   "version": "3.10.13"
  }
 },
 "nbformat": 4,
 "nbformat_minor": 0
}
