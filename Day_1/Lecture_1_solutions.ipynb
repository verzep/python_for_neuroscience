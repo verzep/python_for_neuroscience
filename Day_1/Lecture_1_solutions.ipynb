{
 "cells": [
  {
   "cell_type": "markdown",
   "metadata": {
    "collapsed": false,
    "pycharm": {
     "name": "#%% md\n"
    }
   },
   "source": [
    "# Exercises\n",
    "-------------------------------"
   ]
  },
  {
   "cell_type": "markdown",
   "metadata": {},
   "source": [
    "1. **Easy**: If we have `a=5` and `b=10` write a piece of code that swaps the values of `a` and `b` without using literals (the actual numbers `10` and `5`). The code should work for any arbitrary value `a` and `b` may take (assuming they are always integers). **Bonus**: can you do it in a single line?"
   ]
  },
  {
   "cell_type": "code",
   "execution_count": 69,
   "metadata": {},
   "outputs": [
    {
     "name": "stdout",
     "output_type": "stream",
     "text": [
      "10 5\n"
     ]
    }
   ],
   "source": [
    "a=5\n",
    "b=10\n",
    "#Code\n",
    "c=a\n",
    "a=b\n",
    "b=c\n",
    "print(a,b)\n",
    "#Code\n",
    "a,b=b,a\n",
    "print(a,b)"
   ]
  },
  {
   "cell_type": "markdown",
   "metadata": {},
   "source": [
    "**Explanation**: Using a third temporary variable allows us to not lose information. This is the conceptual cornerstone of swapping variables. The additional solution is specific to python, something that the language allows due to its rules, but also a valid swap."
   ]
  },
  {
   "cell_type": "markdown",
   "metadata": {},
   "source": [
    "2. **Easy**: Write a program that prints a triangle made of `*` of height `h`.\n",
    "\n",
    "Example:\n",
    "`h=5`\n",
    "\n",
    "`*`\n",
    "\n",
    "`**`\n",
    "\n",
    "`***`\n",
    "\n",
    "`****`\n",
    "\n",
    "`*****`"
   ]
  },
  {
   "cell_type": "code",
   "execution_count": 2,
   "metadata": {},
   "outputs": [
    {
     "name": "stdout",
     "output_type": "stream",
     "text": [
      "*\n",
      "**\n",
      "***\n",
      "****\n",
      "*****\n",
      "******\n",
      "*******\n",
      "********\n",
      "*********\n",
      "**********\n"
     ]
    }
   ],
   "source": [
    "h=10\n",
    "#Code\n",
    "for i in range (10):\n",
    "    print('*'*(i+1))"
   ]
  },
  {
   "cell_type": "markdown",
   "metadata": {},
   "source": [
    "**Explanation**: The simplest solution is easy to describe, we iterate over numbers until `height` and then we multiply a single asterisk character `'*'`."
   ]
  },
  {
   "cell_type": "markdown",
   "metadata": {},
   "source": [
    "3. **Easy**: Do the same as the previous problem, but now the triangle should go back in width until width zero once it has reached its maximum width. Careful with even heights!\n",
    "\n",
    "Example: `h=5`\n",
    "\n",
    "`*`\n",
    "\n",
    "`**`\n",
    "\n",
    "`***`\n",
    "\n",
    "`**`\n",
    "\n",
    "`*`"
   ]
  },
  {
   "cell_type": "code",
   "execution_count": 4,
   "metadata": {},
   "outputs": [
    {
     "name": "stdout",
     "output_type": "stream",
     "text": [
      "*\n",
      "**\n",
      "***\n",
      "****\n",
      "*****\n",
      "****\n",
      "***\n",
      "**\n",
      "*\n"
     ]
    }
   ],
   "source": [
    "h=10\n",
    "#Code\n",
    "ret=False\n",
    "lev=1\n",
    "while lev>=1:\n",
    "    print(lev*'*')\n",
    "    if lev>=h/2:\n",
    "        ret=True\n",
    "    if ret:\n",
    "        lev-=1\n",
    "    else :\n",
    "        lev+=1"
   ]
  },
  {
   "cell_type": "markdown",
   "metadata": {},
   "source": [
    "**Explanation**: There are many ways of approaching this problem, some of which include two loops. In my case I did it in a single loop. Can you understand how it works?"
   ]
  },
  {
   "cell_type": "markdown",
   "metadata": {},
   "source": [
    "4. **Easy** Write a function that prints out \"There is a vowel\" if there is a vowel in a given string or \"There are no vowels\" if there are no vowels. `'y'` is considered a vowel."
   ]
  },
  {
   "cell_type": "code",
   "execution_count": 71,
   "metadata": {},
   "outputs": [
    {
     "name": "stdout",
     "output_type": "stream",
     "text": [
      "There is no vowel\n"
     ]
    }
   ],
   "source": [
    "s1=\"Python for neurosciEnce\"\n",
    "s2=\"RSRSNTclwtht\"\n",
    "s3=\"MNBVCXwqklgmnprtqwsdfghjklCXwqklgmnprtqwsgmnprtqwsdfghjkMNBlMNBVCXwqklgmnprtqwsdfghjklCXwqklgmnprtqwsgmnprtqwsdfghjkMNBlMNBVCXwqklgmnprqtqwsdfghjklCXwqklgmnprtqwsqgmnprtqwsdfghjkMNBlMNBVCXwqklgmnprtqwsdfghjklCXwqklgmnprtqqqwsgmnprtqwsdfghjkMNBlMNBVCXwqklgmnprtqwsdfghjklCXwqklgmnprtqwsgmnprtqwsdfghjkMNBl\"\n",
    "s4=\"MNBVCXwqklgmnprtqwsdfghjklCXwqklgmnprtqwsgmnprtqwsdfghjkMNBlMNBVCXwqklgmnprtqwsdfghjklCXwqklgmnprtqwsgmnprtqwsdfghjkMNBlMNBVCXwqklgmnprtbqwsdfghjklCXwqkelgmnprtqwsgmnprtqwsdfghjkMNBlMNBVCXwqaklgmnprtqwsdfghjklCXwqklgmnprtqwsgmnprtqwsdfghjkMNBlMNBVCXwqklgmnprtqwsdfghjklCXwqklgmnprtqwsigmnprtqwsdfghjkMNBl\"\n",
    "#Code\n",
    "vowels=['a','e','i','o','u','y']\n",
    "cond=False\n",
    "for v in vowels:\n",
    "    if v in s2:\n",
    "        print(\"There is a vowel\")\n",
    "        cond=True\n",
    "        break\n",
    "if cond is False:\n",
    "    print(\"There is no vowel\")"
   ]
  },
  {
   "cell_type": "markdown",
   "metadata": {},
   "source": [
    "**Explanation**: There are two main approaches, iterating over the vowels or over the string, and checking if the chosen letter is in the other container. Then we have to deal witht the possibility that we did not find what we were looking for."
   ]
  },
  {
   "cell_type": "markdown",
   "metadata": {},
   "source": [
    "5. **Easy** Do the same, but now write a function that prints the position and the vowels that are contained. This can be in any format you want."
   ]
  },
  {
   "cell_type": "code",
   "execution_count": 73,
   "metadata": {},
   "outputs": [
    {
     "name": "stdout",
     "output_type": "stream",
     "text": [
      "[2, 5, 9, 13, 14, 16, 19, 23]\n"
     ]
    }
   ],
   "source": [
    "s1=\"Python for neurosciEnce\"\n",
    "s2=\"RSRSNTclwtht\"\n",
    "s3=\"MNBVCXwqklgmnprtqwsdfghjklCXwqklgmnprtqwsgmnprtqwsdfghjkMNBlMNBVCXwqklgmnprtqwsdfghjklCXwqklgmnprtqwsgmnprtqwsdfghjkMNBlMNBVCXwqklgmnprqtqwsdfghjklCXwqklgmnprtqwsqgmnprtqwsdfghjkMNBlMNBVCXwqklgmnprtqwsdfghjklCXwqklgmnprtqqqwsgmnprtqwsdfghjkMNBlMNBVCXwqklgmnprtqwsdfghjklCXwqklgmnprtqwsgmnprtqwsdfghjkMNBl\"\n",
    "s4=\"MNBVCXwqklgmnprtqwsdfghjklCXwqklgmnprtqwsgmnprtqwsdfghjkMNBlMNBVCXwqklgmnprtqwsdfghjklCXwqklgmnprtqwsgmnprtqwsdfghjkMNBlMNBVCXwqklgmnprtbqwsdfghjklCXwqkelgmnprtqwsgmnprtqwsdfghjkMNBlMNBVCXwqaklgmnprtqwsdfghjklCXwqklgmnprtqwsgmnprtqwsdfghjkMNBlMNBVCXwqklgmnprtqwsdfghjklCXwqklgmnprtqwsigmnprtqwsdfghjkMNBl\"\n",
    "vowels=['a','e','i','o','u','y']\n",
    "position_list=[]\n",
    "position=1\n",
    "for c in s1:\n",
    "    if c in vowels:\n",
    "        position_list.append(position)\n",
    "\n",
    "    position+=1\n",
    "print(position_list)"
   ]
  },
  {
   "cell_type": "markdown",
   "metadata": {},
   "source": [
    "**Explanation**: Now we need to get the positions, and for that, the best approach with what we know is to iterate over the string while keeping track of the position, to append it to a list in case we find a vowel."
   ]
  },
  {
   "cell_type": "markdown",
   "metadata": {},
   "source": [
    "6. **Intermediate** Write a program that prints out all the possible pairs between 1 and n, without repetitions, and only if the first number of the pair is greater than the second number."
   ]
  },
  {
   "cell_type": "code",
   "execution_count": 5,
   "metadata": {},
   "outputs": [
    {
     "name": "stdout",
     "output_type": "stream",
     "text": [
      "[(2, 1), (3, 1), (3, 2), (4, 1), (4, 2), (4, 3), (5, 1), (5, 2), (5, 3), (5, 4), (6, 1), (6, 2), (6, 3), (6, 4), (6, 5), (7, 1), (7, 2), (7, 3), (7, 4), (7, 5), (7, 6), (8, 1), (8, 2), (8, 3), (8, 4), (8, 5), (8, 6), (8, 7), (9, 1), (9, 2), (9, 3), (9, 4), (9, 5), (9, 6), (9, 7), (9, 8), (10, 1), (10, 2), (10, 3), (10, 4), (10, 5), (10, 6), (10, 7), (10, 8), (10, 9)]\n"
     ]
    }
   ],
   "source": [
    "n=10\n",
    "#Code\n",
    "nums=[]\n",
    "for i in range(n):\n",
    "    for j in range (i):\n",
    "        nums.append((i+1,j+1))\n",
    "\n",
    "print(nums)"
   ]
  },
  {
   "cell_type": "markdown",
   "metadata": {},
   "source": [
    "**Explanation**: The most simple solution is using two loops. Your solution might differ, but by making the second loop go until the value of the first loop you skip having to check for the values themselves."
   ]
  },
  {
   "cell_type": "markdown",
   "metadata": {},
   "source": [
    "7. **Intermediate** Given a list of numbers from $1$ to $n$, write a program that prints out a list of the prime numbers within the list in descending order"
   ]
  },
  {
   "cell_type": "code",
   "execution_count": 8,
   "metadata": {},
   "outputs": [
    {
     "name": "stdout",
     "output_type": "stream",
     "text": [
      "[23, 19, 17, 13, 11, 7, 5, 3, 2]\n"
     ]
    }
   ],
   "source": [
    "num_list=[6,7,13,3,2,5,11,8,9,4,12,14,15,17,16,23,22,21,20,19,18]\n",
    "primes=[]\n",
    "for num in num_list:\n",
    "    prime=True\n",
    "    for i in range(2,num):\n",
    "        if num%i==0:\n",
    "            prime=False\n",
    "    if prime:\n",
    "        primes.append(num)\n",
    "primes.sort()\n",
    "primes.reverse()\n",
    "print (primes)"
   ]
  },
  {
   "cell_type": "markdown",
   "metadata": {},
   "source": [
    "**Explanation**: This is a more mathematical problem, we check number divisibility above two and until the candidate number before adding it to the list. After getting a complete list, we sort it and reverse it to get the desired output."
   ]
  },
  {
   "cell_type": "markdown",
   "metadata": {},
   "source": [
    "8. **Intermediate** The Fibonacci series is a numerical series that is constructed by adding the two previous numbers of the series to get the current number. The series starts with `0, 1`, so the next element would be `0+1=1`, so we now have `0, 1, 1`, if we repeat a couple of times we have `0, 1, 1, 2, 3, 5, 8`. So the formula to calculate the $n^{th}$ number of the sequence is $a_n=a_{n-1}+a_{n-2}$ where $a_n$ is the $n^{th}$ number of the sequence.\n",
    "\n",
    "Using what you have learnt, write in a cell code that would print the Fibonacci series up to the $n^{th}$ number of the series, where $n$ is stored in variable `n`."
   ]
  },
  {
   "cell_type": "code",
   "execution_count": 11,
   "metadata": {},
   "outputs": [
    {
     "name": "stdout",
     "output_type": "stream",
     "text": [
      "0\n",
      "1\n",
      "1\n",
      "2\n",
      "3\n",
      "5\n",
      "8\n",
      "13\n",
      "21\n",
      "34\n",
      "55\n",
      "89\n",
      "144\n",
      "233\n",
      "377\n",
      "610\n",
      "987\n",
      "1597\n",
      "2584\n",
      "4181\n"
     ]
    }
   ],
   "source": [
    "n=20\n",
    "#Code\n",
    "x=1\n",
    "y=0\n",
    "z=0\n",
    "for i in range(n):\n",
    "    print(z)\n",
    "    z=x+y\n",
    "    x=y\n",
    "    y=z"
   ]
  },
  {
   "cell_type": "markdown",
   "metadata": {},
   "source": [
    "**Explanation**: Another mathematical problem. Here, you do not need to print the first 0,1,1; but bonus points if you did. The approach is simple: we add the previous numbers and then we move the adding numbers to advance in the sequence."
   ]
  },
  {
   "cell_type": "markdown",
   "metadata": {},
   "source": [
    "9. **Intermediate**: The famous FizzBuzz problem. Given a number `n`, print all numbers from `1` to `n`, each one in a new line, but with the following considerations:\n",
    "    - If the number is multiple of 3, instead of printing the number, print `\"Fizz\"`.\n",
    "    - If the number is multiple of 5, instead of printing the number, print `\"Buzz\"`.\n",
    "    - If the number is both multiple of 3 and 5, instead of printing the number, print `\"FizzBuzz\"`"
   ]
  },
  {
   "cell_type": "code",
   "execution_count": 12,
   "metadata": {},
   "outputs": [
    {
     "name": "stdout",
     "output_type": "stream",
     "text": [
      "1\n",
      "2\n",
      "Fizz\n",
      "4\n",
      "Buzz\n",
      "Fizz\n",
      "7\n",
      "8\n",
      "Fizz\n",
      "Buzz\n",
      "11\n",
      "Fizz\n",
      "13\n",
      "14\n",
      "FizzBuzz\n",
      "16\n",
      "17\n",
      "Fizz\n",
      "19\n",
      "Buzz\n"
     ]
    }
   ],
   "source": [
    "n=20\n",
    "for i in range (n):\n",
    "    i+=1\n",
    "    if i%3==0 and i%5==0:\n",
    "        print(\"FizzBuzz\")\n",
    "    elif i%3==0:\n",
    "        print(\"Fizz\")\n",
    "    elif i%5==0:\n",
    "        print(\"Buzz\")\n",
    "    else:\n",
    "        print(i)"
   ]
  },
  {
   "cell_type": "markdown",
   "metadata": {},
   "source": [
    "**Explanation**: Any solution that works here is okay. First, checking what combination of divisibility and printing the desired output is the correct approach."
   ]
  },
  {
   "cell_type": "markdown",
   "metadata": {},
   "source": [
    "10. **Advanced**: SKIP THIS PROBLEM\n",
    "Write a program that answers the following question for any arbitrary (lowercase) character:\n",
    "\n",
    "    **If we have a list of characters from `\"a\"` to another arbitrary character that is a part of the alphabet (e.g. from `\"a\"` to `\"z\"` would be the entire alphabet), and you are only allowed to increase a character to the next one (e.g. from `\"a\"` to `\"b\"`) one at a time, and only once every time you iterate over the whole list, how many times would you have to increase a character to reach letter `\"z\"`?**\n",
    "\n",
    "    For example, the list from `\"a\"` to `\"y\"` will need to increase every character once to reach `\"z\"` (`\"y\"`->`\"z\"`), so the answer would be 25.\n"
   ]
  },
  {
   "cell_type": "code",
   "execution_count": 13,
   "metadata": {},
   "outputs": [
    {
     "name": "stdout",
     "output_type": "stream",
     "text": [
      "25\n"
     ]
    }
   ],
   "source": [
    "final_letter=\"y\"\n",
    "mylist=[chr(i+97) for i in range (ord(final_letter[0])-96)] #Do not mind this line, it will just provide you with the list of characters for the problem\n",
    "\n",
    "\n",
    "#To increase a character, run the following line\n",
    "mylist[0]=chr(ord(mylist[0])+1)  \n",
    "\n",
    "#Code\n",
    "target='z'\n",
    "print((ord(target)-ord(final_letter))*len(mylist))"
   ]
  },
  {
   "cell_type": "markdown",
   "metadata": {},
   "source": [
    "**Explanation**: I did not realize when I wrote this problem, but the solution is trivial, and the problem is not very well explained. Bonus points if you understand the solution, but do not waste too much time here."
   ]
  },
  {
   "cell_type": "markdown",
   "metadata": {},
   "source": [
    "11. **Advanced** You have two lists of integers, `keys` and `values`. The contents of `keys` are unique, but unsorted, while the values of `values` are neither unique nor sorted. Write a program that sorts both `keys` and `values` according to the sorting of `keys`. This means that the pairs`values[i]:keys[i]` should remain constant from before to after you run the program. The only thing that should change is how those pairs are ordered in the two lists."
   ]
  },
  {
   "cell_type": "code",
   "execution_count": 15,
   "metadata": {},
   "outputs": [
    {
     "name": "stdout",
     "output_type": "stream",
     "text": [
      "[0, 1, 2, 3, 4, 5, 6, 7, 8, 9, 10]\n",
      "[10, 5, 5, 2, 3, 9, 2, 5, 8, 0, 1]\n"
     ]
    }
   ],
   "source": [
    "keys=[9,2,1,3,4,5,8,7,6,10,0]\n",
    "values=[0,5,5,2,3,9,8,5,2,1,10]\n",
    "new_keys=keys.copy()\n",
    "new_keys.sort()\n",
    "new_values=[]\n",
    "for i in new_keys:\n",
    "    new_values.append(values[keys.index(i)])\n",
    "print(new_keys)\n",
    "print(new_values)"
   ]
  },
  {
   "cell_type": "markdown",
   "metadata": {},
   "source": [
    "**Explanation**: The idea here is to keep the order. To do so we keep the original arrangement to access the proper relationship between elements, and then we construct a new pair of lists based on this concept."
   ]
  },
  {
   "cell_type": "code",
   "execution_count": null,
   "metadata": {},
   "outputs": [
    {
     "name": "stdout",
     "output_type": "stream",
     "text": [
      "Wrong method\n",
      "[[2024, 2, 3], [2024, 2, 3], [2024, 2, 3]]\n",
      "[[2024, 2, 3], [2024, 2, 3], [2024, 2, 3]]\n",
      "Also wrong method\n",
      "[[2024, 2, 3], [1, 2, 3], [1, 2, 3]]\n",
      "[[2024, 2, 3], [1, 2, 3], [1, 2, 3]]\n",
      "Proper method\n",
      "[[2024, 2, 3], [1, 2, 3], [1, 2, 3]]\n",
      "[[1, 2, 3], [1, 2, 3], [1, 2, 3]]\n"
     ]
    }
   ],
   "source": [
    "mylist=[1,2,3]\n",
    "nested=[]\n",
    "for i in range(3):\n",
    "    nested.append(mylist)\n",
    "nested_copy=nested.copy()\n",
    "nested[0][0]=2024\n",
    "print(\"Wrong method\")\n",
    "print(nested)\n",
    "print(nested_copy)\n",
    "\n",
    "#Also wrong\n",
    "\n",
    "mylist=[1,2,3]\n",
    "nested=[]\n",
    "for i in range(3):\n",
    "    nested.append(mylist.copy())\n",
    "nested_copy=nested.copy()\n",
    "nested[0][0]=2024\n",
    "print(\"Also wrong method\")\n",
    "print(nested)\n",
    "print(nested_copy)\n",
    "\n",
    "#Properly done\n",
    "import copy\n",
    "mylist=[1,2,3]\n",
    "nested=[]\n",
    "for i in range(3):\n",
    "    nested.append(mylist.copy())\n",
    "nested_copy=copy.deepcopy(nested) #You need to do a deep copy, i.e., to recursively copy every element at every level, creating a new variable for each\n",
    "nested[0][0]=2024\n",
    "print(\"Proper method\")\n",
    "print(nested)\n",
    "print(nested_copy)"
   ]
  },
  {
   "cell_type": "markdown",
   "metadata": {},
   "source": [
    "**Bonus exercise**: What is wrong with the second method of list copying? You might want to use the `hex(id())` functions to identify the problem."
   ]
  },
  {
   "cell_type": "code",
   "execution_count": 18,
   "metadata": {},
   "outputs": [
    {
     "name": "stdout",
     "output_type": "stream",
     "text": [
      "Also wrong method\n",
      "[[2024, 2, 3], [1, 2, 3], [1, 2, 3]]\n",
      "[[2024, 2, 3], [1, 2, 3], [1, 2, 3]]\n",
      "0x248f7f83b40\n",
      "0x248f7f83b40\n"
     ]
    }
   ],
   "source": [
    "mylist=[1,2,3]\n",
    "nested=[]\n",
    "for i in range(3):\n",
    "    nested.append(mylist.copy())\n",
    "nested_copy=nested.copy()\n",
    "nested[0][0]=2024\n",
    "print(\"Also wrong method\")\n",
    "print(nested)\n",
    "print(nested_copy)\n",
    "\n",
    "print(hex(id(nested[0])))\n",
    "print(hex(id(nested_copy[0])))\n",
    "#The inside lists have the same address, they are the same"
   ]
  },
  {
   "cell_type": "markdown",
   "metadata": {},
   "source": [
    "**Bonus exercise**: Make a list of lists where each sub-list has the numbers between 0 to the position of the sub-list within the list."
   ]
  },
  {
   "cell_type": "code",
   "execution_count": 1,
   "metadata": {},
   "outputs": [
    {
     "name": "stdout",
     "output_type": "stream",
     "text": [
      "[[1], [1, 2], [1, 2, 3], [1, 2, 3, 4], [1, 2, 3, 4, 5]]\n"
     ]
    }
   ],
   "source": [
    "higher=[]\n",
    "n=5\n",
    "for i in range(n):\n",
    "    lower=[]\n",
    "    for j in range(i+1):\n",
    "        lower.append(j+1)\n",
    "    higher.append(lower)\n",
    "print(higher)\n",
    "#We append a list to which we append numbers up until its own index."
   ]
  }
 ],
 "metadata": {
  "kernelspec": {
   "display_name": "Python 3",
   "language": "python",
   "name": "python3"
  },
  "language_info": {
   "codemirror_mode": {
    "name": "ipython",
    "version": 3
   },
   "file_extension": ".py",
   "mimetype": "text/x-python",
   "name": "python",
   "nbconvert_exporter": "python",
   "pygments_lexer": "ipython3",
   "version": "3.11.3"
  }
 },
 "nbformat": 4,
 "nbformat_minor": 0
}
