{
 "cells": [
  {
   "cell_type": "markdown",
   "metadata": {},
   "source": [
    "## 3.1 Coding exercises on Variables and Datatype"
   ]
  },
  {
   "cell_type": "code",
   "execution_count": 4,
   "metadata": {},
   "outputs": [
    {
     "name": "stdout",
     "output_type": "stream",
     "text": [
      "Sum: 49\n",
      "Difference: -15\n",
      "Product: 544\n",
      "150\n",
      "<class 'int'>\n",
      "True\n",
      "P\n",
      "n\n",
      "PYTHON\n",
      "Movie List: ['Inception', 'Interstellar', 'The Dark Knight', 'The Matrix', 'Shutter Island']\n",
      "2nd movie: Interstellar\n",
      "3rd movie: The Dark Knight\n",
      "Total movies: 5\n"
     ]
    }
   ],
   "source": [
    "\n",
    "# Coding exericese 3.1.1\n",
    "\n",
    "# Create two integer variables a and b\n",
    "# Assign values to them and calculate their sum, difference, and product.\n",
    "# Print the results.\n",
    "# ============================\n",
    "a = 17\n",
    "b = 32\n",
    "\n",
    "print(\"Sum:\", a + b)\n",
    "print(\"Difference:\", a - b)\n",
    "print(\"Product:\", a * b)\n",
    "# ============================\n",
    "# ============================\n",
    "# Coding exericese 3.1.2\n",
    "\n",
    "# Create a variable x = \"100\"\n",
    "# Convert x to an integer and add 50 to it.\n",
    "# Print the result and its type.\n",
    "# ============================\n",
    "x = \"100\"\n",
    "x = int(x)\n",
    "result = x + 50\n",
    "\n",
    "print(result)        # 150\n",
    "print(type(result))  # <class 'int'>\n",
    "# ============================\n",
    "# ============================\n",
    "# Coding exercise 3.1.3\n",
    "# Create two variables: score = 85 and passing_score = 60\n",
    "# Create a boolean variable called passed that checks if score is greater than or equal to passing_score\n",
    "# Print the result\n",
    "# ============================\n",
    "score = 85\n",
    "passing_score = 60\n",
    "\n",
    "passed = score >= passing_score\n",
    "\n",
    "print(passed)  # True\n",
    "# ============================\n",
    "# ============================\n",
    "# Coding exercise 3.1.4\n",
    "\n",
    "# Create a variable called 'language' with value \"Python\"\n",
    "# Print the first and last characters of the string\n",
    "# Convert it to uppercase and print it\n",
    "# ============================\n",
    "language = \"Python\"\n",
    "\n",
    "print(language[0])       # 'P'\n",
    "print(language[-1])      # 'n'\n",
    "print(language.upper())  # 'PYTHON'\n",
    "# ============================\n",
    "# ============================\n",
    "# Coding exercise 3.1.5\n",
    "\n",
    "# Create a list of 3 of your favorite movies\n",
    "# Add two more movies to the list\n",
    "# Print the list, movies at 2nd and 3rd position in the list and the length of the list\n",
    "# ============================\n",
    "movies = [\"Inception\", \"Interstellar\", \"The Dark Knight\"]\n",
    "movies.append(\"The Matrix\")\n",
    "movies.append(\"Shutter Island\")\n",
    "\n",
    "print(\"Movie List:\", movies)\n",
    "print(\"2nd movie:\", movies[1])\n",
    "print(\"3rd movie:\", movies[2])\n",
    "print(\"Total movies:\", len(movies))\n",
    "# ============================"
   ]
  },
  {
   "cell_type": "markdown",
   "metadata": {},
   "source": [
    "## 4.1 Coding exercises on Operators\n",
    "### In the cell below, there are some coding problems for you to solve in order to practice the concept of operators in python. Give them a try!!"
   ]
  },
  {
   "cell_type": "code",
   "execution_count": 3,
   "metadata": {},
   "outputs": [
    {
     "name": "stdout",
     "output_type": "stream",
     "text": [
      "Sum: 19\n",
      "Difference: 11\n",
      "Product: 60\n",
      "Quotient: 3.75\n",
      "Remainder: 3\n",
      "Area of circle: 153.93791\n",
      "Temperature in Fahrenheit: 97.88000000000001\n",
      "Compound Interest: 102.5\n",
      "Odd\n",
      "Maximum number: 25\n",
      "5^3 = 125\n",
      "Square root of 81 = 9.0\n",
      "Seconds in a day: 86400\n",
      "First 6 characters: Python\n",
      "Last 5 characters: mming\n",
      "Characters from index 2 to 8: thonPro\n",
      "Reversed string: nnoBytisrevinU\n",
      "Occurrences of 'a': 5\n",
      "Sorted list: ['Greece', 'Italy', 'Japan', 'Spain', 'USA']\n",
      "Reversed list: ['USA', 'Spain', 'Japan', 'Italy', 'Greece']\n",
      "Max: 9\n",
      "Min: 2\n",
      "Sum: 25\n",
      "Average: 5.0\n"
     ]
    }
   ],
   "source": [
    "# 4.1.1. \n",
    "# Take two numbers a and b.\n",
    "# Print their sum, difference, product, quotient, and remainder.\n",
    "\n",
    "a = 15\n",
    "b = 4\n",
    "print(\"Sum:\", a + b)\n",
    "print(\"Difference:\", a - b)\n",
    "print(\"Product:\", a * b)\n",
    "print(\"Quotient:\", a / b)\n",
    "print(\"Remainder:\", a % b)\n",
    "\n",
    "# 4.1.2. \n",
    "# Given: radius = 7\n",
    "# Calculate and print the area of the circle using: area = π * r^2\n",
    "# Use π = 3.14159\n",
    "\n",
    "radius = 7\n",
    "pi = 3.14159\n",
    "area = pi * radius ** 2\n",
    "print(\"Area of circle:\", area)\n",
    "\n",
    "# 4.1.3. \n",
    "# Convert temp_celsius = 36.6 to Fahrenheit.\n",
    "# Use the formula: F = C * 9/5 + 32\n",
    "temp_celsius = 36.6\n",
    "temp_fahrenheit = temp_celsius * 9 / 5 + 32\n",
    "print(\"Temperature in Fahrenheit:\", temp_fahrenheit)\n",
    "\n",
    "\n",
    "# 4.1.4 \n",
    "# Given: principal (P) = 1000, rate (R) = 5, time (T) = 2\n",
    "# Calculate compound interest using: CI = P * (1 + R/100)^T - P\n",
    "principal = 1000\n",
    "rate = 5\n",
    "time = 2\n",
    "amount = principal * (1 + rate / 100) ** time\n",
    "compound_interest = amount - principal\n",
    "print(\"Compound Interest:\", compound_interest)\n",
    "\n",
    "# 4.1.5. \n",
    "# Given a number n, print whether it is even or odd.\n",
    "n = 7\n",
    "if n % 2 == 0:\n",
    "    print(\"Even\")\n",
    "else:\n",
    "    print(\"Odd\")\n",
    "\n",
    "\n",
    "# 4.1.6. \n",
    "# Take three numbers and print the largest one.\n",
    "x, y, z = 10, 25, 17\n",
    "print(\"Maximum number:\", max(x, y, z))\n",
    "\n",
    "# 4.1.7. \n",
    "# Calculate 5 raised to the power of 3.\n",
    "# Calculate the square root of 81 using ** 0.5.\n",
    "\n",
    "print(\"5^3 =\", 5 ** 3)\n",
    "print(\"Square root of 81 =\", 81 ** 0.5)\n",
    "\n",
    "# 4.1.8. \n",
    "# Calculate and print how many seconds there are in one day.\n",
    "seconds_in_day = 24 * 60 * 60\n",
    "print(\"Seconds in a day:\", seconds_in_day)\n",
    "\n",
    "\n",
    "# 4.1.9. \n",
    "# From the string \"PythonProgramming\", print:\n",
    "# - the first 6 characters\n",
    "# - the last 5 characters\n",
    "# - characters from index 2 to 8\n",
    "s = \"PythonProgramming\"\n",
    "print(\"First 6 characters:\", s[:6])\n",
    "print(\"Last 5 characters:\", s[-5:])\n",
    "print(\"Characters from index 2 to 8:\", s[2:9])\n",
    "\n",
    "# 4.1.10 \n",
    "# Given a string \"UniversityBonn\", print it in reverse order.\n",
    "string = \"UniversityBonn\"\n",
    "print(\"Reversed string:\", string[::-1])\n",
    "\n",
    "# 4.1.11. \n",
    "# Count how many times the letter \"a\" appears in the string \"banana apple mango\".\n",
    "\n",
    "text = \"banana apple mango\"\n",
    "count_a = text.count('a')\n",
    "print(\"Occurrences of 'a':\", count_a)\n",
    "\n",
    "\n",
    "# 4.1.12.\n",
    "# creat a list of 5 favourite countries of yours.\n",
    "# Sort the list in alphabetical order and print it.\n",
    "# Then reverse the sorted list and print it again.\n",
    "countries = [\"Japan\", \"USA\", \"Greece\", \"Italy\", \"Spain\"]\n",
    "countries.sort()\n",
    "print(\"Sorted list:\", countries)\n",
    "countries.reverse()\n",
    "print(\"Reversed list:\", countries)\n",
    "\n",
    "# 4.1.13. \n",
    "# Create a list of numbers: [3, 7, 2, 9, 4]\n",
    "# Print:\n",
    "# - the max number\n",
    "# - the min number\n",
    "# - the sum of all numbers\n",
    "# - the average\n",
    "\n",
    "numbers = [3, 7, 2, 9, 4]\n",
    "print(\"Max:\", max(numbers))\n",
    "print(\"Min:\", min(numbers))\n",
    "print(\"Sum:\", sum(numbers))\n",
    "print(\"Average:\", sum(numbers) / len(numbers))"
   ]
  },
  {
   "cell_type": "markdown",
   "metadata": {},
   "source": [
    "## 5.1 Coding exercises on Conditions\n",
    "### In the cell below, there are some coding problems for you to solve in order to practice the concept of conditions in python. Give them a try!!"
   ]
  },
  {
   "cell_type": "code",
   "execution_count": 5,
   "metadata": {},
   "outputs": [
    {
     "name": "stdout",
     "output_type": "stream",
     "text": [
      "Leap year\n",
      "Adult\n",
      "welcome123: Strong password\n",
      "abc: Weak password\n",
      "PythonRocks9: Strong password\n",
      "password: Weak password\n",
      "Code2025: Strong password\n",
      "Not a valid triangle\n",
      "Even and divisible by 3\n"
     ]
    }
   ],
   "source": [
    "# 5.1.1. \n",
    "# Take a year, check if it's a leap year and print it:\n",
    "# - Leap year if divisible by 4\n",
    "# - Not a leap year if divisible by 100 but not 400\n",
    "year = 2024\n",
    "\n",
    "if (year % 4 == 0 and year % 100 != 0) or (year % 400 == 0):\n",
    "    print(\"Leap year\")\n",
    "else:\n",
    "    print(\"Not a leap year\")\n",
    "\n",
    "# 5.1.2.\n",
    "# Take an age and print the classifcation:\n",
    "# - \"Child\" if age < 13\n",
    "# - \"Teenager\" if 13 <= age < 20\n",
    "# - \"Adult\" if 20 <= age < 60\n",
    "# - \"Senior\" if age >= 60\n",
    "age = 45\n",
    "\n",
    "if age < 13:\n",
    "    print(\"Child\")\n",
    "elif age < 20:\n",
    "    print(\"Teenager\")\n",
    "elif age < 60:\n",
    "    print(\"Adult\")\n",
    "else:\n",
    "    print(\"Senior\")\n",
    "\n",
    "# 5.1.3\n",
    "# give a password string:\n",
    "# - Print \"Strong\" if it has at least 8 characters and includes a digit\n",
    "# - Otherwise, print \"Weak\"\n",
    "# print which of these passwords from the list: [ \"welcome123\", \"abc\",  \"PythonRocks9\", \"password\", \"Code2025\"] are strong and which ones are week\n",
    "passwords = [\n",
    "    \"welcome123\",     # Strong\n",
    "    \"abc\",            # Weak (too short, no digit)\n",
    "    \"PythonRocks9\",   # Strong\n",
    "    \"password\",       # Weak (no digit)\n",
    "    \"Code2025\"        # Strong\n",
    "]\n",
    "\n",
    "for pwd in passwords:\n",
    "    if len(pwd) >= 8 and any(char.isdigit() for char in pwd):\n",
    "        print(f\"{pwd}: Strong password\")\n",
    "    else:\n",
    "        print(f\"{pwd}: Weak password\")\n",
    "\n",
    "\n",
    "# 5.1.4\n",
    "# Take three side lengths (a, b, c) and determine:\n",
    "# - \"Equilateral\" if all sides are equal\n",
    "# - \"Isosceles\" if two sides are equal\n",
    "# - \"Scalene\" if all sides are different\n",
    "# - Also check: can they form a triangle? (sum of any 2 sides must be greater than the third)\n",
    "\n",
    "a, b, c = 5, 5, 15\n",
    "\n",
    "if a + b > c and a + c > b and b + c > a:\n",
    "    if a == b == c:\n",
    "        print(\"Equilateral triangle\")\n",
    "    elif a == b or b == c or a == c:\n",
    "        print(\"Isosceles triangle\")\n",
    "    else:\n",
    "        print(\"Scalene triangle\")\n",
    "else:\n",
    "    print(\"Not a valid triangle\")\n",
    "\n",
    "\n",
    "# 5.1.5\n",
    "# Odd or Even & Divisible by 3\n",
    "# Take a number and print:\n",
    "# - \"Even and divisible by 3\"\n",
    "# - \"Even but not divisible by 3\"\n",
    "# - \"Odd and divisible by 3\"\n",
    "# - \"Odd and not divisible by 3\"\n",
    "\n",
    "n = 12\n",
    "\n",
    "if n % 2 == 0:\n",
    "    if n % 3 == 0:\n",
    "        print(\"Even and divisible by 3\")\n",
    "    else:\n",
    "        print(\"Even but not divisible by 3\")\n",
    "else:\n",
    "    if n % 3 == 0:\n",
    "        print(\"Odd and divisible by 3\")\n",
    "    else:\n",
    "        print(\"Odd and not divisible by 3\")\n"
   ]
  },
  {
   "cell_type": "markdown",
   "metadata": {},
   "source": [
    "## 6.1 Coding exercises on Loops\n",
    "### In the cell below, there are some coding problems for you to solve in order to practice the concept of Looping in python. Give them a try!!"
   ]
  },
  {
   "cell_type": "code",
   "execution_count": 7,
   "metadata": {},
   "outputs": [
    {
     "name": "stdout",
     "output_type": "stream",
     "text": [
      "11\n",
      "13\n",
      "17\n",
      "19\n",
      "23\n",
      "29\n",
      "31\n",
      "37\n",
      "41\n",
      "43\n",
      "47\n",
      "Sum of digits: 10\n",
      "Duplicates: [2, 1]\n",
      "Common elements: [2, 9, 8, 5]\n",
      "Flattened list: [1, 2, 3, 4, 5]\n",
      "Number of strong passwords: 5\n",
      "Index of max element: 4\n"
     ]
    }
   ],
   "source": [
    "# 6.1.1.\n",
    "# Print all prime numbers between 10 and 50 using a for loop.\n",
    "\n",
    "for num in range(10, 51):\n",
    "    if num > 1:\n",
    "        for i in range(2, num):\n",
    "            if num % i == 0:\n",
    "                break\n",
    "        else:\n",
    "            print(num)\n",
    "\n",
    "\n",
    "# 6.1.2. \n",
    "# Take a number (e.g. 1234), use a loop to calculate the sum of its digits.\n",
    "\n",
    "number = 1234\n",
    "digit_sum = 0\n",
    "\n",
    "for digit in str(number):\n",
    "    digit_sum += int(digit)\n",
    "\n",
    "print(\"Sum of digits:\", digit_sum)\n",
    "\n",
    "\n",
    "# 6.1.3\n",
    "# Take a list like [1, 2, 3, 2, 4, 5, 1], print the duplicate elements (each only once).\n",
    "lst = [1, 2, 3, 2, 4, 5, 1]\n",
    "duplicates = []\n",
    "\n",
    "for i in range(len(lst)):\n",
    "    if lst[i] in lst[:i] and lst[i] not in duplicates:\n",
    "        duplicates.append(lst[i])\n",
    "\n",
    "print(\"Duplicates:\", duplicates)\n",
    "\n",
    "# 6.1.4\n",
    "# Given two lists below,  print the elements they have in common.\n",
    "\n",
    "list1 = [1,2,13,9,8,17,5,72,18]\n",
    "list2 = [2,5,8,63,9,20,76] \n",
    "\n",
    "common_elements = []\n",
    "\n",
    "for elem in list1:\n",
    "    if elem in list2:\n",
    "        common_elements.append(elem)\n",
    "\n",
    "print(\"Common elements:\", common_elements)\n",
    "\n",
    "# 6.1.5. \n",
    "# Given a nested list like [[1, 2], [3, 4], [5]], flatten it to a single list: [1, 2, 3, 4, 5]\n",
    "nested_list = [[1, 2], [3, 4], [5]]\n",
    "flat_list = []\n",
    "\n",
    "for sublist in nested_list:\n",
    "    for item in sublist:\n",
    "        flat_list.append(item)\n",
    "\n",
    "print(\"Flattened list:\", flat_list)\n",
    "\n",
    "# 6.1.6.\n",
    "# Given a list of passwords, count how many are strong based on:\n",
    "# - Length ≥ 8\n",
    "# - Contains digit\n",
    "# - Contains uppercase letter\n",
    "passwords =  [ \"Welcome123\", \"12345\",   \"PythonRocks9\", \"password\", \"Code2025\",\"qwerty\", \"P@ssw0rd123\",   \"short\",  \"SecurePass1\",    \"1234abcd\"  ]\n",
    "\n",
    "strong_count = 0\n",
    "\n",
    "for pwd in passwords:\n",
    "    if len(pwd) >= 8 and any(char.isdigit() for char in pwd) and any(char.isupper() for char in pwd):\n",
    "        strong_count += 1\n",
    "\n",
    "print(\"Number of strong passwords:\", strong_count)\n",
    "\n",
    "\n",
    "# 6.1.7 \n",
    "# Find and print the index of the maximum value in a list (without using `max()` or `index()`).\n",
    "lst = [10, 20, 4, 45, 99]\n",
    "max_value = lst[0]\n",
    "max_index = 0\n",
    "\n",
    "for i in range(1, len(lst)):\n",
    "    if lst[i] > max_value:\n",
    "        max_value = lst[i]\n",
    "        max_index = i\n",
    "\n",
    "print(\"Index of max element:\", max_index)\n"
   ]
  },
  {
   "cell_type": "markdown",
   "metadata": {},
   "source": [
    "## 7.1 Coding exercises on dictionaries in Python\n",
    "### In the cell below, there are some coding problems for you to solve in order to practice the concept of dictionaries in python. Give them a try!!"
   ]
  },
  {
   "cell_type": "code",
   "execution_count": null,
   "metadata": {},
   "outputs": [],
   "source": [
    "# 7.1.1. \n",
    "# Create a dictionary of 3 students and their grades for two subjects (e.g. math, chemistry).\n",
    "# Access and print the grade of one student.\n",
    "students = {\n",
    "    \"Alice\": {\"Math\": 90, \"Chemistry\": 85},\n",
    "    \"Bob\": {\"Math\": 78, \"Chemistry\": 88},\n",
    "    \"Charlie\": {\"Math\": 85, \"Chemistry\": 80}\n",
    "}\n",
    "print(\"Bob's Chemistry grade:\", students[\"Bob\"][\"Chemistry\"])\n",
    "# 7.1.2. \n",
    "# Add a new student to the dictionary.\n",
    "# Update the grade of an existing student.\n",
    "students[\"Diana\"] = {\"Math\": 92, \"Chemistry\": 89}  # Add new student\n",
    "students[\"Alice\"][\"Math\"] = 95  # Update grade\n",
    "print(\"Updated Alice:\", students[\"Alice\"])\n",
    "# 7.1.3. \n",
    "# Remove one student from the dictionary using del.\n",
    "del students[\"Charlie\"]\n",
    "print(\"After deleting Charlie:\", students)\n",
    "# 7.1.4. \n",
    "# Print all student names and their grades using a for loop.\n",
    "for name, grades in students.items():\n",
    "    print(f\"{name} -> Math: {grades['Math']}, Chemistry: {grades['Chemistry']}\")\n",
    "\n",
    "\n",
    "# 7.1.5. \n",
    "# Given a string, count how many times each word appears using a dictionary.\n",
    "text = \"apple banana apple orange banana apple\"\n",
    "word_counts = {}\n",
    "for word in text.split():\n",
    "    word_counts[word] = word_counts.get(word, 0) + 1\n",
    "print(\"Word Frequencies:\", word_counts)\n",
    "# 7.1.6. \n",
    "# Print how many students are currently in the dictionary.\n",
    "print(\"Number of students:\", len(students))\n",
    "# 7.1.7.\n",
    "# Check whether a specific student is in the dictionary.\n",
    "if \"Ethan\" in students:\n",
    "    print(\"Ethan is in the dictionary.\")\n",
    "else:\n",
    "    print(\"Ethan is not in the dictionary.\")\n",
    "\n",
    "# 7.1.8. \n",
    "# Merge the given dictionaries into one.\n",
    "dict1 = {\n",
    "    \"Alice\": 85,\n",
    "    \"Bob\": 92,\n",
    "    \"Charlie\": 78\n",
    "}\n",
    "\n",
    "dict2 = {\n",
    "    \"Diana\": 88,\n",
    "    \"Ethan\": 91,\n",
    "    \"Fiona\": 84\n",
    "}\n",
    "merged_dict = {**dict1, **dict2}\n",
    "print(\"Merged Dictionary:\", merged_dict)\n",
    "# 7.1.9. \n",
    "# create a dictionary of {country: capital}, create {capital: country}.\n",
    "# Assume all values are unique.\n",
    "\n",
    "# 7.1.10. \n",
    "# Given a dictionary of student names and their scores, calculate the average score."
   ]
  },
  {
   "cell_type": "markdown",
   "metadata": {},
   "source": [
    "## 8.1 Coding exercises on functions in Python\n",
    "### In the cell below, there are some coding problems for you to solve in order to practice the concept of functions in python. Give them a try!!\n"
   ]
  },
  {
   "cell_type": "code",
   "execution_count": 2,
   "metadata": {},
   "outputs": [],
   "source": [
    "# 8.1.1.\n",
    "# Write a function `factorial(n)` that returns the factorial of a number using a loop.\n",
    "def factorial(n):\n",
    "    result = 1\n",
    "    for i in range(2, n + 1):\n",
    "        result *= i\n",
    "    return result\n",
    "\n",
    "# 8.1.2. \n",
    "# Write a function `is_palindrome(word)` that returns True if the word is a palindrome.\n",
    "def is_palindrome(word):\n",
    "    return word == word[::-1]\n",
    "# 8.1.3. \n",
    "# Write a function `fibonacci(n)` that returns the first n numbers in the Fibonacci sequence.\n",
    "def fibonacci(n):\n",
    "    sequence = []\n",
    "    a, b = 0, 1\n",
    "    for _ in range(n):\n",
    "        sequence.append(a)\n",
    "        a, b = b, a + b\n",
    "    return sequence\n",
    "# 8.1.4\n",
    "# Write a function `is_prime(n)` that returns True if n is a prime number.\n",
    "def is_prime(n):\n",
    "    if n <= 1:\n",
    "        return False\n",
    "    for i in range(2, int(n**0.5) + 1):\n",
    "        if n % i == 0:\n",
    "            return False\n",
    "    return True\n",
    "# 8.1.5.\n",
    "# Write a function `custom_split(text, delimiter)` that splits a string without using `str.split()`.\n",
    "# example: function  custom_split(text = \"apple,banana,grape\", delimiter = \",\") should return ['apple', 'banana', 'grape']\n",
    "\n",
    "def custom_split(text, delimiter):\n",
    "    result = []\n",
    "    temp = \"\"\n",
    "    \n",
    "    for char in text:\n",
    "        if char == delimiter:\n",
    "            result.append(temp)\n",
    "            temp = \"\"\n",
    "        else:\n",
    "            temp += char\n",
    "\n",
    "    result.append(temp)  # add last part\n",
    "    return result"
   ]
  },
  {
   "cell_type": "markdown",
   "metadata": {
    "collapsed": false,
    "pycharm": {
     "name": "#%% md\n"
    }
   },
   "source": [
    "# Exercises\n",
    "-------------------------------"
   ]
  },
  {
   "cell_type": "markdown",
   "metadata": {},
   "source": [
    "1. **Easy**: If we have `a=5` and `b=10` write a piece of code that swaps the values of `a` and `b` without using literals (the actual numbers `10` and `5`). The code should work for any arbitrary value `a` and `b` may take (assuming they are always integers). **Bonus**: can you do it in a single line?"
   ]
  },
  {
   "cell_type": "code",
   "execution_count": 69,
   "metadata": {},
   "outputs": [
    {
     "name": "stdout",
     "output_type": "stream",
     "text": [
      "10 5\n"
     ]
    }
   ],
   "source": [
    "a=5\n",
    "b=10\n",
    "#Code\n",
    "c=a\n",
    "a=b\n",
    "b=c\n",
    "print(a,b)\n",
    "#Code\n",
    "a,b=b,a\n",
    "print(a,b)"
   ]
  },
  {
   "cell_type": "markdown",
   "metadata": {},
   "source": [
    "**Explanation**: Using a third temporary variable allows us to not lose information. This is the conceptual cornerstone of swapping variables. The additional solution is specific to python, something that the language allows due to its rules, but also a valid swap."
   ]
  },
  {
   "cell_type": "markdown",
   "metadata": {},
   "source": [
    "2. **Easy**: Write a program that prints a triangle made of `*` of height `h`.\n",
    "\n",
    "Example:\n",
    "`h=5`\n",
    "\n",
    "`*`\n",
    "\n",
    "`**`\n",
    "\n",
    "`***`\n",
    "\n",
    "`****`\n",
    "\n",
    "`*****`"
   ]
  },
  {
   "cell_type": "code",
   "execution_count": 2,
   "metadata": {},
   "outputs": [
    {
     "name": "stdout",
     "output_type": "stream",
     "text": [
      "*\n",
      "**\n",
      "***\n",
      "****\n",
      "*****\n",
      "******\n",
      "*******\n",
      "********\n",
      "*********\n",
      "**********\n"
     ]
    }
   ],
   "source": [
    "h=10\n",
    "#Code\n",
    "for i in range (10):\n",
    "    print('*'*(i+1))"
   ]
  },
  {
   "cell_type": "markdown",
   "metadata": {},
   "source": [
    "**Explanation**: The simplest solution is easy to describe, we iterate over numbers until `height` and then we multiply a single asterisk character `'*'`."
   ]
  },
  {
   "cell_type": "markdown",
   "metadata": {},
   "source": [
    "3. **Easy**: Do the same as the previous problem, but now the triangle should go back in width until width zero once it has reached its maximum width. Careful with even heights!\n",
    "\n",
    "Example: `h=5`\n",
    "\n",
    "`*`\n",
    "\n",
    "`**`\n",
    "\n",
    "`***`\n",
    "\n",
    "`**`\n",
    "\n",
    "`*`"
   ]
  },
  {
   "cell_type": "code",
   "execution_count": 4,
   "metadata": {},
   "outputs": [
    {
     "name": "stdout",
     "output_type": "stream",
     "text": [
      "*\n",
      "**\n",
      "***\n",
      "****\n",
      "*****\n",
      "****\n",
      "***\n",
      "**\n",
      "*\n"
     ]
    }
   ],
   "source": [
    "h=10\n",
    "#Code\n",
    "ret=False\n",
    "lev=1\n",
    "while lev>=1:\n",
    "    print(lev*'*')\n",
    "    if lev>=h/2:\n",
    "        ret=True\n",
    "    if ret:\n",
    "        lev-=1\n",
    "    else :\n",
    "        lev+=1"
   ]
  },
  {
   "cell_type": "markdown",
   "metadata": {},
   "source": [
    "**Explanation**: There are many ways of approaching this problem, some of which include two loops. In my case I did it in a single loop. Can you understand how it works?"
   ]
  },
  {
   "cell_type": "markdown",
   "metadata": {},
   "source": [
    "4. **Easy** Write a function that prints out \"There is a vowel\" if there is a vowel in a given string or \"There are no vowels\" if there are no vowels. `'y'` is considered a vowel."
   ]
  },
  {
   "cell_type": "code",
   "execution_count": 71,
   "metadata": {},
   "outputs": [
    {
     "name": "stdout",
     "output_type": "stream",
     "text": [
      "There is no vowel\n"
     ]
    }
   ],
   "source": [
    "s1=\"Python for neurosciEnce\"\n",
    "s2=\"RSRSNTclwtht\"\n",
    "s3=\"MNBVCXwqklgmnprtqwsdfghjklCXwqklgmnprtqwsgmnprtqwsdfghjkMNBlMNBVCXwqklgmnprtqwsdfghjklCXwqklgmnprtqwsgmnprtqwsdfghjkMNBlMNBVCXwqklgmnprqtqwsdfghjklCXwqklgmnprtqwsqgmnprtqwsdfghjkMNBlMNBVCXwqklgmnprtqwsdfghjklCXwqklgmnprtqqqwsgmnprtqwsdfghjkMNBlMNBVCXwqklgmnprtqwsdfghjklCXwqklgmnprtqwsgmnprtqwsdfghjkMNBl\"\n",
    "s4=\"MNBVCXwqklgmnprtqwsdfghjklCXwqklgmnprtqwsgmnprtqwsdfghjkMNBlMNBVCXwqklgmnprtqwsdfghjklCXwqklgmnprtqwsgmnprtqwsdfghjkMNBlMNBVCXwqklgmnprtbqwsdfghjklCXwqkelgmnprtqwsgmnprtqwsdfghjkMNBlMNBVCXwqaklgmnprtqwsdfghjklCXwqklgmnprtqwsgmnprtqwsdfghjkMNBlMNBVCXwqklgmnprtqwsdfghjklCXwqklgmnprtqwsigmnprtqwsdfghjkMNBl\"\n",
    "#Code\n",
    "vowels=['a','e','i','o','u','y']\n",
    "cond=False\n",
    "for v in vowels:\n",
    "    if v in s2:\n",
    "        print(\"There is a vowel\")\n",
    "        cond=True\n",
    "        break\n",
    "if cond is False:\n",
    "    print(\"There is no vowel\")"
   ]
  },
  {
   "cell_type": "markdown",
   "metadata": {},
   "source": [
    "**Explanation**: There are two main approaches, iterating over the vowels or over the string, and checking if the chosen letter is in the other container. Then we have to deal witht the possibility that we did not find what we were looking for."
   ]
  },
  {
   "cell_type": "markdown",
   "metadata": {},
   "source": [
    "5. **Easy** Do the same, but now write a function that prints the position and the vowels that are contained. This can be in any format you want."
   ]
  },
  {
   "cell_type": "code",
   "execution_count": 73,
   "metadata": {},
   "outputs": [
    {
     "name": "stdout",
     "output_type": "stream",
     "text": [
      "[2, 5, 9, 13, 14, 16, 19, 23]\n"
     ]
    }
   ],
   "source": [
    "s1=\"Python for neurosciEnce\"\n",
    "s2=\"RSRSNTclwtht\"\n",
    "s3=\"MNBVCXwqklgmnprtqwsdfghjklCXwqklgmnprtqwsgmnprtqwsdfghjkMNBlMNBVCXwqklgmnprtqwsdfghjklCXwqklgmnprtqwsgmnprtqwsdfghjkMNBlMNBVCXwqklgmnprqtqwsdfghjklCXwqklgmnprtqwsqgmnprtqwsdfghjkMNBlMNBVCXwqklgmnprtqwsdfghjklCXwqklgmnprtqqqwsgmnprtqwsdfghjkMNBlMNBVCXwqklgmnprtqwsdfghjklCXwqklgmnprtqwsgmnprtqwsdfghjkMNBl\"\n",
    "s4=\"MNBVCXwqklgmnprtqwsdfghjklCXwqklgmnprtqwsgmnprtqwsdfghjkMNBlMNBVCXwqklgmnprtqwsdfghjklCXwqklgmnprtqwsgmnprtqwsdfghjkMNBlMNBVCXwqklgmnprtbqwsdfghjklCXwqkelgmnprtqwsgmnprtqwsdfghjkMNBlMNBVCXwqaklgmnprtqwsdfghjklCXwqklgmnprtqwsgmnprtqwsdfghjkMNBlMNBVCXwqklgmnprtqwsdfghjklCXwqklgmnprtqwsigmnprtqwsdfghjkMNBl\"\n",
    "vowels=['a','e','i','o','u','y']\n",
    "position_list=[]\n",
    "position=1\n",
    "for c in s1:\n",
    "    if c in vowels:\n",
    "        position_list.append(position)\n",
    "\n",
    "    position+=1\n",
    "print(position_list)"
   ]
  },
  {
   "cell_type": "markdown",
   "metadata": {},
   "source": [
    "**Explanation**: Now we need to get the positions, and for that, the best approach with what we know is to iterate over the string while keeping track of the position, to append it to a list in case we find a vowel."
   ]
  },
  {
   "cell_type": "markdown",
   "metadata": {},
   "source": [
    "6. **Intermediate** Write a program that prints out all the possible pairs between 1 and n, without repetitions, and only if the first number of the pair is greater than the second number."
   ]
  },
  {
   "cell_type": "code",
   "execution_count": 5,
   "metadata": {},
   "outputs": [
    {
     "name": "stdout",
     "output_type": "stream",
     "text": [
      "[(2, 1), (3, 1), (3, 2), (4, 1), (4, 2), (4, 3), (5, 1), (5, 2), (5, 3), (5, 4), (6, 1), (6, 2), (6, 3), (6, 4), (6, 5), (7, 1), (7, 2), (7, 3), (7, 4), (7, 5), (7, 6), (8, 1), (8, 2), (8, 3), (8, 4), (8, 5), (8, 6), (8, 7), (9, 1), (9, 2), (9, 3), (9, 4), (9, 5), (9, 6), (9, 7), (9, 8), (10, 1), (10, 2), (10, 3), (10, 4), (10, 5), (10, 6), (10, 7), (10, 8), (10, 9)]\n"
     ]
    }
   ],
   "source": [
    "n=10\n",
    "#Code\n",
    "nums=[]\n",
    "for i in range(n):\n",
    "    for j in range (i):\n",
    "        nums.append((i+1,j+1))\n",
    "\n",
    "print(nums)"
   ]
  },
  {
   "cell_type": "markdown",
   "metadata": {},
   "source": [
    "**Explanation**: The most simple solution is using two loops. Your solution might differ, but by making the second loop go until the value of the first loop you skip having to check for the values themselves."
   ]
  },
  {
   "cell_type": "markdown",
   "metadata": {},
   "source": [
    "7. **Intermediate** Given a list of numbers from $1$ to $n$, write a program that prints out a list of the prime numbers within the list in descending order"
   ]
  },
  {
   "cell_type": "code",
   "execution_count": 8,
   "metadata": {},
   "outputs": [
    {
     "name": "stdout",
     "output_type": "stream",
     "text": [
      "[23, 19, 17, 13, 11, 7, 5, 3, 2]\n"
     ]
    }
   ],
   "source": [
    "num_list=[6,7,13,3,2,5,11,8,9,4,12,14,15,17,16,23,22,21,20,19,18]\n",
    "primes=[]\n",
    "for num in num_list:\n",
    "    prime=True\n",
    "    for i in range(2,num):\n",
    "        if num%i==0:\n",
    "            prime=False\n",
    "    if prime:\n",
    "        primes.append(num)\n",
    "primes.sort()\n",
    "primes.reverse()\n",
    "print (primes)"
   ]
  },
  {
   "cell_type": "markdown",
   "metadata": {},
   "source": [
    "**Explanation**: This is a more mathematical problem, we check number divisibility above two and until the candidate number before adding it to the list. After getting a complete list, we sort it and reverse it to get the desired output."
   ]
  },
  {
   "cell_type": "markdown",
   "metadata": {},
   "source": [
    "8. **Intermediate** The Fibonacci series is a numerical series that is constructed by adding the two previous numbers of the series to get the current number. The series starts with `0, 1`, so the next element would be `0+1=1`, so we now have `0, 1, 1`, if we repeat a couple of times we have `0, 1, 1, 2, 3, 5, 8`. So the formula to calculate the $n^{th}$ number of the sequence is $a_n=a_{n-1}+a_{n-2}$ where $a_n$ is the $n^{th}$ number of the sequence.\n",
    "\n",
    "Using what you have learnt, write in a cell code that would print the Fibonacci series up to the $n^{th}$ number of the series, where $n$ is stored in variable `n`."
   ]
  },
  {
   "cell_type": "code",
   "execution_count": 11,
   "metadata": {},
   "outputs": [
    {
     "name": "stdout",
     "output_type": "stream",
     "text": [
      "0\n",
      "1\n",
      "1\n",
      "2\n",
      "3\n",
      "5\n",
      "8\n",
      "13\n",
      "21\n",
      "34\n",
      "55\n",
      "89\n",
      "144\n",
      "233\n",
      "377\n",
      "610\n",
      "987\n",
      "1597\n",
      "2584\n",
      "4181\n"
     ]
    }
   ],
   "source": [
    "n=20\n",
    "#Code\n",
    "x=1\n",
    "y=0\n",
    "z=0\n",
    "for i in range(n):\n",
    "    print(z)\n",
    "    z=x+y\n",
    "    x=y\n",
    "    y=z"
   ]
  },
  {
   "cell_type": "markdown",
   "metadata": {},
   "source": [
    "**Explanation**: Another mathematical problem. Here, you do not need to print the first 0,1,1; but bonus points if you did. The approach is simple: we add the previous numbers and then we move the adding numbers to advance in the sequence."
   ]
  },
  {
   "cell_type": "markdown",
   "metadata": {},
   "source": [
    "9. **Intermediate**: The famous FizzBuzz problem. Given a number `n`, print all numbers from `1` to `n`, each one in a new line, but with the following considerations:\n",
    "    - If the number is multiple of 3, instead of printing the number, print `\"Fizz\"`.\n",
    "    - If the number is multiple of 5, instead of printing the number, print `\"Buzz\"`.\n",
    "    - If the number is both multiple of 3 and 5, instead of printing the number, print `\"FizzBuzz\"`"
   ]
  },
  {
   "cell_type": "code",
   "execution_count": 12,
   "metadata": {},
   "outputs": [
    {
     "name": "stdout",
     "output_type": "stream",
     "text": [
      "1\n",
      "2\n",
      "Fizz\n",
      "4\n",
      "Buzz\n",
      "Fizz\n",
      "7\n",
      "8\n",
      "Fizz\n",
      "Buzz\n",
      "11\n",
      "Fizz\n",
      "13\n",
      "14\n",
      "FizzBuzz\n",
      "16\n",
      "17\n",
      "Fizz\n",
      "19\n",
      "Buzz\n"
     ]
    }
   ],
   "source": [
    "n=20\n",
    "for i in range (n):\n",
    "    i+=1\n",
    "    if i%3==0 and i%5==0:\n",
    "        print(\"FizzBuzz\")\n",
    "    elif i%3==0:\n",
    "        print(\"Fizz\")\n",
    "    elif i%5==0:\n",
    "        print(\"Buzz\")\n",
    "    else:\n",
    "        print(i)"
   ]
  },
  {
   "cell_type": "markdown",
   "metadata": {},
   "source": [
    "**Explanation**: Any solution that works here is okay. First, checking what combination of divisibility and printing the desired output is the correct approach."
   ]
  },
  {
   "cell_type": "markdown",
   "metadata": {},
   "source": [
    "10. **Advanced**: SKIP THIS PROBLEM\n",
    "Write a program that answers the following question for any arbitrary (lowercase) character:\n",
    "\n",
    "    **If we have a list of characters from `\"a\"` to another arbitrary character that is a part of the alphabet (e.g. from `\"a\"` to `\"z\"` would be the entire alphabet), and you are only allowed to increase a character to the next one (e.g. from `\"a\"` to `\"b\"`) one at a time, and only once every time you iterate over the whole list, how many times would you have to increase a character to reach letter `\"z\"`?**\n",
    "\n",
    "    For example, the list from `\"a\"` to `\"y\"` will need to increase every character once to reach `\"z\"` (`\"y\"`->`\"z\"`), so the answer would be 25.\n"
   ]
  },
  {
   "cell_type": "code",
   "execution_count": 13,
   "metadata": {},
   "outputs": [
    {
     "name": "stdout",
     "output_type": "stream",
     "text": [
      "25\n"
     ]
    }
   ],
   "source": [
    "final_letter=\"y\"\n",
    "mylist=[chr(i+97) for i in range (ord(final_letter[0])-96)] #Do not mind this line, it will just provide you with the list of characters for the problem\n",
    "\n",
    "\n",
    "#To increase a character, run the following line\n",
    "mylist[0]=chr(ord(mylist[0])+1)  \n",
    "\n",
    "#Code\n",
    "target='z'\n",
    "print((ord(target)-ord(final_letter))*len(mylist))"
   ]
  },
  {
   "cell_type": "markdown",
   "metadata": {},
   "source": [
    "**Explanation**: I did not realize when I wrote this problem, but the solution is trivial, and the problem is not very well explained. Bonus points if you understand the solution, but do not waste too much time here."
   ]
  },
  {
   "cell_type": "markdown",
   "metadata": {},
   "source": [
    "11. **Advanced** You have two lists of integers, `keys` and `values`. The contents of `keys` are unique, but unsorted, while the values of `values` are neither unique nor sorted. Write a program that sorts both `keys` and `values` according to the sorting of `keys`. This means that the pairs`values[i]:keys[i]` should remain constant from before to after you run the program. The only thing that should change is how those pairs are ordered in the two lists."
   ]
  },
  {
   "cell_type": "code",
   "execution_count": 15,
   "metadata": {},
   "outputs": [
    {
     "name": "stdout",
     "output_type": "stream",
     "text": [
      "[0, 1, 2, 3, 4, 5, 6, 7, 8, 9, 10]\n",
      "[10, 5, 5, 2, 3, 9, 2, 5, 8, 0, 1]\n"
     ]
    }
   ],
   "source": [
    "keys=[9,2,1,3,4,5,8,7,6,10,0]\n",
    "values=[0,5,5,2,3,9,8,5,2,1,10]\n",
    "new_keys=keys.copy()\n",
    "new_keys.sort()\n",
    "new_values=[]\n",
    "for i in new_keys:\n",
    "    new_values.append(values[keys.index(i)])\n",
    "print(new_keys)\n",
    "print(new_values)"
   ]
  },
  {
   "cell_type": "markdown",
   "metadata": {},
   "source": [
    "**Explanation**: The idea here is to keep the order. To do so we keep the original arrangement to access the proper relationship between elements, and then we construct a new pair of lists based on this concept."
   ]
  },
  {
   "cell_type": "code",
   "execution_count": null,
   "metadata": {},
   "outputs": [
    {
     "name": "stdout",
     "output_type": "stream",
     "text": [
      "Wrong method\n",
      "[[2024, 2, 3], [2024, 2, 3], [2024, 2, 3]]\n",
      "[[2024, 2, 3], [2024, 2, 3], [2024, 2, 3]]\n",
      "Also wrong method\n",
      "[[2024, 2, 3], [1, 2, 3], [1, 2, 3]]\n",
      "[[2024, 2, 3], [1, 2, 3], [1, 2, 3]]\n",
      "Proper method\n",
      "[[2024, 2, 3], [1, 2, 3], [1, 2, 3]]\n",
      "[[1, 2, 3], [1, 2, 3], [1, 2, 3]]\n"
     ]
    }
   ],
   "source": [
    "mylist=[1,2,3]\n",
    "nested=[]\n",
    "for i in range(3):\n",
    "    nested.append(mylist)\n",
    "nested_copy=nested.copy()\n",
    "nested[0][0]=2024\n",
    "print(\"Wrong method\")\n",
    "print(nested)\n",
    "print(nested_copy)\n",
    "\n",
    "#Also wrong\n",
    "\n",
    "mylist=[1,2,3]\n",
    "nested=[]\n",
    "for i in range(3):\n",
    "    nested.append(mylist.copy())\n",
    "nested_copy=nested.copy()\n",
    "nested[0][0]=2024\n",
    "print(\"Also wrong method\")\n",
    "print(nested)\n",
    "print(nested_copy)\n",
    "\n",
    "#Properly done\n",
    "import copy\n",
    "mylist=[1,2,3]\n",
    "nested=[]\n",
    "for i in range(3):\n",
    "    nested.append(mylist.copy())\n",
    "nested_copy=copy.deepcopy(nested) #You need to do a deep copy, i.e., to recursively copy every element at every level, creating a new variable for each\n",
    "nested[0][0]=2024\n",
    "print(\"Proper method\")\n",
    "print(nested)\n",
    "print(nested_copy)"
   ]
  },
  {
   "cell_type": "markdown",
   "metadata": {},
   "source": [
    "**Bonus exercise**: What is wrong with the second method of list copying? You might want to use the `hex(id())` functions to identify the problem."
   ]
  },
  {
   "cell_type": "code",
   "execution_count": 18,
   "metadata": {},
   "outputs": [
    {
     "name": "stdout",
     "output_type": "stream",
     "text": [
      "Also wrong method\n",
      "[[2024, 2, 3], [1, 2, 3], [1, 2, 3]]\n",
      "[[2024, 2, 3], [1, 2, 3], [1, 2, 3]]\n",
      "0x248f7f83b40\n",
      "0x248f7f83b40\n"
     ]
    }
   ],
   "source": [
    "mylist=[1,2,3]\n",
    "nested=[]\n",
    "for i in range(3):\n",
    "    nested.append(mylist.copy())\n",
    "nested_copy=nested.copy()\n",
    "nested[0][0]=2024\n",
    "print(\"Also wrong method\")\n",
    "print(nested)\n",
    "print(nested_copy)\n",
    "\n",
    "print(hex(id(nested[0])))\n",
    "print(hex(id(nested_copy[0])))\n",
    "#The inside lists have the same address, they are the same"
   ]
  },
  {
   "cell_type": "markdown",
   "metadata": {},
   "source": [
    "**Bonus exercise**: Make a list of lists where each sub-list has the numbers between 0 to the position of the sub-list within the list."
   ]
  },
  {
   "cell_type": "code",
   "execution_count": 1,
   "metadata": {},
   "outputs": [
    {
     "name": "stdout",
     "output_type": "stream",
     "text": [
      "[[1], [1, 2], [1, 2, 3], [1, 2, 3, 4], [1, 2, 3, 4, 5]]\n"
     ]
    }
   ],
   "source": [
    "higher=[]\n",
    "n=5\n",
    "for i in range(n):\n",
    "    lower=[]\n",
    "    for j in range(i+1):\n",
    "        lower.append(j+1)\n",
    "    higher.append(lower)\n",
    "print(higher)\n",
    "#We append a list to which we append numbers up until its own index."
   ]
  }
 ],
 "metadata": {
  "kernelspec": {
   "display_name": "Python 3",
   "language": "python",
   "name": "python3"
  },
  "language_info": {
   "codemirror_mode": {
    "name": "ipython",
    "version": 3
   },
   "file_extension": ".py",
   "mimetype": "text/x-python",
   "name": "python",
   "nbconvert_exporter": "python",
   "pygments_lexer": "ipython3",
   "version": "3.11.3"
  }
 },
 "nbformat": 4,
 "nbformat_minor": 0
}
