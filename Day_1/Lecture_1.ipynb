{
 "cells": [
  {
   "cell_type": "markdown",
   "metadata": {
    "collapsed": false,
    "jupyter": {
     "outputs_hidden": false
    },
    "pycharm": {
     "name": "#%% md\n"
    }
   },
   "source": [
    "# 1. Hello, World!\n",
    "---------------------------------------------\n",
    "\n",
    "Python is a very simple language, and has a very straightforward syntax. It encourages programmers to program without boilerplate (prepared) code. Coding in python revolves around a series of elements, some of which we will not cover in this session:\n",
    "1. Keywords (`if, elif, else, for, break, continue, in, is, not, try, catch, raise ...`)\n",
    "2. In-built objects (lists, ranges, integers, floats, strings...)\n",
    "3. In-built functions (`print(), any(), all(), str.upper()...`)\n",
    "4. In-built operators (arithmetic, bitwise, logical, comparison, identity, membership, indexing and assigment operators)\n",
    "5. Library objects, functions and operators\n",
    "6. Custom objects, functions and operators\n",
    "\n",
    "The simplest statement in Python is using `print()`. This call will simply output to console a string of text and objects with an appended newline character (`\\n`) at the end, which moves the cursor to a new line. In Python 3, the version we will be using in this tutorial, print is a function, and must be invoked with parentheses. To print a string in Python 3, just write `print(*)` replacing the asterisk for any argument."
   ]
  },
  {
   "cell_type": "code",
   "execution_count": null,
   "metadata": {
    "collapsed": false,
    "jupyter": {
     "outputs_hidden": false
    },
    "pycharm": {
     "name": "#%%\n"
    }
   },
   "outputs": [],
   "source": [
    "print(\"Hello, World!\")"
   ]
  },
  {
   "cell_type": "markdown",
   "metadata": {},
   "source": [
    "# 2. Syntax\n",
    "-------------------------------------------\n",
    "Python syntax consists of:\n",
    "1. Newline character `'\\n'` (press Enter in your keyboard) to represent the end of a statement (careful with other whitespace characters) with optional use of semicolon characters `';'`\n",
    "2. Use of the colon `':'` to signify the start of a block (we will explain this later)\n",
    "3. Use of indentation level (four spaces or a tab `'\\t'` character) to represent that a line is within a _contiguous_ code block\n",
    "4. Use of commas `','` to separate arguments, values or variables\n",
    "5. Use of parenthesis `'()'` to call a function or create an object\n",
    "6. Use of quotes `\"\"`,`''` to define strings\n"
   ]
  },
  {
   "cell_type": "code",
   "execution_count": null,
   "metadata": {},
   "outputs": [],
   "source": [
    "x = 1 #Newline at the end\n",
    "if x == 1: #Colon to represent code block\n",
    "    # indented four spaces to represent indentation level +1\n",
    "    print('x', ' is ','1') #Commas to separate arguments\n",
    "print('x could be anything') #Indentation level 0, always excecuted unless early termination"
   ]
  },
  {
   "cell_type": "markdown",
   "metadata": {},
   "source": [
    "**Block**: chunk of code that is executed when certain conditions are met"
   ]
  },
  {
   "cell_type": "markdown",
   "metadata": {
    "collapsed": false,
    "jupyter": {
     "outputs_hidden": false
    },
    "pycharm": {
     "name": "#%% md\n"
    }
   },
   "source": [
    "# 3. Variables and Types\n",
    "-----------------------------------------\n",
    "\n",
    "Python is an object oriented programming language, which means that the language revolves around objects and the operations that can be performed on them. Every variable in Python can be considered an object.\n",
    "\n",
    "A variable name can be written with any sequence of lowercase characters, uppercase characters, underscore and numbers, provided that the first character is not a number.\n",
    "\n",
    "This tutorial will go over a few basic types of variables.\n",
    "\n",
    "\n",
    "## Numbers\n",
    "\n",
    "Python supports two types of numbers - integers(whole numbers) and floating point numbers(decimals). (It also supports complex numbers, which will not be explained in this tutorial).\n",
    "\n",
    "To define an integer, use the following syntax:"
   ]
  },
  {
   "cell_type": "code",
   "execution_count": null,
   "metadata": {
    "collapsed": false,
    "jupyter": {
     "outputs_hidden": false
    },
    "pycharm": {
     "name": "#%%\n"
    }
   },
   "outputs": [],
   "source": [
    "myint = 7\n",
    "print(myint)\n"
   ]
  },
  {
   "cell_type": "markdown",
   "metadata": {
    "collapsed": false,
    "jupyter": {
     "outputs_hidden": false
    },
    "pycharm": {
     "name": "#%% md\n"
    }
   },
   "source": [
    "To define a floating point number, you may use one of the following notations:"
   ]
  },
  {
   "cell_type": "code",
   "execution_count": null,
   "metadata": {
    "collapsed": false,
    "jupyter": {
     "outputs_hidden": false
    },
    "pycharm": {
     "name": "#%%\n"
    }
   },
   "outputs": [],
   "source": [
    "myfloat = 7.0\n",
    "print(myfloat)\n",
    "myfloat = 7.\n",
    "print(myfloat)"
   ]
  },
  {
   "cell_type": "markdown",
   "metadata": {},
   "source": [
    "### Side note: assignment\n",
    "To create a variable you must assign some value or object to it. To do so, you need to use one of the assignment operators (all of them contain `=`, like `+=`), or _the_ assignment operator, `=`. "
   ]
  },
  {
   "cell_type": "markdown",
   "metadata": {
    "collapsed": false,
    "jupyter": {
     "outputs_hidden": false
    },
    "pycharm": {
     "name": "#%% md\n"
    }
   },
   "source": [
    "## Strings\n",
    "\n",
    "Strings are defined either with a single quote, double quotes or three of either one."
   ]
  },
  {
   "cell_type": "code",
   "execution_count": null,
   "metadata": {
    "collapsed": false,
    "jupyter": {
     "outputs_hidden": false
    },
    "pycharm": {
     "name": "#%%\n"
    }
   },
   "outputs": [],
   "source": [
    "mystring = 'hello'\n",
    "print(mystring)\n",
    "mystring = \"hello\"\n",
    "print(mystring)\n",
    "mystring = '''hello'''\n",
    "print(mystring)\n",
    "mystring = \"\"\"hello\"\"\"\n",
    "print(mystring)"
   ]
  },
  {
   "cell_type": "markdown",
   "metadata": {
    "collapsed": false,
    "jupyter": {
     "outputs_hidden": false
    },
    "pycharm": {
     "name": "#%% md\n"
    }
   },
   "source": [
    "The difference is the characters you can use in the contained strings:"
   ]
  },
  {
   "cell_type": "code",
   "execution_count": null,
   "metadata": {
    "collapsed": false,
    "jupyter": {
     "outputs_hidden": false
    },
    "pycharm": {
     "name": "#%%\n"
    }
   },
   "outputs": [],
   "source": [
    "mystring = \"Don't worry about apostrophes\"\n",
    "print(mystring)\n",
    "mystring = '\"Dont\" worry about quotes'\n",
    "print(mystring)\n",
    "mystring = \"\"\"Don't worry about\n",
    "formatting with newlines or about\n",
    "\"any character\" or 'apostrophe use'\"\"\"\n",
    "print(mystring)\n",
    "mystring = '''Don't worry about\n",
    "formatting with newlines or about\n",
    "\"any character\" or 'apostrophe use'.''' #With the exception of same type of apostrophe in contact with the starting or ending apostrophes\n",
    "print(mystring)"
   ]
  },
  {
   "cell_type": "markdown",
   "metadata": {
    "collapsed": false,
    "jupyter": {
     "outputs_hidden": false
    },
    "pycharm": {
     "name": "#%% md\n"
    }
   },
   "source": [
    "There are additional variations on defining strings that make it easier to include things such as carriage returns, backslashes and Unicode characters. These are beyond the scope of this tutorial, but are covered in the Python documentation."
   ]
  },
  {
   "cell_type": "markdown",
   "metadata": {
    "collapsed": false,
    "jupyter": {
     "outputs_hidden": false
    },
    "pycharm": {
     "name": "#%% md\n"
    }
   },
   "source": [
    "Assignments can be done on more than one variable \"simultaneously\" on the same line using the comma like this:"
   ]
  },
  {
   "cell_type": "code",
   "execution_count": null,
   "metadata": {
    "collapsed": false,
    "jupyter": {
     "outputs_hidden": false
    },
    "pycharm": {
     "name": "#%%\n"
    }
   },
   "outputs": [],
   "source": [
    "a, b = 3, 4\n",
    "print(a, b)"
   ]
  },
  {
   "cell_type": "markdown",
   "metadata": {
    "collapsed": false,
    "jupyter": {
     "outputs_hidden": false
    },
    "pycharm": {
     "name": "#%% md\n"
    }
   },
   "source": [
    "## Lists\n",
    "\n",
    "Lists are a collection or container of variables. They can contain any type of variable, and they can contain as many variables as you wish, and you can access every single variable. Later we will show how to 'iterate' over a list.\n",
    "\n",
    "Here is an example of how to build a list."
   ]
  },
  {
   "cell_type": "code",
   "execution_count": null,
   "metadata": {
    "collapsed": false,
    "jupyter": {
     "outputs_hidden": false
    },
    "pycharm": {
     "name": "#%%\n"
    }
   },
   "outputs": [],
   "source": [
    "mylist = []\n",
    "mylist.append(1)\n",
    "mylist.append(2)\n",
    "mylist.append(3)\n",
    "\n",
    "print(mylist)"
   ]
  },
  {
   "cell_type": "markdown",
   "metadata": {
    "collapsed": false,
    "jupyter": {
     "outputs_hidden": false
    },
    "pycharm": {
     "name": "#%% md\n"
    }
   },
   "source": [
    "Ordered collections or containers of items in python are 0-indexed, which means that the first element has index 0 and the last element has index equal to the length minus one. This is carried over from older languages. \n",
    "\n",
    "When not known, and generally as good practice, the length of a list can be obtained with the in-built function `len(some_list)`.\n",
    "\n",
    "To access a particular element of a list, you should use the indexing operator `[]`."
   ]
  },
  {
   "cell_type": "code",
   "execution_count": null,
   "metadata": {},
   "outputs": [],
   "source": [
    "mylist = [1,2,3]\n",
    "print(mylist[0])\n",
    "print(mylist[1])\n",
    "\n",
    "print (len(mylist))\n",
    "\n",
    "print(mylist[len(mylist)-1])\n",
    "print(mylist[-1])"
   ]
  },
  {
   "cell_type": "markdown",
   "metadata": {},
   "source": [
    "Accessing an index which does not exist generates an exception (an error)."
   ]
  },
  {
   "cell_type": "code",
   "execution_count": null,
   "metadata": {
    "collapsed": false,
    "jupyter": {
     "outputs_hidden": false
    },
    "pycharm": {
     "name": "#%%\n"
    }
   },
   "outputs": [],
   "source": [
    "mylist = [1,2,3]\n",
    "print(mylist[len(mylist)])"
   ]
  },
  {
   "cell_type": "markdown",
   "metadata": {},
   "source": [
    "You can also form lists of lists (but be careful while assigning lists)."
   ]
  },
  {
   "cell_type": "code",
   "execution_count": null,
   "metadata": {},
   "outputs": [],
   "source": [
    "b=[]\n",
    "b.append([1,2,3])\n",
    "b.append([4,5,6])\n",
    "b.append([7,8,9])\n",
    "print(b)\n",
    "a=[1,2,3]\n",
    "b=[]\n",
    "b.append(a)\n",
    "b.append(a)\n",
    "b.append(a)\n",
    "b[0][0]=-1\n",
    "print(b) #What happened here? Can you figure it out? We will cover it later"
   ]
  },
  {
   "cell_type": "markdown",
   "metadata": {},
   "source": [
    "## 3.1 Coding exercises on Variables and Datatype\n",
    "\n",
    "### In the cell below, there are six coding problems for you to solve in order to practice the concept of variables and datatypes in python. Give them a try!!"
   ]
  },
  {
   "cell_type": "code",
   "execution_count": null,
   "metadata": {},
   "outputs": [],
   "source": [
    "\n",
    "# Coding exericese 3.1.1\n",
    "\n",
    "# Create two integer variables a and b\n",
    "# Assign values to them and calculate their sum, difference, and product.\n",
    "# Print the results.\n",
    "# ============================\n",
    "\n",
    "\n",
    "# ============================\n",
    "# ============================\n",
    "# Coding exericese 3.1.2\n",
    "\n",
    "# Create a variable x = \"100\"\n",
    "# Convert x to an integer and add 50 to it.\n",
    "# Print the result and its type.\n",
    "# ============================\n",
    "\n",
    "\n",
    "# ============================\n",
    "# ============================\n",
    "# # Coding exercise 3.1.3\n",
    "\n",
    "# Create two variables: score = 85 and passing_score = 60\n",
    "# Create a boolean variable called passed that checks if score is greater than or equal to passing_score\n",
    "# Print the result\n",
    "# ============================\n",
    "\n",
    "\n",
    "# ============================\n",
    "# ============================\n",
    "# Coding exercise 3.1.4\n",
    "\n",
    "# Create a variable called 'language' with value \"Python\"\n",
    "# Print the first and last characters of the string\n",
    "# Convert it to uppercase and print it\n",
    "# ============================\n",
    "\n",
    "\n",
    "# ============================\n",
    "# ============================\n",
    "# Coding exercise 3.1.5\n",
    "\n",
    "# Create a list of 3 of your favorite movies\n",
    "# Add two more movies to the list\n",
    "# Print the list, movies at 2nd and 3rd position in the list and the length of the list\n",
    "# ============================\n",
    "\n",
    "\n",
    "# ============================\n"
   ]
  },
  {
   "cell_type": "markdown",
   "metadata": {
    "collapsed": false,
    "jupyter": {
     "outputs_hidden": false
    },
    "pycharm": {
     "name": "#%% md\n"
    }
   },
   "source": [
    "# 4. Basic Operators\n",
    "--------------------------------------------\n",
    "\n",
    "This section explains how to use basic operators in Python.\n",
    "\n",
    "## Arithmetic Operators\n",
    "\n",
    "Just as any other programming languages, the addition, subtraction, multiplication, and division operators can be used with numbers.\n",
    "Try to predict what the answer will be. Does python follow order of operations?"
   ]
  },
  {
   "cell_type": "code",
   "execution_count": null,
   "metadata": {
    "collapsed": false,
    "jupyter": {
     "outputs_hidden": false
    },
    "pycharm": {
     "name": "#%%\n"
    }
   },
   "outputs": [],
   "source": [
    "number = 1 + 2 * 3 / 4.0\n",
    "print(number)"
   ]
  },
  {
   "cell_type": "markdown",
   "metadata": {
    "collapsed": false,
    "jupyter": {
     "outputs_hidden": false
    },
    "pycharm": {
     "name": "#%% md\n"
    }
   },
   "source": [
    "Another operator available is the modulo (%) operator, which returns the integer remainder of the division. Dividend % divisor = remainder."
   ]
  },
  {
   "cell_type": "code",
   "execution_count": null,
   "metadata": {
    "collapsed": false,
    "jupyter": {
     "outputs_hidden": false
    },
    "pycharm": {
     "name": "#%%\n"
    }
   },
   "outputs": [],
   "source": [
    "remainder = 11 % 3\n",
    "print(remainder)"
   ]
  },
  {
   "cell_type": "markdown",
   "metadata": {
    "collapsed": false,
    "jupyter": {
     "outputs_hidden": false
    },
    "pycharm": {
     "name": "#%% md\n"
    }
   },
   "source": [
    "The exponent operator is `**`:"
   ]
  },
  {
   "cell_type": "code",
   "execution_count": null,
   "metadata": {
    "collapsed": false,
    "jupyter": {
     "outputs_hidden": false
    },
    "pycharm": {
     "name": "#%%\n"
    }
   },
   "outputs": [],
   "source": [
    "squared = 7 ** 2\n",
    "cubed = 2 ** 3\n",
    "print(squared)\n",
    "print(cubed)"
   ]
  },
  {
   "cell_type": "markdown",
   "metadata": {},
   "source": [
    "### Types of division: some numbers are more equal than others\n",
    "Both in mathematics and programming, there are two types of division: integer division and floating point division. Floating point division we have already shown: the division will calculate the \"exact\" result of the division, with the fractional part (remainder/divisor) expressed after the `.` in the number. In integer division, you discard the fractional part.\n",
    "\n",
    "In Python, floating point division is done with the `/` operator, which will return a `float`. The integer division is done with the `//` operator, which will return either an `int` if both numbers are integers or `float` if one of them is a `float`. Confusing these operators could be a source of error in some cases."
   ]
  },
  {
   "cell_type": "code",
   "execution_count": null,
   "metadata": {},
   "outputs": [],
   "source": [
    "print(2/3)\n",
    "print(2//3)\n",
    "print(2.//3)\n",
    "print(type(2/3)) #The type() funtion tells you which type of object is your object. There are other related functions that we will not cover here\n",
    "print(type(2.//3))\n",
    "print(type(2//3))"
   ]
  },
  {
   "cell_type": "markdown",
   "metadata": {},
   "source": [
    "### Arithmetic operators precedence order\n",
    "Arithmetic operations (and other operations that we will cover later) will be executed according to an operator precedence order:\n",
    "1. Parenthesis `()`\n",
    "2. Exponent operator `**`\n",
    "3. Multiplication and division operators `*`,`/`,`//`,`%`\n",
    "4. Addition and substraction operators `+`, `-`"
   ]
  },
  {
   "cell_type": "code",
   "execution_count": null,
   "metadata": {},
   "outputs": [],
   "source": [
    "print(2*(4**(3//7)+2%3)) ## Try to calculate which is the result on your own"
   ]
  },
  {
   "cell_type": "markdown",
   "metadata": {},
   "source": [
    "### Assignment operators\n",
    "Apart from the `=` assignment operator, there are other operators that help summarize operations plus assignment. These operators have the form `operator=` where you can replace `operator` with any operator (except for parenthesis, which is not technically an operator)."
   ]
  },
  {
   "cell_type": "code",
   "execution_count": null,
   "metadata": {},
   "outputs": [],
   "source": [
    "a=1\n",
    "a=a+1 #These two lines are equivalent\n",
    "print(a)\n",
    "a+=1 #These two lines are equivalent\n",
    "print(a)"
   ]
  },
  {
   "cell_type": "markdown",
   "metadata": {
    "collapsed": false,
    "jupyter": {
     "outputs_hidden": false
    },
    "pycharm": {
     "name": "#%% md\n"
    }
   },
   "source": [
    "## Using Operators with Strings\n",
    "\n",
    "Python supports concatenating strings using the addition operator:"
   ]
  },
  {
   "cell_type": "code",
   "execution_count": null,
   "metadata": {
    "collapsed": false,
    "jupyter": {
     "outputs_hidden": false
    },
    "pycharm": {
     "name": "#%%\n"
    }
   },
   "outputs": [],
   "source": [
    "helloworld = \"hello\" + \" \" + \"world\"\n",
    "print(helloworld)\n"
   ]
  },
  {
   "cell_type": "markdown",
   "metadata": {
    "collapsed": false,
    "jupyter": {
     "outputs_hidden": false
    },
    "pycharm": {
     "name": "#%% md\n"
    }
   },
   "source": [
    "Python also supports multiplying strings to form a string with a repeating sequence:"
   ]
  },
  {
   "cell_type": "code",
   "execution_count": null,
   "metadata": {
    "collapsed": false,
    "jupyter": {
     "outputs_hidden": false
    },
    "pycharm": {
     "name": "#%%\n"
    }
   },
   "outputs": [],
   "source": [
    "lotsofhellos = \"hello\" * 10\n",
    "print(lotsofhellos)"
   ]
  },
  {
   "cell_type": "markdown",
   "metadata": {},
   "source": [
    "Mixing operators between numbers and strings is not allowed:"
   ]
  },
  {
   "cell_type": "code",
   "execution_count": null,
   "metadata": {},
   "outputs": [],
   "source": [
    "# This will not work!\n",
    "one = 1\n",
    "two = 2\n",
    "hello = \"hello\"\n",
    "\n",
    "print(one + two + hello)"
   ]
  },
  {
   "cell_type": "markdown",
   "metadata": {
    "collapsed": false,
    "jupyter": {
     "outputs_hidden": false
    },
    "pycharm": {
     "name": "#%% md\n"
    }
   },
   "source": [
    "## Using Operators with Lists\n",
    "\n",
    "Lists can be joined with the addition operators, equivalent to `list.extend()`:"
   ]
  },
  {
   "cell_type": "code",
   "execution_count": null,
   "metadata": {
    "collapsed": false,
    "jupyter": {
     "outputs_hidden": false
    },
    "pycharm": {
     "name": "#%%\n"
    }
   },
   "outputs": [],
   "source": [
    "even_numbers = [2,4,6,8]\n",
    "odd_numbers = [1,3,5,7]\n",
    "all_numbers = odd_numbers + even_numbers\n",
    "print(all_numbers)"
   ]
  },
  {
   "cell_type": "markdown",
   "metadata": {},
   "source": [
    "**Optional side note**: when you read about a function written as `object_type.function()`, like `mylist.append(variable)` it means it is an \"object function\" or \"object method\". Such functions are associated to an object, and can only be called or accessed from such object with the `.` dot after the variable name. These functions will only have an effect on the object you call them from (i.e. if you call `mylist.append(var)`, `var` will only be appended to `mylist`). Think of it as a way of directing a function to a particular object or variable, only that object or variable.\n",
    "\n",
    "Another way to think about it, is that your variable is another argument to the function, i.e. `mylist.append(var)` is equivalent to `list.append(mylist, var)`.\n",
    "\n",
    "If you find this confusing, don't worry because we will cover object methods in more depth in the afternoon. For now just assume this is how things work."
   ]
  },
  {
   "cell_type": "code",
   "execution_count": null,
   "metadata": {},
   "outputs": [],
   "source": [
    "even_numbers = [2,4,6,8]\n",
    "odd_numbers = [1,3,5,7]\n",
    "odd_numbers.extend(even_numbers)\n",
    "print(odd_numbers)\n",
    "list.extend(even_numbers, odd_numbers) #First argument is the calling object.\n",
    "print (even_numbers)"
   ]
  },
  {
   "cell_type": "markdown",
   "metadata": {
    "collapsed": false,
    "jupyter": {
     "outputs_hidden": false
    },
    "pycharm": {
     "name": "#%% md\n"
    }
   },
   "source": [
    "Just as in strings, Python supports forming new lists with a repeating sequence using the multiplication operator:"
   ]
  },
  {
   "cell_type": "code",
   "execution_count": null,
   "metadata": {
    "collapsed": false,
    "jupyter": {
     "outputs_hidden": false
    },
    "pycharm": {
     "name": "#%%\n"
    }
   },
   "outputs": [],
   "source": [
    "print([1,2,3] * 3)"
   ]
  },
  {
   "cell_type": "markdown",
   "metadata": {},
   "source": [
    "### Subsection: more list() object functions\n",
    "There are a number of useful object functions to operate on your lists. Two of them we have already seen, `list.extend()` and `list.append()`. Others are:\n",
    "\n",
    "`list.insert()`"
   ]
  },
  {
   "cell_type": "code",
   "execution_count": null,
   "metadata": {},
   "outputs": [],
   "source": [
    "even_numbers = [2,4,6,8]\n",
    "even_numbers.insert(0,0)\n",
    "print(even_numbers)\n",
    "even_numbers.insert(5,10) #First number is the index, second number is the object to insert\n",
    "print(even_numbers)"
   ]
  },
  {
   "cell_type": "markdown",
   "metadata": {},
   "source": [
    "`list.remove()`"
   ]
  },
  {
   "cell_type": "code",
   "execution_count": null,
   "metadata": {},
   "outputs": [],
   "source": [
    "wrong_even_numbers = [2,4,1,6,8,1]\n",
    "wrong_even_numbers.remove(1) #Remove first occurence of given element\n",
    "print(wrong_even_numbers)"
   ]
  },
  {
   "cell_type": "markdown",
   "metadata": {},
   "source": [
    "`list.pop()`"
   ]
  },
  {
   "cell_type": "code",
   "execution_count": null,
   "metadata": {},
   "outputs": [],
   "source": [
    "even_numbers = [2,4,1,6,8]\n",
    "even_numbers.pop(2) #Remove element at given index\n",
    "print(even_numbers)"
   ]
  },
  {
   "cell_type": "markdown",
   "metadata": {},
   "source": [
    "`list.clear()`"
   ]
  },
  {
   "cell_type": "code",
   "execution_count": null,
   "metadata": {},
   "outputs": [],
   "source": [
    "even_numbers = [1,3,5]\n",
    "even_numbers.clear() #Empty the list\n",
    "print(even_numbers)"
   ]
  },
  {
   "cell_type": "markdown",
   "metadata": {},
   "source": [
    "`list.index()`"
   ]
  },
  {
   "cell_type": "code",
   "execution_count": null,
   "metadata": {},
   "outputs": [],
   "source": [
    "even_numbers = [2,4,1,6,8]\n",
    "wrong_index=even_numbers.index(1) #Returns index of first occurrence of given element\n",
    "even_numbers.pop(wrong_index) #Remove element at given index\n",
    "print(even_numbers)"
   ]
  },
  {
   "cell_type": "markdown",
   "metadata": {},
   "source": [
    "`list.count()`"
   ]
  },
  {
   "cell_type": "code",
   "execution_count": null,
   "metadata": {},
   "outputs": [],
   "source": [
    "even_numbers = [2,4,4,4,4,4,6]\n",
    "print(even_numbers.count(4)) #Counts the number of times a given element appears in the list"
   ]
  },
  {
   "cell_type": "markdown",
   "metadata": {},
   "source": [
    "`list.sort()`, `list.reverse()`, `list.copy()`"
   ]
  },
  {
   "cell_type": "code",
   "execution_count": null,
   "metadata": {},
   "outputs": [],
   "source": [
    "even_numbers = [2,4,6,8]\n",
    "odd_numbers = [1,3,5,7]\n",
    "all_numbers = odd_numbers + even_numbers\n",
    "print(all_numbers)\n",
    "all_numbers.sort() #Sorts elements in ascending order in the list\n",
    "print(all_numbers)\n",
    "all_numbers.reverse() #Reverses the order of elements in the list\n",
    "print(all_numbers)\n",
    "num_copy=all_numbers.copy() #Gives a copy of the list (not a deep copy)\n",
    "num_copy.reverse()\n",
    "print(num_copy)\n",
    "print(all_numbers)"
   ]
  },
  {
   "cell_type": "markdown",
   "metadata": {
    "collapsed": false,
    "jupyter": {
     "outputs_hidden": false
    },
    "pycharm": {
     "name": "#%% md\n"
    }
   },
   "source": [
    "## String Formatting\n",
    "\n",
    "There are multiple ways of formatting a string in Python. \n",
    "\n",
    "The `%` operator is used to format a set of variables enclosed in a `tuple()` (a fixed size list, immutable), together with a format string, which contains normal text together with \"argument specifiers\", special symbols like \"%s\" and \"%d\".\n",
    "\n",
    "Let's say you have a variable called \"name\" with your user name in it, and you would then like to print(out a greeting to that user.)"
   ]
  },
  {
   "cell_type": "code",
   "execution_count": null,
   "metadata": {
    "collapsed": false,
    "jupyter": {
     "outputs_hidden": false
    },
    "pycharm": {
     "name": "#%%\n"
    }
   },
   "outputs": [],
   "source": [
    "# This prints out \"Hello, John!\"\n",
    "name = \"John\"\n",
    "print(\"Hello, %s!\" % name)"
   ]
  },
  {
   "cell_type": "markdown",
   "metadata": {
    "collapsed": false,
    "jupyter": {
     "outputs_hidden": false
    },
    "pycharm": {
     "name": "#%% md\n"
    }
   },
   "source": [
    "To use two or more argument specifiers, use a tuple (parentheses):"
   ]
  },
  {
   "cell_type": "code",
   "execution_count": null,
   "metadata": {
    "collapsed": false,
    "jupyter": {
     "outputs_hidden": false
    },
    "pycharm": {
     "name": "#%%\n"
    }
   },
   "outputs": [],
   "source": [
    "# This prints out \"John is 23 years old.\"\n",
    "name = \"John\"\n",
    "age = 23\n",
    "print(\"%s is %d years old.\" % (name, age))"
   ]
  },
  {
   "cell_type": "markdown",
   "metadata": {
    "collapsed": false,
    "jupyter": {
     "outputs_hidden": false
    },
    "pycharm": {
     "name": "#%% md\n"
    }
   },
   "source": [
    "Any object which is not a string can be formatted using the %s operator as well. The string which returns from the \"repr\" method of that object is formatted as the string. For example:"
   ]
  },
  {
   "cell_type": "code",
   "execution_count": null,
   "metadata": {
    "collapsed": false,
    "jupyter": {
     "outputs_hidden": false
    },
    "pycharm": {
     "name": "#%%\n"
    }
   },
   "outputs": [],
   "source": [
    "# This prints out: A list: [1, 2, 3]\n",
    "mylist = [1,2,3]\n",
    "print(\"A list: %s\" % mylist)"
   ]
  },
  {
   "cell_type": "markdown",
   "metadata": {
    "collapsed": false,
    "jupyter": {
     "outputs_hidden": false
    },
    "pycharm": {
     "name": "#%% md\n"
    }
   },
   "source": [
    "Here are some basic argument specifiers you should know:\n",
    "\n",
    "`%s` - String (or any object with a string representation, like numbers)\n",
    "\n",
    "`%d` - Integers\n",
    "\n",
    "`%f` - Floating point numbers\n",
    "\n",
    "`%.<number of digits>f` - Floating point numbers with a fixed amount of digits to the right of the dot.\n",
    "\n",
    "`%x`/`%X` - Integers in hex representation (lowercase/uppercase)"
   ]
  },
  {
   "cell_type": "markdown",
   "metadata": {},
   "source": [
    "### Other formatting methods\n",
    "There are more intuitive ways of formatting strings."
   ]
  },
  {
   "cell_type": "code",
   "execution_count": null,
   "metadata": {},
   "outputs": [],
   "source": [
    "n=\"not\"\n",
    "print(\"This is {} a string, and this one is {} one either\".format(n,n))\n",
    "print(f\"This is {n} a string, and this one is {n} one either\")"
   ]
  },
  {
   "cell_type": "markdown",
   "metadata": {
    "collapsed": false,
    "jupyter": {
     "outputs_hidden": false
    },
    "pycharm": {
     "name": "#%% md\n"
    }
   },
   "source": [
    "## Basic String Operations\n",
    "\n",
    "The first thing you learned was printing a simple sentence. This sentence was stored by Python as a string. However, instead of immediately printing strings out, we will explore the various things you can do to them."
   ]
  },
  {
   "cell_type": "markdown",
   "metadata": {},
   "source": [
    "`len()`: as explained earlier, this function will tell you the length of any container of objects. A string does classify as a container strictly consisting only of characters"
   ]
  },
  {
   "cell_type": "code",
   "execution_count": null,
   "metadata": {
    "collapsed": false,
    "jupyter": {
     "outputs_hidden": false
    },
    "pycharm": {
     "name": "#%%\n"
    }
   },
   "outputs": [],
   "source": [
    "astring = \"Hello world!\"\n",
    "\n",
    "print(len(astring)) #That prints out 12, because \"Hello world!\" is 12 characters long, including punctuation and spaces."
   ]
  },
  {
   "cell_type": "markdown",
   "metadata": {},
   "source": [
    "`str.index()`: does the same as `list.index()`"
   ]
  },
  {
   "cell_type": "code",
   "execution_count": null,
   "metadata": {
    "collapsed": false,
    "jupyter": {
     "outputs_hidden": false
    },
    "pycharm": {
     "name": "#%%\n"
    }
   },
   "outputs": [],
   "source": [
    "astring = \"Hello world!\"\n",
    "print(astring.index(\"o\"))"
   ]
  },
  {
   "cell_type": "markdown",
   "metadata": {
    "collapsed": false,
    "jupyter": {
     "outputs_hidden": false
    },
    "pycharm": {
     "name": "#%% md\n"
    }
   },
   "source": [
    "That prints out 4, because the location of the first occurrence of the letter \"o\" is 4 characters away from the first character. Notice how there are actually two o's in the phrase - this method only recognizes the first.\n",
    "\n",
    "But why didn't it print out 5? Remember that containers in Python are 0-indexed, i.e., the index of the first element is 0."
   ]
  },
  {
   "cell_type": "markdown",
   "metadata": {},
   "source": [
    "`str.count()`: does the same as `list.count()`"
   ]
  },
  {
   "cell_type": "code",
   "execution_count": null,
   "metadata": {
    "collapsed": false,
    "jupyter": {
     "outputs_hidden": false
    },
    "pycharm": {
     "name": "#%%\n"
    }
   },
   "outputs": [],
   "source": [
    "astring = \"Hello world!\"\n",
    "print(astring.count(\"l\"))"
   ]
  },
  {
   "cell_type": "markdown",
   "metadata": {},
   "source": [
    "`[]` operator: allows indexing of the string. As with the list, it will return the element of the positioned index"
   ]
  },
  {
   "cell_type": "code",
   "execution_count": null,
   "metadata": {},
   "outputs": [],
   "source": [
    "astring = \"Hello world!\"\n",
    "print (astring[0])"
   ]
  },
  {
   "cell_type": "code",
   "execution_count": null,
   "metadata": {
    "collapsed": false,
    "jupyter": {
     "outputs_hidden": false
    },
    "pycharm": {
     "name": "#%%\n"
    }
   },
   "outputs": [],
   "source": [
    "astring = \"Hello world!\"\n",
    "print(astring[3:7])"
   ]
  },
  {
   "cell_type": "markdown",
   "metadata": {
    "collapsed": false,
    "jupyter": {
     "outputs_hidden": false
    },
    "pycharm": {
     "name": "#%% md\n"
    }
   },
   "source": [
    "Something we skipped before was slicing, with syntax `[n:m]`. This prints a slice of the string, starting at index 3, and ending at index 6. But why 6 and not 7? Again, most programming languages do this - it makes doing math inside those brackets easier. This will return a string (or container in general) that contains the elements in the open interval `[n,m)`\n",
    "\n",
    "If you just have one number in the brackets, it will give you the single character at that index. If you leave out the first number but keep the colon, it will give you a slice from the start to the number you left in. If you leave out the second number, it will give you a slice from the first number to the end.\n",
    "\n",
    "You can even put negative numbers inside the brackets. They are an easy way of starting at the end of the string instead of the beginning. This way, -3 means \"3rd character from the end\"."
   ]
  },
  {
   "cell_type": "code",
   "execution_count": null,
   "metadata": {
    "collapsed": false,
    "jupyter": {
     "outputs_hidden": false
    },
    "pycharm": {
     "name": "#%%\n"
    }
   },
   "outputs": [],
   "source": [
    "astring = \"Hello world!\"\n",
    "print(astring[3:7:2])"
   ]
  },
  {
   "cell_type": "markdown",
   "metadata": {
    "collapsed": false,
    "jupyter": {
     "outputs_hidden": false
    },
    "pycharm": {
     "name": "#%% md\n"
    }
   },
   "source": [
    "This prints the characters of string from 3 to 7 skipping one character. This is extended slice syntax. The general form is `[start:stop:step]`."
   ]
  },
  {
   "cell_type": "code",
   "execution_count": null,
   "metadata": {
    "collapsed": false,
    "jupyter": {
     "outputs_hidden": false
    },
    "pycharm": {
     "name": "#%%\n"
    }
   },
   "outputs": [],
   "source": [
    "astring = \"Hello world!\"\n",
    "print(astring[3:7])\n",
    "print(astring[3:7:1])"
   ]
  },
  {
   "cell_type": "markdown",
   "metadata": {
    "collapsed": false,
    "jupyter": {
     "outputs_hidden": false
    },
    "pycharm": {
     "name": "#%% md\n"
    }
   },
   "source": [
    "There is no `str.reverse()`, but you can reverse the string (and other containers) using `[::-1]`."
   ]
  },
  {
   "cell_type": "code",
   "execution_count": null,
   "metadata": {
    "collapsed": false,
    "jupyter": {
     "outputs_hidden": false
    },
    "pycharm": {
     "name": "#%%\n"
    }
   },
   "outputs": [],
   "source": [
    "astring = \"Hello world!\"\n",
    "print(astring[::-1]) \n",
    "print(astring) #Realize that the original string still conserves its original order. We will look into this later"
   ]
  },
  {
   "cell_type": "markdown",
   "metadata": {
    "collapsed": false,
    "jupyter": {
     "outputs_hidden": false
    },
    "pycharm": {
     "name": "#%% md\n"
    }
   },
   "source": [
    "`str.upper()` and `str.lower()` make a new string with all letters converted to uppercase and lowercase, respectively."
   ]
  },
  {
   "cell_type": "code",
   "execution_count": null,
   "metadata": {
    "collapsed": false,
    "jupyter": {
     "outputs_hidden": false
    },
    "pycharm": {
     "name": "#%%\n"
    }
   },
   "outputs": [],
   "source": [
    "astring = \"Hello world!\"\n",
    "print(astring.upper())\n",
    "print(astring.lower())"
   ]
  },
  {
   "cell_type": "markdown",
   "metadata": {
    "collapsed": false,
    "jupyter": {
     "outputs_hidden": false
    },
    "pycharm": {
     "name": "#%% md\n"
    }
   },
   "source": [
    "`str.startswith()` and `str.endswith()` are used to determine whether the string starts with something or ends with something, respectively. The first one will print True, as the string starts with \"Hello\". The second one will print False, as the string certainly does not end with \"asdfasdfasdf\"."
   ]
  },
  {
   "cell_type": "code",
   "execution_count": null,
   "metadata": {
    "collapsed": false,
    "jupyter": {
     "outputs_hidden": false
    },
    "pycharm": {
     "name": "#%%\n"
    }
   },
   "outputs": [],
   "source": [
    "astring = \"Hello world!\"\n",
    "print(astring.startswith(\"Hello\"))\n",
    "print(astring.endswith(\"asdfasdfasdf\"))"
   ]
  },
  {
   "cell_type": "markdown",
   "metadata": {
    "collapsed": false,
    "jupyter": {
     "outputs_hidden": false
    },
    "pycharm": {
     "name": "#%% md\n"
    }
   },
   "source": [
    "`str.split()` splits the string into a bunch of strings grouped together in a `list()`. Since this example splits at a space, the first item in the list will be \"Hello\", and the second will be \"world!\"."
   ]
  },
  {
   "cell_type": "code",
   "execution_count": null,
   "metadata": {
    "collapsed": false,
    "jupyter": {
     "outputs_hidden": false
    },
    "pycharm": {
     "name": "#%%\n"
    }
   },
   "outputs": [],
   "source": [
    "astring = \"Hello world!\"\n",
    "afewwords = astring.split(\" \")\n",
    "\n",
    "print(afewwords)"
   ]
  },
  {
   "cell_type": "markdown",
   "metadata": {},
   "source": [
    "## 4.1 Coding exercises on Operators\n",
    "### In the cell below, there are some coding problems for you to solve in order to practice the concept of operators in python. Give them a try!!"
   ]
  },
  {
   "cell_type": "code",
   "execution_count": null,
   "metadata": {},
   "outputs": [],
   "source": [
    "# 4.1.1. \n",
    "# Take two numbers a and b.\n",
    "# Print their sum, difference, product, quotient, and remainder.\n",
    "\n",
    "# 4.1.2. \n",
    "# Given: radius = 7\n",
    "# Calculate and print the area of the circle using: area = π * r^2\n",
    "# Use π = 3.14159\n",
    "\n",
    "\n",
    "\n",
    "# 4.1.3. \n",
    "# Convert temp_celsius = 36.6 to Fahrenheit.\n",
    "# Use the formula: F = C * 9/5 + 32\n",
    "\n",
    "\n",
    "# 4.1.4 \n",
    "# Given: principal (P) = 1000, rate (R) = 5, time (T) = 2\n",
    "# Calculate compound interest using: CI = P * (1 + R/100)^T - P\n",
    "\n",
    "\n",
    "# 4.1.5. \n",
    "# Given a number n, print whether it is even or odd.\n",
    "\n",
    "\n",
    "# 4.1.6. \n",
    "# Take three numbers and print the largest one.\n",
    "\n",
    "# 4.1.7. \n",
    "# Calculate 5 raised to the power of 3.\n",
    "# Calculate the square root of 81 using ** 0.5.\n",
    "\n",
    "\n",
    "# 4.1.8. \n",
    "# Calculate and print how many seconds there are in one day.\n",
    "\n",
    "\n",
    "\n",
    "# 4.1.9. \n",
    "# From the string \"PythonProgramming\", print:\n",
    "# - the first 6 characters\n",
    "# - the last 5 characters\n",
    "# - characters from index 2 to 8\n",
    "\n",
    "# 4.1.10 \n",
    "# Given a string \"UniversityBonn\", print it in reverse order.\n",
    "\n",
    "# 4.1.11. \n",
    "# Count how many times the letter \"a\" appears in the string \"banana apple mango\".\n",
    "\n",
    "\n",
    "\n",
    "# 4.1.12.\n",
    "# creat a list of 5 favourite countries of yours.\n",
    "# Sort the list in alphabetical order and print it.\n",
    "# Then reverse the sorted list and print it again.\n",
    "\n",
    "\n",
    "# 4.1.13. \n",
    "# Create a list of numbers: [3, 7, 2, 9, 4]\n",
    "# Print:\n",
    "# - the max number\n",
    "# - the min number\n",
    "# - the sum of all numbers\n",
    "# - the average\n",
    "\n"
   ]
  },
  {
   "cell_type": "markdown",
   "metadata": {
    "collapsed": false,
    "jupyter": {
     "outputs_hidden": false
    },
    "pycharm": {
     "name": "#%% md\n"
    }
   },
   "source": [
    "# 5. Conditions\n",
    "-------------------\n",
    "Python uses boolean logic to evaluate conditions, and logical operators to define such conditions. This means that the value of such a boolean condition or expression can either be `True` or `False`. \n"
   ]
  },
  {
   "cell_type": "markdown",
   "metadata": {},
   "source": [
    "## Comparison operators\n",
    "\n",
    "1. Equal operator `==` and unequal operator `!=`\n",
    "2. Greater than operator `>` and greater than or equal to operator `>=`\n",
    "3. Less than operator `<` and less than or equal to operator `<=`"
   ]
  },
  {
   "cell_type": "markdown",
   "metadata": {},
   "source": [
    "**Examples**"
   ]
  },
  {
   "cell_type": "code",
   "execution_count": null,
   "metadata": {
    "collapsed": false,
    "jupyter": {
     "outputs_hidden": false
    },
    "pycharm": {
     "name": "#%%\n"
    }
   },
   "outputs": [],
   "source": [
    "x = 2\n",
    "print(x == 2) # prints out True\n",
    "print(x == 3) # prints out False\n",
    "print(x < 3) # prints out True"
   ]
  },
  {
   "cell_type": "markdown",
   "metadata": {},
   "source": [
    "Notice that variable assignment is done using a single equals operator `=`, whereas comparison between two variables is done using the double equals operator `==`.\n"
   ]
  },
  {
   "cell_type": "markdown",
   "metadata": {},
   "source": [
    "## `If`, `elif`, `else` statements and code blocks"
   ]
  },
  {
   "cell_type": "markdown",
   "metadata": {},
   "source": [
    "Conditions are normally used to run different code when these conditions are `True` compared to when they are `False`. This is laid out with `if` + your condition + `:`."
   ]
  },
  {
   "cell_type": "code",
   "execution_count": null,
   "metadata": {},
   "outputs": [],
   "source": [
    "x = 2\n",
    "if x == 2:\n",
    "    print(\"x equals two!\")\n",
    "else:\n",
    "    print(\"x does not equal to two.\")"
   ]
  },
  {
   "cell_type": "markdown",
   "metadata": {},
   "source": [
    "In the next line after a colon, you must increase the level of indentation by 1 (either an extra tab or any number extra spaces compared to the previous line, as long as this number is consistent throughout yout code), and write the code that will run only when the condition is fulfilled.\n"
   ]
  },
  {
   "cell_type": "code",
   "execution_count": null,
   "metadata": {},
   "outputs": [],
   "source": [
    "x=10\n",
    "if x>2:\n",
    "    print(\"x is greater than 2\")\n",
    "    if x<100:\n",
    "        print(\"x is lower than 100\")\n",
    "        if x==10:\n",
    "            print(\"x is equal to 10\") #This keyword just allows you to write a block that does nothing"
   ]
  },
  {
   "cell_type": "markdown",
   "metadata": {},
   "source": [
    "When you return to a lower level of indentation (less tabs or white spaces than a previous line), the blocks at a higher level of indentation than your current level are considered to be over."
   ]
  },
  {
   "cell_type": "code",
   "execution_count": null,
   "metadata": {},
   "outputs": [],
   "source": [
    "if True: #Level 0\n",
    "    if True: #Level 1, run if condition in Level 0 is true\n",
    "        if False: #Level 2, run if condition in Level 1 is true\n",
    "            pass #Level 3 , run if condition in Level 2 is true\n",
    "        pass #Level 2, run if condition in Level 1 is true, run after the previous block (Level 3) is run or not.\n",
    "pass #Level 0, run at the end, not subject to a condition"
   ]
  },
  {
   "cell_type": "markdown",
   "metadata": {},
   "source": [
    "The code that will run when the condition is met is all the code of higher levels of indentation (if the level is higher than level + 1, their respective conditions will have to be met too). \n",
    "\n",
    "The keyword `else:` can only be used after an `if` + condition has been used, and will make a block of code that is run when the condition in the `if` statement is false. \n",
    "\n",
    "`elif` + condition means `else if` + condition, and can only be used after an `if` statement too. In this statement the condition will only be checked if the condition in the previous `if` and `lif` statements are false, and if both the `if` condition is false, all the previous `elif` conditions are false and this `elif` condition is true, the block will be executed.\n"
   ]
  },
  {
   "cell_type": "code",
   "execution_count": null,
   "metadata": {},
   "outputs": [],
   "source": [
    "#Play around with these boolean values\n",
    "condition1=True\n",
    "condition2=True\n",
    "condition3=True\n",
    "condition4=True\n",
    "condition5=True\n",
    "\n",
    "if condition1:\n",
    "    print(\"Condition 1 is true\")\n",
    "    if condition3:\n",
    "        print(\"Condition 3 is true\")\n",
    "    #If you write code here, elif will no see the previous if statement and and error will occur\n",
    "    elif condition4:\n",
    "        print(\"Condition 4 is true and condition 3 is false\")\n",
    "elif condition2:\n",
    "    print(\"Condition 2 is true, and condition 1 is false\")\n",
    "else:\n",
    "    if condition5:\n",
    "        print(\"Condition 5 is true\")\n",
    "    else:\n",
    "        print(\"Conditions 1, 2 and 5 are false\")"
   ]
  },
  {
   "cell_type": "markdown",
   "metadata": {
    "collapsed": false,
    "jupyter": {
     "outputs_hidden": false
    },
    "pycharm": {
     "name": "#%% md\n"
    }
   },
   "source": [
    "For example:"
   ]
  },
  {
   "cell_type": "markdown",
   "metadata": {
    "collapsed": false,
    "jupyter": {
     "outputs_hidden": false
    },
    "pycharm": {
     "name": "#%% md\n"
    }
   },
   "source": [
    "\n",
    "## Boolean logical operators\n",
    "\n",
    "The `and`, `or` and `not` boolean operators allow the combination of other boolean expressions. They act exactly the same as the classic logic operators AND, OR and NOT."
   ]
  },
  {
   "cell_type": "code",
   "execution_count": null,
   "metadata": {
    "collapsed": false,
    "jupyter": {
     "outputs_hidden": false
    },
    "pycharm": {
     "name": "#%%\n"
    }
   },
   "outputs": [],
   "source": [
    "name = \"John\"\n",
    "age = 23\n",
    "\n",
    "if name == \"John\" and age == 23: #Composed condition is true when both are true\n",
    "    print(\"Your name is John, and you are also 23 years old.\")\n",
    "\n",
    "if name == \"John\" or name == \"Rick\": #Composed condition is true when one or both are true\n",
    "    print(\"Your name is either John or Rick.\")\n",
    "\n",
    "if not (name == \"Clark\" or name == \"Rick\"): #Composed condition is true when the condition without the `not` is false\n",
    "    print(\"Your name is neither Clark nor Rick.\")"
   ]
  },
  {
   "cell_type": "markdown",
   "metadata": {
    "collapsed": false,
    "jupyter": {
     "outputs_hidden": false
    },
    "pycharm": {
     "name": "#%% md\n"
    }
   },
   "source": [
    "## The membership operators\n",
    "The `in` operator, and its combination with `not`, `not in` could be used to check if a specified object is or is not contained within an _iterable_ object container (we will discuss ththe meaning of iterable later), such as a list:"
   ]
  },
  {
   "cell_type": "code",
   "execution_count": null,
   "metadata": {
    "collapsed": false,
    "jupyter": {
     "outputs_hidden": false
    },
    "pycharm": {
     "name": "#%%\n"
    }
   },
   "outputs": [],
   "source": [
    "name = \"John\"\n",
    "if name in [\"John\", \"Rick\"]:\n",
    "    print(\"Your name is either John or Rick.\")\n",
    "if name not in [\"Clark\", \"Rick\"]:\n",
    "    print(\"Your name is neither Clark nor Rick.\")"
   ]
  },
  {
   "cell_type": "markdown",
   "metadata": {
    "collapsed": false,
    "jupyter": {
     "outputs_hidden": false
    },
    "pycharm": {
     "name": "#%% md\n"
    }
   },
   "source": [
    "A statement is evaulated as `True` if one of the following is correct:\n",
    "1. The \"True\" boolean variable is given, or calculated using an expression, such as an arithmetic comparison.\n",
    "2. An object which is not considered \"empty\" is passed.\n",
    "\n",
    "Here are some examples for objects which are considered as `False`:\n",
    "1. An empty string: `\"\"`\n",
    "2. An empty list: `[]`\n",
    "3. The number zero: `0`\n",
    "4. The false boolean variable: `False`\n",
    "\n",
    "Every other form of the same objects (`\"Hello World!\"`, `[1]`, etc) is considered to be `True`.\n",
    "\n",
    "<!-- **Side note**: This is the case because boolean values, `True` and `False` are implemented as derived from the integers `1` and `0` respectively. More correctly, `True` is any integer not equal to zero.  -->"
   ]
  },
  {
   "cell_type": "markdown",
   "metadata": {
    "collapsed": false,
    "jupyter": {
     "outputs_hidden": false
    },
    "pycharm": {
     "name": "#%% md\n"
    }
   },
   "source": [
    "## The identity operators\n",
    "\n",
    "Unlike the equivalence operator `==`, the `is` operator evaluates identity, i.e. `x is y` evaluates whether `x` and `y` point at exactly the same underlying object. \n",
    "\n",
    "For example:\n"
   ]
  },
  {
   "cell_type": "code",
   "execution_count": null,
   "metadata": {
    "collapsed": false,
    "jupyter": {
     "outputs_hidden": false
    },
    "pycharm": {
     "name": "#%%\n"
    }
   },
   "outputs": [],
   "source": [
    "x = [1,2,3]\n",
    "y = [1,2,3]\n",
    "print(x == y) # Prints out True\n",
    "print(x is y) # Prints out False, because x and y are different lists with the same contents\n",
    "x = y\n",
    "print(x is y) # Prints out True, because now x and y point to the same list"
   ]
  },
  {
   "cell_type": "markdown",
   "metadata": {},
   "source": [
    "## 5.1 Coding exercises on Conditions\n",
    "### In the cell below, there are some coding problems for you to solve in order to practice the concept of conditions in python. Give them a try!!"
   ]
  },
  {
   "cell_type": "code",
   "execution_count": null,
   "metadata": {},
   "outputs": [],
   "source": [
    "# 5.1.1. \n",
    "# Take a year, check if it's a leap year and print it:\n",
    "# - Leap year if divisible by 4\n",
    "# - Not a leap year if divisible by 100 but not 400\n",
    "\n",
    "# 5.1.2.\n",
    "# Take an age and print the classifcation:\n",
    "# - \"Child\" if age < 13\n",
    "# - \"Teenager\" if 13 <= age < 20\n",
    "# - \"Adult\" if 20 <= age < 60\n",
    "# - \"Senior\" if age >= 60\n",
    "\n",
    "# 5.1.3\n",
    "# give a password string:\n",
    "# - Print \"Strong\" if it has at least 8 characters and includes a digit\n",
    "# - Otherwise, print \"Weak\"\n",
    "# print which of these passwords from the list: [ \"welcome123\", \"abc\",  \"PythonRocks9\", \"password\", \"Code2025\"] are strong and which ones are week\n",
    "\n",
    "\n",
    "# 5.1.4\n",
    "# Take three side lengths (a, b, c) and determine:\n",
    "# - \"Equilateral\" if all sides are equal\n",
    "# - \"Isosceles\" if two sides are equal\n",
    "# - \"Scalene\" if all sides are different\n",
    "# - Also check: can they form a triangle? (sum of any 2 sides must be greater than the third)\n",
    "\n",
    "# 5.1.5\n",
    "# Odd or Even & Divisible by 3\n",
    "# Take a number and print:\n",
    "# - \"Even and divisible by 3\"\n",
    "# - \"Even but not divisible by 3\"\n",
    "# - \"Odd and divisible by 3\"\n",
    "# - \"Odd and not divisible by 3\""
   ]
  },
  {
   "cell_type": "markdown",
   "metadata": {
    "collapsed": false,
    "jupyter": {
     "outputs_hidden": false
    },
    "pycharm": {
     "name": "#%% md\n"
    }
   },
   "source": [
    "# 6. Loops\n",
    "--------------------------------\n",
    "A loop in programming is a block of code that is repeatedly executed under a series of conditions.\n",
    "\n",
    "## First, iterable objects\n",
    "\n",
    "An _iterable_ object in Python is something you can loop over or go through item by item. Imagine it like a playlist: you can play each song (or item) one after the other. Its elements can be accessed one at a time in a sequence.\n",
    "\n",
    "Containers are a type of _iterable_ objects, as you can loop over their contained items.\n",
    "\n",
    "## The `for` loop\n",
    "\n",
    "`for` loops is used to iterate over the items of an _iterable_ object.\n"
   ]
  },
  {
   "cell_type": "code",
   "execution_count": null,
   "metadata": {},
   "outputs": [],
   "source": [
    "for i in \"Hello, World!\": #Remember a string is a container of characters\n",
    "    print (i) #The block is repeated until the string (or container) is finished\n",
    "print (\"Done\") #Outside of the loop, code only runs once"
   ]
  },
  {
   "cell_type": "code",
   "execution_count": null,
   "metadata": {
    "collapsed": false,
    "jupyter": {
     "outputs_hidden": false
    },
    "pycharm": {
     "name": "#%%\n"
    }
   },
   "outputs": [],
   "source": [
    "primes = [2, 3, 5, 7]\n",
    "for prime in primes:\n",
    "    print(prime)"
   ]
  },
  {
   "cell_type": "markdown",
   "metadata": {
    "collapsed": false,
    "jupyter": {
     "outputs_hidden": false
    },
    "pycharm": {
     "name": "#%% md\n"
    }
   },
   "source": [
    "A non-container type of iterable object is a `range()` object. A range object (with form `range(start,end,step)`,`range(start,end)` or `range(end)`) will let you iterate over numbers from `start` up until but not including `end` with stepsize `step`."
   ]
  },
  {
   "cell_type": "code",
   "execution_count": null,
   "metadata": {
    "collapsed": false,
    "jupyter": {
     "outputs_hidden": false
    },
    "pycharm": {
     "name": "#%%\n"
    }
   },
   "outputs": [],
   "source": [
    "# Prints out the numbers 0,1,2,3,4; assumes start is zero and assumes step is one\n",
    "for x in range(5):\n",
    "    print(x)\n",
    "print() #just an empty line\n",
    "# Prints out 3,4,5; assumes step is one\n",
    "for x in range(3, 6):\n",
    "    print(x)\n",
    "print()\n",
    "# Prints out 3,5,7\n",
    "for x in range(3, 8, 2):\n",
    "    print(x)"
   ]
  },
  {
   "cell_type": "markdown",
   "metadata": {},
   "source": [
    "**Side note**: Iterable list construction."
   ]
  },
  {
   "cell_type": "code",
   "execution_count": null,
   "metadata": {},
   "outputs": [],
   "source": [
    "mylist1=list(range(9))\n",
    "mylist2 =[i for i in range (9)]\n",
    "print(mylist1, mylist2)"
   ]
  },
  {
   "cell_type": "markdown",
   "metadata": {
    "collapsed": false,
    "jupyter": {
     "outputs_hidden": false
    },
    "pycharm": {
     "name": "#%% md\n"
    }
   },
   "source": [
    "## `while` loops\n",
    "\n",
    "`while` loops repeat the contained code block as long as a certain boolean condition is `True`. For example:\n",
    "\n"
   ]
  },
  {
   "cell_type": "code",
   "execution_count": null,
   "metadata": {
    "collapsed": false,
    "jupyter": {
     "outputs_hidden": false
    },
    "pycharm": {
     "name": "#%%\n"
    }
   },
   "outputs": [],
   "source": [
    "count = 0\n",
    "while count < 5:\n",
    "    print(count)\n",
    "    count += 1  # This is the same as count = count + 1"
   ]
  },
  {
   "cell_type": "markdown",
   "metadata": {},
   "source": [
    "**Careful**: If you do not make sure the condition will eventually be false, the loop will repeat indefinitely."
   ]
  },
  {
   "cell_type": "markdown",
   "metadata": {
    "collapsed": false,
    "jupyter": {
     "outputs_hidden": false
    },
    "pycharm": {
     "name": "#%% md\n"
    }
   },
   "source": [
    "## `break` and `continue` keywords\n",
    "\n",
    "`break` is used to prematurely exit a for loop or a while loop, whereas `continue` is used to skip the current iteration, and return to the `for` or `while` statement. A few examples:"
   ]
  },
  {
   "cell_type": "code",
   "execution_count": null,
   "metadata": {
    "collapsed": false,
    "jupyter": {
     "outputs_hidden": false
    },
    "pycharm": {
     "name": "#%%\n"
    }
   },
   "outputs": [],
   "source": [
    "# Prints out 0,1,2,3,4\n",
    "\n",
    "count = 0\n",
    "while True:\n",
    "    print(count)\n",
    "    count += 1\n",
    "    if count >= 5:\n",
    "        break"
   ]
  },
  {
   "cell_type": "code",
   "execution_count": null,
   "metadata": {
    "collapsed": false,
    "jupyter": {
     "outputs_hidden": false
    },
    "pycharm": {
     "name": "#%%\n"
    }
   },
   "outputs": [],
   "source": [
    "# Prints out only odd numbers - 1,3,5,7,9\n",
    "for x in range(10):\n",
    "    # Check if x is even\n",
    "    if x % 2 == 0: #The remainder of x is zero\n",
    "        continue\n",
    "    print(x)"
   ]
  },
  {
   "cell_type": "markdown",
   "metadata": {},
   "source": [
    "## 6.1 Coding exercises on Loops\n",
    "### In the cell below, there are some coding problems for you to solve in order to practice the concept of Looping in python. Give them a try!!"
   ]
  },
  {
   "cell_type": "code",
   "execution_count": null,
   "metadata": {},
   "outputs": [],
   "source": [
    "# 6.1.1.\n",
    "# Print all prime numbers between 10 and 50 using a for loop.\n",
    "\n",
    "\n",
    "\n",
    "# 6.1.2. \n",
    "# Take a number (e.g. 1234), use a loop to calculate the sum of its digits.\n",
    "\n",
    "# 6.1.3\n",
    "# Take a list like [1, 2, 3, 2, 4, 5, 1], print the duplicate elements (each only once).\n",
    "\n",
    "# 6.1.4\n",
    "# Given two lists below,  print the elements they have in common.\n",
    "# list1 = [1,2,13,9,8,17,5,72,18]\n",
    "# list2 = [2,5,8,63,9,20,76] \n",
    "\n",
    "# 6.1.5. \n",
    "# Given a nested list like [[1, 2], [3, 4], [5]], flatten it to a single list: [1, 2, 3, 4, 5]\n",
    "\n",
    "# 6.1.6.\n",
    "# Given a list of passwords, count how many are strong based on:\n",
    "# - Length ≥ 8\n",
    "# - Contains digit\n",
    "# - Contains uppercase letter\n",
    "# passwords =  [ \"Welcome123\", \"12345\",   \"PythonRocks9\", \"password\", \"Code2025\",\"qwerty\", \"P@ssw0rd123\",   \"short\",  \"SecurePass1\",    \"1234abcd\"  ]\n",
    "\n",
    "#6.1.7 \n",
    "# Find and print the index of the maximum value in a list (without using `max()` or `index()`).\n"
   ]
  },
  {
   "cell_type": "markdown",
   "metadata": {},
   "source": [
    "# 7. Dictionaries\n",
    "----------------------------------"
   ]
  },
  {
   "cell_type": "markdown",
   "metadata": {},
   "source": [
    "## Definition\n",
    "\n",
    "So far you should have seen the following built-in types (classes which comes with the python interpreter):\n",
    "- **Numeric types**: `int`, `float`\n",
    "- **Boolean type** `bool`\n",
    "- **Sequence types**: `list`, `tuple`, `str`\n",
    "\n",
    "Now we will introduce another frequently used built-in type, classified as a **Mapping type**: the `dict`.\n",
    "\n",
    "A dictionary is a data type similar to lists, but works with keys and values instead of indexes. This means that each value stored in a dictionary can be accessed using a key (for example, a string) instead of using its index to address it."
   ]
  },
  {
   "cell_type": "code",
   "execution_count": null,
   "metadata": {
    "jupyter": {
     "is_executing": true
    }
   },
   "outputs": [],
   "source": [
    "# Example 1. A database of phone numbers could be stored using a dictionary like this:\n",
    "\n",
    "# create a dictionary using the {} syntax\n",
    "phonebook = {\n",
    "    \"John\" : 938477566, # \"John\" is a key, 938477566 is a value\n",
    "    \"Jack\" : 938377264,\n",
    "    \"Jill\" : 947662781\n",
    "}\n",
    "\n",
    "# print a dictionary\n",
    "print(phonebook)\n",
    "\n",
    "# print only the number of John\n",
    "print(phonebook[\"John\"])"
   ]
  },
  {
   "cell_type": "markdown",
   "metadata": {},
   "source": [
    "## Useful Properties\n",
    "\n",
    "Dictionaries have the following important properties:\n",
    "- **Mutable**: you can add and remove key-value pairs from a dictionary, and you can change the value associated with a key\n",
    "- **Iterable**: you can loop over a dictionary\n",
    "- **Multi-Type**: the keys and values in a dictionary can be of any type"
   ]
  },
  {
   "cell_type": "code",
   "execution_count": null,
   "metadata": {},
   "outputs": [],
   "source": [
    "# Example 3. Delete and add a key-value pair from the dictionary like this:\n",
    "\n",
    "# check the dictionary we created in the last cell\n",
    "print(phonebook)\n",
    "\n",
    "# delete a key-value pair\n",
    "del phonebook[\"John\"]\n",
    "\n",
    "print(\"Deleted the 'John' key\\n\", phonebook)\n",
    "\n",
    "# add the key-value pair back\n",
    "phonebook[\"John\"] = 938477566\n",
    "\n",
    "# Notice that now 'John' is a the end! Do not rely on the order of the keys in a dictionary.\n",
    "print(\"Added the 'John' key back\\n\", phonebook)\n",
    "\n",
    "# John changed his number because he noticed that we were using it as an example, let's update it\n",
    "phonebook[\"John\"] = 100000000 + 1\n",
    "\n",
    "print(\"John changed his number\\n\", phonebook)"
   ]
  },
  {
   "cell_type": "code",
   "execution_count": null,
   "metadata": {},
   "outputs": [],
   "source": [
    "# Example 4. Iterate over the dictionary like this:\n",
    "phonebook = {\"John\" : 938477566, \"Jack\" : 938377264, \"Jill\" : 947662781}\n",
    "\n",
    "for key in phonebook:\n",
    "\n",
    "    print(\"The key\", key, \"has the value\", phonebook[key])"
   ]
  },
  {
   "cell_type": "code",
   "execution_count": null,
   "metadata": {},
   "outputs": [],
   "source": [
    "# Example 5. Add a key-value pair with totally different types\n",
    "\n",
    "phonebook[72] = 1.1 # key is an integer, value is a float\n",
    "phonebook[(1, 2)] = [3,4,5] # key is a tuple, value is a list\n",
    "\n",
    "for key in phonebook:\n",
    "\n",
    "    print(\"The key\", key, \"has the value\", phonebook[key])"
   ]
  },
  {
   "cell_type": "markdown",
   "metadata": {},
   "source": [
    "## Useful Methods\n",
    "As any type (also called class) in Python, dictionaries have some methods that can be used to manipulate them in more advance ways.\n",
    "I warmly suggest that you start exploring the [official documentation](https://docs.python.org/3/library/stdtypes.html#mapping-types-dict), where you can find all of them.\n",
    "\n",
    "Here are the most useful ones:\n",
    "- `dict.keys()`: returns a new view of the dictionary's keys\n",
    "- `dict.values()`: returns a new view of the dictionary's values\n",
    "- `dict.items()`: returns a new view of the dictionary's items (key-value pairs)"
   ]
  },
  {
   "cell_type": "code",
   "execution_count": null,
   "metadata": {},
   "outputs": [],
   "source": [
    "print(phonebook.values())\n",
    "print(phonebook.keys())\n",
    "print(phonebook.items())"
   ]
  },
  {
   "cell_type": "markdown",
   "metadata": {},
   "source": [
    "# 8. Functions\n",
    "----------------------\n",
    "\n",
    "A\n",
    "function is a\n",
    "block\n",
    "of\n",
    "organized, reusable\n",
    "code\n",
    "that is used\n",
    "to\n",
    "perform\n",
    "a\n",
    "single\n",
    "action.Functions\n",
    "provide\n",
    "better\n",
    "modularity\n",
    "for your application and a high degree of code reusing.\n",
    "\n",
    "As\n",
    "you\n",
    "already\n",
    "know, Python\n",
    "gives\n",
    "you\n",
    "many\n",
    "built - in functions\n",
    "like\n",
    "print(), etc.but\n",
    "you\n",
    "can\n",
    "also\n",
    "create\n",
    "your\n",
    "own\n",
    "functions.These\n",
    "functions\n",
    "are\n",
    "called\n",
    "_user - defined\n",
    "functions_.\n",
    "\n",
    "## How do you write functions in Python?\n",
    "\n",
    "As\n",
    "we\n",
    "have\n",
    "seen\n",
    "on\n",
    "previous\n",
    "tutorials, Python\n",
    "makes\n",
    "use\n",
    "of\n",
    "blocks.\n",
    "\n",
    "A\n",
    "block is a\n",
    "area\n",
    "of\n",
    "code\n",
    "of\n",
    "written in the\n",
    "format\n",
    "of:\n",
    "```\n",
    "block_head:\n",
    "1\n",
    "st\n",
    "block\n",
    "line\n",
    "2\n",
    "nd\n",
    "block\n",
    "line\n",
    "...\n",
    "```\n",
    "\n",
    "Where\n",
    "a\n",
    "block\n",
    "line is more\n",
    "Python\n",
    "code(even\n",
    "another\n",
    "block), and the block head is of the following format: block_keyword block_name(argument1, argument2, ...) Block keywords you already know are \"if\", \"for\", and \"while\".\n",
    "\n",
    "Functions in python\n",
    "are\n",
    "defined\n",
    "using\n",
    "the\n",
    "block\n",
    "keyword\n",
    "\"def\", followed\n",
    "with the function's name as the block's name.For example:"
   ]
  },
  {
   "cell_type": "code",
   "execution_count": null,
   "metadata": {},
   "outputs": [],
   "source": [
    "def my_function():\n",
    "    print(\"Hello From My Function!\")"
   ]
  },
  {
   "cell_type": "markdown",
   "metadata": {},
   "source": [
    "Functions may also receive arguments (variables passed from the caller to the function). For example:\n"
   ]
  },
  {
   "cell_type": "code",
   "execution_count": null,
   "metadata": {},
   "outputs": [],
   "source": [
    "def my_function_with_args(username, greeting):\n",
    "    print(\"Hello, %s , From My Function!, I wish you %s\"%(username, greeting))"
   ]
  },
  {
   "cell_type": "code",
   "execution_count": null,
   "metadata": {},
   "outputs": [],
   "source": [
    "def sum_two_numbers(a, b):\n",
    "    return a + b"
   ]
  },
  {
   "cell_type": "markdown",
   "metadata": {},
   "source": [
    "## How do you call functions in Python?m\n",
    "\n",
    "Simply write the function's name followed by `()`, placing any required arguments within the brackets. For example, lets call the functions written above (in the previous example):"
   ]
  },
  {
   "cell_type": "code",
   "execution_count": null,
   "metadata": {},
   "outputs": [],
   "source": [
    "# Define our 3 functions\n",
    "def my_function():\n",
    "    print(\"Hello From My Function!\")\n",
    "\n",
    "def my_function_with_args(username, greeting):\n",
    "    print(\"Hello, %s, From My Function!, I wish you %s\"%(username, greeting))\n",
    "\n",
    "def sum_two_numbers(a, b):\n",
    "    return a + b\n",
    "\n",
    "# print(a simple greeting)\n",
    "my_function()\n",
    "\n",
    "#prints - \"Hello, John Doe, From My Function!, I wish you a great year!\"\n",
    "my_function_with_args(\"John Doe\", \"Merry Christmas!\")\n",
    "\n",
    "# after this line x will hold the value 3!\n",
    "x = sum_two_numbers(1,2)"
   ]
  },
  {
   "cell_type": "markdown",
   "metadata": {},
   "source": [
    "## Number of Arguments\n",
    "\n",
    "By default, a function must be called with the correct number of arguments. Meaning that if your function expects 2 arguments, you have to call the function with 2 arguments, not more, and not less."
   ]
  },
  {
   "cell_type": "code",
   "execution_count": null,
   "metadata": {},
   "outputs": [],
   "source": [
    "def my_function(username, greeting):\n",
    "    print(\"Hello, %s, From My Function!, I wish you %s\"%(username, greeting))\n",
    "\n",
    "# call the function with only 1 argument\n",
    "my_function(\"John Doe\")"
   ]
  },
  {
   "cell_type": "markdown",
   "metadata": {},
   "source": [
    "This code will return a TypeError:\n",
    "\n",
    "```\n",
    "TypeError: my_function() missing 1 required positional argument: 'greeting'\n",
    "```\n"
   ]
  },
  {
   "cell_type": "markdown",
   "metadata": {},
   "source": [
    "## Keyword Arguments\n",
    "\n",
    "If you want to make sure that you call all the parameters in the function in the right order, you can use the keyword arguments in the function call.\n",
    "\n",
    "The keyword arguments are entered as a key-value pair, with the key being the parameter name, and the value being the argument to be passed."
   ]
  },
  {
   "cell_type": "code",
   "execution_count": null,
   "metadata": {
    "jupyter": {
     "is_executing": true
    }
   },
   "outputs": [],
   "source": [
    "my_function(greeting=\"a great year!\", username=\"John Doe\")"
   ]
  },
  {
   "cell_type": "markdown",
   "metadata": {},
   "source": [
    "## Default Arguments\n",
    "\n",
    "If you don't know how many arguments you will be passing to your function, or if you want to make some parameters optional, you can use default arguments."
   ]
  },
  {
   "cell_type": "code",
   "execution_count": null,
   "metadata": {},
   "outputs": [],
   "source": [
    "def my_function(username, greeting=\"a great year!\"):\n",
    "    print(\"Hello, %s, From My Function!, I wish you %s\"%(username, greeting))\n",
    "\n",
    "my_function(\"John Doe\")"
   ]
  },
  {
   "cell_type": "markdown",
   "metadata": {},
   "source": [
    "But we can also specify the value of the optional parameter:\n"
   ]
  },
  {
   "cell_type": "code",
   "execution_count": null,
   "metadata": {},
   "outputs": [],
   "source": [
    "my_function(\"John Doe\", \"an awesome day!\")"
   ]
  },
  {
   "cell_type": "code",
   "execution_count": null,
   "metadata": {},
   "outputs": [],
   "source": []
  },
  {
   "cell_type": "markdown",
   "metadata": {},
   "source": [
    "# Exercises\n",
    "-------------------------------"
   ]
  },
  {
   "cell_type": "markdown",
   "metadata": {},
   "source": [
    "1. **Easy**: If we have `a=5` and `b=10` write a piece of code that swaps the values of `a` and `b` without using literals (the actual numbers `10` and `5`). The code should work for any arbitrary value `a` and `b` may take (assuming they are always integers). **Bonus**: can you do it in a single line?"
   ]
  },
  {
   "cell_type": "code",
   "execution_count": null,
   "metadata": {},
   "outputs": [],
   "source": [
    "a=5\n",
    "b=10\n",
    "#Code"
   ]
  },
  {
   "cell_type": "markdown",
   "metadata": {},
   "source": [
    "2. **Easy**: Write a program that prints a triangle made of `*` of height `h`.\n",
    "\n",
    "Example:\n",
    "`h=5`\n",
    "\n",
    "`*`\n",
    "\n",
    "`**`\n",
    "\n",
    "`***`\n",
    "\n",
    "`****`\n",
    "\n",
    "`*****`"
   ]
  },
  {
   "cell_type": "code",
   "execution_count": null,
   "metadata": {},
   "outputs": [],
   "source": [
    "h=10\n",
    "#Code"
   ]
  },
  {
   "cell_type": "markdown",
   "metadata": {},
   "source": [
    "3. **Easy**: Do the same as the previous problem, but now the triangle should go back in width until width zero once it has reached its maximum width. Careful with even heights!\n",
    "\n",
    "Example: `h=5`\n",
    "\n",
    "`*`\n",
    "\n",
    "`**`\n",
    "\n",
    "`***`\n",
    "\n",
    "`**`\n",
    "\n",
    "`*`"
   ]
  },
  {
   "cell_type": "code",
   "execution_count": null,
   "metadata": {},
   "outputs": [],
   "source": [
    "h=10\n",
    "#Code"
   ]
  },
  {
   "cell_type": "markdown",
   "metadata": {},
   "source": [
    "4. **Easy** Write a function that prints out \"There is a vowel\" if there is a vowel in a given string or \"There are no vowels\" if there are no vowels. `'y'` is considered a vowel."
   ]
  },
  {
   "cell_type": "code",
   "execution_count": null,
   "metadata": {},
   "outputs": [],
   "source": [
    "s1=\"Python for neurosciEnce\"\n",
    "s2=\"RSRSNTclwtht\"\n",
    "s3=\"MNBVCXwqklgmnprtqwsdfghjklCXwqklgmnprtqwsgmnprtqwsdfghjkMNBlMNBVCXwqklgmnprtqwsdfghjklCXwqklgmnprtqwsgmnprtqwsdfghjkMNBlMNBVCXwqklgmnprqtqwsdfghjklCXwqklgmnprtqwsqgmnprtqwsdfghjkMNBlMNBVCXwqklgmnprtqwsdfghjklCXwqklgmnprtqqqwsgmnprtqwsdfghjkMNBlMNBVCXwqklgmnprtqwsdfghjklCXwqklgmnprtqwsgmnprtqwsdfghjkMNBl\"\n",
    "s4=\"MNBVCXwqklgmnprtqwsdfghjklCXwqklgmnprtqwsgmnprtqwsdfghjkMNBlMNBVCXwqklgmnprtqwsdfghjklCXwqklgmnprtqwsgmnprtqwsdfghjkMNBlMNBVCXwqklgmnprtbqwsdfghjklCXwqkelgmnprtqwsgmnprtqwsdfghjkMNBlMNBVCXwqaklgmnprtqwsdfghjklCXwqklgmnprtqwsgmnprtqwsdfghjkMNBlMNBVCXwqklgmnprtqwsdfghjklCXwqklgmnprtqwsigmnprtqwsdfghjkMNBl\"\n",
    "#Code"
   ]
  },
  {
   "cell_type": "markdown",
   "metadata": {},
   "source": [
    "5. **Easy** Do the same, but now write a function that prints the position and the vowels that are contained. This can be in any format you want."
   ]
  },
  {
   "cell_type": "code",
   "execution_count": null,
   "metadata": {},
   "outputs": [],
   "source": [
    "s1=\"Python for neurosciEnce\"\n",
    "s2=\"RSRSNTclwtht\"\n",
    "s3=\"MNBVCXwqklgmnprtqwsdfghjklCXwqklgmnprtqwsgmnprtqwsdfghjkMNBlMNBVCXwqklgmnprtqwsdfghjklCXwqklgmnprtqwsgmnprtqwsdfghjkMNBlMNBVCXwqklgmnprqtqwsdfghjklCXwqklgmnprtqwsqgmnprtqwsdfghjkMNBlMNBVCXwqklgmnprtqwsdfghjklCXwqklgmnprtqqqwsgmnprtqwsdfghjkMNBlMNBVCXwqklgmnprtqwsdfghjklCXwqklgmnprtqwsgmnprtqwsdfghjkMNBl\"\n",
    "s4=\"MNBVCXwqklgmnprtqwsdfghjklCXwqklgmnprtqwsgmnprtqwsdfghjkMNBlMNBVCXwqklgmnprtqwsdfghjklCXwqklgmnprtqwsgmnprtqwsdfghjkMNBlMNBVCXwqklgmnprtbqwsdfghjklCXwqkelgmnprtqwsgmnprtqwsdfghjkMNBlMNBVCXwqaklgmnprtqwsdfghjklCXwqklgmnprtqwsgmnprtqwsdfghjkMNBlMNBVCXwqklgmnprtqwsdfghjklCXwqklgmnprtqwsigmnprtqwsdfghjkMNBl\"\n"
   ]
  },
  {
   "cell_type": "markdown",
   "metadata": {},
   "source": [
    "6. **Intermediate** Write a program that prints out all the possible pairs between 1 and n, without repetitions, and only if the first number of the pair is greater than the second number."
   ]
  },
  {
   "cell_type": "code",
   "execution_count": null,
   "metadata": {},
   "outputs": [],
   "source": [
    "n=10\n",
    "#Code"
   ]
  },
  {
   "cell_type": "markdown",
   "metadata": {},
   "source": [
    "7. **Intermediate** Given a list of numbers from $1$ to $n$, write a program that prints out a list of the prime numbers within the list in descending order"
   ]
  },
  {
   "cell_type": "code",
   "execution_count": null,
   "metadata": {},
   "outputs": [],
   "source": [
    "num_list=[6,7,13,3,2,5,11,8,9,4,12,14,15,17,16,23,22,21,20,19,18]"
   ]
  },
  {
   "cell_type": "markdown",
   "metadata": {},
   "source": [
    "8. **Intermediate** The Fibonacci series is a numerical series that is constructed by adding the two previous numbers of the series to get the current number. The series starts with `0, 1`, so the next element would be `0+1=1`, so we now have `0, 1, 1`, if we repeat a couple of times we have `0, 1, 1, 2, 3, 5, 8`. So the formula to calculate the $n^{th}$ number of the sequence is $a_n=a_{n-1}+a_{n-2}$ where $a_n$ is the $n^{th}$ number of the sequence.\n",
    "\n",
    "Using what you have learnt, write in a cell code that would print the Fibonacci series up to the $n^{th}$ number of the series, where $n$ is stored in variable `n`."
   ]
  },
  {
   "cell_type": "code",
   "execution_count": null,
   "metadata": {},
   "outputs": [],
   "source": [
    "n=100\n",
    "#Code"
   ]
  },
  {
   "cell_type": "markdown",
   "metadata": {},
   "source": [
    "9. **Intermediate**: The famous FizzBuzz problem. Given a number `n`, print all numbers from `1` to `n`, each one in a new line, but with the following considerations:\n",
    "    - If the number is multiple of 3, instead of printing the number, print `\"Fizz\"`.\n",
    "    - If the number is multiple of 5, instead of printing the number, print `\"Buzz\"`.\n",
    "    - If the number is both multiple of 3 and 5, instead of printing the number, print `\"FizzBuzz\"`"
   ]
  },
  {
   "cell_type": "markdown",
   "metadata": {},
   "source": [
    "10. IGNORE THIS PROBLEM\n",
    "\n",
    "**Advanced**: Write a program that answers the following question for any arbitrary (lowercase) character:\n",
    "\n",
    "    **If we have a list of characters from `\"a\"` to another arbitrary character that is a part of the alphabet (e.g. from `\"a\"` to `\"z\"` would be the entire alphabet), and you are only allowed to increase a character to the next one (e.g. from `\"a\"` to `\"b\"`) one at a time, and only once every time you iterate over the whole list, how many times would you have to increase a character to reach letter `\"z\"`?**\n",
    "\n",
    "    For example, the list from `\"a\"` to `\"y\"` will need to increase every character once to reach `\"z\"` (`\"y\"`->`\"z\"`), so the answer would be 25.\n"
   ]
  },
  {
   "cell_type": "code",
   "execution_count": null,
   "metadata": {},
   "outputs": [],
   "source": [
    "final_letter=\"y\"\n",
    "mylist=[chr(i+97) for i in range (ord(final_letter[0])-96)] #Do not mind this line, it will just provide you with the list of characters for the problem\n",
    "\n",
    "\n",
    "#To increase a character, run the following line\n",
    "mylist[0]=chr(ord(mylist[0])+1)\n",
    "\n",
    "#Code\n"
   ]
  },
  {
   "cell_type": "markdown",
   "metadata": {},
   "source": [
    "11. **Advanced** You have two lists of integers, `keys` and `values`. The contents of `keys` are unique, but unsorted, while the values of `values` are neither unique nor sorted. Write a program that sorts both `keys` and `values` according to the sorting of `keys`. This means that the pairs`values[i]:keys[i]` should remain constant from before to after you run the program. The only thing that should change is how those pairs are ordered in the two lists."
   ]
  },
  {
   "cell_type": "code",
   "execution_count": null,
   "metadata": {},
   "outputs": [],
   "source": [
    "keys=[9,2,1,3,4,5,8,7,6,10,0]\n",
    "values=[0,5,5,2,3,9,8,5,2,1,10]"
   ]
  },
  {
   "cell_type": "code",
   "execution_count": null,
   "metadata": {},
   "outputs": [],
   "source": [
    "# Esercise 12\n",
    "# Create a function that takes a dictionary and return the sum of all the values in the dictionary."
   ]
  },
  {
   "cell_type": "code",
   "execution_count": null,
   "metadata": {},
   "outputs": [],
   "source": [
    "# Exercise 13\n",
    "# Create a function that count the number of times each letter appears in a string.\n",
    "\n",
    "# Tips: use a dictionary to store the letters and their counts. Remember strings are iterable objects (loopable)."
   ]
  },
  {
   "cell_type": "code",
   "execution_count": null,
   "metadata": {},
   "outputs": [],
   "source": [
    "# Exercise 14\n",
    "# Create a function that takes a list of numbers and returns the largest number in the list, using a for loop to find it."
   ]
  },
  {
   "cell_type": "code",
   "execution_count": null,
   "metadata": {},
   "outputs": [],
   "source": [
    "# Exercise 415\n",
    "# Create a function that takes a list of numbers and returns the largest number in the list,\n",
    "# using the built-in function max (https://docs.python.org/3/library/functions.html)."
   ]
  },
  {
   "cell_type": "code",
   "execution_count": null,
   "metadata": {},
   "outputs": [],
   "source": [
    "# Exercise 16\n",
    "# Compare the performance of the two functions using the timeit module (https://docs.python.org/3/library/timeit.html).\n",
    "import timeit"
   ]
  },
  {
   "cell_type": "code",
   "execution_count": null,
   "metadata": {},
   "outputs": [],
   "source": [
    "# Exercise 17\n",
    "# Create a function that takes a dictionary as argument, and returns a dictionary with only the keys which are strings starting with \"takeme\""
   ]
  },
  {
   "cell_type": "code",
   "execution_count": null,
   "metadata": {},
   "outputs": [],
   "source": [
    "# Esercise 18\n",
    "# Create a function that asks the user to input a number and then print the number multiplied by 2.\n",
    "\n",
    "# Tips: use the built-in function `input()`"
   ]
  },
  {
   "cell_type": "code",
   "execution_count": null,
   "metadata": {},
   "outputs": [],
   "source": [
    "# Esercise 19\n",
    "\n",
    "# Here is a dictionary with some food and the respective kcal:\n",
    "food = {\"apple\": 52, \"banana\": 89, \"milk\": 42, \"bread\": 265, \"butter\": 102, \"cheese\": 402}\n",
    "# Here is a dictionary with some activities and the burned kcal:\n",
    "activities = {\"running\": 100, \"swimming\": 200, \"cycling\": 300, \"walking\": 400, \"dancing\": 500}\n",
    "\n",
    "# Create a class called `Person` with the following attributes: food, activities, weight, eaten_calories, burned_calories\n",
    "# eaten_calories and burned_calories should be initialized with 0, the other attributes with arguments passed to __init__\n",
    "# The class should have the following methods: eat, live, update_weight\n",
    "# eat should take a string as argument and add the respective kcal to eaten_calories\n",
    "# live should take a string as argument and add the respective kcal to burned_calories\n",
    "# update_weight should update the weight of the person based on the formula: weight = weight + (eaten_calories - burned_calories) / 2\n",
    "\n",
    "# Uncomment the following line to create Bob:\n",
    "# bob = Person(food, activities, weight=80)\n",
    "\n",
    "# Bob eats two apples, a banana and drinks a glass of milk; then he goes running; then he eats a slice of bread with butter and cheese;\n",
    "# Print the final weight of Bob."
   ]
  },
  {
   "cell_type": "code",
   "execution_count": null,
   "metadata": {},
   "outputs": [],
   "source": [
    "# Exercise 20 (ADVANCED)\n",
    "# Create a class called 'Student'.\n",
    "# Each object of the type 'Student' should have the following attributes: name, age, sex, favorite_color;\n",
    "# All the attributes should be initialized with arguments passed to __init__;\n",
    "# Each object of the type 'Student' should have the following methods: change_name, grow_up, change_sex, change_favorite_color;\n",
    "# The method change_name should take a string as argument and change the name of the student; the same for the other methods.\n",
    "\n",
    "# Create a class called 'Apartment'.\n",
    "# Each object of the type 'Apartment' should have the following attributes: max_name_len, minimum_age, required_sex, forbidden_colors;\n",
    "# All the attributes should be initialized with arguments passed to __init__;\n",
    "# Each object of the type 'Apartment' should have the following methods: add_student\n",
    "# The method add_student should take a student object as argument and add it to the apartment only if the student satisfies the following conditions:\n",
    "# the name of the student is shorter than max_name_len\n",
    "# the age of the student is greater than minimum_age\n",
    "# the sex of the student is equal to the required_sex\n",
    "# the favorite_color of the student is not in forbidden_colors\n",
    "# In the case in which the student satisfies all the conditions, the method should print \"STUDENT_NAME was accepted!\",\n",
    "# otherwise it should print \"STUDENT_NAME was rejected because of its UNMET_CONDITION\".\n",
    "\n",
    "# Uncomment and run the following code to test your classes\n",
    "# students = [Student(\"John\", 19, \"M\", \"blue\"), Student(\"Jane\", 22, \"F\", \"red\"), Student(\"Jack\", 21, \"M\", \"green\"), Student(\"Jill\", 23, \"F\", \"yellow\")]\n",
    "# apartment = Apartment(max_name_len=5, minimum_age=20, sex = 'F', forbidden_colors = ['red', 'green'])\n",
    "# apartment.add_student(students[0])\n",
    "# apartment.add_student(students[1])\n",
    "# apartment.add_student(students[2])\n",
    "# apartment.add_student(students[3])\n",
    "\n",
    "# Using the methods of the Student class, make all the students accepted by the apartment."
   ]
  },
  {
   "cell_type": "code",
   "execution_count": null,
   "metadata": {},
   "outputs": [],
   "source": [
    "# Exercise 21 (ADVANCED)\n",
    "# Create a program to play the \"Not Too Clever Game\".\n",
    "# The program should do the following:\n",
    "# 1. ask for the number of players, accepting a maximum of 5\n",
    "# 2. ask for the names of the players, accepting only strings\n",
    "# 3. ask each player to insert a number\n",
    "# 4. print the winner (the player who inserted the highest number)\n",
    "\n",
    "# Tips: Use the built-in function `input` to ask for user input.\n",
    "#       For point 2, use while loop, the keywords `continue`, `break`, and the built-in function `type` or `isistance`.\n",
    "\n",
    "# Challenge: make the program UNBREAKABLE"
   ]
  },
  {
   "cell_type": "markdown",
   "metadata": {},
   "source": [
    "# Optional topics"
   ]
  },
  {
   "cell_type": "markdown",
   "metadata": {},
   "source": [
    "## Optional topic: Variable casting\n",
    "When coding, there will be times when we need a variable to change to a different type for one reason or another. For example, you want to get an integer from a table, but the table is formatted in integer form.\n",
    "\n",
    "Changing the type of variable is called \"casting a variable\" from one type to another. Some variable castings are less risky than others, for example, changing from integer to float has no information loss, but from float to integer you will always lose the fractional part.\n",
    "\n",
    "Every language has its own way of dealing with variable casting. In the case of Python, most of the time it is done by the interpreter deciding for himself what type a variable should be (which can cause some problems), _unless_ you specify the casting yourself. To do so, you can specify the casting with a constructor function (of the general form `typename()`), which will construct a variable of your desired type. For Python's fundamental types, there are only three castings/constructor types: `str()` for string, `int()` for integer and `float()` for floating point numbers."
   ]
  },
  {
   "cell_type": "code",
   "execution_count": null,
   "metadata": {},
   "outputs": [],
   "source": [
    "myint=int(7.7) #The .7 is lost after conversion to int. Generally, the float->int conversion will drop the fractional part, i.e., no rounding happens.\n",
    "myfloat=float(myint)\n",
    "mystring=str(myint)\n",
    "print(myint, myfloat, mystring)\n",
    "print(type(myint), type(myfloat), type(mystring))\n",
    "myfloat=float(\"7.3\")\n",
    "myint=int(myfloat)\n",
    "mystring=str(myfloat)\n",
    "print(myint, myfloat, mystring)\n",
    "print(type(myint), type(myfloat), type(mystring))"
   ]
  },
  {
   "cell_type": "code",
   "execution_count": null,
   "metadata": {},
   "outputs": [],
   "source": []
  },
  {
   "cell_type": "markdown",
   "metadata": {},
   "source": [
    "## Optional topic: Variable construction\n",
    "Similarly to when you do variable casting, you can just create a variable using explicit constructors. These will ensure the type of the variable (until the variable is reassigned) and are more readable in that regard. \n",
    "\n",
    "If the constructor is empty (i.e., no arguments are given to the constructor), the variable will take its default value (0 in the case of numbers and an empty container in the case of container types). "
   ]
  },
  {
   "cell_type": "code",
   "execution_count": null,
   "metadata": {},
   "outputs": [],
   "source": [
    "mylist=list()\n",
    "mylist.append(1)\n",
    "mylist.append(3)\n",
    "mylist.append(5)\n",
    "print(mylist)\n",
    "myint=int()\n",
    "print(myint)\n",
    "mystr=str()\n",
    "print(\"The default value is:\"+mystr) #The default value of a string is \"\", or an empty string"
   ]
  },
  {
   "cell_type": "markdown",
   "metadata": {},
   "source": [
    "## Optional topic: Variable mutability"
   ]
  },
  {
   "cell_type": "markdown",
   "metadata": {},
   "source": [
    "Variable or object types can be classified into immutable and mutable. Immutable objects cannot be fundamentally altered, although a mutable behaviour can be achieved through copying their contents. Mutable objects can be altered in-place (i.e., without making a copy of the object).\n",
    "\n",
    "With immutable objects (`int`, `float`, `str` and others), the underlying object cannot be changed. But as we have seen before, "
   ]
  },
  {
   "cell_type": "code",
   "execution_count": null,
   "metadata": {},
   "outputs": [],
   "source": [
    "a=3\n",
    "print(a)\n",
    "a=a+3\n",
    "print(a)\n",
    "mystr=\"Ce n'est pas une pipe.\"\n",
    "revstr=mystr[::-1]\n",
    "mystr+=revstr\n",
    "print(mystr)"
   ]
  },
  {
   "cell_type": "markdown",
   "metadata": {},
   "source": [
    "Hmmm, we can do mathematical operations on integers and floats, and we can chain together and reverse strings. How is it possible that they are considered immutable?\n",
    "\n",
    "If we try to look where these variables are kept by the interpreter..."
   ]
  },
  {
   "cell_type": "code",
   "execution_count": null,
   "metadata": {},
   "outputs": [],
   "source": [
    "a=3\n",
    "print(hex(id(a))) #hex(id(var)) tells us where (i.e. the address) the computer is storing our variable var\n",
    "a=a+3\n",
    "print(hex(id(a)))\n",
    "mystr=\"Ce n'est pas une pipe.\"\n",
    "print(hex(id(mystr)))\n",
    "non_revstr=mystr\n",
    "print(hex(id(non_revstr))) #This variable is stored in the same exact place, i.e. the interpreter is using the same object for both variables\n",
    "mystr+=revstr\n",
    "print(hex(id(mystr)))"
   ]
  },
  {
   "cell_type": "markdown",
   "metadata": {},
   "source": [
    "The interpreter is copying and storing the objects in new places the moment they are changed, instead of using the same spot. That way, these variable types can give the impression they are actually mutable, when they are not. Changing an immutable variable will always make a copy of the variable's contents.\n",
    "\n",
    "There is a limit to this behaviour. As you might remember, strings are character containers, and as such, we can access individual characters, but can we change them?\n",
    "\n",
    "**Exercise**:Try to change a single character of a string using the `[]` operator. It should give an error."
   ]
  },
  {
   "cell_type": "code",
   "execution_count": null,
   "metadata": {},
   "outputs": [],
   "source": [
    "#Code"
   ]
  },
  {
   "cell_type": "markdown",
   "metadata": {},
   "source": [
    "On the other hand, the usage of mutable object such as `list` objects are always kept in the same spot when changed, as copying them is normally pretty expensive in computational terms."
   ]
  },
  {
   "cell_type": "code",
   "execution_count": null,
   "metadata": {},
   "outputs": [],
   "source": [
    "mylist=list()\n",
    "print(hex(id(mylist)))\n",
    "mylist.append(1)\n",
    "mylist.append(1)\n",
    "print(hex(id(mylist)))\n",
    "mylist.append(2)\n",
    "print(hex(id(mylist)))\n",
    "print(hex(id(mylist[0])))\n",
    "print(hex(id(mylist[1]))) #These two are the same. Can you guess what is happening here?\n",
    "print(hex(id(mylist[2])))\n",
    "\n"
   ]
  },
  {
   "cell_type": "markdown",
   "metadata": {},
   "source": [
    "If you want to copy a mutable object (a `list` in this case), you need to do it explicitly in your code."
   ]
  },
  {
   "cell_type": "code",
   "execution_count": null,
   "metadata": {},
   "outputs": [],
   "source": [
    "mylist=[1,2,3]\n",
    "mylist_same=mylist\n",
    "mylist_copied=mylist.copy()\n",
    "mylist[0]=2024\n",
    "print(mylist)\n",
    "print(mylist_same)\n",
    "print(mylist_copied)"
   ]
  },
  {
   "cell_type": "markdown",
   "metadata": {},
   "source": [
    "**Attention**:This will only be sufficient for that list variable, not for all its contents!"
   ]
  },
  {
   "cell_type": "code",
   "execution_count": null,
   "metadata": {},
   "outputs": [],
   "source": [
    "mylist=[1,2,3]\n",
    "nested=[]\n",
    "for i in range(3):\n",
    "    nested.append(mylist)\n",
    "nested_copy=nested.copy()\n",
    "nested[0][0]=2024\n",
    "print(\"Wrong method\")\n",
    "print(nested)\n",
    "print(nested_copy)\n",
    "\n",
    "#Also wrong\n",
    "\n",
    "mylist=[1,2,3]\n",
    "nested=[]\n",
    "for i in range(3):\n",
    "    nested.append(mylist.copy())\n",
    "nested_copy=nested.copy()\n",
    "nested[0][0]=2024\n",
    "print(\"Also wrong method\")\n",
    "print(nested)\n",
    "print(nested_copy)\n",
    "\n",
    "#Properly done\n",
    "import copy\n",
    "mylist=[1,2,3]\n",
    "nested=[]\n",
    "for i in range(3):\n",
    "    nested.append(mylist.copy())\n",
    "nested_copy=copy.deepcopy(nested) #You need to do a deep copy, i.e., to recursively copy every element at every level, creating a new variable for each\n",
    "nested[0][0]=2024\n",
    "print(\"Proper method\")\n",
    "print(nested)\n",
    "print(nested_copy)"
   ]
  },
  {
   "cell_type": "markdown",
   "metadata": {},
   "source": [
    "**Bonus exercise**: What is wrong with the second method of list copying? You might want to use the `hex(id())` functions to identify the problem."
   ]
  },
  {
   "cell_type": "markdown",
   "metadata": {},
   "source": [
    "**Bonus exercise**: Make a list of lists where each sub-list has the numbers between 0 to the position of the sub-list within the list."
   ]
  }
 ],
 "metadata": {
  "kernelspec": {
   "display_name": "Python 3 (ipykernel)",
   "language": "python",
   "name": "python3"
  },
  "language_info": {
   "codemirror_mode": {
    "name": "ipython",
    "version": 3
   },
   "file_extension": ".py",
   "mimetype": "text/x-python",
   "name": "python",
   "nbconvert_exporter": "python",
   "pygments_lexer": "ipython3",
   "version": "3.10.14"
  }
 },
 "nbformat": 4,
 "nbformat_minor": 4
}
