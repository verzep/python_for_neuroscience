{
 "cells": [
  {
   "cell_type": "markdown",
   "metadata": {
    "collapsed": false,
    "pycharm": {
     "name": "#%% md\n"
    }
   },
   "source": [
    "# 1. Hello, World!\n",
    "---------------------------------------------\n",
    "\n",
    "Python is a very simple language, and has a very straightforward syntax. It encourages programmers to program without boilerplate (prepared) code. Coding in python revolves around a series of elements, some of which we will not cover in this session:\n",
    "1. Keywords (`if, elif, else, for, break, continue, in, is, not, try, catch, raise ...`)\n",
    "2. In-built objects (lists, ranges, integers, floats, strings...)\n",
    "3. In-built functions (`print(), any(), all(), str.upper()...`)\n",
    "4. In-built operators (arithmetic, bitwise, logical, comparison, identity, membership, indexing and assigment operators)\n",
    "5. Library objects, functions and operators\n",
    "6. Custom objects, functions and operators\n",
    "\n",
    "The simplest statement in Python is using `print()`. This call will simply output to console a string of text and objects with an appended newline character (`\\n`) at the end, which moves the cursor to a new line. In Python 3, the version we will be using in this tutorial, print is a function, and must be invoked with parentheses. To print a string in Python 3, just write `print(*)` replacing the asterisk for any argument."
   ]
  },
  {
   "cell_type": "code",
   "execution_count": null,
   "metadata": {
    "collapsed": false,
    "pycharm": {
     "name": "#%%\n"
    }
   },
   "outputs": [],
   "source": [
    "print(\"Hello, World!\")"
   ]
  },
  {
   "cell_type": "markdown",
   "metadata": {},
   "source": [
    "# 2. Syntax\n",
    "-------------------------------------------\n",
    "Python syntax consists of:\n",
    "1. Newline character `'\\n'` (press Enter in your keyboard) to represent the end of a statement (careful with other whitespace characters) with optional use of semicolon characters `';'`\n",
    "2. Use of the colon `':'` to signify the start of a block (we will explain this later)\n",
    "3. Use of indentation level (four spaces or a tab `'\\t'` character) to represent that a line is within a _contiguous_ code block\n",
    "4. Use of commas `','` to separate arguments, values or variables\n",
    "5. Use of parenthesis `'()'` to call a function or create an object\n",
    "6. Use of quotes `\"\"`,`''` to define strings\n"
   ]
  },
  {
   "cell_type": "code",
   "execution_count": null,
   "metadata": {},
   "outputs": [],
   "source": [
    "x = 1 #Newline at the end\n",
    "if x == 1: #Colon to represent code block\n",
    "    # indented four spaces to represent indentation level +1\n",
    "    print('x', ' is ','1') #Commas to separate arguments\n",
    "print('x could be anything') #Indentation level 0, always excecuted unless early termination"
   ]
  },
  {
   "cell_type": "markdown",
   "metadata": {},
   "source": [
    "**Block**: chunk of code that is executed when certain conditions are met"
   ]
  },
  {
   "cell_type": "markdown",
   "metadata": {
    "collapsed": false,
    "pycharm": {
     "name": "#%% md\n"
    }
   },
   "source": [
    "# 3. Variables and Types\n",
    "-----------------------------------------\n",
    "\n",
    "Python is an object oriented programming language, which means that the language revolves around objects and the operations that can be performed on them. Every variable in Python can be considered an object.\n",
    "\n",
    "A variable name can be written with any sequence of lowercase characters, uppercase characters, underscore and numbers, provided that the first character is not a number.\n",
    "\n",
    "This tutorial will go over a few basic types of variables.\n",
    "\n",
    "\n",
    "## Numbers\n",
    "\n",
    "Python supports two types of numbers - integers(whole numbers) and floating point numbers(decimals). (It also supports complex numbers, which will not be explained in this tutorial).\n",
    "\n",
    "To define an integer, use the following syntax:"
   ]
  },
  {
   "cell_type": "code",
   "execution_count": null,
   "metadata": {
    "collapsed": false,
    "pycharm": {
     "name": "#%%\n"
    }
   },
   "outputs": [],
   "source": [
    "myint = 7\n",
    "print(myint)\n"
   ]
  },
  {
   "cell_type": "markdown",
   "metadata": {
    "collapsed": false,
    "pycharm": {
     "name": "#%% md\n"
    }
   },
   "source": [
    "To define a floating point number, you may use one of the following notations:"
   ]
  },
  {
   "cell_type": "code",
   "execution_count": null,
   "metadata": {
    "collapsed": false,
    "pycharm": {
     "name": "#%%\n"
    }
   },
   "outputs": [],
   "source": [
    "myfloat = 7.0\n",
    "print(myfloat)\n",
    "myfloat = 7.\n",
    "print(myfloat)"
   ]
  },
  {
   "cell_type": "markdown",
   "metadata": {},
   "source": [
    "### Side note: assignment\n",
    "To create a variable you must assign some value or object to it. To do so, you need to use one of the assignment operators (all of them contain `=`, like `+=`), or _the_ assignment operator, `=`. "
   ]
  },
  {
   "cell_type": "markdown",
   "metadata": {
    "collapsed": false,
    "pycharm": {
     "name": "#%% md\n"
    }
   },
   "source": [
    "## Strings\n",
    "\n",
    "Strings are defined either with a single quote, double quotes or three of either one."
   ]
  },
  {
   "cell_type": "code",
   "execution_count": null,
   "metadata": {
    "collapsed": false,
    "pycharm": {
     "name": "#%%\n"
    }
   },
   "outputs": [],
   "source": [
    "mystring = 'hello'\n",
    "print(mystring)\n",
    "mystring = \"hello\"\n",
    "print(mystring)\n",
    "mystring = '''hello'''\n",
    "print(mystring)\n",
    "mystring = \"\"\"hello\"\"\"\n",
    "print(mystring)"
   ]
  },
  {
   "cell_type": "markdown",
   "metadata": {
    "collapsed": false,
    "pycharm": {
     "name": "#%% md\n"
    }
   },
   "source": [
    "The difference is the characters you can use in the contained strings:"
   ]
  },
  {
   "cell_type": "code",
   "execution_count": null,
   "metadata": {
    "collapsed": false,
    "pycharm": {
     "name": "#%%\n"
    }
   },
   "outputs": [],
   "source": [
    "mystring = \"Don't worry about apostrophes\"\n",
    "print(mystring)\n",
    "mystring = '\"Dont\" worry about quotes'\n",
    "print(mystring)\n",
    "mystring = \"\"\"Don't worry about\n",
    "formatting with newlines or about\n",
    "\"any character\" or 'apostrophe use'\"\"\"\n",
    "print(mystring)\n",
    "mystring = '''Don't worry about\n",
    "formatting with newlines or about\n",
    "\"any character\" or 'apostrophe use'.''' #With the exception of same type of apostrophe in contact with the starting or ending apostrophes\n",
    "print(mystring)"
   ]
  },
  {
   "cell_type": "markdown",
   "metadata": {
    "collapsed": false,
    "pycharm": {
     "name": "#%% md\n"
    }
   },
   "source": [
    "There are additional variations on defining strings that make it easier to include things such as carriage returns, backslashes and Unicode characters. These are beyond the scope of this tutorial, but are covered in the Python documentation."
   ]
  },
  {
   "cell_type": "markdown",
   "metadata": {
    "collapsed": false,
    "pycharm": {
     "name": "#%% md\n"
    }
   },
   "source": [
    "Assignments can be done on more than one variable \"simultaneously\" on the same line using the comma like this:"
   ]
  },
  {
   "cell_type": "code",
   "execution_count": null,
   "metadata": {
    "collapsed": false,
    "pycharm": {
     "name": "#%%\n"
    }
   },
   "outputs": [],
   "source": [
    "a, b = 3, 4\n",
    "print(a, b)"
   ]
  },
  {
   "cell_type": "markdown",
   "metadata": {
    "collapsed": false,
    "pycharm": {
     "name": "#%% md\n"
    }
   },
   "source": [
    "## Lists\n",
    "\n",
    "Lists are a collection or container of variables. They can contain any type of variable, and they can contain as many variables as you wish, and you can access every single variable. Later we will show how to 'iterate' over a list.\n",
    "\n",
    "Here is an example of how to build a list."
   ]
  },
  {
   "cell_type": "code",
   "execution_count": null,
   "metadata": {
    "collapsed": false,
    "pycharm": {
     "name": "#%%\n"
    }
   },
   "outputs": [],
   "source": [
    "mylist = []\n",
    "mylist.append(1)\n",
    "mylist.append(2)\n",
    "mylist.append(3)\n",
    "\n",
    "print(mylist)"
   ]
  },
  {
   "cell_type": "markdown",
   "metadata": {
    "collapsed": false,
    "pycharm": {
     "name": "#%% md\n"
    }
   },
   "source": [
    "Ordered collections or containers of items in python are 0-indexed, which means that the first element has index 0 and the last element has index equal to the length minus one. This is carried over from older languages. \n",
    "\n",
    "When not known, and generally as good practice, the length of a list can be obtained with the in-built function `len(some_list)`.\n",
    "\n",
    "To access a particular element of a list, you should use the indexing operator `[]`."
   ]
  },
  {
   "cell_type": "code",
   "execution_count": null,
   "metadata": {},
   "outputs": [],
   "source": [
    "mylist = [1,2,3]\n",
    "print(mylist[0])\n",
    "print(mylist[1])\n",
    "\n",
    "print (len(mylist))\n",
    "\n",
    "print(mylist[len(mylist)-1])\n",
    "print(mylist[-1])"
   ]
  },
  {
   "cell_type": "markdown",
   "metadata": {},
   "source": [
    "Accessing an index which does not exist generates an exception (an error)."
   ]
  },
  {
   "cell_type": "code",
   "execution_count": null,
   "metadata": {
    "collapsed": false,
    "pycharm": {
     "name": "#%%\n"
    }
   },
   "outputs": [],
   "source": [
    "mylist = [1,2,3]\n",
    "print(mylist[len(mylist)])"
   ]
  },
  {
   "cell_type": "markdown",
   "metadata": {},
   "source": [
    "You can also form lists of lists (but be careful while assigning lists)."
   ]
  },
  {
   "cell_type": "code",
   "execution_count": 9,
   "metadata": {},
   "outputs": [
    {
     "name": "stdout",
     "output_type": "stream",
     "text": [
      "[[1, 2, 3], [4, 5, 6], [7, 8, 9]]\n",
      "[[-1, 2, 3], [-1, 2, 3], [-1, 2, 3]]\n"
     ]
    }
   ],
   "source": [
    "b=[]\n",
    "b.append([1,2,3])\n",
    "b.append([4,5,6])\n",
    "b.append([7,8,9])\n",
    "print(b)\n",
    "a=[1,2,3]\n",
    "b=[]\n",
    "b.append(a)\n",
    "b.append(a)\n",
    "b.append(a)\n",
    "b[0][0]=-1\n",
    "print(b) #What happened here? Can you figure it out? We will cover it later"
   ]
  },
  {
   "cell_type": "markdown",
   "metadata": {
    "collapsed": false,
    "pycharm": {
     "name": "#%% md\n"
    }
   },
   "source": [
    "# 4. Basic Operators\n",
    "--------------------------------------------\n",
    "\n",
    "This section explains how to use basic operators in Python.\n",
    "\n",
    "## Arithmetic Operators\n",
    "\n",
    "Just as any other programming languages, the addition, subtraction, multiplication, and division operators can be used with numbers.\n",
    "Try to predict what the answer will be. Does python follow order of operations?"
   ]
  },
  {
   "cell_type": "code",
   "execution_count": null,
   "metadata": {
    "collapsed": false,
    "pycharm": {
     "name": "#%%\n"
    }
   },
   "outputs": [],
   "source": [
    "number = 1 + 2 * 3 / 4.0\n",
    "print(number)"
   ]
  },
  {
   "cell_type": "markdown",
   "metadata": {
    "collapsed": false,
    "pycharm": {
     "name": "#%% md\n"
    }
   },
   "source": [
    "Another operator available is the modulo (%) operator, which returns the integer remainder of the division. Dividend % divisor = remainder."
   ]
  },
  {
   "cell_type": "code",
   "execution_count": null,
   "metadata": {
    "collapsed": false,
    "pycharm": {
     "name": "#%%\n"
    }
   },
   "outputs": [],
   "source": [
    "remainder = 11 % 3\n",
    "print(remainder)"
   ]
  },
  {
   "cell_type": "markdown",
   "metadata": {
    "collapsed": false,
    "pycharm": {
     "name": "#%% md\n"
    }
   },
   "source": [
    "The exponent operator is `**`:"
   ]
  },
  {
   "cell_type": "code",
   "execution_count": null,
   "metadata": {
    "collapsed": false,
    "pycharm": {
     "name": "#%%\n"
    }
   },
   "outputs": [],
   "source": [
    "squared = 7 ** 2\n",
    "cubed = 2 ** 3\n",
    "print(squared)\n",
    "print(cubed)"
   ]
  },
  {
   "cell_type": "markdown",
   "metadata": {},
   "source": [
    "### Types of division: some numbers are more equal than others\n",
    "Both in mathematics and programming, there are two types of division: integer division and floating point division. Floating point division we have already shown: the division will calculate the \"exact\" result of the division, with the fractional part (remainder/divisor) expressed after the `.` in the number. In integer division, you discard the fractional part.\n",
    "\n",
    "In Python, floating point division is done with the `/` operator, which will return a `float`. The integer division is done with the `//` operator, which will return either an `int` if both numbers are integers or `float` if one of them is a `float`. Confusing these operators could be a source of error in some cases."
   ]
  },
  {
   "cell_type": "code",
   "execution_count": 4,
   "metadata": {},
   "outputs": [
    {
     "name": "stdout",
     "output_type": "stream",
     "text": [
      "0.6666666666666666\n",
      "0\n",
      "0.0\n",
      "<class 'float'>\n",
      "<class 'float'>\n",
      "<class 'int'>\n"
     ]
    }
   ],
   "source": [
    "print(2/3)\n",
    "print(2//3)\n",
    "print(2.//3)\n",
    "print(type(2/3)) #The type() funtion tells you which type of object is your object. There are other related functions that we will not cover here\n",
    "print(type(2.//3))\n",
    "print(type(2//3))"
   ]
  },
  {
   "cell_type": "markdown",
   "metadata": {},
   "source": [
    "### Arithmetic operators precedence order\n",
    "Arithmetic operations (and other operations that we will cover later) will be executed according to an operator precedence order:\n",
    "1. Parenthesis `()`\n",
    "2. Exponent operator `**`\n",
    "3. Multiplication and division operators `*`,`/`,`//`,`%`\n",
    "4. Addition and substraction operators `+`, `-`"
   ]
  },
  {
   "cell_type": "code",
   "execution_count": null,
   "metadata": {},
   "outputs": [],
   "source": [
    "print(2*(4**(3//7)+2%3)) ## Try to calculate which is the result on your own"
   ]
  },
  {
   "cell_type": "markdown",
   "metadata": {},
   "source": [
    "### Assignment operators\n",
    "Apart from the `=` assignment operator, there are other operators that help summarize operations plus assignment. These operators have the form `operator=` where you can replace `operator` with any operator (except for parenthesis, which is not technically an operator)."
   ]
  },
  {
   "cell_type": "code",
   "execution_count": 13,
   "metadata": {},
   "outputs": [
    {
     "name": "stdout",
     "output_type": "stream",
     "text": [
      "2\n",
      "3\n"
     ]
    }
   ],
   "source": [
    "a=1\n",
    "a=a+1 #These two lines are equivalent\n",
    "print(a)\n",
    "a+=1 #These two lines are equivalent\n",
    "print(a)"
   ]
  },
  {
   "cell_type": "markdown",
   "metadata": {
    "collapsed": false,
    "pycharm": {
     "name": "#%% md\n"
    }
   },
   "source": [
    "## Using Operators with Strings\n",
    "\n",
    "Python supports concatenating strings using the addition operator:"
   ]
  },
  {
   "cell_type": "code",
   "execution_count": null,
   "metadata": {
    "collapsed": false,
    "pycharm": {
     "name": "#%%\n"
    }
   },
   "outputs": [],
   "source": [
    "helloworld = \"hello\" + \" \" + \"world\"\n",
    "print(helloworld)\n"
   ]
  },
  {
   "cell_type": "markdown",
   "metadata": {
    "collapsed": false,
    "pycharm": {
     "name": "#%% md\n"
    }
   },
   "source": [
    "Python also supports multiplying strings to form a string with a repeating sequence:"
   ]
  },
  {
   "cell_type": "code",
   "execution_count": null,
   "metadata": {
    "collapsed": false,
    "pycharm": {
     "name": "#%%\n"
    }
   },
   "outputs": [],
   "source": [
    "lotsofhellos = \"hello\" * 10\n",
    "print(lotsofhellos)"
   ]
  },
  {
   "cell_type": "markdown",
   "metadata": {},
   "source": [
    "Mixing operators between numbers and strings is not allowed:"
   ]
  },
  {
   "cell_type": "code",
   "execution_count": null,
   "metadata": {},
   "outputs": [],
   "source": [
    "# This will not work!\n",
    "one = 1\n",
    "two = 2\n",
    "hello = \"hello\"\n",
    "\n",
    "print(one + two + hello)"
   ]
  },
  {
   "cell_type": "markdown",
   "metadata": {
    "collapsed": false,
    "pycharm": {
     "name": "#%% md\n"
    }
   },
   "source": [
    "## Using Operators with Lists\n",
    "\n",
    "Lists can be joined with the addition operators, equivalent to `list.extend()`:"
   ]
  },
  {
   "cell_type": "code",
   "execution_count": 10,
   "metadata": {
    "collapsed": false,
    "pycharm": {
     "name": "#%%\n"
    }
   },
   "outputs": [
    {
     "name": "stdout",
     "output_type": "stream",
     "text": [
      "[1, 3, 5, 7, 2, 4, 6, 8]\n"
     ]
    }
   ],
   "source": [
    "even_numbers = [2,4,6,8]\n",
    "odd_numbers = [1,3,5,7]\n",
    "all_numbers = odd_numbers + even_numbers\n",
    "print(all_numbers)"
   ]
  },
  {
   "cell_type": "markdown",
   "metadata": {},
   "source": [
    "**Side note**: when you read about a function written as `object_type.function()`, it means it is an \"object function\". Such functions are typically called from an existing object, but they can also be called on their own with an object as an agument."
   ]
  },
  {
   "cell_type": "code",
   "execution_count": 17,
   "metadata": {},
   "outputs": [
    {
     "name": "stdout",
     "output_type": "stream",
     "text": [
      "[1, 3, 5, 7, 2, 4, 6, 8]\n",
      "None\n",
      "[2, 4, 6, 8, 1, 3, 5, 7, 2, 4, 6, 8]\n"
     ]
    }
   ],
   "source": [
    "even_numbers = [2,4,6,8]\n",
    "odd_numbers = [1,3,5,7]\n",
    "all_numbers=odd_numbers.extend(even_numbers)\n",
    "print(odd_numbers)\n",
    "print(all_numbers)#Some functions return None, list.extend() is an example. The function applies on the object that calls it, but does not return a copy or reference\n",
    "list.extend(even_numbers, odd_numbers) #First argument is the calling object.\n",
    "print (even_numbers)"
   ]
  },
  {
   "cell_type": "markdown",
   "metadata": {
    "collapsed": false,
    "pycharm": {
     "name": "#%% md\n"
    }
   },
   "source": [
    "Just as in strings, Python supports forming new lists with a repeating sequence using the multiplication operator:"
   ]
  },
  {
   "cell_type": "code",
   "execution_count": 11,
   "metadata": {
    "collapsed": false,
    "pycharm": {
     "name": "#%%\n"
    }
   },
   "outputs": [
    {
     "name": "stdout",
     "output_type": "stream",
     "text": [
      "[1, 2, 3, 1, 2, 3, 1, 2, 3]\n"
     ]
    }
   ],
   "source": [
    "print([1,2,3] * 3)"
   ]
  },
  {
   "cell_type": "markdown",
   "metadata": {},
   "source": [
    "### Subsection: more list() object functions\n",
    "There are a number of useful object functions to operate on your lists. Two of them we have already seen, `list.extend()` and `list.append()`. Others are:\n",
    "\n",
    "`list.insert()`"
   ]
  },
  {
   "cell_type": "code",
   "execution_count": 20,
   "metadata": {},
   "outputs": [
    {
     "name": "stdout",
     "output_type": "stream",
     "text": [
      "[0, 2, 4, 6, 8]\n",
      "[0, 2, 4, 6, 8, 10]\n"
     ]
    }
   ],
   "source": [
    "even_numbers = [2,4,6,8]\n",
    "even_numbers.insert(0,0)\n",
    "print(even_numbers)\n",
    "even_numbers.insert(5,10) #First number is the index, second number is the object to insert\n",
    "print(even_numbers)"
   ]
  },
  {
   "cell_type": "markdown",
   "metadata": {},
   "source": [
    "`list.remove()`"
   ]
  },
  {
   "cell_type": "code",
   "execution_count": 23,
   "metadata": {},
   "outputs": [
    {
     "name": "stdout",
     "output_type": "stream",
     "text": [
      "[2, 4, 6, 8, 1]\n"
     ]
    }
   ],
   "source": [
    "wrong_even_numbers = [2,4,1,6,8,1]\n",
    "wrong_even_numbers.remove(1) #Remove first occurence of given element\n",
    "print(wrong_even_numbers)"
   ]
  },
  {
   "cell_type": "markdown",
   "metadata": {},
   "source": [
    "`list.pop()`"
   ]
  },
  {
   "cell_type": "code",
   "execution_count": 27,
   "metadata": {},
   "outputs": [
    {
     "name": "stdout",
     "output_type": "stream",
     "text": [
      "[2, 4, 6, 8]\n"
     ]
    }
   ],
   "source": [
    "even_numbers = [2,4,1,6,8]\n",
    "even_numbers.pop(2) #Remove element at given index\n",
    "print(even_numbers)"
   ]
  },
  {
   "cell_type": "markdown",
   "metadata": {},
   "source": [
    "`list.clear()`"
   ]
  },
  {
   "cell_type": "code",
   "execution_count": 28,
   "metadata": {},
   "outputs": [
    {
     "name": "stdout",
     "output_type": "stream",
     "text": [
      "[]\n"
     ]
    }
   ],
   "source": [
    "even_numbers = [1,3,5]\n",
    "even_numbers.clear() #Empty the list\n",
    "print(even_numbers)"
   ]
  },
  {
   "cell_type": "markdown",
   "metadata": {},
   "source": [
    "`list.index()`"
   ]
  },
  {
   "cell_type": "code",
   "execution_count": 30,
   "metadata": {},
   "outputs": [
    {
     "name": "stdout",
     "output_type": "stream",
     "text": [
      "[2, 4, 6, 8]\n"
     ]
    }
   ],
   "source": [
    "even_numbers = [2,4,1,6,8]\n",
    "wrong_index=even_numbers.index(1) #Returns index of first occurrence of given element\n",
    "even_numbers.pop(wrong_index) #Remove element at given index\n",
    "print(even_numbers)"
   ]
  },
  {
   "cell_type": "markdown",
   "metadata": {},
   "source": [
    "`list.count()`"
   ]
  },
  {
   "cell_type": "code",
   "execution_count": 31,
   "metadata": {},
   "outputs": [
    {
     "name": "stdout",
     "output_type": "stream",
     "text": [
      "5\n"
     ]
    }
   ],
   "source": [
    "even_numbers = [2,4,4,4,4,4,6]\n",
    "print(even_numbers.count(4)) #Counts the number of times a given element appears in the list"
   ]
  },
  {
   "cell_type": "markdown",
   "metadata": {},
   "source": [
    "`list.sort()`, `list.reverse()`, `list.copy()`"
   ]
  },
  {
   "cell_type": "code",
   "execution_count": 35,
   "metadata": {},
   "outputs": [
    {
     "name": "stdout",
     "output_type": "stream",
     "text": [
      "[1, 3, 5, 7, 2, 4, 6, 8]\n",
      "[1, 2, 3, 4, 5, 6, 7, 8]\n",
      "[8, 7, 6, 5, 4, 3, 2, 1]\n",
      "[1, 2, 3, 4, 5, 6, 7, 8]\n",
      "[8, 7, 6, 5, 4, 3, 2, 1]\n"
     ]
    }
   ],
   "source": [
    "even_numbers = [2,4,6,8]\n",
    "odd_numbers = [1,3,5,7]\n",
    "all_numbers = odd_numbers + even_numbers\n",
    "print(all_numbers)\n",
    "all_numbers.sort() #Sorts elements in ascending order in the list\n",
    "print(all_numbers)\n",
    "all_numbers.reverse() #Reverses the order of elements in the list\n",
    "print(all_numbers)\n",
    "num_copy=all_numbers.copy() #Gives a copy of the list (not a deep copy)\n",
    "num_copy.reverse()\n",
    "print(num_copy)\n",
    "print(all_numbers)"
   ]
  },
  {
   "cell_type": "markdown",
   "metadata": {
    "collapsed": false,
    "pycharm": {
     "name": "#%% md\n"
    }
   },
   "source": [
    "## String Formatting\n",
    "\n",
    "There are multiple ways of formatting a string in Python. \n",
    "\n",
    "The `%` operator is used to format a set of variables enclosed in a `tuple()` (a fixed size list, immutable), together with a format string, which contains normal text together with \"argument specifiers\", special symbols like \"%s\" and \"%d\".\n",
    "\n",
    "Let's say you have a variable called \"name\" with your user name in it, and you would then like to print(out a greeting to that user.)"
   ]
  },
  {
   "cell_type": "code",
   "execution_count": null,
   "metadata": {
    "collapsed": false,
    "pycharm": {
     "name": "#%%\n"
    }
   },
   "outputs": [],
   "source": [
    "# This prints out \"Hello, John!\"\n",
    "name = \"John\"\n",
    "print(\"Hello, %s!\" % name)"
   ]
  },
  {
   "cell_type": "markdown",
   "metadata": {
    "collapsed": false,
    "pycharm": {
     "name": "#%% md\n"
    }
   },
   "source": [
    "To use two or more argument specifiers, use a tuple (parentheses):"
   ]
  },
  {
   "cell_type": "code",
   "execution_count": null,
   "metadata": {
    "collapsed": false,
    "pycharm": {
     "name": "#%%\n"
    }
   },
   "outputs": [],
   "source": [
    "# This prints out \"John is 23 years old.\"\n",
    "name = \"John\"\n",
    "age = 23\n",
    "print(\"%s is %d years old.\" % (name, age))"
   ]
  },
  {
   "cell_type": "markdown",
   "metadata": {
    "collapsed": false,
    "pycharm": {
     "name": "#%% md\n"
    }
   },
   "source": [
    "Any object which is not a string can be formatted using the %s operator as well. The string which returns from the \"repr\" method of that object is formatted as the string. For example:"
   ]
  },
  {
   "cell_type": "code",
   "execution_count": null,
   "metadata": {
    "collapsed": false,
    "pycharm": {
     "name": "#%%\n"
    }
   },
   "outputs": [],
   "source": [
    "# This prints out: A list: [1, 2, 3]\n",
    "mylist = [1,2,3]\n",
    "print(\"A list: %s\" % mylist)"
   ]
  },
  {
   "cell_type": "markdown",
   "metadata": {
    "collapsed": false,
    "pycharm": {
     "name": "#%% md\n"
    }
   },
   "source": [
    "Here are some basic argument specifiers you should know:\n",
    "\n",
    "`%s` - String (or any object with a string representation, like numbers)\n",
    "\n",
    "`%d` - Integers\n",
    "\n",
    "`%f` - Floating point numbers\n",
    "\n",
    "`%.<number of digits>f` - Floating point numbers with a fixed amount of digits to the right of the dot.\n",
    "\n",
    "`%x`/`%X` - Integers in hex representation (lowercase/uppercase)"
   ]
  },
  {
   "cell_type": "markdown",
   "metadata": {},
   "source": [
    "### Other formatting methods\n",
    "There are more intuitive ways of formatting strings."
   ]
  },
  {
   "cell_type": "code",
   "execution_count": 41,
   "metadata": {},
   "outputs": [
    {
     "name": "stdout",
     "output_type": "stream",
     "text": [
      "This is not a string, and this one is not one either\n",
      "This is not a string, and this one is not one either\n"
     ]
    }
   ],
   "source": [
    "n=\"not\"\n",
    "print(\"This is {} a string, and this one is {} one either\".format(n,n))\n",
    "print(f\"This is {n} a string, and this one is {n} one either\")"
   ]
  },
  {
   "cell_type": "markdown",
   "metadata": {
    "collapsed": false,
    "pycharm": {
     "name": "#%% md\n"
    }
   },
   "source": [
    "## Basic String Operations\n",
    "\n",
    "The first thing you learned was printing a simple sentence. This sentence was stored by Python as a string. However, instead of immediately printing strings out, we will explore the various things you can do to them."
   ]
  },
  {
   "cell_type": "markdown",
   "metadata": {},
   "source": [
    "`len()`: as explained earlier, this function will tell you the length of any container of objects. A string does classify as a container strictly consisting only of characters"
   ]
  },
  {
   "cell_type": "code",
   "execution_count": null,
   "metadata": {
    "collapsed": false,
    "pycharm": {
     "name": "#%%\n"
    }
   },
   "outputs": [],
   "source": [
    "astring = \"Hello world!\"\n",
    "\n",
    "print(len(astring)) #That prints out 12, because \"Hello world!\" is 12 characters long, including punctuation and spaces."
   ]
  },
  {
   "cell_type": "markdown",
   "metadata": {},
   "source": [
    "`str.index()`: does the same as `list.index()`"
   ]
  },
  {
   "cell_type": "code",
   "execution_count": null,
   "metadata": {
    "collapsed": false,
    "pycharm": {
     "name": "#%%\n"
    }
   },
   "outputs": [],
   "source": [
    "astring = \"Hello world!\"\n",
    "print(astring.index(\"o\"))"
   ]
  },
  {
   "cell_type": "markdown",
   "metadata": {
    "collapsed": false,
    "pycharm": {
     "name": "#%% md\n"
    }
   },
   "source": [
    "That prints out 4, because the location of the first occurrence of the letter \"o\" is 4 characters away from the first character. Notice how there are actually two o's in the phrase - this method only recognizes the first.\n",
    "\n",
    "But why didn't it print out 5? Remember that containers in Python are 0-indexed, i.e., the index of the first element is 0."
   ]
  },
  {
   "cell_type": "markdown",
   "metadata": {},
   "source": [
    "`str.count()`: does the same as `list.count()`"
   ]
  },
  {
   "cell_type": "code",
   "execution_count": null,
   "metadata": {
    "collapsed": false,
    "pycharm": {
     "name": "#%%\n"
    }
   },
   "outputs": [],
   "source": [
    "astring = \"Hello world!\"\n",
    "print(astring.count(\"l\"))"
   ]
  },
  {
   "cell_type": "markdown",
   "metadata": {},
   "source": [
    "`[]` operator: allows indexing of the string. As with the list, it will return the element of the positioned index"
   ]
  },
  {
   "cell_type": "code",
   "execution_count": 43,
   "metadata": {},
   "outputs": [
    {
     "name": "stdout",
     "output_type": "stream",
     "text": [
      "H\n"
     ]
    }
   ],
   "source": [
    "astring = \"Hello world!\"\n",
    "print (astring[0])"
   ]
  },
  {
   "cell_type": "code",
   "execution_count": 44,
   "metadata": {
    "collapsed": false,
    "pycharm": {
     "name": "#%%\n"
    }
   },
   "outputs": [
    {
     "name": "stdout",
     "output_type": "stream",
     "text": [
      "lo w\n"
     ]
    }
   ],
   "source": [
    "astring = \"Hello world!\"\n",
    "print(astring[3:7])"
   ]
  },
  {
   "cell_type": "markdown",
   "metadata": {
    "collapsed": false,
    "pycharm": {
     "name": "#%% md\n"
    }
   },
   "source": [
    "Something we skipped before was slicing, with syntax `[n:m]`. This prints a slice of the string, starting at index 3, and ending at index 6. But why 6 and not 7? Again, most programming languages do this - it makes doing math inside those brackets easier. This will return a string (or container in general) that contains the elements in the open interval `[n,m)`\n",
    "\n",
    "If you just have one number in the brackets, it will give you the single character at that index. If you leave out the first number but keep the colon, it will give you a slice from the start to the number you left in. If you leave out the second number, it will give you a slice from the first number to the end.\n",
    "\n",
    "You can even put negative numbers inside the brackets. They are an easy way of starting at the end of the string instead of the beginning. This way, -3 means \"3rd character from the end\"."
   ]
  },
  {
   "cell_type": "code",
   "execution_count": null,
   "metadata": {
    "collapsed": false,
    "pycharm": {
     "name": "#%%\n"
    }
   },
   "outputs": [],
   "source": [
    "astring = \"Hello world!\"\n",
    "print(astring[3:7:2])"
   ]
  },
  {
   "cell_type": "markdown",
   "metadata": {
    "collapsed": false,
    "pycharm": {
     "name": "#%% md\n"
    }
   },
   "source": [
    "This prints the characters of string from 3 to 7 skipping one character. This is extended slice syntax. The general form is `[start:stop:step]`."
   ]
  },
  {
   "cell_type": "code",
   "execution_count": null,
   "metadata": {
    "collapsed": false,
    "pycharm": {
     "name": "#%%\n"
    }
   },
   "outputs": [],
   "source": [
    "astring = \"Hello world!\"\n",
    "print(astring[3:7])\n",
    "print(astring[3:7:1])"
   ]
  },
  {
   "cell_type": "markdown",
   "metadata": {
    "collapsed": false,
    "pycharm": {
     "name": "#%% md\n"
    }
   },
   "source": [
    "There is no `str.reverse()`, but you can reverse the string (and other containers) using `[::-1]`."
   ]
  },
  {
   "cell_type": "code",
   "execution_count": 8,
   "metadata": {
    "collapsed": false,
    "pycharm": {
     "name": "#%%\n"
    }
   },
   "outputs": [
    {
     "name": "stdout",
     "output_type": "stream",
     "text": [
      "!dlrow olleH\n",
      "Hello world!\n"
     ]
    }
   ],
   "source": [
    "astring = \"Hello world!\"\n",
    "print(astring[::-1]) \n",
    "print(astring) #Realize that the original string still conserves its original order. We will look into this later"
   ]
  },
  {
   "cell_type": "markdown",
   "metadata": {
    "collapsed": false,
    "pycharm": {
     "name": "#%% md\n"
    }
   },
   "source": [
    "`str.upper()` and `str.lower()` make a new string with all letters converted to uppercase and lowercase, respectively."
   ]
  },
  {
   "cell_type": "code",
   "execution_count": null,
   "metadata": {
    "collapsed": false,
    "pycharm": {
     "name": "#%%\n"
    }
   },
   "outputs": [],
   "source": [
    "astring = \"Hello world!\"\n",
    "print(astring.upper())\n",
    "print(astring.lower())"
   ]
  },
  {
   "cell_type": "markdown",
   "metadata": {
    "collapsed": false,
    "pycharm": {
     "name": "#%% md\n"
    }
   },
   "source": [
    "`str.startswith()` and `str.endswith()` are used to determine whether the string starts with something or ends with something, respectively. The first one will print True, as the string starts with \"Hello\". The second one will print False, as the string certainly does not end with \"asdfasdfasdf\"."
   ]
  },
  {
   "cell_type": "code",
   "execution_count": null,
   "metadata": {
    "collapsed": false,
    "pycharm": {
     "name": "#%%\n"
    }
   },
   "outputs": [],
   "source": [
    "astring = \"Hello world!\"\n",
    "print(astring.startswith(\"Hello\"))\n",
    "print(astring.endswith(\"asdfasdfasdf\"))"
   ]
  },
  {
   "cell_type": "markdown",
   "metadata": {
    "collapsed": false,
    "pycharm": {
     "name": "#%% md\n"
    }
   },
   "source": [
    "`str.split()` splits the string into a bunch of strings grouped together in a `list()`. Since this example splits at a space, the first item in the list will be \"Hello\", and the second will be \"world!\"."
   ]
  },
  {
   "cell_type": "code",
   "execution_count": null,
   "metadata": {
    "collapsed": false,
    "pycharm": {
     "name": "#%%\n"
    }
   },
   "outputs": [],
   "source": [
    "astring = \"Hello world!\"\n",
    "afewwords = astring.split(\" \")\n",
    "\n",
    "print(afewwords)"
   ]
  },
  {
   "cell_type": "markdown",
   "metadata": {
    "collapsed": false,
    "pycharm": {
     "name": "#%% md\n"
    }
   },
   "source": [
    "# 5. Conditions\n",
    "-------------------\n",
    "Python uses boolean logic to evaluate conditions, and logical operators to define such conditions. The boolean values True and False are returned when an expression is compared or evaluated. For example:"
   ]
  },
  {
   "cell_type": "code",
   "execution_count": null,
   "metadata": {
    "collapsed": false,
    "pycharm": {
     "name": "#%%\n"
    }
   },
   "outputs": [],
   "source": [
    "x = 2\n",
    "print(x == 2) # prints out True\n",
    "print(x == 3) # prints out False\n",
    "print(x < 3) # prints out True"
   ]
  },
  {
   "cell_type": "markdown",
   "metadata": {
    "collapsed": false,
    "pycharm": {
     "name": "#%% md\n"
    }
   },
   "source": [
    "Notice that variable assignment is done using a single equals operator `=`, whereas comparison between two variables is done using the double equals operator `==`. The \"not equals\" operator is marked as `!=`.\n",
    "\n",
    "## Boolean operators\n",
    "\n",
    "The \"and\" and \"or\" boolean operators allow building complex boolean expressions, for example:"
   ]
  },
  {
   "cell_type": "code",
   "execution_count": null,
   "metadata": {
    "collapsed": false,
    "pycharm": {
     "name": "#%%\n"
    }
   },
   "outputs": [],
   "source": [
    "name = \"John\"\n",
    "age = 23\n",
    "if name == \"John\" and age == 23:\n",
    "    print(\"Your name is John, and you are also 23 years old.\")\n",
    "\n",
    "if name == \"John\" or name == \"Rick\":\n",
    "    print(\"Your name is either John or Rick.\")"
   ]
  },
  {
   "cell_type": "markdown",
   "metadata": {
    "collapsed": false,
    "pycharm": {
     "name": "#%% md\n"
    }
   },
   "source": [
    "## The \"in\" operator\n",
    "\n",
    "The `in` operator could be used to check if a specified object exists within an iterable object container, such as a list:"
   ]
  },
  {
   "cell_type": "code",
   "execution_count": null,
   "metadata": {
    "collapsed": false,
    "pycharm": {
     "name": "#%%\n"
    }
   },
   "outputs": [],
   "source": [
    "name = \"John\"\n",
    "if name in [\"John\", \"Rick\"]:\n",
    "    print(\"Your name is either John or Rick.\")"
   ]
  },
  {
   "cell_type": "markdown",
   "metadata": {
    "collapsed": false,
    "pycharm": {
     "name": "#%% md\n"
    }
   },
   "source": [
    "Remember that Python uses indentation to define code blocks, instead of brackets. The standard Python indentation is 4 spaces, although tabs and any other space size will work, as long as it is consistent. Notice that code blocks do not need any termination.\n",
    "\n",
    "Here is an example for using Python's \"if\" statement using code blocks:"
   ]
  },
  {
   "cell_type": "code",
   "execution_count": null,
   "metadata": {
    "collapsed": false,
    "pycharm": {
     "name": "#%%\n"
    }
   },
   "outputs": [],
   "source": [
    "statement = False\n",
    "another_statement = True\n",
    "if statement is True:\n",
    "    # do something\n",
    "    pass\n",
    "elif another_statement is True: # else if\n",
    "    # do something else\n",
    "    pass\n",
    "else:\n",
    "    # do another thing\n",
    "    pass"
   ]
  },
  {
   "cell_type": "markdown",
   "metadata": {
    "collapsed": false,
    "pycharm": {
     "name": "#%% md\n"
    }
   },
   "source": [
    "For example:"
   ]
  },
  {
   "cell_type": "code",
   "execution_count": null,
   "metadata": {
    "collapsed": false,
    "pycharm": {
     "name": "#%%\n"
    }
   },
   "outputs": [],
   "source": [
    "x = 2\n",
    "if x == 2:\n",
    "    print(\"x equals two!\")\n",
    "else:\n",
    "    print(\"x does not equal to two.\")"
   ]
  },
  {
   "cell_type": "markdown",
   "metadata": {
    "collapsed": false,
    "pycharm": {
     "name": "#%% md\n"
    }
   },
   "source": [
    "A statement is evaulated as true if one of the following is correct:\n",
    "1. The \"True\" boolean variable is given, or calculated using an expression, such as an arithmetic comparison.\n",
    "2. An object which is not considered \"empty\" is passed.\n",
    "\n",
    "Here are some examples for objects which are considered as empty:\n",
    "1. An empty string: `\"\"`\n",
    "2. An empty list: `[]`\n",
    "3. The number zero: `0`\n",
    "4. The false boolean variable: `False`"
   ]
  },
  {
   "cell_type": "markdown",
   "metadata": {
    "collapsed": false,
    "pycharm": {
     "name": "#%% md\n"
    }
   },
   "source": [
    "## The 'is' keyword\n",
    "\n",
    "Unlike the double equals operator `==`, the `is` operator does not match the values of the variables, but the instances themselves. For example:\n"
   ]
  },
  {
   "cell_type": "code",
   "execution_count": null,
   "metadata": {
    "collapsed": false,
    "pycharm": {
     "name": "#%%\n"
    }
   },
   "outputs": [],
   "source": [
    "x = [1,2,3]\n",
    "y = [1,2,3]\n",
    "print(x == y) # Prints out True\n",
    "print(x is y) # Prints out False"
   ]
  },
  {
   "cell_type": "markdown",
   "metadata": {
    "collapsed": false,
    "pycharm": {
     "name": "#%% md\n"
    }
   },
   "source": [
    "## The \"not\" keyword\n",
    "\n",
    "Using \"not\" before a boolean expression inverts it:"
   ]
  },
  {
   "cell_type": "code",
   "execution_count": null,
   "metadata": {
    "collapsed": false,
    "pycharm": {
     "name": "#%%\n"
    }
   },
   "outputs": [],
   "source": [
    "print(not False) # Prints out True\n",
    "print((not False) == (False)) # Prints out False"
   ]
  },
  {
   "cell_type": "markdown",
   "metadata": {
    "collapsed": false,
    "pycharm": {
     "name": "#%% md\n"
    }
   },
   "source": [
    "# 5. Loops\n",
    "--------------------------------\n",
    "\n",
    "There are two types of loops in Python, `for` and `while`.\n",
    "\n",
    "## The \"for\" loop\n",
    "\n",
    "For loops iterate over a given sequence. Here is an example:"
   ]
  },
  {
   "cell_type": "code",
   "execution_count": null,
   "metadata": {
    "collapsed": false,
    "pycharm": {
     "name": "#%%\n"
    }
   },
   "outputs": [],
   "source": [
    "primes = [2, 3, 5, 7]\n",
    "for prime in primes:\n",
    "    print(prime)"
   ]
  },
  {
   "cell_type": "markdown",
   "metadata": {
    "collapsed": false,
    "pycharm": {
     "name": "#%% md\n"
    }
   },
   "source": [
    "For loops can iterate over a sequence of numbers using the `range` and `xrange` functions. The difference between `range` and `xrange` is that the `range` function returns a new list with numbers of that specified range, whereas `xrange` returns an iterator, which is more efficient. (Python 3 uses the `range` function, which acts like `xrange`). Note that the `range` function is zero based."
   ]
  },
  {
   "cell_type": "code",
   "execution_count": null,
   "metadata": {
    "collapsed": false,
    "pycharm": {
     "name": "#%%\n"
    }
   },
   "outputs": [],
   "source": [
    "# Prints out the numbers 0,1,2,3,4\n",
    "for x in range(5):\n",
    "    print(x)\n",
    "print() #just an empty line\n",
    "# Prints out 3,4,5\n",
    "for x in range(3, 6):\n",
    "    print(x)\n",
    "print()\n",
    "# Prints out 3,5,7\n",
    "for x in range(3, 8, 2):\n",
    "    print(x)"
   ]
  },
  {
   "cell_type": "markdown",
   "metadata": {
    "collapsed": false,
    "pycharm": {
     "name": "#%% md\n"
    }
   },
   "source": [
    "## \"while\" loops\n",
    "\n",
    "While loops repeat as long as a certain boolean condition is met. For example:\n",
    "\n"
   ]
  },
  {
   "cell_type": "code",
   "execution_count": null,
   "metadata": {
    "collapsed": false,
    "pycharm": {
     "name": "#%%\n"
    }
   },
   "outputs": [],
   "source": [
    "count = 0\n",
    "while count < 5:\n",
    "    print(count)\n",
    "    count += 1  # This is the same as count = count + 1"
   ]
  },
  {
   "cell_type": "markdown",
   "metadata": {
    "collapsed": false,
    "pycharm": {
     "name": "#%% md\n"
    }
   },
   "source": [
    "## \"break\" and \"continue\" keywords\n",
    "\n",
    "`break` is used to exit a for loop or a while loop, whereas `continue` is used to skip the current block, and return to the \"for\" or \"while\" statement. A few examples:"
   ]
  },
  {
   "cell_type": "code",
   "execution_count": null,
   "metadata": {
    "collapsed": false,
    "pycharm": {
     "name": "#%%\n"
    }
   },
   "outputs": [],
   "source": [
    "# Prints out 0,1,2,3,4\n",
    "\n",
    "count = 0\n",
    "while True:\n",
    "    print(count)\n",
    "    count += 1\n",
    "    if count >= 5:\n",
    "        break"
   ]
  },
  {
   "cell_type": "code",
   "execution_count": null,
   "metadata": {
    "collapsed": false,
    "pycharm": {
     "name": "#%%\n"
    }
   },
   "outputs": [],
   "source": [
    "# Prints out only odd numbers - 1,3,5,7,9\n",
    "for x in range(10):\n",
    "    # Check if x is even\n",
    "    if x % 2 == 0:\n",
    "        continue\n",
    "    print(x)"
   ]
  },
  {
   "cell_type": "markdown",
   "metadata": {
    "collapsed": false,
    "pycharm": {
     "name": "#%% md\n"
    }
   },
   "source": [
    "# Exercises\n",
    "-------------------------------"
   ]
  },
  {
   "cell_type": "markdown",
   "metadata": {},
   "source": [
    "1. Using what you have learnt, write in a cell code that would give you the Fibonacci series up to a value in a variable `n`"
   ]
  },
  {
   "cell_type": "code",
   "execution_count": null,
   "metadata": {},
   "outputs": [],
   "source": [
    "n=100\n",
    "#Code\n"
   ]
  },
  {
   "cell_type": "markdown",
   "metadata": {},
   "source": [
    "## Optional topic: Variable casting\n",
    "When coding, there will be times when we need a variable to change to a different type for one reason or another. For example, you want to get an integer from a table, but the table is formatted in integer form.\n",
    "\n",
    "Changing the type of variable is called \"casting a variable\" from one type to another. Some variable castings are less risky than others, for example, changing from integer to float has no information loss, but from float to integer you will always lose the fractional part.\n",
    "\n",
    "Every language has its own way of dealing with variable casting. In the case of Python, most of the time it is done by the interpreter deciding for himself what type a variable should be (which can cause some problems), _unless_ you specify the casting yourself. To do so, you can specify the casting with a constructor function (of the general form `typename()`), which will construct a variable of your desired type. For Python's fundamental types, there are only three castings/constructor types: `str()` for string, `int()` for integer and `float()` for floating point numbers."
   ]
  },
  {
   "cell_type": "code",
   "execution_count": 51,
   "metadata": {},
   "outputs": [
    {
     "name": "stdout",
     "output_type": "stream",
     "text": [
      "7 7.0 7\n",
      "<class 'int'> <class 'float'> <class 'str'>\n",
      "7 7.3 7.3\n",
      "<class 'int'> <class 'float'> <class 'str'>\n"
     ]
    }
   ],
   "source": [
    "myint=int(7.7) #The .7 is lost after conversion to int. Generally, the float->int conversion will drop the fractional part, i.e., no rounding happens.\n",
    "myfloat=float(myint)\n",
    "mystring=str(myint)\n",
    "print(myint, myfloat, mystring)\n",
    "print(type(myint), type(myfloat), type(mystring))\n",
    "myfloat=float(\"7.3\")\n",
    "myint=int(myfloat)\n",
    "mystring=str(myfloat)\n",
    "print(myint, myfloat, mystring)\n",
    "print(type(myint), type(myfloat), type(mystring))"
   ]
  },
  {
   "cell_type": "markdown",
   "metadata": {},
   "source": [
    "## Optional topic: Variable construction\n",
    "Similarly to when you do variable casting, you can just create a variable using explicit constructors. These will ensure the type of the variable (until the variable is reassigned) and are more readable in that regard. \n",
    "\n",
    "If the constructor is empty (i.e., no arguments are given to the constructor), the variable will take its default value (0 in the case of numbers and an empty container in the case of container types). "
   ]
  },
  {
   "cell_type": "code",
   "execution_count": 52,
   "metadata": {},
   "outputs": [
    {
     "name": "stdout",
     "output_type": "stream",
     "text": [
      "[1, 3, 5]\n",
      "0\n",
      "The default value is:\n"
     ]
    }
   ],
   "source": [
    "mylist=list()\n",
    "mylist.append(1)\n",
    "mylist.append(3)\n",
    "mylist.append(5)\n",
    "print(mylist)\n",
    "myint=int()\n",
    "print(myint)\n",
    "mystr=str()\n",
    "print(\"The default value is:\"+mystr) #The default value of a string is \"\", or an empty string"
   ]
  },
  {
   "cell_type": "markdown",
   "metadata": {},
   "source": [
    "## Optional topic: Variable mutability"
   ]
  },
  {
   "cell_type": "markdown",
   "metadata": {},
   "source": [
    "Variable or object types can be classified into immutable and mutable. Immutable objects cannot be fundamentally altered, although a mutable behaviour can be achieved through copying their contents. Mutable objects can be altered in-place (i.e., without making a copy of the object).\n",
    "\n",
    "With immutable objects (`int`, `float`, `str` and others), the underlying object cannot be changed. But as we have seen before, "
   ]
  },
  {
   "cell_type": "code",
   "execution_count": 53,
   "metadata": {},
   "outputs": [
    {
     "name": "stdout",
     "output_type": "stream",
     "text": [
      "3\n",
      "6\n",
      "Ce n'est pas une pipe..epip enu sap tse'n eC\n"
     ]
    }
   ],
   "source": [
    "a=3\n",
    "print(a)\n",
    "a=a+3\n",
    "print(a)\n",
    "mystr=\"Ce n'est pas une pipe.\"\n",
    "revstr=mystr[::-1]\n",
    "mystr+=revstr\n",
    "print(mystr)"
   ]
  },
  {
   "cell_type": "markdown",
   "metadata": {},
   "source": [
    "Hmmm, we can do mathematical operations on integers and floats, and we can chain together and reverse strings. How is it possible that they are considered immutable?\n",
    "\n",
    "If we try to look where these variables are kept by the interpreter..."
   ]
  },
  {
   "cell_type": "code",
   "execution_count": 54,
   "metadata": {},
   "outputs": [
    {
     "name": "stdout",
     "output_type": "stream",
     "text": [
      "0x7ffcc1ab9368\n",
      "0x7ffcc1ab93c8\n",
      "0x1c9e314e920\n",
      "0x1c9e314e920\n",
      "0x1c9e311e970\n"
     ]
    }
   ],
   "source": [
    "a=3\n",
    "print(hex(id(a))) #hex(id(var)) tells us where (i.e. the address) the computer is storing our variable var\n",
    "a=a+3\n",
    "print(hex(id(a)))\n",
    "mystr=\"Ce n'est pas une pipe.\"\n",
    "print(hex(id(mystr)))\n",
    "non_revstr=mystr\n",
    "print(hex(id(non_revstr))) #This variable is stored in the same exact place, i.e. the interpreter is using the same object for both variables\n",
    "mystr+=revstr\n",
    "print(hex(id(mystr)))"
   ]
  },
  {
   "cell_type": "markdown",
   "metadata": {},
   "source": [
    "The interpreter is copying and storing the objects in new places the moment they are changed, instead of using the same spot. That way, these variable types can give the impression they are actually mutable, when they are not. Changing an immutable variable will always make a copy of the variable's contents.\n",
    "\n",
    "There is a limit to this behaviour. As you might remember, strings are character containers, and as such, we can access individual characters, but can we change them?\n",
    "\n",
    "**Exercise**:Try to change a single character of a string using the `[]` operator. It should give an error."
   ]
  },
  {
   "cell_type": "code",
   "execution_count": 55,
   "metadata": {},
   "outputs": [],
   "source": [
    "#Code"
   ]
  },
  {
   "cell_type": "markdown",
   "metadata": {},
   "source": [
    "On the other hand, the usage of mutable object such as `list` objects are always kept in the same spot when changed, as copying them is normally pretty expensive in computational terms."
   ]
  },
  {
   "cell_type": "code",
   "execution_count": 56,
   "metadata": {},
   "outputs": [
    {
     "name": "stdout",
     "output_type": "stream",
     "text": [
      "0x1c9e30f5880\n",
      "0x1c9e30f5880\n",
      "0x1c9e30f5880\n",
      "0x7ffcc1ab9328\n",
      "0x7ffcc1ab9328\n",
      "0x7ffcc1ab9348\n"
     ]
    }
   ],
   "source": [
    "mylist=list()\n",
    "print(hex(id(mylist)))\n",
    "mylist.append(1)\n",
    "mylist.append(1)\n",
    "print(hex(id(mylist)))\n",
    "mylist.append(2)\n",
    "print(hex(id(mylist)))\n",
    "print(hex(id(mylist[0])))\n",
    "print(hex(id(mylist[1]))) #These two are the same. Can you guess what is happening here?\n",
    "print(hex(id(mylist[2])))\n",
    "\n"
   ]
  },
  {
   "cell_type": "markdown",
   "metadata": {},
   "source": [
    "If you want to copy a mutable object (a `list` in this case), you need to do it explicitly in your code."
   ]
  },
  {
   "cell_type": "code",
   "execution_count": 57,
   "metadata": {},
   "outputs": [
    {
     "name": "stdout",
     "output_type": "stream",
     "text": [
      "[2024, 2, 3]\n",
      "[2024, 2, 3]\n",
      "[1, 2, 3]\n"
     ]
    }
   ],
   "source": [
    "mylist=[1,2,3]\n",
    "mylist_same=mylist\n",
    "mylist_copied=mylist.copy()\n",
    "mylist[0]=2024\n",
    "print(mylist)\n",
    "print(mylist_same)\n",
    "print(mylist_copied)"
   ]
  },
  {
   "cell_type": "markdown",
   "metadata": {},
   "source": [
    "**Attention**:This will only be sufficient for that list variable, not for all its contents!"
   ]
  },
  {
   "cell_type": "code",
   "execution_count": 58,
   "metadata": {},
   "outputs": [
    {
     "name": "stdout",
     "output_type": "stream",
     "text": [
      "Wrong method\n",
      "[[2024, 2, 3], [2024, 2, 3], [2024, 2, 3]]\n",
      "[[2024, 2, 3], [2024, 2, 3], [2024, 2, 3]]\n",
      "Also wrong method\n",
      "[[2024, 2, 3], [1, 2, 3], [1, 2, 3]]\n",
      "[[2024, 2, 3], [1, 2, 3], [1, 2, 3]]\n",
      "Proper method\n",
      "[[2024, 2, 3], [1, 2, 3], [1, 2, 3]]\n",
      "[[1, 2, 3], [1, 2, 3], [1, 2, 3]]\n"
     ]
    }
   ],
   "source": [
    "mylist=[1,2,3]\n",
    "nested=[]\n",
    "for i in range(3):\n",
    "    nested.append(mylist)\n",
    "nested_copy=nested.copy()\n",
    "nested[0][0]=2024\n",
    "print(\"Wrong method\")\n",
    "print(nested)\n",
    "print(nested_copy)\n",
    "\n",
    "#Also wrong\n",
    "\n",
    "mylist=[1,2,3]\n",
    "nested=[]\n",
    "for i in range(3):\n",
    "    nested.append(mylist.copy())\n",
    "nested_copy=nested.copy()\n",
    "nested[0][0]=2024\n",
    "print(\"Also wrong method\")\n",
    "print(nested)\n",
    "print(nested_copy)\n",
    "\n",
    "#Properly done\n",
    "import copy\n",
    "mylist=[1,2,3]\n",
    "nested=[]\n",
    "for i in range(3):\n",
    "    nested.append(mylist.copy())\n",
    "nested_copy=copy.deepcopy(nested) #You need to do a deep copy, i.e., to recursively copy every element at every level, creating a new variable for each\n",
    "nested[0][0]=2024\n",
    "print(\"Proper method\")\n",
    "print(nested)\n",
    "print(nested_copy)"
   ]
  },
  {
   "cell_type": "markdown",
   "metadata": {},
   "source": [
    "**Bonus exercise**: What is wrong with the second method of list copying? You might want to use the `hex(id())` functions to identify the problem."
   ]
  },
  {
   "cell_type": "markdown",
   "metadata": {},
   "source": [
    "**Bonus exercise**: Make a list of lists where each sub-list has the numbers between 0 to the position of the sub-list within the list."
   ]
  }
 ],
 "metadata": {
  "kernelspec": {
   "display_name": "Python 3",
   "language": "python",
   "name": "python3"
  },
  "language_info": {
   "codemirror_mode": {
    "name": "ipython",
    "version": 3
   },
   "file_extension": ".py",
   "mimetype": "text/x-python",
   "name": "python",
   "nbconvert_exporter": "python",
   "pygments_lexer": "ipython3",
   "version": "3.11.3"
  }
 },
 "nbformat": 4,
 "nbformat_minor": 0
}
