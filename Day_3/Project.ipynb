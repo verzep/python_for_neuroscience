{
 "cells": [
  {
   "cell_type": "markdown",
   "metadata": {},
   "source": [
    "# Extracting and analyzing electrophysiological data\n",
    "\n",
    "The goal of this project is to analyze the electrophysiological data. There is increasing evidence that triplets at the soma rely on the presence of a calcium spike at the nexus. This has been investigated under many names: coincidence detection, coupling mechanisms ...\n",
    "\n",
    "Using the pre-made methods in the [ephys](./ephys.py) module, the goal of the project is to:\n",
    "\n",
    "1. Load in the data\n",
    "2. Extract spike time information at the soma\n",
    "\n",
    "    2.1. Extract the timings of spikes at the soma using the `ephys` module. Try plotting them out, using axvline to verify if your spike times are correct\n",
    "\n",
    "    2.2. Parse them using `ephys.count_spikes`. Read the docstring to figure out how this method works\n",
    "    \n",
    "3. Extract calcium spikes at the nexus in a similar way\n",
    "\n",
    "4. Investigate whether there are any relationships\n",
    "\n",
    "    4.1 Is there any correlation between burst firing and whether or not there is a calcium spike?\n",
    "    \n",
    "    4.2 (advanced) is there any correlation between the duration of the calcium spike and the amount of somatic spikes?\n",
    "\n",
    "\n",
    "Tips and tricks:\n",
    "- Plot out intermediate results to verify if you are on the right track\n",
    "- Use slicing and indexing to zoom in on specific time points\n",
    "- Try running your code on a single row first to see if everything works\n",
    "- Create a separate dataframe to keep track of your results."
   ]
  },
  {
   "cell_type": "markdown",
   "metadata": {},
   "source": [
    "## 1. Loading in the data"
   ]
  },
  {
   "cell_type": "code",
   "execution_count": null,
   "metadata": {},
   "outputs": [],
   "source": []
  },
  {
   "cell_type": "markdown",
   "metadata": {},
   "source": []
  }
 ],
 "metadata": {
  "kernelspec": {
   "display_name": "Python 3",
   "language": "python",
   "name": "python3"
  },
  "language_info": {
   "codemirror_mode": {
    "name": "ipython",
    "version": 3
   },
   "file_extension": ".py",
   "mimetype": "text/x-python",
   "name": "python",
   "nbconvert_exporter": "python",
   "pygments_lexer": "ipython3",
   "version": "3.12.3"
  }
 },
 "nbformat": 4,
 "nbformat_minor": 2
}
