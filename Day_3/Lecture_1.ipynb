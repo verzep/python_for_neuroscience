{
 "cells": [
  {
   "cell_type": "markdown",
   "metadata": {},
   "source": [
    "# File navigation and data handling"
   ]
  },
  {
   "cell_type": "markdown",
   "metadata": {},
   "source": [
    "One of the most popular reasons why people learn Python is for how powerful and convenient it is to parse data. It has a collection of very powerful third-party packages that make data processing a breeze. Third party packages are simply a collection of useful code that other people have written, so that we don't have to anymore. Today, we will handle the following topics:\n",
    "- file  navigation and IO\n",
    "- pandas (see [the next notebook](./Lecture_2.ipynb))\n",
    "- seaborn (visualization [the next notebook](./Lecture_2.ipynb))\n",
    "\n",
    "The learning curve can be a bit steep, especially compared to how intuitive e.g. Excel is. However, once you're getting over the learning curve, the possibilities are endless.\n",
    "\n",
    "To process your data, you will first need to know how to navigate files and read in files in Python.\n",
    "\n",
    "## File navigation\n",
    "\n",
    "Reading in your data requires that you're able to locate it. Each file and folder on your computer has a unique path, that looks something like: `\"C:\\Users\\username\\Documents\\my_project_final_REALLYfinal_v3.docx\"`\n",
    "\n",
    "Here, the `\\` is the \"separator\", indicating that you're moving a level deeper into the filesystem. Note that Linux and MacOS have `/` as a separator.\n",
    "\n",
    "\n",
    "Navigating your files can be done with the `os` package, which is built into Python. You don't have to install this one yourself, you can just import it:"
   ]
  },
  {
   "cell_type": "code",
   "execution_count": 1,
   "metadata": {},
   "outputs": [],
   "source": [
    "import os"
   ]
  },
  {
   "cell_type": "markdown",
   "metadata": {},
   "source": [
    "What can `os` do?"
   ]
  },
  {
   "cell_type": "markdown",
   "metadata": {},
   "source": [
    "### List files in a directory"
   ]
  },
  {
   "cell_type": "code",
   "execution_count": 2,
   "metadata": {},
   "outputs": [
    {
     "data": {
      "text/plain": [
       "['Lecture_1.ipynb']"
      ]
     },
     "execution_count": 2,
     "metadata": {},
     "output_type": "execute_result"
    }
   ],
   "source": [
    "# List all files in a directory\n",
    "os.listdir('.')  # '.' means \"the current directory, wherever that may be\""
   ]
  },
  {
   "cell_type": "code",
   "execution_count": 3,
   "metadata": {},
   "outputs": [
    {
     "data": {
      "text/plain": [
       "['Day_3', 'README.md', 'Day_1', '.git']"
      ]
     },
     "execution_count": 3,
     "metadata": {},
     "output_type": "execute_result"
    }
   ],
   "source": [
    "os.listdir('..')  # '..' means \"the directory above here, wherever that may be\""
   ]
  },
  {
   "cell_type": "markdown",
   "metadata": {},
   "source": [
    "Here, `.` means \"the current directory\", and `..` means \"one directory above the current directoy\". This is relative to the directory from which this code is being executed. These relative markers are very useful to avoid having to type out the full path of some file every time. this way, we can e.g. print out the files in a sibling directory, without having to know the full path to it:"
   ]
  },
  {
   "cell_type": "code",
   "execution_count": 18,
   "metadata": {},
   "outputs": [
    {
     "name": "stdout",
     "output_type": "stream",
     "text": [
      "I am using a Linux operating system, which uses the separator:  /\n"
     ]
    }
   ],
   "source": [
    "operating_system = os.uname().sysname\n",
    "separator = os.sep\n",
    "print(\"I am using a\", operating_system, \"operating system, which uses the separator: \", separator)"
   ]
  },
  {
   "cell_type": "code",
   "execution_count": 8,
   "metadata": {},
   "outputs": [
    {
     "name": "stdout",
     "output_type": "stream",
     "text": [
      "../Day_1\n"
     ]
    },
    {
     "data": {
      "text/plain": [
       "['Lecture_2.ipynb', 'Lecture_1.ipynb']"
      ]
     },
     "execution_count": 8,
     "metadata": {},
     "output_type": "execute_result"
    }
   ],
   "source": [
    "sibling_directory = '..' + separator + 'Day_1'\n",
    "print(sibling_directory)\n",
    "os.listdir(sibling_directory)"
   ]
  },
  {
   "cell_type": "markdown",
   "metadata": {},
   "source": [
    "Creating new directories can be done with:"
   ]
  },
  {
   "cell_type": "code",
   "execution_count": 11,
   "metadata": {},
   "outputs": [],
   "source": [
    "os.makedirs('data')"
   ]
  },
  {
   "cell_type": "code",
   "execution_count": 12,
   "metadata": {},
   "outputs": [
    {
     "data": {
      "text/plain": [
       "['Lecture_1.ipynb', 'data']"
      ]
     },
     "execution_count": 12,
     "metadata": {},
     "output_type": "execute_result"
    }
   ],
   "source": [
    "# To verify the directory we created is actually there:\n",
    "os.listdir('.')"
   ]
  },
  {
   "cell_type": "markdown",
   "metadata": {},
   "source": [
    "### The `path` subpackage"
   ]
  },
  {
   "cell_type": "markdown",
   "metadata": {},
   "source": [
    "Handling paths can be done with the `path` subpackage, contained in `os`."
   ]
  },
  {
   "cell_type": "code",
   "execution_count": 16,
   "metadata": {},
   "outputs": [
    {
     "name": "stdout",
     "output_type": "stream",
     "text": [
      "/gpfs/soma_fs/scratch/meulemeester/project_src/python_for_neuroscience/Day_3\n"
     ]
    }
   ],
   "source": [
    "# What is the full path of the current directory?\n",
    "current_directory = os.path.abspath('.')\n",
    "print(current_directory)"
   ]
  },
  {
   "cell_type": "code",
   "execution_count": 13,
   "metadata": {},
   "outputs": [
    {
     "data": {
      "text/plain": [
       "'/gpfs/soma_fs/scratch/meulemeester/project_src/python_for_neuroscience'"
      ]
     },
     "execution_count": 13,
     "metadata": {},
     "output_type": "execute_result"
    }
   ],
   "source": [
    "os.path.abspath('..')  # Get the absolute path of the current directory"
   ]
  },
  {
   "cell_type": "markdown",
   "metadata": {},
   "source": [
    "You can easily construct pathnames using `os.path.join`. This will automatically use the correct separator (`\\` for Windows, `/` for everything else)."
   ]
  },
  {
   "cell_type": "code",
   "execution_count": 19,
   "metadata": {},
   "outputs": [
    {
     "name": "stdout",
     "output_type": "stream",
     "text": [
      "/gpfs/soma_fs/scratch/meulemeester/project_src/python_for_neuroscience/Day_3/data\n"
     ]
    }
   ],
   "source": [
    "data_directory = os.path.join(current_directory, 'data')\n",
    "print(data_directory)"
   ]
  },
  {
   "cell_type": "markdown",
   "metadata": {},
   "source": [
    "If you are constructing paths yourself, it is always a good idea to check if it really exists. Just in case you made a typo, or you want to access a folder that has not been created (yet)."
   ]
  },
  {
   "cell_type": "code",
   "execution_count": 21,
   "metadata": {},
   "outputs": [
    {
     "data": {
      "text/plain": [
       "True"
      ]
     },
     "execution_count": 21,
     "metadata": {},
     "output_type": "execute_result"
    }
   ],
   "source": [
    "os.path.exists(data_directory)"
   ]
  },
  {
   "cell_type": "markdown",
   "metadata": {},
   "source": [
    "## Writing and reading data using Python: file IO\n",
    "\n",
    "Writing data to a file consists of four steps. \n",
    "1. Choosing a file location\n",
    "2. Opening/creating the file\n",
    "3. Write out the data to the open file\n",
    "4. Closing the file\n",
    "\n",
    "Writing this out in a 4-step plan seems a bit silly, doesn't it. But there is actually a lot that can go wrong in the code if you're not careful. Here are some common things to look out for:\n"
   ]
  },
  {
   "cell_type": "markdown",
   "metadata": {},
   "source": [
    "\n",
    "> ⚠️ Common mistakes when doing file IO:\n",
    "> \n",
    "> 1. Forgetting to close the file after you have written out data. Python won't write anything until it gets the command to close the file.\n",
    ">\n",
    "> 2. Opening the file in a wrong mode.\n",
    ">\n",
    "> 3. Choosing a file location that doesn't exist (due to a typo, or the parent directory doesn't exist (yet))"
   ]
  },
  {
   "cell_type": "markdown",
   "metadata": {},
   "source": [
    "#### Writing out data"
   ]
  },
  {
   "cell_type": "markdown",
   "metadata": {},
   "source": [
    "To write out data, you open an existing file in `w` mode. `w` simply stand for \"write\". \n",
    "\n",
    "You give this opened file a name in your Python code, so you can perform operations on it. Note that this name is the name of a Python variable, and has nothing to do with the name of the actual file."
   ]
  },
  {
   "cell_type": "code",
   "execution_count": 29,
   "metadata": {},
   "outputs": [
    {
     "name": "stdout",
     "output_type": "stream",
     "text": [
      "My file is:  /gpfs/soma_fs/scratch/meulemeester/project_src/python_for_neuroscience/Day_3/data/my_file.txt\n"
     ]
    }
   ],
   "source": [
    "my_file_name = os.path.join(data_directory, 'my_file.txt')\n",
    "print(\"My file is: \", my_file_name)"
   ]
  },
  {
   "cell_type": "markdown",
   "metadata": {},
   "source": [
    "At this point in time, this file does not exist yet:"
   ]
  },
  {
   "cell_type": "code",
   "execution_count": 28,
   "metadata": {},
   "outputs": [
    {
     "data": {
      "text/plain": [
       "False"
      ]
     },
     "execution_count": 28,
     "metadata": {},
     "output_type": "execute_result"
    }
   ],
   "source": [
    "os.path.exists(my_file_name)"
   ]
  },
  {
   "cell_type": "markdown",
   "metadata": {},
   "source": [
    "We can create it and write data to it in a single line of code:"
   ]
  },
  {
   "cell_type": "code",
   "execution_count": 30,
   "metadata": {},
   "outputs": [],
   "source": [
    "with open(my_file_name, 'w') as my_file_as_python_variable:\n",
    "    my_file_as_python_variable.write('Hi mom, I\\'m learning Python!')"
   ]
  },
  {
   "cell_type": "markdown",
   "metadata": {},
   "source": [
    "Now, the file does exist:"
   ]
  },
  {
   "cell_type": "code",
   "execution_count": 31,
   "metadata": {},
   "outputs": [
    {
     "data": {
      "text/plain": [
       "True"
      ]
     },
     "execution_count": 31,
     "metadata": {},
     "output_type": "execute_result"
    }
   ],
   "source": [
    "os.path.exists(my_file_name)"
   ]
  },
  {
   "cell_type": "markdown",
   "metadata": {},
   "source": [
    "And it contains data too!"
   ]
  },
  {
   "cell_type": "code",
   "execution_count": 25,
   "metadata": {},
   "outputs": [
    {
     "name": "stdout",
     "output_type": "stream",
     "text": [
      "Hi mom, I'm learning Python!\n"
     ]
    }
   ],
   "source": [
    "with open(os.path.join(data_directory, 'test.txt'), 'r') as my_file:\n",
    "    content = my_file.read()\n",
    "print(content)"
   ]
  },
  {
   "cell_type": "markdown",
   "metadata": {},
   "source": [
    "It is recommended to use the syntax as above to read or write files, i.e. using the following syntax:\n",
    "```python\n",
    "with open(some_file) as f:\n",
    "    # do something with f...\n",
    "```\n",
    "Using this `with ... as` syntax style, Python will automatically close the file as soon as the codeblock has finished executing, and you don't have to remember to run something like `f.close()`, which many people (like me) often forget."
   ]
  },
  {
   "cell_type": "markdown",
   "metadata": {},
   "source": [
    "## Exercises"
   ]
  },
  {
   "cell_type": "markdown",
   "metadata": {},
   "source": [
    "1. Create a new directory in the current folder, called \"data2\"."
   ]
  },
  {
   "cell_type": "code",
   "execution_count": null,
   "metadata": {},
   "outputs": [],
   "source": []
  },
  {
   "cell_type": "markdown",
   "metadata": {},
   "source": [
    "2. Create a file in this directory, containing the title of the song you're currently obsessed with."
   ]
  },
  {
   "cell_type": "code",
   "execution_count": null,
   "metadata": {},
   "outputs": [],
   "source": []
  },
  {
   "cell_type": "markdown",
   "metadata": {},
   "source": [
    "3. Create a second file in this directory, containing all numbers between 1 and 100. I would not recommend to do this manually - try a `for`-loop! See [the exercises of the previous day](../Day_1/Lecture_1.ipynb) for more information on `for` loops.\n"
   ]
  },
  {
   "cell_type": "code",
   "execution_count": null,
   "metadata": {},
   "outputs": [],
   "source": []
  },
  {
   "cell_type": "markdown",
   "metadata": {},
   "source": [
    "4. Open the same file as before, and now add the name of your favorite TV show, without losing the numbers 1-100. You will have to open the file in a new mode for this: `a` for \"append\"."
   ]
  },
  {
   "cell_type": "code",
   "execution_count": null,
   "metadata": {},
   "outputs": [],
   "source": []
  }
 ],
 "metadata": {
  "kernelspec": {
   "display_name": "isf3.8",
   "language": "python",
   "name": "base"
  },
  "language_info": {
   "codemirror_mode": {
    "name": "ipython",
    "version": 3
   },
   "file_extension": ".py",
   "mimetype": "text/x-python",
   "name": "python",
   "nbconvert_exporter": "python",
   "pygments_lexer": "ipython3",
   "version": "3.8.5"
  }
 },
 "nbformat": 4,
 "nbformat_minor": 2
}
