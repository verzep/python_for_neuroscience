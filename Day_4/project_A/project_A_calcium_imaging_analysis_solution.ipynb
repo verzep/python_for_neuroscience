{
 "cells": [
  {
   "cell_type": "markdown",
   "metadata": {},
   "source": [
    "# Project A: Analysis of Calcium Imaging Data"
   ]
  },
  {
   "cell_type": "markdown",
   "metadata": {},
   "source": [
    "**Project Overview**\n",
    "\n",
    "In this project you will be provided with imaging data from an experiment in head-fixed mice. The data stem from two animals in which different regions of the hippocampus were recorded, the dentate gyrus (DG) and area CA1. For each animal you will get both, a continuous signal representing the Ca2+ level in the neurons and a binary signal representing detected Calcium events. The goal is to explore the neural activity of the two different regions on a basic level.\n",
    "<br />\n",
    "<br />\n",
    "\n",
    "**What you can expect from this project:**\n",
    "- use pandas to filter data\n",
    "- use numpy for basic arithmetic operations\n",
    "- plot histograms, timeseries, and box plots\n",
    "- generate an artifical spike train\n",
    "- apply some statistical tests\n",
    "- get an impression of how Calcium imaging data look like\n",
    "<br />\n",
    "<br />\n",
    "\n",
    "**Questions to answer:**\n",
    "1. Is the distribution of inter-event intervals different between the two hippocampal areas?\n",
    "2. Are the IEI distributions different from one of a random poisson process? \n",
    "3. The binary signal is result of a thresholding analysis, how well do you think it fits to the underlying continuous data?\n",
    "4. Is the average continuous signal of neurons with higher event rate indeed higher as expected?\n",
    "5. Is there a difference in how correlated neural activity is in the two regions? \n",
    "<br />\n",
    "<br />\n",
    "\n",
    "-----------------------------------"
   ]
  },
  {
   "cell_type": "markdown",
   "metadata": {},
   "source": [
    "*Let’s get started…*\n",
    "\n",
    "### Download the data\n",
    "Run the cell below to download the data from sciebo. The data will be stored in the folder \"day_4/project_A/data\". You will see 2 .csv files, each containing data of two animals:\n",
    "- data_continuous.csv\n",
    "- data_binary.csv\n",
    "\n",
    "Some Information about the data:\n",
    "\n",
    "| Type of information | Value |\n",
    "| ------ | ----------- |\n",
    "| Framerate | 15 Hz |\n",
    "| time/frame | 0.067s |\n",
    "| Calcium sensor | GCaMP6s |\n",
    "| Continuous data | df/f |\n",
    "\n",
    "\n",
    "<span style=\"color:mediumseagreen\">Explanatory note on \"df/f\":</span> \"df/f\" is an abbreviation for \"delta f over f\" and describes an operation which is commonly applied to continuous imaging signals in order to calculate the deviation of the signal at each timepoint from a (often preceding) baseline value and normalize it to some value (often the mean/median/ a percentile of the whole signal is used). This helps to \"clean\" the signal from baseline drifts and the normalization step allows the comparison of signals from different neurons with different baseline signal intensities (e.g. due to different levels of sensor expression)."
   ]
  },
  {
   "cell_type": "code",
   "execution_count": 3,
   "metadata": {},
   "outputs": [],
   "source": [
    "# import sciebo\n",
    "\n",
    "# sciebo.download_file_from_sciebo('https://uni-bonn.sciebo.de/s/aLuGqYoZRFgwhzF', 'data', 'data_endoscope.tif')\n",
    "# sciebo.download_file_from_sciebo('https://uni-bonn.sciebo.de/s/aLuGqYoZRFgwhzF', 'data', 'data_endoscope.tif')"
   ]
  },
  {
   "cell_type": "markdown",
   "metadata": {},
   "source": [
    "---------------------------------------\n",
    "\n",
    "### Open the data \n",
    "\n",
    "To do:\n",
    "- Import the necessary libraries\n",
    "- Open the data as dataframes\n",
    "- Inspect the data\n"
   ]
  },
  {
   "cell_type": "code",
   "execution_count": 4,
   "metadata": {},
   "outputs": [],
   "source": [
    "# Import libraries\n",
    "import pandas as pd"
   ]
  },
  {
   "cell_type": "code",
   "execution_count": 5,
   "metadata": {},
   "outputs": [],
   "source": [
    "# Open data as dataframes\n",
    "file_continuous = \"./data/fake_df.csv\"\n",
    "file_binary = \"./data/fake_binary.csv\"\n",
    "\n",
    "df_continuous = pd.read_csv(file_continuous , sep=\",\")\n",
    "df_binary = pd.read_csv(file_binary, sep=\",\")"
   ]
  },
  {
   "cell_type": "code",
   "execution_count": 6,
   "metadata": {},
   "outputs": [
    {
     "name": "stdout",
     "output_type": "stream",
     "text": [
      "  Region Animal  Neuron         1         2         3         4         5  \\\n",
      "0    CA1     xx       1  2.439687  0.747347  1.166246  1.324258  2.280689   \n",
      "1    CA1     xx       2  2.975199  0.212489  2.176459  2.452207  4.341680   \n",
      "2    CA1     xx       3  3.453728  2.281572  4.665745  2.376783  2.474470   \n",
      "3    CA1     xx       4  1.736280  2.848181  0.084355  3.995989  0.141418   \n",
      "4    CA1     xx       5  2.246770  2.323099  3.896707  2.117511  3.016367   \n",
      "\n",
      "          6         7  ...       101       102       103       104       105  \\\n",
      "0  1.904902  0.496747  ...  2.185981  4.723871  4.426165  1.177280  1.560380   \n",
      "1  4.138617  0.292201  ...  1.793341  1.060972  3.306951  4.634577  0.895222   \n",
      "2  0.154252  3.925923  ...  3.906223  3.395527  0.520451  1.957105  1.571203   \n",
      "3  4.090540  2.028192  ...  3.110941  1.895102  4.680686  4.443016  0.330254   \n",
      "4  3.442339  4.940028  ...  3.774950  3.260826  2.044951  1.042624  4.271014   \n",
      "\n",
      "        106       107       108       109       110  \n",
      "0  4.648442  1.913648  2.615725  0.612101  4.942978  \n",
      "1  2.302223  2.427258  0.200572  3.749201  2.857594  \n",
      "2  0.253966  3.829123  3.150480  0.586062  3.739871  \n",
      "3  2.865183  2.436018  0.327443  3.896853  3.684627  \n",
      "4  4.891818  3.280656  1.203382  4.087156  4.175468  \n",
      "\n",
      "[5 rows x 113 columns]\n",
      "  Region Animal  Neuron  1  2  3  4  5  6  7  ...  101  102  103  104  105  \\\n",
      "0    CA1     xx       1  0  0  0  0  0  0  0  ...    0    0    0    0    0   \n",
      "1    CA1     xx       2  0  0  0  0  0  0  0  ...    0    0    0    0    0   \n",
      "2    CA1     xx       3  0  0  0  0  0  0  0  ...    0    0    0    0    0   \n",
      "3    CA1     xx       4  0  0  0  0  0  0  0  ...    0    0    0    0    0   \n",
      "4    CA1     xx       5  0  0  0  0  0  0  0  ...    0    0    0    0    0   \n",
      "\n",
      "   106  107  108  109  110  \n",
      "0    0    0    0    0    0  \n",
      "1    0    0    0    0    0  \n",
      "2    0    0    0    0    0  \n",
      "3    0    0    0    0    0  \n",
      "4    0    0    0    0    0  \n",
      "\n",
      "[5 rows x 113 columns]\n"
     ]
    }
   ],
   "source": [
    "# Inspect data\n",
    "print(df_continuous.head())\n",
    "print(df_binary.head())"
   ]
  },
  {
   "cell_type": "markdown",
   "metadata": {},
   "source": [
    "---------------------------------------\n",
    "\n",
    "### 1. Is the distribution of IEIs different between the two hippocampal areas? \n",
    "\n",
    "To do:\n",
    "- Import the necessary libraries\n",
    "- Filter the binary data by brain region\n",
    "- Convert the resulting dataframe to a numpy matrix of shape neurons x timepoints\n",
    "- Calculate the inter-event intervals (IEIs) for all neurons of one hippocampal region\n",
    "- Plot the IEIs as histogram\n",
    "- Perform a statistical test comparing the two distributions\n"
   ]
  },
  {
   "cell_type": "markdown",
   "metadata": {},
   "source": [
    "<span style=\"color:mediumseagreen\">Explanatory note on IEIs:</span> you may have heard of inter-spike intervals, however, here we are dealing with Ca^2+^ imaging, which can only be used as proxy for neural activity and inference of underlying spikes is challenging. The binary Ca^2+^ event data are marking onsets of Ca^2+^ events (not actual spikes) and hence we talk about inter-event intervals. Nevertheless, having this constraint in mind, the data can be used to draw some conclusions about neural activity.\n",
    "\n",
    "<span style=\"color:mediumseagreen\">Event rate vs IEI:</span> Often the (spike or event) rate is used to assess neural activity. While this is an easy-to-use measure, it occludes any information about the distribution of events (are there many of them happening in a small window of time or are they spread evenly across time?) and thereby information about neural activity dynamics. (TODO: Olli)"
   ]
  },
  {
   "cell_type": "code",
   "execution_count": 7,
   "metadata": {},
   "outputs": [],
   "source": [
    "# Import libraries\n",
    "import numpy as np\n",
    "import matplotlib.pyplot as plt\n",
    "import scipy.stats as stats"
   ]
  },
  {
   "cell_type": "code",
   "execution_count": 8,
   "metadata": {},
   "outputs": [],
   "source": [
    "# Filter the binary data by region and convert the resulting dataframe to a numpy matrix\n",
    "# Hint: extract some useful information, e.g. the number of neurons in each region\n",
    "\n",
    "DG_binary = df_binary[df_binary['Region'] == 'DG'].drop(['Region', 'Animal', 'Neuron'], axis=1).to_numpy()\n",
    "CA1_binary = df_binary[df_binary['Region'] == 'CA1'].drop(['Region', 'Animal', 'Neuron'], axis=1).to_numpy()\n",
    "\n",
    "# ...or you could do it step-by-step instead of all in one line:\n",
    "\n",
    "# # Filter by Region and save in new dataframe\n",
    "# df_DG = df_binary[df_binary['Region'] == 'DG']\n",
    "# df_CA1 = df_binary[df_binary['Region'] == 'CA1']\n",
    "\n",
    "# # Drop columns that carry additional information\n",
    "# df_DG = df_DG.drop(['Region', 'Animal', 'Neuron'], axis=1)\n",
    "# df_CA1 = df_CA1.drop(['Region', 'Animal', 'Neuron'], axis=1)\n",
    "\n",
    "# # Convert to numpy array\n",
    "# DG_binary = df_DG.to_numpy()\n",
    "# CA1_binary = df_CA1.to_numpy()\n",
    "\n",
    "# Number of neurons\n",
    "n_DG = DG_binary.shape[0]\n",
    "n_CA1, n_frames = CA1_binary.shape\n"
   ]
  },
  {
   "cell_type": "code",
   "execution_count": 9,
   "metadata": {},
   "outputs": [],
   "source": [
    "# Calculate the IEIs\n",
    "\n",
    "# Information of time per frame [in s]\n",
    "fs = 0.067\n",
    "\n",
    "# Get the indices of the timepoints at which there is an event (= 1)\n",
    "# Hint: np.nonzero() returns a tuple, you only need the first element of the tuple \n",
    "DG_onsets = [np.nonzero(DG_binary[x,:])[0] for x in range(n_DG)]\n",
    "CA1_onsets = [np.nonzero(CA1_binary[x,:])[0] for x in range(n_CA1)]\n",
    "\n",
    "# ...or it can be solved with a classic for loop:\n",
    "# DG_onsets = []\n",
    "# for x in range(n_DG):\n",
    "#     DG_onsets.append(np.nonzero(DG_binary[x,:]))\n",
    "\n",
    "# CA1_onsets = []\n",
    "# for x in range(n_CA1):\n",
    "#     CA1_onsets.append(np.nonzero(CA1_binary[x,:]))\n",
    "\n",
    "# Calculate the delta in sec between events and write into one list\n",
    "ieis_DG = []\n",
    "for onsets in DG_onsets:\n",
    "    ieis_DG.extend(np.diff(onsets) * fs)\n",
    "\n",
    "ieis_CA1 = []\n",
    "for onsets in CA1_onsets:\n",
    "    ieis_CA1.extend(np.diff(onsets) * fs)"
   ]
  },
  {
   "cell_type": "code",
   "execution_count": 10,
   "metadata": {},
   "outputs": [
    {
     "data": {
      "image/png": "[encoded data removed]",
      "text/plain": [
       "<Figure size 432x288 with 1 Axes>"
      ]
     },
     "metadata": {
      "needs_background": "light"
     },
     "output_type": "display_data"
    }
   ],
   "source": [
    "# Plot histograms\n",
    "\n",
    "# Define bin size [in s]\n",
    "dt = 0.1\n",
    "\n",
    "# Find maximum IEI\n",
    "max_iei = np.max(ieis_DG + ieis_CA1)\n",
    "\n",
    "# Define bin edges\n",
    "bin_edges = np.arange(0,max_iei, dt)\n",
    "\n",
    "# Assign colors to the two regions\n",
    "color_DG = 'tomato'\n",
    "color_CA1 = 'indigo'\n",
    "\n",
    "# Plot histogram\n",
    "# Hint: when you add a semicolon at the end of the line, the values are not printed in addition to the plot\n",
    "plt.hist(ieis_DG, bins=bin_edges, density = True, color=color_DG, alpha= .5, label='DG');\n",
    "plt.hist(ieis_CA1, bins=bin_edges, density = True, color=color_CA1, alpha= .5, label='CA1');\n",
    "plt.xlabel('IEI')\n",
    "plt.ylabel('Probability Density')\n",
    "plt.legend()\n",
    "plt.title('IEI distributions in 2 hippocampal regions')\n",
    "plt.xlim((bin_edges[0], bin_edges[-1]));"
   ]
  },
  {
   "cell_type": "code",
   "execution_count": 11,
   "metadata": {},
   "outputs": [
    {
     "name": "stdout",
     "output_type": "stream",
     "text": [
      "p-Value DG: 0.0034077269956469536\n",
      "p-Value CA1: 0.21280115842819214\n",
      "MannwhitneyuResult(statistic=47.0, pvalue=0.3699280252040905)\n",
      "Ttest_indResult(statistic=1.0109395108844696, pvalue=0.32412036717621107)\n"
     ]
    }
   ],
   "source": [
    "# Perform a statistical test (TODO Olli)\n",
    "\n",
    "# Check normal distribution of data using Shapiro-Wilk test\n",
    "# Hint: if the p-Value is significant, the data are not normally distributed\n",
    "# and the Mann-Whitney U test should be used instead of a t-test to compare the distributions \n",
    "w_DG, pvalue_DG = stats.shapiro(ieis_DG)\n",
    "w_CA1, pvalue_CA1 = stats.shapiro(ieis_CA1)\n",
    "print(f'p-Value DG: {pvalue_DG}')\n",
    "print(f'p-Value CA1: {pvalue_CA1}')\n",
    "\n",
    "# Perform a two-sided MWU test\n",
    "# Hint: if the p-Value is significant, the H0 (that the two distributions stem from one population) can be rejected,\n",
    "# i.e. we can assume that the distribution of IEIs in the DG and CA1 are indeed different\n",
    "mwu_result = stats.mannwhitneyu(x=ieis_DG, y=ieis_CA1, alternative = 'two-sided')\n",
    "print(mwu_result)\n",
    "\n",
    "# Or: Perform a t-test for independent samples\n",
    "# Hint: if the p-Value is significant, the H0 (that the two distributions stem from one population) can be rejected,\n",
    "# i.e. we can assume that the distribution of IEIs in the DG and CA1 are indeed different\n",
    "tt_result = stats.ttest_ind(a=ieis_DG, b=ieis_CA1, alternative = 'two-sided')\n",
    "print(tt_result)"
   ]
  },
  {
   "cell_type": "markdown",
   "metadata": {},
   "source": [
    "<span style=\"color:violet\">**Question:**</span>\n",
    "\n",
    "What does this tell you about the recorded neuron populations?"
   ]
  },
  {
   "cell_type": "markdown",
   "metadata": {},
   "source": [
    "<span style=\"color:tomato\">**Hints:**</span>\n",
    "\n",
    "| Goal | Function |\n",
    "| ------ | ----------- |\n",
    "| get rid of columns | DataFrame.drop() |\n",
    "| get nonzero elements of an array | numpy.nonzero() |\n",
    "| adding elements of list to another list | list.extend() |\n",
    "| plot a histogram | matplotlib.pyplot.hist() |\n",
    "| perform a Shapiro-Wilk test | scipy.stats.shapiro() |\n",
    "| perform a Mann-Whitney U test | scipy.stats.mannwhitneyu() |\n",
    "| perform a t-test for independent samples | scipy.stats.ttest_ind() |"
   ]
  },
  {
   "cell_type": "markdown",
   "metadata": {},
   "source": [
    "**Bonus:**\n",
    "- Calculate the Coefficient of Variation (CV) for the two distributions\n",
    "- Calculate the Fano factor for the two distributions\n",
    "- What do they tell you?"
   ]
  },
  {
   "cell_type": "code",
   "execution_count": 12,
   "metadata": {},
   "outputs": [
    {
     "name": "stdout",
     "output_type": "stream",
     "text": [
      "The CV of the DG IEIs is 0.455 and its Fano factor is 0.326\n",
      "The CV of the CA1 IEIs is 0.694 and its Fano factor is 0.541\n"
     ]
    }
   ],
   "source": [
    "# Coefficient of Variation\n",
    "cv_DG = np.std(ieis_DG)/ np.mean(ieis_DG)\n",
    "cv_CA1 = np.std(ieis_CA1)/ np.mean(ieis_CA1)\n",
    "\n",
    "# Fano Factor (TODO Olli)\n",
    "ff_DG = np.var(ieis_DG)/ np.mean(ieis_DG)\n",
    "ff_CA1 = np.var(ieis_CA1)/ np.mean(ieis_CA1)\n",
    "\n",
    "print(f'The CV of the DG IEIs is {round(cv_DG, ndigits=3)} and its Fano factor is {round(ff_DG, ndigits=3)}')\n",
    "print(f'The CV of the CA1 IEIs is {round(cv_CA1, ndigits=3)} and its Fano factor is {round(ff_CA1, ndigits=3)}')"
   ]
  },
  {
   "cell_type": "markdown",
   "metadata": {},
   "source": [
    "---------------------------------------\n",
    "\n",
    "### 2. Are the IEI distributions different from one of a random poisson process? \n",
    "\n",
    "To do:\n",
    "- Import the necessary libraries\n",
    "- Calculate the event rate of each neuron for both regions\n",
    "- Generate a poisson process matching each neuron's event rate\n",
    "- Extract the IEIs for each of these artificial event trains and pool for each region across neurons\n",
    "- Plot the real and artificial distributions for both hippocampal regions\n",
    "- Compare the real and artificial distribution of each brain region using a statistical test"
   ]
  },
  {
   "cell_type": "markdown",
   "metadata": {},
   "source": [
    "<span style=\"color:mediumseagreen\">Poisson model of spike generation:</span>\n",
    "\n",
    "- Generation of a random poisson process using python (chapter 6.5): https://mrgreene09.github.io/computational-neuroscience-textbook/Ch5.html\n",
    "- Something more theoretical: https://www.cns.nyu.edu/~david/handouts/poisson.pdf"
   ]
  },
  {
   "cell_type": "code",
   "execution_count": 13,
   "metadata": {},
   "outputs": [],
   "source": [
    "# Calculate the event rate of each neuron for both regions\n",
    "rates_DG = DG_binary.sum(axis = 1) / (n_frames*fs)\n",
    "rates_CA1 = CA1_binary.sum(axis = 1) / (n_frames*fs)"
   ]
  },
  {
   "cell_type": "code",
   "execution_count": 14,
   "metadata": {},
   "outputs": [],
   "source": [
    "# Generate a poisson process matching each neuron's event rate\n",
    "# Hints:\n",
    "# 1) calculate the probability of an event occurring in one time bin,\n",
    "#    where one bin has the same duration as one frame in the real recordings. --> p = event_rate * time_per_frame\n",
    "# 2) create a vector of random numbers between 0 and 1 with a length of the number or frames in the real recording\n",
    "# 3) for each value in this vector check if it exceeds the probability calculated in 1).\n",
    "#    If yes, mark it with a 1. If No, mark it with a 0.\n",
    "# 4) Repeat steps 1-3 for each neuron.\n",
    "\n",
    "# DG\n",
    "DG_art_binary = np.zeros_like(DG_binary)\n",
    "for neuron in range(n_DG):\n",
    "    prob = rates_DG[neuron] * dt\n",
    "    DG_art_binary[neuron,:] = (np.random.rand(n_frames) < prob) * 1\n",
    "\n",
    "# CA1\n",
    "CA1_art_binary = np.zeros_like(CA1_binary)\n",
    "for neuron in range(n_CA1):\n",
    "    prob = rates_CA1[neuron] * dt\n",
    "    CA1_art_binary[neuron,:] = (np.random.rand(n_frames) < prob) * 1"
   ]
  },
  {
   "cell_type": "code",
   "execution_count": 15,
   "metadata": {},
   "outputs": [],
   "source": [
    "# Extract IEIs of these artificial event trains\n",
    "# Hint: you just need to repeat what you did for answering the first question\n",
    "\n",
    "DG_art_onsets = [np.nonzero(DG_art_binary[x,:])[0] for x in range(n_DG)]\n",
    "CA1_art_onsets = [np.nonzero(CA1_art_binary[x,:])[0] for x in range(n_CA1)]\n",
    "\n",
    "art_ieis_DG = []\n",
    "for onsets in DG_art_onsets:\n",
    "    art_ieis_DG.extend(np.diff(onsets) * fs)\n",
    "\n",
    "art_ieis_CA1 = []\n",
    "for onsets in CA1_art_onsets:\n",
    "    art_ieis_CA1.extend(np.diff(onsets) * fs)"
   ]
  },
  {
   "cell_type": "code",
   "execution_count": 16,
   "metadata": {},
   "outputs": [
    {
     "data": {
      "image/png": "[encoded data removed]",
      "text/plain": [
       "<Figure size 432x288 with 2 Axes>"
      ]
     },
     "metadata": {
      "needs_background": "light"
     },
     "output_type": "display_data"
    }
   ],
   "source": [
    "# Plot histograms\n",
    "# Hint: you can use subplots to plot the corresponding real and artificial data from both regions at the same time\n",
    "\n",
    "# Define bin size [in s]\n",
    "dt = 0.1\n",
    "\n",
    "# Find maximum IEI\n",
    "max_iei = np.max(ieis_DG + ieis_CA1 + art_ieis_DG + art_ieis_CA1)\n",
    "\n",
    "# Define bin edges\n",
    "bin_edges = np.arange(0,max_iei, dt)\n",
    "\n",
    "# Assign colors to the two regions\n",
    "color_art = 'gray'\n",
    "\n",
    "plt.subplot(2,1, 1)\n",
    "plt.hist(ieis_DG, bins=bin_edges, density = True, color=color_DG, alpha= .5, label='DG');\n",
    "plt.hist(art_ieis_DG, bins=bin_edges, density = True, color=color_art, alpha= .5, label='artificial');\n",
    "plt.ylabel('Probability Density')\n",
    "plt.legend()\n",
    "plt.title('Real vs Artificial IEI Distribution')\n",
    "plt.xlim((bin_edges[0], bin_edges[-1]));\n",
    "\n",
    "plt.subplot(2,1,2)\n",
    "plt.hist(ieis_CA1, bins=bin_edges, density = True, color=color_CA1, alpha= .5, label='CA1');\n",
    "plt.hist(art_ieis_CA1, bins=bin_edges, density = True, color=color_art, alpha= .5, label='artificial');\n",
    "plt.xlabel('IEI')\n",
    "plt.ylabel('Probability Density')\n",
    "plt.legend()\n",
    "plt.xlim((bin_edges[0], bin_edges[-1]));"
   ]
  },
  {
   "cell_type": "code",
   "execution_count": 17,
   "metadata": {},
   "outputs": [
    {
     "name": "stdout",
     "output_type": "stream",
     "text": [
      "DG:\n",
      "MannwhitneyuResult(statistic=27.0, pvalue=0.7615906111003945)\n",
      "CA1:\n",
      "MannwhitneyuResult(statistic=355.0, pvalue=0.17853497985146483)\n"
     ]
    }
   ],
   "source": [
    "# Perform a statistical test\n",
    "# Hint: you know already from answering question 1 if your data are distributed normally or not.\n",
    "# You just need to repeat the same statistical test that you used before.\n",
    "\n",
    "# Perform a two-sided MWU test\n",
    "# Hint: if the p-Value is significant, the H0 (that the two distributions stem from one population) can be rejected,\n",
    "# i.e. we can assume that the distribution of IEIs in the DG and CA1 are indeed different\n",
    "mwu_result_DG = stats.mannwhitneyu(x=ieis_DG, y=art_ieis_DG, alternative = 'two-sided')\n",
    "print('DG:')\n",
    "print(mwu_result_DG)\n",
    "\n",
    "mwu_result_CA1 = stats.mannwhitneyu(x=ieis_CA1, y=art_ieis_CA1, alternative = 'two-sided')\n",
    "print('CA1:')\n",
    "print(mwu_result_CA1)"
   ]
  },
  {
   "cell_type": "markdown",
   "metadata": {},
   "source": [
    "<span style=\"color:violet\">**Question:**</span>\n",
    "\n",
    "Are the real and artificial distributions similar? What does it mean if yes/no?"
   ]
  },
  {
   "cell_type": "markdown",
   "metadata": {},
   "source": [
    "<span style=\"color:tomato\">**Hints:**</span>\n",
    "\n",
    "| Goal | Function |\n",
    "| ------ | ----------- |\n",
    "| create an array of zeros with same size as some other array | numpy.zeros_like() |\n",
    "| generate random numbers between [0, 1) | numpy.random.rand() |\n",
    "| convert a boolean to int array | some_bool_array * 1 |\n",
    "| plot two figures in one, use subplots | matplotlib.pyplot.subplot() |\n",
    "| avoid overlap of subplot titles/labels | matplotlib.pyplot.tight_layout() |"
   ]
  },
  {
   "cell_type": "markdown",
   "metadata": {},
   "source": [
    "---------------------------------------\n",
    "\n",
    "### 3. How well does the binary signal fit to the underlying continuous data? \n",
    "\n",
    "To do:\n",
    "- Obtain following quantiles of event rates for both regions: Q-25, Q-50, Q-75\n",
    "- For each region, find 2 neurons such that each meets one of follwing criteria:\n",
    "  1) has an event rate r < Q-25,\n",
    "  3) has an event rate r > Q-75\n",
    "- We now need the contiuous data: filter them by brain region and convert the resulting dataframe to a numpy matrix of shape neurons x timepoints\n",
    "- Get the indices of the timepoints at which there is an event for the selected neurons\n",
    "- Plot the continuous signal of these neurons\n",
    "- Plot the event from the binary data on top"
   ]
  },
  {
   "cell_type": "code",
   "execution_count": 18,
   "metadata": {},
   "outputs": [],
   "source": [
    "# Obtain following quantiles of event rates for both regions: Q-25, Q-50, Q-75\n",
    "# Note: the Q-50 will be needed for question 4\n",
    "\n",
    "quantile_probabilities = [0.25, 0.5, 0.75]\n",
    "quantiles_DG = np.quantile(rates_DG, quantile_probabilities)\n",
    "quantiles_CA1 = np.quantile(rates_CA1, quantile_probabilities)"
   ]
  },
  {
   "cell_type": "code",
   "execution_count": 19,
   "metadata": {},
   "outputs": [
    {
     "name": "stdout",
     "output_type": "stream",
     "text": [
      "DG neurons within the 1st quartile are: []\n",
      "DG neurons within the 4th quartile are: [ 2  4  5  6 13 14 17 18 19]\n",
      "CA1 neurons within the 1st quartile are: []\n",
      "CA1 neurons within the 4th quartile are: [ 0  1  2  3  4  5  6  7  8  9 10 11 12 13 14 15 16 17 18 19 20 21 22 23\n",
      " 24]\n"
     ]
    }
   ],
   "source": [
    "#  For each region, find 2 neurons such that...\n",
    "# ...one has an event rate r < Q-25,\n",
    "# ...one has an event rate r > Q-75\n",
    "# Hint: You can obtain all indices of neurons that meet the respective criterion\n",
    "# and than just pick the first or any one of them for the current task (you can also compare several different ones)\n",
    "\n",
    "# DG \n",
    "ind_q1_DG = np.nonzero((rates_DG < quantiles_DG[0])*1)\n",
    "ind_q4_DG = np.nonzero((rates_DG >= quantiles_DG[-1])*1)\n",
    "print(f'DG neurons within the 1st quartile are: {ind_q1_DG[0]}')\n",
    "print(f'DG neurons within the 4th quartile are: {ind_q4_DG[0]}')\n",
    "\n",
    "# CA1\n",
    "ind_q1_CA1 = np.nonzero((rates_CA1 < quantiles_CA1[0])*1)\n",
    "ind_q4_CA1 = np.nonzero((rates_CA1 >= quantiles_CA1[-1])*1)\n",
    "print(f'CA1 neurons within the 1st quartile are: {ind_q1_CA1[0]}')\n",
    "print(f'CA1 neurons within the 4th quartile are: {ind_q4_CA1[0]}')\n"
   ]
  },
  {
   "cell_type": "code",
   "execution_count": 20,
   "metadata": {},
   "outputs": [],
   "source": [
    "# Select which neurons from the lowest and highest quartile you want to plot\n",
    "plot_neurons_DG = {'low_quartile': 6, 'high_quartile': 2}\n",
    "plot_neurons_CA1 = {'low_quartile': 10, 'high_quartile': 1}"
   ]
  },
  {
   "cell_type": "code",
   "execution_count": 21,
   "metadata": {},
   "outputs": [],
   "source": [
    "# We now need the contiuous data:\n",
    "# Filter them by brain region and\n",
    "# convert the resulting dataframe to a numpy matrix of shape neurons x timepoints\n",
    "# (as you did with the binary data when answering question 1)\n",
    "\n",
    "DG_continuous = df_continuous[df_continuous['Region'] == 'DG'].drop(['Region', 'Animal', 'Neuron'], axis=1).to_numpy()\n",
    "CA1_continuous = df_continuous[df_continuous['Region'] == 'CA1'].drop(['Region', 'Animal', 'Neuron'], axis=1).to_numpy()"
   ]
  },
  {
   "cell_type": "code",
   "execution_count": 23,
   "metadata": {},
   "outputs": [],
   "source": [
    "# Get the indices of the timepoints at which there is an event onset (= 1)\n",
    "DG_onsets = [np.nonzero(DG_binary[x,:])[0] for x in plot_neurons_DG.values()]\n",
    "CA1_onsets = [np.nonzero(CA1_binary[x,:])[0] for x in plot_neurons_CA1.values()]"
   ]
  },
  {
   "cell_type": "code",
   "execution_count": 24,
   "metadata": {},
   "outputs": [
    {
     "data": {
      "image/png": "[encoded data removed]",
      "text/plain": [
       "<Figure size 432x288 with 2 Axes>"
      ]
     },
     "metadata": {
      "needs_background": "light"
     },
     "output_type": "display_data"
    }
   ],
   "source": [
    "# Plot the continuous activity of the DG neurons you selected and overlay the events from the binary signal\n",
    "# Hint 1: you can use plt.subplot again to plot the signals of the two neurons in one figure.\n",
    "# (use a for loop if you do not want to type the code twice)\n",
    "# Hint 2: you can use another for loop (maybe within the first loop) to plot the binary events\n",
    "\n",
    "timepoints = np.arange(n_frames) + fs\n",
    "\n",
    "for cnt,id in enumerate(plot_neurons_DG.values()):\n",
    "\n",
    "    plt.subplot(2,1,cnt+1)\n",
    "    \n",
    "    # Plot continuous signal\n",
    "    plt.plot(timepoints, DG_continuous[id,:], color=color_DG, label='continuous');\n",
    "\n",
    "    # Plot the binary events\n",
    "    max_y = np.ceil(np.max(DG_continuous[id,:]))\n",
    "    min_y = np.floor(np.min(DG_continuous[id,:]))\n",
    "    for onset in DG_onsets:\n",
    "        plt.vlines(onset*fs, ymin= min_y, ymax=max_y, color=color_art)\n",
    "    \n",
    "    plt.xlabel('Time (s)')\n",
    "    plt.ylabel('df/f')\n",
    "    plt.title('DG' + ' - ' + list(plot_neurons_DG.keys())[cnt] + ' - Neuron:' + str(id))\n",
    "    plt.tight_layout()\n"
   ]
  },
  {
   "cell_type": "code",
   "execution_count": 25,
   "metadata": {},
   "outputs": [
    {
     "data": {
      "image/png": "[encoded data removed]",
      "text/plain": [
       "<Figure size 432x288 with 2 Axes>"
      ]
     },
     "metadata": {
      "needs_background": "light"
     },
     "output_type": "display_data"
    }
   ],
   "source": [
    "# Plot the continuous activity of the CA1 neurons you selected and overlay the events from the binary signal\n",
    "# (same as above, just for CA1)\n",
    "\n",
    "for cnt,id in enumerate(plot_neurons_CA1.values()):\n",
    "\n",
    "    plt.subplot(2,1,cnt+1)\n",
    "    \n",
    "    # Plot continuous signal\n",
    "    plt.plot(timepoints, CA1_continuous[id,:], color=color_CA1, label='continuous');\n",
    "\n",
    "    # Plot the binary events\n",
    "    max_y = np.ceil(np.max(CA1_continuous[id,:]))\n",
    "    min_y = np.floor(np.min(CA1_continuous[id,:]))\n",
    "    for onset in CA1_onsets:\n",
    "        plt.vlines(onset*fs, ymin= min_y, ymax=max_y, color=color_art)\n",
    "    \n",
    "    plt.xlabel('Time (s)')\n",
    "    plt.ylabel('df/f')\n",
    "    plt.title('CA1' + ' - ' + list(plot_neurons_CA1.keys())[cnt] + ' - Neuron:' + str(id))\n",
    "    plt.tight_layout()"
   ]
  },
  {
   "cell_type": "markdown",
   "metadata": {},
   "source": [
    "<span style=\"color:violet\">**Question:**</span>\n",
    "\n",
    "- What part of the event was detected for the binary signal?\n",
    "- How well does it fit to the continuous signal?\n",
    "- Do you think the detection algorithm is working well? If not, why? "
   ]
  },
  {
   "cell_type": "markdown",
   "metadata": {},
   "source": [
    "<span style=\"color:tomato\">**Hints:**</span>\n",
    "\n",
    "| Goal | Function |\n",
    "| ------ | ----------- |\n",
    "| get q-th quantile of data | numpy.quantile() |\n",
    "| get both the index and value of a list item (useful for loops) | enumerate() |\n",
    "| plot a vertical line | matplotlib.pyplot.vlines() |"
   ]
  },
  {
   "cell_type": "markdown",
   "metadata": {},
   "source": [
    "---------------------------------------\n",
    "\n",
    "### 4. Is the average continuous signal of neurons with higher event rate indeed higher as expected? \n",
    "\n",
    "To do:\n",
    "- For each region, assign every neuron to one of 4 classes using the event rates and quantiles calculated above:\n",
    "  1) neurons with event rate r < Q-25 (1^st^ quartile)\n",
    "  2) neurons with event rate Q-25 < r < Q-50 (2^nd^ quartile)\n",
    "  3) neurons with event rate Q-50 < r < Q-75 (3^rd^ quartile)\n",
    "  4) neurons with event rate r > Q-75 (4^th^ quartile)\n",
    "- Calculate the average intensity of each neurons continuous signal\n",
    "- Use this to calculate the average (of the neuron-wise average) intensity for each of the 4 classes defined above\n",
    "- Create a box plot displaying the different average continuous signal intensities per class for both regions\n",
    "  \n"
   ]
  },
  {
   "cell_type": "code",
   "execution_count": 26,
   "metadata": {},
   "outputs": [],
   "source": [
    "# Import libraries\n",
    "import seaborn as sn"
   ]
  },
  {
   "cell_type": "code",
   "execution_count": 27,
   "metadata": {},
   "outputs": [],
   "source": [
    "# Assign neurons to one of the 4 quartile classes\n",
    "\n",
    "# Create a vector with class labels for DG\n",
    "class_DG = np.zeros((n_DG,))\n",
    "class_DG[rates_DG < quantiles_DG[0]] = 1\n",
    "class_DG[(rates_DG >= quantiles_DG[0]) & (rates_DG < quantiles_DG[1])] = 2\n",
    "class_DG[(rates_DG >= quantiles_DG[1]) & (rates_DG < quantiles_DG[2])] = 3\n",
    "class_DG[rates_DG >= quantiles_DG[2]] = 4 \n",
    "\n",
    "# Create a vector with class labels for CA1\n",
    "class_CA1 = np.zeros((n_CA1,))\n",
    "class_CA1[rates_CA1 < quantiles_CA1[0]] = 1\n",
    "class_CA1[(rates_CA1 >= quantiles_CA1[0]) & (rates_CA1 < quantiles_CA1[1])] = 2\n",
    "class_CA1[(rates_CA1 >= quantiles_CA1[1]) & (rates_CA1 < quantiles_CA1[2])] = 3\n",
    "class_CA1[rates_CA1 >= quantiles_CA1[2]] = 4"
   ]
  },
  {
   "cell_type": "code",
   "execution_count": 30,
   "metadata": {},
   "outputs": [],
   "source": [
    "# Calculate the average continuous signal intensity of each neuron\n",
    "DG_signal_mean = np.mean(DG_continuous, axis=1)\n",
    "CA1_signal_mean = np.mean(CA1_continuous, axis=1)\n"
   ]
  },
  {
   "cell_type": "code",
   "execution_count": 31,
   "metadata": {},
   "outputs": [
    {
     "data": {
      "image/png": "[encoded data removed]",
      "text/plain": [
       "<Figure size 432x288 with 1 Axes>"
      ]
     },
     "metadata": {
      "needs_background": "light"
     },
     "output_type": "display_data"
    }
   ],
   "source": [
    "# Create a box plot where you compare for each region the average continuous signal for the quartiles\n",
    "# Hint 1: when you use seaborn, it may be useful to combine the data to plot in a dictionary such that:\n",
    "# {'class': class_vector, 'signal': neuron_mean_signal}\n",
    "# Hint 2: you can try to plot the individual datapoints on top of the boxplot\n",
    "# Hint 3: you can try to plot both regions in one plot\n",
    "\n",
    "# # DG\n",
    "# plot_data_DG = {'class': class_DG, 'signal': DG_signal_mean}\n",
    "# sn.boxplot(data= plot_data_DG, x='class', y='signal', color=color_DG);\n",
    "# sn.stripplot(data= plot_data_DG, x='class', y='signal', color=color_art);\n",
    "# plt.xlabel('Quartiles');\n",
    "# plt.ylabel('Average Signal');\n",
    "# plt.title('DG');\n",
    "\n",
    "# # CA1\n",
    "# plt.figure()\n",
    "# plot_data_CA1 = {'class': class_CA1, 'signal': CA1_signal_mean}\n",
    "# sn.boxplot(data= plot_data_CA1, x='class', y='signal', color=color_CA1);\n",
    "# sn.stripplot(data= plot_data_CA1, x='class', y='signal', color=color_art);\n",
    "# plt.xlabel('Quartiles');\n",
    "# plt.ylabel('Average Signal');\n",
    "# plt.title('CA1');\n",
    "\n",
    "# Plot both regions in one plot\n",
    "plot_data = {'class': list(class_DG)+list(class_CA1), 'signal': list(DG_signal_mean)+list(CA1_signal_mean),\n",
    "             'region': ['DG'] * n_DG + ['CA1'] * n_CA1}\n",
    "sn.boxplot(data= plot_data, x='class', y='signal', hue='region', palette={'DG': color_DG, 'CA1': color_CA1});\n",
    "sn.stripplot(data= plot_data, x='class', y='signal', hue='region', dodge=True, palette={'DG': color_art, 'CA1': color_art});\n",
    "plt.xlabel('Quartiles');\n",
    "plt.ylabel('Average Signal');"
   ]
  },
  {
   "cell_type": "markdown",
   "metadata": {},
   "source": [
    "<span style=\"color:violet\">**Question:**</span>\n",
    "\n",
    "- Does the average signal intensity of neurons correspond to the quartiles that were based on the binary event data?\n",
    "- What did you expect?\n",
    "- How does this observation fit to what you observed in question 3?  "
   ]
  },
  {
   "cell_type": "markdown",
   "metadata": {},
   "source": [
    "<span style=\"color:tomato\">**Hints:**</span>\n",
    "\n",
    "| Goal | Function |\n",
    "| ------ | ----------- |\n",
    "| apply two criteria to filter values, e.g. 0 < a > 1 | (a > 0) & (a < 1) |\n",
    "| plot data points on top of boxplot | seaborn.stripplot() |"
   ]
  },
  {
   "cell_type": "markdown",
   "metadata": {},
   "source": [
    "---------------------------------------\n",
    "\n",
    "### 5. Is there a difference in how correlated neural activity is in the two regions?\n",
    "\n",
    "To do:\n",
    "- Calculate the Pearson correlation coefficient of all pairs of neurons within each hippocampal region\n",
    "- Remove the diagonal and the lower triangle of the resulting square correlation coefficient matrices\n",
    "- Plot the distributions of correlation coefficients of each region as histogram \n",
    "- Perform a statistical test (MWU, TODO: Olli)\n",
    "- Bonus: Plot the correlation coefficients as heatmaps for better visualization"
   ]
  },
  {
   "cell_type": "code",
   "execution_count": 32,
   "metadata": {},
   "outputs": [],
   "source": [
    "# Calculate pairwise pearson coefficient\n",
    "corr_DG = np.corrcoef(DG_continuous)\n",
    "corr_CA1 = np.corrcoef(CA1_continuous)"
   ]
  },
  {
   "cell_type": "code",
   "execution_count": 33,
   "metadata": {},
   "outputs": [],
   "source": [
    "# Remove the diagonal and the lower triangle of the resulting square correlation coefficient matrices\n",
    "\n",
    "corr_DG_upper = []\n",
    "for x in range(n_DG-1):\n",
    "    corr_DG_upper.extend(corr_DG[x,x+1:].tolist())\n",
    "\n",
    "corr_CA1_upper = []\n",
    "for x in range(n_CA1-1):\n",
    "    corr_CA1_upper.extend(corr_CA1[x,x+1:].tolist())"
   ]
  },
  {
   "cell_type": "code",
   "execution_count": 34,
   "metadata": {},
   "outputs": [
    {
     "data": {
      "image/png": "[encoded data removed]",
      "text/plain": [
       "<Figure size 432x288 with 1 Axes>"
      ]
     },
     "metadata": {
      "needs_background": "light"
     },
     "output_type": "display_data"
    }
   ],
   "source": [
    "# Plot histograms\n",
    "\n",
    "# Define bin edges\n",
    "bin_edges = np.arange(-1,1.1, 0.1)\n",
    "\n",
    "plt.hist(corr_DG_upper, bins=bin_edges, density = True, color=color_DG, alpha= .5, label='DG');\n",
    "plt.hist(corr_CA1_upper, bins=bin_edges, density = True, color=color_CA1, alpha= .5, label='CA1');\n",
    "plt.ylabel('Probability Density')\n",
    "plt.xlabel('Correlation Coefficient')\n",
    "plt.legend()\n",
    "plt.title('Pairwise Signal Correlations')\n",
    "plt.xlim((bin_edges[0], bin_edges[-1]));\n"
   ]
  },
  {
   "cell_type": "code",
   "execution_count": 35,
   "metadata": {},
   "outputs": [
    {
     "name": "stdout",
     "output_type": "stream",
     "text": [
      "p-Value DG: 0.7804911136627197\n",
      "p-Value CA1: 0.38313043117523193\n",
      "MannwhitneyuResult(statistic=41587.0, pvalue=0.1079822062854783)\n",
      "Ttest_indResult(statistic=-1.5954028966405651, pvalue=0.11115048854998695)\n"
     ]
    }
   ],
   "source": [
    "# Perform a statistical test (TODO Olli)\n",
    "\n",
    "# Check normal distribution of data using Shapiro-Wilk test\n",
    "w_DG, pvalue_DG = stats.shapiro(corr_DG_upper)\n",
    "w_CA1, pvalue_CA1 = stats.shapiro(corr_CA1_upper)\n",
    "print(f'p-Value DG: {pvalue_DG}')\n",
    "print(f'p-Value CA1: {pvalue_CA1}')\n",
    "\n",
    "# Perform a two-sided MWU test or t-test for independent samples\n",
    "mwu_result = stats.mannwhitneyu(x=corr_DG_upper, y=corr_CA1_upper, alternative = 'two-sided')\n",
    "print(mwu_result)\n",
    "\n",
    "tt_result = stats.ttest_ind(a=corr_DG_upper, b=corr_CA1_upper, alternative = 'two-sided')\n",
    "print(tt_result)"
   ]
  },
  {
   "cell_type": "code",
   "execution_count": 37,
   "metadata": {},
   "outputs": [
    {
     "data": {
      "image/png": "[encoded data removed]",
      "text/plain": [
       "<Figure size 432x288 with 2 Axes>"
      ]
     },
     "metadata": {
      "needs_background": "light"
     },
     "output_type": "display_data"
    },
    {
     "data": {
      "image/png": "[encoded data removed]",
      "text/plain": [
       "<Figure size 432x288 with 2 Axes>"
      ]
     },
     "metadata": {
      "needs_background": "light"
     },
     "output_type": "display_data"
    }
   ],
   "source": [
    "# Bonus: Plot heatmap\n",
    "plt.figure()\n",
    "sn.heatmap(corr_DG);\n",
    "plt.ylabel('Neurons');\n",
    "plt.title('DG');\n",
    "\n",
    "plt.figure()\n",
    "sn.heatmap(corr_CA1);\n",
    "plt.ylabel('Neurons');\n",
    "plt.title('CA1');"
   ]
  },
  {
   "cell_type": "markdown",
   "metadata": {},
   "source": [
    "<span style=\"color:violet\">**Question:**</span>\n",
    "\n",
    "- Has one of the regions higher correlation values between its pairs of neurons?\n",
    "- How could you interpret this?"
   ]
  },
  {
   "cell_type": "markdown",
   "metadata": {},
   "source": [
    "<span style=\"color:tomato\">**Hints:**</span>\n",
    "\n",
    "| Goal | Function |\n",
    "| ------ | ----------- |\n",
    "| calculate Pearson correlation coefficient | numpy.corrcoef() |\n",
    "| plot a heatmap | seaborn.heatmap() |"
   ]
  },
  {
   "cell_type": "markdown",
   "metadata": {},
   "source": [
    "------------------------------------\n",
    "*You did it!!*"
   ]
  }
 ],
 "metadata": {
  "kernelspec": {
   "display_name": "Python 3",
   "language": "python",
   "name": "python3"
  },
  "language_info": {
   "codemirror_mode": {
    "name": "ipython",
    "version": 3
   },
   "file_extension": ".py",
   "mimetype": "text/x-python",
   "name": "python",
   "nbconvert_exporter": "python",
   "pygments_lexer": "ipython3",
   "version": "3.9.7"
  }
 },
 "nbformat": 4,
 "nbformat_minor": 2
}
