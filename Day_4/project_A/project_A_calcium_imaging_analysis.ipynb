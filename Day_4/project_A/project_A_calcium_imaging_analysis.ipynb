{
 "cells": [
  {
   "cell_type": "markdown",
   "metadata": {},
   "source": [
    "# Project A: Analysis of Calcium Imaging Data"
   ]
  },
  {
   "cell_type": "markdown",
   "metadata": {},
   "source": [
    "**Project Overview**\n",
    "\n",
    "In this project you will be provided with imaging data from an experiment in head-fixed mice. The data stem from two animals in which different regions of the hippocampus were recorded, the dentate gyrus (DG) and area CA1. For each animal you will get both, a continuous signal representing the Ca2+ level in the neurons and a binary signal representing detected Calcium events. The goal is to explore the neural activity of the two different regions on a basic level.\n",
    "<br />\n",
    "<br />\n",
    "\n",
    "**What you can expect from this project:**\n",
    "- use pandas to filter data\n",
    "- use numpy for basic arithmetic operations\n",
    "- plot histograms, timeseries, and box plots\n",
    "- generate an artifical spike train\n",
    "- apply some statistical tests\n",
    "- get an impression of how Calcium imaging data look like\n",
    "<br />\n",
    "<br />\n",
    "\n",
    "**Questions to answer:**\n",
    "1. Is the distribution of inter-event intervals (IEI) different between the two hippocampal areas?\n",
    "2. Are the IEI distributions different from one of a random poisson process? \n",
    "3. The binary signal is the result of a thresholding analysis, how well do you think it fits to the underlying continuous data?\n",
    "4. Is the average continuous signal of neurons with higher event rate indeed higher as expected?\n",
    "5. Is there a difference in how correlated neural activity is in the two regions? \n",
    "<br />\n",
    "<br />\n",
    "\n",
    "-----------------------------------"
   ]
  },
  {
   "cell_type": "markdown",
   "metadata": {},
   "source": [
    "*Let’s get started…*\n",
    "\n",
    "### Download the data\n",
    "Run the cell below to download the data from sciebo. The data will be stored in the folder \"day_4/project_A/data\". You will see 2 .csv files, each containing data of two animals:\n",
    "- data_continuous.csv\n",
    "- data_binary.csv\n",
    "\n",
    "Some Information about the data:\n",
    "\n",
    "| Type of information | Value |\n",
    "| ------ | ----------- |\n",
    "| Framerate | 15 Hz |\n",
    "| time/frame | 0.067s |\n",
    "| Calcium sensor | GCaMP6s |\n",
    "| Continuous data | df/f |\n",
    "\n",
    "\n",
    "<span style=\"color:mediumseagreen\">Explanatory note on \"df/f\":</span> \"df/f\" is an abbreviation for \"delta f over f\" and describes an operation which is commonly applied to continuous imaging signals in order to calculate the deviation of the signal at each timepoint from a (often preceding) baseline value and normalize it to some value (often the mean/median/ a percentile of the whole signal is used). This helps to \"clean\" the signal from baseline drifts and the normalization step allows the comparison of signals from different neurons with different baseline signal intensities (e.g. due to different levels of sensor expression)."
   ]
  },
  {
   "cell_type": "code",
   "execution_count": null,
   "metadata": {},
   "outputs": [],
   "source": [
    "# Install libraries\n",
    "%pip install numpy pandas matplotlib scipy seaborn requests tqdm"
   ]
  },
  {
   "cell_type": "code",
   "execution_count": 12,
   "metadata": {},
   "outputs": [],
   "source": [
    "# Import sciebo\n",
    "import sciebo\n",
    "\n",
    "# Download files\n",
    "sciebo.download_from_sciebo('https://uni-bonn.sciebo.de/s/6XQzJTECUkrHUAv',  'data/continuous.csv')\n",
    "sciebo.download_from_sciebo('https://uni-bonn.sciebo.de/s/xyE0HgxGi3kAlWm',  'data/binary.csv')"
   ]
  },
  {
   "cell_type": "markdown",
   "metadata": {},
   "source": [
    "---------------------------------------\n",
    "\n",
    "### Open the data \n",
    "\n",
    "To do:\n",
    "- Import the necessary libraries\n",
    "- Open the data as dataframes\n",
    "- Inspect the data\n"
   ]
  },
  {
   "cell_type": "code",
   "execution_count": 13,
   "metadata": {},
   "outputs": [],
   "source": [
    "# Import libraries\n",
    "\n",
    "# ..."
   ]
  },
  {
   "cell_type": "code",
   "execution_count": 14,
   "metadata": {},
   "outputs": [],
   "source": [
    "# Open data as dataframes\n",
    "\n",
    "# ..."
   ]
  },
  {
   "cell_type": "code",
   "execution_count": 15,
   "metadata": {},
   "outputs": [],
   "source": [
    "# Inspect data\n",
    "\n",
    "# ..."
   ]
  },
  {
   "cell_type": "markdown",
   "metadata": {},
   "source": [
    "---------------------------------------\n",
    "\n",
    "### 1. Is the distribution of IEIs different between the two hippocampal areas? \n",
    "\n",
    "To do:\n",
    "- Import the necessary libraries\n",
    "- Filter the binary data by brain region\n",
    "- Convert the resulting dataframe to a numpy matrix of shape neurons x timepoints\n",
    "- Calculate the inter-event intervals (IEIs) for all neurons of one hippocampal region\n",
    "- Plot the IEIs as histogram\n",
    "- Save the histograms as a .jpg\n",
    "- Perform a statistical test comparing the two distributions\n"
   ]
  },
  {
   "cell_type": "markdown",
   "metadata": {},
   "source": [
    "<span style=\"color:mediumseagreen\">Explanatory note on IEIs:</span> you may have heard of inter-spike intervals, however, here we are dealing with Ca^2+^ imaging, which can only be used as proxy for neural activity and inference of underlying spikes is challenging. The binary Ca^2+^ event data are marking onsets of Ca^2+^ events (not actual spikes) and hence we talk about inter-event intervals. Nevertheless, having this constraint in mind, the data can be used to draw some conclusions about neural activity.\n",
    "\n",
    "<span style=\"color:mediumseagreen\">Event rate vs IEI:</span> Often the (spike or event) rate is used to assess neural activity. While this is an easy-to-use measure, it occludes any information about the distribution of events (are there many of them happening in a small window of time or are they spread evenly across time?) and thereby information about neural activity dynamics."
   ]
  },
  {
   "cell_type": "code",
   "execution_count": 16,
   "metadata": {},
   "outputs": [],
   "source": [
    "# Import libraries\n",
    "\n",
    "# ..."
   ]
  },
  {
   "cell_type": "code",
   "execution_count": 17,
   "metadata": {},
   "outputs": [],
   "source": [
    "# Filter the binary data by region and convert the resulting dataframe to a numpy matrix\n",
    "# Hint: extract some useful information, e.g. the number of neurons in each region\n",
    "\n",
    "# ..."
   ]
  },
  {
   "cell_type": "code",
   "execution_count": 18,
   "metadata": {},
   "outputs": [],
   "source": [
    "# Calculate the IEIs\n",
    "\n",
    "# ..."
   ]
  },
  {
   "cell_type": "code",
   "execution_count": 19,
   "metadata": {},
   "outputs": [],
   "source": [
    "# Plot histograms and save as .jpg\n",
    "\n",
    "# ..."
   ]
  },
  {
   "cell_type": "code",
   "execution_count": 20,
   "metadata": {},
   "outputs": [],
   "source": [
    "# Perform a statistical test\n",
    "\n",
    "# Check normal distribution of data using Shapiro-Wilk test\n",
    "# Hint: if the p-Value is significant, the data are not normally distributed\n",
    "# and the Mann-Whitney U test should be used instead of a t-test to compare the distributions \n",
    "\n",
    "# ...\n",
    "\n",
    "\n",
    "# Perform a two-sided MWU test if data are not normally distributed, otherwise a t-test for independent samples\n",
    "# Hint: if the p-Value is significant, the H0 (that the two distributions stem from one population) can be rejected,\n",
    "# i.e. we can assume that the distribution of IEIs in the DG and CA1 are indeed different\n",
    "\n",
    "# ..."
   ]
  },
  {
   "cell_type": "markdown",
   "metadata": {},
   "source": [
    "<span style=\"color:violet\">**Question:**</span>\n",
    "\n",
    "What does this tell you about the recorded neuron populations?"
   ]
  },
  {
   "cell_type": "markdown",
   "metadata": {},
   "source": [
    "<span style=\"color:tomato\">**Hints:**</span>\n",
    "\n",
    "| Goal | Function |\n",
    "| ------ | ----------- |\n",
    "| get rid of columns | DataFrame.drop() |\n",
    "| get nonzero elements of an array | numpy.nonzero() |\n",
    "| adding elements of list to another list | list.extend() |\n",
    "| plot a histogram | matplotlib.pyplot.hist() |\n",
    "| save a figure | matplotlib.pyplot.savefig() |\n",
    "| perform a Shapiro-Wilk test | scipy.stats.shapiro() |\n",
    "| perform a Mann-Whitney U test | scipy.stats.mannwhitneyu() |\n",
    "| perform a t-test for independent samples | scipy.stats.ttest_ind() |"
   ]
  },
  {
   "cell_type": "markdown",
   "metadata": {},
   "source": [
    "**Bonus:**\n",
    "- Calculate the Coefficient of Variation (CV) for the two distributions\n",
    "- Calculate the Fano factor for the two distributions\n",
    "- What do they tell you?"
   ]
  },
  {
   "cell_type": "code",
   "execution_count": 21,
   "metadata": {},
   "outputs": [],
   "source": [
    "# Coefficient of Variation\n",
    "\n",
    "# ..."
   ]
  },
  {
   "cell_type": "markdown",
   "metadata": {},
   "source": [
    "---------------------------------------\n",
    "\n",
    "### 2. Are the IEI distributions different from one of a random poisson process? \n",
    "\n",
    "To do:\n",
    "- Import the necessary libraries\n",
    "- Calculate the event rate of each neuron for both regions\n",
    "- Generate a poisson process matching each neuron's event rate\n",
    "- Extract the IEIs for each of these artificial event trains and pool for each region across neurons\n",
    "- Plot the real and artificial distributions for both hippocampal regions and save as .jpg\n",
    "- Compare the real and artificial distribution of each brain region using a statistical test"
   ]
  },
  {
   "cell_type": "markdown",
   "metadata": {},
   "source": [
    "<span style=\"color:mediumseagreen\">Poisson model of spike generation:</span>\n",
    "\n",
    "- Generation of a random poisson process using python (chapter 6.5): https://mrgreene09.github.io/computational-neuroscience-textbook/Ch5.html\n",
    "- Something more theoretical: https://www.cns.nyu.edu/~david/handouts/poisson.pdf"
   ]
  },
  {
   "cell_type": "code",
   "execution_count": 22,
   "metadata": {},
   "outputs": [],
   "source": [
    "# Calculate the event rate of each neuron for both regions\n",
    "\n",
    "# ..."
   ]
  },
  {
   "cell_type": "code",
   "execution_count": 23,
   "metadata": {},
   "outputs": [],
   "source": [
    "# Generate a poisson process matching each neuron's event rate\n",
    "# Hints:\n",
    "# 1) calculate the probability of an event occurring in one time bin,\n",
    "#    where one bin has the same duration as one frame in the real recordings. --> p = event_rate * time_per_frame\n",
    "# 2) create a vector of random numbers between 0 and 1 with a length of the number or frames in the real recording\n",
    "# 3) for each value in this vector check if it exceeds the probability calculated in 1).\n",
    "#    If yes, mark it with a 1. If No, mark it with a 0.\n",
    "# 4) Repeat steps 1-3 for each neuron.\n",
    "\n",
    "# ..."
   ]
  },
  {
   "cell_type": "code",
   "execution_count": 24,
   "metadata": {},
   "outputs": [],
   "source": [
    "# Extract IEIs of these artificial event trains\n",
    "# Hint: you just need to repeat what you did for answering the first question\n",
    "\n",
    "# ..."
   ]
  },
  {
   "cell_type": "code",
   "execution_count": 25,
   "metadata": {},
   "outputs": [],
   "source": [
    "# Plot histograms and save as .jpg\n",
    "# Hint: you can use subplots to plot the corresponding real and artificial data from both regions at the same time\n",
    "\n",
    "# ..."
   ]
  },
  {
   "cell_type": "code",
   "execution_count": 26,
   "metadata": {},
   "outputs": [],
   "source": [
    "# Perform a statistical test\n",
    "# Hint: you know already from answering question 1 if your data are distributed normally or not.\n",
    "# You just need to repeat the same statistical test that you used before.\n",
    "\n",
    "# ..."
   ]
  },
  {
   "cell_type": "markdown",
   "metadata": {},
   "source": [
    "<span style=\"color:violet\">**Question:**</span>\n",
    "\n",
    "Are the real and artificial distributions similar? What does it mean if yes/no?"
   ]
  },
  {
   "cell_type": "markdown",
   "metadata": {},
   "source": [
    "<span style=\"color:tomato\">**Hints:**</span>\n",
    "\n",
    "| Goal | Function |\n",
    "| ------ | ----------- |\n",
    "| create an array of zeros with same size as some other array | numpy.zeros_like() |\n",
    "| generate random numbers between [0, 1) | numpy.random.rand() |\n",
    "| convert a boolean to int array | some_bool_array * 1 |\n",
    "| plot two figures in one, use subplots | matplotlib.pyplot.subplot() |\n",
    "| avoid overlap of subplot titles/labels | matplotlib.pyplot.tight_layout() |"
   ]
  },
  {
   "cell_type": "markdown",
   "metadata": {},
   "source": [
    "---------------------------------------\n",
    "\n",
    "### 3. How well does the binary signal fit to the underlying continuous data? \n"
   ]
  },
  {
   "cell_type": "markdown",
   "metadata": {},
   "source": [
    "<span style=\"color:mediumseagreen\">Thresholding procedure:</span>\n",
    "\n",
    "The binary signal is the result of a rather complicated thresholding procedure that assesses the noise of the signal and uses drops of the signal (negative going events so to say) to estimate a false positive rate during the event detection."
   ]
  },
  {
   "cell_type": "markdown",
   "metadata": {},
   "source": [
    "To do:\n",
    "- Obtain following quantiles of event rates for both regions: Q-25, Q-50, Q-75\n",
    "- For each region, find 2 neurons such that each meets one of follwing criteria:\n",
    "  1) has an event rate r < Q-25,\n",
    "  3) has an event rate r > Q-75\n",
    "- We now need the contiuous data: filter them by brain region and convert the resulting dataframe to a numpy matrix of shape neurons x timepoints\n",
    "- Get the indices of the timepoints at which there is an event for the selected neurons\n",
    "- Plot the continuous signal of these neurons\n",
    "- Plot the event from the binary data on top\n",
    "- Save plots as .jpg"
   ]
  },
  {
   "cell_type": "code",
   "execution_count": 27,
   "metadata": {},
   "outputs": [],
   "source": [
    "# Obtain following quantiles of event rates for both regions: Q-25, Q-50, Q-75\n",
    "# Note: the Q-50 will be needed for question 4\n",
    "\n",
    "# ..."
   ]
  },
  {
   "cell_type": "code",
   "execution_count": 28,
   "metadata": {},
   "outputs": [],
   "source": [
    "#  For each region, find 2 neurons such that...\n",
    "# ...one has an event rate r < Q-25,\n",
    "# ...one has an event rate r > Q-75\n",
    "# Hint: You can obtain all indices of neurons that meet the respective criterion\n",
    "# and than just pick the first or any one of them for the current task (you can also compare several different ones)\n",
    "\n",
    "# ...\n"
   ]
  },
  {
   "cell_type": "code",
   "execution_count": 29,
   "metadata": {},
   "outputs": [],
   "source": [
    "# Select which neurons from the lowest and highest quartile you want to plot\n",
    "# ..."
   ]
  },
  {
   "cell_type": "code",
   "execution_count": 30,
   "metadata": {},
   "outputs": [],
   "source": [
    "# We now need the contiuous data:\n",
    "# Filter them by brain region and\n",
    "# convert the resulting dataframe to a numpy matrix of shape neurons x timepoints\n",
    "# (as you did with the binary data when answering question 1)\n",
    "\n",
    "# ..."
   ]
  },
  {
   "cell_type": "code",
   "execution_count": 31,
   "metadata": {},
   "outputs": [],
   "source": [
    "# Get the indices of the timepoints at which there is an event onset (= 1)\n",
    "\n",
    "# ..."
   ]
  },
  {
   "cell_type": "code",
   "execution_count": 32,
   "metadata": {},
   "outputs": [],
   "source": [
    "# Plot the continuous activity of the DG neurons you selected and overlay the events from the binary signal and save as .jpg\n",
    "# Hint 1: you can use plt.subplot again to plot the signals of the two neurons in one figure.\n",
    "# (use a for loop if you do not want to type the code twice)\n",
    "# Hint 2: you can use another for loop (maybe within the first loop) to plot the binary events\n",
    "\n",
    "# ...\n"
   ]
  },
  {
   "cell_type": "code",
   "execution_count": 33,
   "metadata": {},
   "outputs": [],
   "source": [
    "# Plot the continuous activity of the CA1 neurons you selected and overlay the events from the binary signal and save as .jpg\n",
    "# (same as above, just for CA1)\n",
    "\n",
    "# ..."
   ]
  },
  {
   "cell_type": "markdown",
   "metadata": {},
   "source": [
    "<span style=\"color:violet\">**Question:**</span>\n",
    "\n",
    "- What part of the event was detected for the binary signal?\n",
    "- How well does it fit to the continuous signal?\n",
    "- Do you think the detection algorithm is working well? If not, why? "
   ]
  },
  {
   "cell_type": "markdown",
   "metadata": {},
   "source": [
    "<span style=\"color:tomato\">**Hints:**</span>\n",
    "\n",
    "| Goal | Function |\n",
    "| ------ | ----------- |\n",
    "| get q-th quantile of data | numpy.quantile() |\n",
    "| get both the index and value of a list item (useful for loops) | enumerate() |\n",
    "| plot a vertical line | matplotlib.pyplot.vlines() |"
   ]
  },
  {
   "cell_type": "markdown",
   "metadata": {},
   "source": [
    "---------------------------------------\n",
    "\n",
    "### 4. Is the average continuous signal of neurons with higher event rate indeed higher as expected? \n",
    "\n",
    "To do:\n",
    "- For each region, assign every neuron to one of 4 classes using the event rates and quantiles calculated above:\n",
    "  1) neurons with event rate r < Q-25 (1^st^ quartile)\n",
    "  2) neurons with event rate Q-25 < r < Q-50 (2^nd^ quartile)\n",
    "  3) neurons with event rate Q-50 < r < Q-75 (3^rd^ quartile)\n",
    "  4) neurons with event rate r > Q-75 (4^th^ quartile)\n",
    "- Calculate the average intensity of each neurons continuous signal\n",
    "- Use this to calculate the average (of the neuron-wise average) intensity for each of the 4 classes defined above\n",
    "- Create a box plot displaying the different average continuous signal intensities per class for both regions\n",
    "- Save the box plot as .jpg\n"
   ]
  },
  {
   "cell_type": "code",
   "execution_count": 34,
   "metadata": {},
   "outputs": [],
   "source": [
    "# Import libraries\n",
    "\n",
    "# ..."
   ]
  },
  {
   "cell_type": "code",
   "execution_count": 35,
   "metadata": {},
   "outputs": [],
   "source": [
    "# Assign neurons to one of the 4 quartile classes\n",
    "\n",
    "# ..."
   ]
  },
  {
   "cell_type": "code",
   "execution_count": 36,
   "metadata": {},
   "outputs": [],
   "source": [
    "# Calculate the average continuous signal intensity of each neuron\n",
    "\n",
    "# ...\n"
   ]
  },
  {
   "cell_type": "code",
   "execution_count": 37,
   "metadata": {},
   "outputs": [],
   "source": [
    "# Create a box plot where you compare for each region the average continuous signal for the quartiles and save it as .jpg\n",
    "# Hint 1: when you use seaborn, it may be useful to combine the data to plot in a dictionary such that:\n",
    "# {'class': class_vector, 'signal': neuron_mean_signal}\n",
    "# Hint 2: you can try to plot the individual datapoints on top of the boxplot\n",
    "# Hint 3: you can try to plot both regions in one plot\n",
    "\n",
    "# ..."
   ]
  },
  {
   "cell_type": "markdown",
   "metadata": {},
   "source": [
    "<span style=\"color:violet\">**Question:**</span>\n",
    "\n",
    "- Does the average signal intensity of neurons correspond to the quartiles that were based on the binary event data?\n",
    "- What did you expect?\n",
    "- How does this observation fit to what you observed in question 3?  "
   ]
  },
  {
   "cell_type": "markdown",
   "metadata": {},
   "source": [
    "<span style=\"color:tomato\">**Hints:**</span>\n",
    "\n",
    "| Goal | Function |\n",
    "| ------ | ----------- |\n",
    "| apply two criteria to filter values, e.g. 0 < a > 1 | (a > 0) & (a < 1) |\n",
    "| plot data points on top of boxplot | seaborn.stripplot() |"
   ]
  },
  {
   "cell_type": "markdown",
   "metadata": {},
   "source": [
    "---------------------------------------\n",
    "\n",
    "### 5. Is there a difference in how correlated neural activity is in the two regions?\n",
    "\n",
    "To do:\n",
    "- Calculate the Pearson correlation coefficient of all pairs of neurons within each hippocampal region\n",
    "- Remove the diagonal and the lower triangle of the resulting square correlation coefficient matrices\n",
    "- Plot the distributions of correlation coefficients of each region as histogram  and save as .jpg\n",
    "- Perform a statistical test\n",
    "- Bonus: Plot the correlation coefficients as heatmaps for better visualization and save as .jpg"
   ]
  },
  {
   "cell_type": "code",
   "execution_count": 32,
   "metadata": {},
   "outputs": [],
   "source": [
    "# Calculate pairwise pearson coefficient\n",
    "\n",
    "# ..."
   ]
  },
  {
   "cell_type": "code",
   "execution_count": 33,
   "metadata": {},
   "outputs": [],
   "source": [
    "# Remove the diagonal and the lower triangle of the resulting square correlation coefficient matrices\n",
    "\n",
    "# ..."
   ]
  },
  {
   "cell_type": "code",
   "execution_count": 38,
   "metadata": {},
   "outputs": [],
   "source": [
    "# Plot histograms  and save as .jpg\n",
    "\n",
    "# ...\n"
   ]
  },
  {
   "cell_type": "code",
   "execution_count": 39,
   "metadata": {},
   "outputs": [],
   "source": [
    "# Perform a statistical test\n",
    "\n",
    "# Check normal distribution of data using Shapiro-Wilk test\n",
    "\n",
    "# ...\n",
    "\n",
    "# Perform a two-sided MWU test or t-test for independent samples\n",
    "\n",
    "# ..."
   ]
  },
  {
   "cell_type": "code",
   "execution_count": 40,
   "metadata": {},
   "outputs": [],
   "source": [
    "# Bonus: Plot heatmap  and save as .jpg\n",
    "\n",
    "# ..."
   ]
  },
  {
   "cell_type": "markdown",
   "metadata": {},
   "source": [
    "<span style=\"color:violet\">**Question:**</span>\n",
    "\n",
    "- Has one of the regions higher correlation values between its pairs of neurons?\n",
    "- How could you interpret this?"
   ]
  },
  {
   "cell_type": "markdown",
   "metadata": {},
   "source": [
    "<span style=\"color:tomato\">**Hints:**</span>\n",
    "\n",
    "| Goal | Function |\n",
    "| ------ | ----------- |\n",
    "| calculate Pearson correlation coefficient | numpy.corrcoef() |\n",
    "| plot a heatmap | seaborn.heatmap() |"
   ]
  },
  {
   "cell_type": "markdown",
   "metadata": {},
   "source": [
    "------------------------------------\n",
    "*You did it!!*"
   ]
  }
 ],
 "metadata": {
  "kernelspec": {
   "display_name": "Python 3",
   "language": "python",
   "name": "python3"
  },
  "language_info": {
   "codemirror_mode": {
    "name": "ipython",
    "version": 3
   },
   "file_extension": ".py",
   "mimetype": "text/x-python",
   "name": "python",
   "nbconvert_exporter": "python",
   "pygments_lexer": "ipython3",
   "version": "3.9.7"
  }
 },
 "nbformat": 4,
 "nbformat_minor": 2
}
