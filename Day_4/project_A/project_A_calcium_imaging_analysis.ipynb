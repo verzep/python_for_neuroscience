{
 "cells": [
  {
   "cell_type": "markdown",
   "metadata": {},
   "source": [
    "# Project A: Analysis of Ca2+ Imaging Data"
   ]
  },
  {
   "cell_type": "markdown",
   "metadata": {},
   "source": [
    "**Project Overview**\n",
    "\n",
    "In this project you will be provided with imaging data from an experiment in head-fixed mice. The data stem from two animals in which different regions of the hippocampus were recorded, the dentate gyrus (DG) and area CA1. For each animal you will get both a continuous signal representing the Ca2+ level in the neurons and a binary signal representing detected Ca2+ events. The goal is to explore the neural activity of the two different regions on a basic level.\n",
    "<br />\n",
    "<br />\n",
    "\n",
    "**What you can expect from this project:**\n",
    "- to work quite a bit with numpy and matplotlib\n",
    "- getting an impression of how Ca2+ imaging data look like\n",
    "<br />\n",
    "<br />\n",
    "-----------------------------------"
   ]
  },
  {
   "cell_type": "markdown",
   "metadata": {},
   "source": [
    "*Let’s get started…*\n",
    "\n",
    "### Step 1: Download the data\n",
    "Run the cell below to download the data from sciebo. The data will be"
   ]
  },
  {
   "cell_type": "code",
   "execution_count": null,
   "metadata": {
    "vscode": {
     "languageId": "plaintext"
    }
   },
   "outputs": [],
   "source": [
    "import sciebo\n",
    "\n",
    "sciebo.download_file_from_sciebo('https://uni-bonn.sciebo.de/s/aLuGqYoZRFgwhzF', 'data', 'data_endoscope.tif')\n",
    "sciebo.download_file_from_sciebo('https://uni-bonn.sciebo.de/s/aLuGqYoZRFgwhzF', 'data', 'data_endoscope.tif')"
   ]
  }
 ],
 "metadata": {
  "language_info": {
   "name": "python"
  }
 },
 "nbformat": 4,
 "nbformat_minor": 2
}
