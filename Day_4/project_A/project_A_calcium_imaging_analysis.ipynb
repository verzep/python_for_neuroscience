{
 "cells": [
  {
   "cell_type": "markdown",
   "metadata": {},
   "source": [
    "# Project A: Analysis of Ca2+ Imaging Data"
   ]
  },
  {
   "cell_type": "markdown",
   "metadata": {},
   "source": [
    "**Project Overview**\n",
    "\n",
    "In this project you will be provided with imaging data from an experiment in head-fixed mice. The data stem from two animals in which different regions of the hippocampus were recorded, the dentate gyrus (DG) and area CA1. For each animal you will get both, a continuous signal representing the Ca2+ level in the neurons and a binary signal representing detected Ca2+ events. The goal is to explore the neural activity of the two different regions on a basic level.\n",
    "<br />\n",
    "<br />\n",
    "\n",
    "**What you can expect from this project:**\n",
    "- use pandas to filter data\n",
    "- use numpy for basic descriptive statistics\n",
    "- plot histograms, timeseries, and box plots\n",
    "- apply some statistical tests\n",
    "- getting an impression of how Ca2+ imaging data look like\n",
    "<br />\n",
    "<br />\n",
    "\n",
    "**Questions to answer:**\n",
    "1. Is the distribution of inter-event intervals different between the two hippocampal areas?\n",
    "2. Are the IEI distributions different from one of a random poisson process? \n",
    "3. The binary signal is result of a thresholding analysis, how well do you think it fits to the underlying continuous data?\n",
    "4. Is the average continuous signal of neurons with higher event rate indeed higher as expected?\n",
    "5. Is there a difference in how correlated neural activity is in the two regions? \n",
    "<br />\n",
    "<br />\n",
    "\n",
    "-----------------------------------"
   ]
  },
  {
   "cell_type": "markdown",
   "metadata": {},
   "source": [
    "*Let’s get started…*\n",
    "\n",
    "### Download the data\n",
    "Run the cell below to download the data from sciebo. The data will be stored in the folder \"day_4/project_A/data\". You will see 2 .csv files, each containing data of two animals:\n",
    "- xx_dF.csv\n",
    "- xx_binary.csv\n",
    "\n",
    "Some Information about the data:\n",
    "\n",
    "| Type of information | Value |\n",
    "| ------ | ----------- |\n",
    "| Framerate | 15 Hz |\n",
    "| time/frame | 0.67s |\n",
    "| Calcium sensor | GCaMP6s |\n"
   ]
  },
  {
   "cell_type": "code",
   "execution_count": null,
   "metadata": {
    "vscode": {
     "languageId": "plaintext"
    }
   },
   "outputs": [],
   "source": [
    "import sciebo\n",
    "\n",
    "sciebo.download_file_from_sciebo('https://uni-bonn.sciebo.de/s/aLuGqYoZRFgwhzF', 'data', 'data_endoscope.tif')\n",
    "sciebo.download_file_from_sciebo('https://uni-bonn.sciebo.de/s/aLuGqYoZRFgwhzF', 'data', 'data_endoscope.tif')"
   ]
  },
  {
   "cell_type": "markdown",
   "metadata": {},
   "source": [
    "---------------------------------------\n",
    "\n",
    "### Open the data \n",
    "\n",
    "To do:\n",
    "- Import the necessary libraries\n",
    "- Open the data as dataframes\n",
    "- Inspect the data\n"
   ]
  },
  {
   "cell_type": "code",
   "execution_count": null,
   "metadata": {},
   "outputs": [],
   "source": [
    "# Import libraries\n",
    "import pandas as pd"
   ]
  },
  {
   "cell_type": "code",
   "execution_count": null,
   "metadata": {},
   "outputs": [],
   "source": [
    "# Open data as dataframes\n",
    "file_df = \"./data/xx_df.csv\"\n",
    "file_binary = \"./data/xx_binary.csv\"\n",
    "\n",
    "df_dF = pd.read_csv(file_df, sep=\"\", delimiter=\"\")\n",
    "df_binary = pd.read_csv(file_binary, sep=\"\", delimiter=\"\")"
   ]
  },
  {
   "cell_type": "code",
   "execution_count": null,
   "metadata": {},
   "outputs": [],
   "source": [
    "# Inspect data\n",
    "print(df_dF.head())\n",
    "print(df_binary.head())"
   ]
  },
  {
   "cell_type": "markdown",
   "metadata": {},
   "source": [
    "---------------------------------------\n",
    "\n",
    "### 1. Is the distribution of IEIs different between the two hippocampal areas? \n",
    "\n",
    "To do:\n",
    "- Import the necessary libraries\n",
    "- Filter the binary data by brain region\n",
    "- Convert the resulting dataframe to a numpy matrix of shape neurons x timepoints\n",
    "- Calculate the inter-event intervals (IEIs) for all neurons of one hippocampal region\n",
    "- Plot the IEIs as histogram\n",
    "- Perform a statistical test comparing the two distributions (Mann-Whitney U test? TODO:Olli)\n"
   ]
  },
  {
   "cell_type": "markdown",
   "metadata": {},
   "source": [
    "<span style=\"color:mediumseagreen\">Explanatory note on IEIs:</span> you may have heard of inter-spike intervals, however, here we are dealing with Ca^2+^ imaging, which can only be used as proxy for neural activity and inference of underlying spikes is challenging. The binary Ca^2+^ event data are marking onsets of Ca^2+^ events (not actual spikes) and hence we talk about inter-event intervals. Nevertheless, having this constraint in mind, the data can be used to draw some conclusions about neural activity.\n",
    "\n",
    "<span style=\"color:mediumseagreen\">Event rate vs IEI:</span> Often the (spike or event) rate is used to assess neural activity. While this is an easy-to-use measure, it occludes any information about the distribution of events (are there many of them happening in a small window of time or are they spread evenly across time?) and thereby information about neural activity dynamics. (TODO: Olli)"
   ]
  },
  {
   "cell_type": "code",
   "execution_count": null,
   "metadata": {},
   "outputs": [],
   "source": [
    "# Import libraries\n",
    "import numpy as np\n",
    "import matplotlib.pyplot as plt"
   ]
  },
  {
   "cell_type": "code",
   "execution_count": null,
   "metadata": {},
   "outputs": [],
   "source": [
    "# Filter the binary data by region and convert the resulting dataframe to a numpy matrix"
   ]
  },
  {
   "cell_type": "code",
   "execution_count": null,
   "metadata": {},
   "outputs": [],
   "source": [
    "# Calculate the IEIs"
   ]
  },
  {
   "cell_type": "code",
   "execution_count": null,
   "metadata": {},
   "outputs": [],
   "source": [
    "# Plot histograms"
   ]
  },
  {
   "cell_type": "code",
   "execution_count": null,
   "metadata": {},
   "outputs": [],
   "source": [
    "# Perform a statistical test"
   ]
  },
  {
   "cell_type": "markdown",
   "metadata": {},
   "source": [
    "---------------------------------------\n",
    "\n",
    "### 2. Are the IEI distributions different from one of a random poisson process? \n",
    "\n",
    "To do:\n",
    "- Import the necessary libraries\n",
    "- Create IEIs from a random poisson process with parameters obtained from real data\n",
    "- Plot the real and artificial distributions for both hippocampal regions\n",
    "- Compare the real and artificial distribution of each brain region using a statistical test (MWU, TODO: Olli)"
   ]
  },
  {
   "cell_type": "code",
   "execution_count": null,
   "metadata": {},
   "outputs": [],
   "source": [
    "# Import libraries"
   ]
  },
  {
   "cell_type": "code",
   "execution_count": null,
   "metadata": {},
   "outputs": [],
   "source": [
    "# Create artificial IEIs from real parameters"
   ]
  },
  {
   "cell_type": "code",
   "execution_count": null,
   "metadata": {},
   "outputs": [],
   "source": [
    "# Plot histograms"
   ]
  },
  {
   "cell_type": "code",
   "execution_count": null,
   "metadata": {},
   "outputs": [],
   "source": [
    "# Perform a statistical test"
   ]
  },
  {
   "cell_type": "markdown",
   "metadata": {},
   "source": [
    "---------------------------------------\n",
    "\n",
    "### 3. How well does the binary signal fit to the underlying continuous data? \n",
    "\n",
    "To do:\n",
    "- Calculate the event rate per neuron for both regions\n",
    "- Obtain following quantiles of event rates for both regions: Q-25, Q-50, Q-75\n",
    "- For each region, find 3 neurons such that each meets one of follwing criteria:\n",
    "  1) has an event rate r < Q-25,\n",
    "  2) has an event rate Q-25 < r > Q-75,\n",
    "  3) has an event rate r > Q-75\n",
    "- Plot the continuous signal of these neurons\n",
    "- Plot the event onsets from the binary data on top"
   ]
  },
  {
   "cell_type": "code",
   "execution_count": null,
   "metadata": {},
   "outputs": [],
   "source": [
    "# Calculate event rate"
   ]
  },
  {
   "cell_type": "code",
   "execution_count": null,
   "metadata": {},
   "outputs": [],
   "source": [
    "# Obtain quantiles"
   ]
  },
  {
   "cell_type": "code",
   "execution_count": null,
   "metadata": {},
   "outputs": [],
   "source": [
    "# Find 3 neurons accoring to criteria"
   ]
  },
  {
   "cell_type": "code",
   "execution_count": null,
   "metadata": {},
   "outputs": [],
   "source": [
    "# Plot the neurons' continuous activity"
   ]
  },
  {
   "cell_type": "code",
   "execution_count": null,
   "metadata": {},
   "outputs": [],
   "source": [
    "# Overlay the event onsets on top of the continuous activity"
   ]
  },
  {
   "cell_type": "markdown",
   "metadata": {},
   "source": [
    "---------------------------------------\n",
    "\n",
    "### 4. Is the average continuous signal of neurons with higher event rate indeed higher as expected? \n",
    "\n",
    "To do:\n",
    "- For each region, assign every neuron to one of 4 classes using the event rates and quantiles calculated above:\n",
    "  1) neurons with event rate r < Q-25 (1^st^ quartile)\n",
    "  2) neurons with event rate Q-25 < r < Q-50 (2^nd^ quartile)\n",
    "  3) neurons with event rate Q-50 < r < Q-75 (3^rd^ quartile)\n",
    "  4) neurons with event rate r > Q-75 (4^th^ quartile)\n",
    "- Calculate the average intensity of each neurons continuous signal\n",
    "- Use this to calculate the average (of the neuron-wise average) intensity for each of the 4 classes defined above\n",
    "- Create a box plot displaying the different average continuous signal intensities per class for both regions\n",
    "  \n"
   ]
  },
  {
   "cell_type": "code",
   "execution_count": null,
   "metadata": {},
   "outputs": [],
   "source": [
    "# Filter neurons according to the criteria of the 4 classes"
   ]
  },
  {
   "cell_type": "code",
   "execution_count": null,
   "metadata": {},
   "outputs": [],
   "source": [
    "# Calculate the average continuous signal intensity"
   ]
  },
  {
   "cell_type": "code",
   "execution_count": null,
   "metadata": {},
   "outputs": [],
   "source": [
    "# Calculate the average of the neurons' continuous signal averages per class"
   ]
  },
  {
   "cell_type": "code",
   "execution_count": null,
   "metadata": {},
   "outputs": [],
   "source": [
    "# Plot box plots"
   ]
  },
  {
   "cell_type": "markdown",
   "metadata": {},
   "source": [
    "---------------------------------------\n",
    "\n",
    "### 5. Is there a difference in how correlated neural activity is in the two regions?\n",
    "\n",
    "To do:\n",
    "- Calculate the Pearson correlation coefficient of all pairs of neurons within each hippocampal region\n",
    "- Plot the distributions of correlation coefficients of each region as histogram \n",
    "- Perform a statistical test (MWU, TODO: Olli)\n",
    "- Bonus: Plot the correlation coefficients as heatmaps for better visualization"
   ]
  },
  {
   "cell_type": "code",
   "execution_count": null,
   "metadata": {},
   "outputs": [],
   "source": [
    "# Calculate pairwise pearson coefficient"
   ]
  },
  {
   "cell_type": "code",
   "execution_count": null,
   "metadata": {},
   "outputs": [],
   "source": [
    "# Plot histograms"
   ]
  },
  {
   "cell_type": "code",
   "execution_count": null,
   "metadata": {},
   "outputs": [],
   "source": [
    "# Perform statistical test"
   ]
  },
  {
   "cell_type": "code",
   "execution_count": null,
   "metadata": {},
   "outputs": [],
   "source": [
    "# Bonus: Plot heatmap"
   ]
  }
 ],
 "metadata": {
  "language_info": {
   "name": "python"
  }
 },
 "nbformat": 4,
 "nbformat_minor": 2
}
